{
 "cells": [
  {
   "cell_type": "markdown",
   "metadata": {},
   "source": [
    "# About Me:\n",
    "## Rachel Berryman\n",
    "## Data Scientist, AI Center of Excellence @ Elia Group\n",
    "- Previously: Energy Analyst for SaaS company in NYC \n",
    "    - SQL, basic Python\n",
    "- 2017 - July 2020: Energy Data Scientist for demand-side flexibility \n",
    "- 2018 - Today: teaching at DSR\n",
    "\n",
    "#### Contact: \n",
    "rachelkberryman@gmail.com"
   ]
  },
  {
   "cell_type": "markdown",
   "metadata": {},
   "source": [
    "# About You:\n",
    "- Name\n",
    "- Background (work & academic)\n",
    "- Programming experience/what you know about Python \n",
    "- Potential project ideas"
   ]
  },
  {
   "cell_type": "code",
   "execution_count": null,
   "metadata": {},
   "outputs": [],
   "source": []
  }
 ],
 "metadata": {
  "kernelspec": {
   "display_name": "Python 3 (ipykernel)",
   "language": "python",
   "name": "python3"
  },
  "language_info": {
   "codemirror_mode": {
    "name": "ipython",
    "version": 3
   },
   "file_extension": ".py",
   "mimetype": "text/x-python",
   "name": "python",
   "nbconvert_exporter": "python",
   "pygments_lexer": "ipython3",
   "version": "3.7.9"
  }
 },
 "nbformat": 4,
 "nbformat_minor": 4
}
