{
 "cells": [
  {
   "cell_type": "markdown",
   "metadata": {},
   "source": [
    "# 2. Importing Files and Packages\n",
    "Basic Python is not where the true power of the language lies. The true power lies in the huge community around the language. \n",
    "There are thousands of packages in Python that build on the base language and make it possible to do many other things, like data processing, editing movies, building websites, or making plots. Here's a [list](https://wiki.python.org/moin/UsefulModules) of some of the most commonly used Python packages.\n",
    "Chances are, for nearly anything you want to do, a package exists in Python to do it. \n",
    "\n",
    "We will also learn here how to navigate around files in our computer's file system to access other files that we want to use. "
   ]
  },
  {
   "cell_type": "markdown",
   "metadata": {},
   "source": [
    "## Paths\n",
    "Your computer's directory is based on paths, that separate files into different directories and folders. \n",
    "\n",
    "Separators\n",
    "- Windows uses `\\` \n",
    "- Unix uses `/` \n",
    "\n",
    "We can see where we are in our file system easily using the \"os\" package in Python."
   ]
  },
  {
   "cell_type": "code",
   "execution_count": 1,
   "metadata": {},
   "outputs": [
    {
     "data": {
      "text/plain": [
       "'/Users/rachelberryman/Documents/git/Intro_to_Python_DSR'"
      ]
     },
     "execution_count": 1,
     "metadata": {},
     "output_type": "execute_result"
    }
   ],
   "source": [
    "import os\n",
    "\n",
    "os.getcwd()"
   ]
  },
  {
   "cell_type": "markdown",
   "metadata": {},
   "source": [
    "We can move around between the paths using `cd` command. The notation `../` to go back one level of the directory, then filling in the rest with what we want to have. "
   ]
  },
  {
   "cell_type": "code",
   "execution_count": 7,
   "metadata": {},
   "outputs": [
    {
     "name": "stdout",
     "output_type": "stream",
     "text": [
      "/Users/rachelberryman/Desktop/Elia Python Trainings/python\n"
     ]
    }
   ],
   "source": [
    "cd ../"
   ]
  },
  {
   "cell_type": "markdown",
   "metadata": {},
   "source": [
    "## Importing packages\n",
    "\n",
    "We can import packages in various ways:"
   ]
  },
  {
   "cell_type": "code",
   "execution_count": 2,
   "metadata": {},
   "outputs": [],
   "source": [
    "import numpy\n",
    "\n",
    "from numpy import array\n",
    "\n",
    "import numpy as np"
   ]
  },
  {
   "cell_type": "markdown",
   "metadata": {},
   "source": [
    "## Importing files\n",
    "\n",
    "To import files, we combine what we've learned about paths with what we've learned about packages. \n",
    "How we import files depends on the type of file we want to import. \n",
    "- Text files:\n",
    "    - We can easily read and write text files using the tools built in to basic python\n",
    "- CSVs:\n",
    "    - for CSVs, we need to use an additional package called [Pandas](https://pandas.pydata.org). Pandas is the main data processing and analysis package for python. "
   ]
  },
  {
   "cell_type": "code",
   "execution_count": 3,
   "metadata": {},
   "outputs": [
    {
     "data": {
      "text/plain": [
       "'/Users/rachelberryman/Documents/git/Intro_to_Python_DSR'"
      ]
     },
     "execution_count": 3,
     "metadata": {},
     "output_type": "execute_result"
    }
   ],
   "source": [
    "pwd"
   ]
  },
  {
   "cell_type": "code",
   "execution_count": 4,
   "metadata": {},
   "outputs": [
    {
     "name": "stdout",
     "output_type": "stream",
     "text": [
      "0. Introduction.ipynb               \u001b[34manswers\u001b[m\u001b[m\n",
      "1. Introduction to Python.ipynb     \u001b[34mbonus\u001b[m\u001b[m\n",
      "1a. pep8.ipynb                      \u001b[34mdata\u001b[m\u001b[m\n",
      "2. Importing Files & Packages.ipynb \u001b[34mfilled_in_notebooks\u001b[m\u001b[m\n",
      "3. Functions .ipynb                 \u001b[34mpics\u001b[m\u001b[m\n",
      "4. Scripting.ipynb                  \u001b[34mtext_files\u001b[m\u001b[m\n"
     ]
    }
   ],
   "source": [
    "!ls"
   ]
  },
  {
   "cell_type": "code",
   "execution_count": 5,
   "metadata": {},
   "outputs": [],
   "source": [
    "poem = open('./text_files/theday_poem.txt', 'r', encoding='UTF-8')"
   ]
  },
  {
   "cell_type": "code",
   "execution_count": 6,
   "metadata": {},
   "outputs": [
    {
     "data": {
      "text/plain": [
       "<_io.TextIOWrapper name='./text_files/theday_poem.txt' mode='r' encoding='UTF-8'>"
      ]
     },
     "execution_count": 6,
     "metadata": {},
     "output_type": "execute_result"
    }
   ],
   "source": [
    "# file is a text wrapper: need to apply the method \"readlines()\"\n",
    "poem"
   ]
  },
  {
   "cell_type": "code",
   "execution_count": 7,
   "metadata": {},
   "outputs": [
    {
     "name": "stdout",
     "output_type": "stream",
     "text": [
      "I’ll tell you how the sun rose, —\n",
      "\n",
      "A ribbon at a time.\n",
      "\n",
      "The steeples swam in amethyst,\n",
      "\n",
      "The news like squirrels ran.\n",
      "\n",
      "The hills untied their bonnets,\n",
      "\n",
      "The bobolinks begun.\n",
      "\n",
      "Then I said softly to myself,\n",
      "\n",
      "“That must have been the sun!”\n",
      "\n",
      "But how he set, I know not.\n",
      "\n",
      "There seemed a purple stile\n",
      "\n",
      "Which little yellow boys and girls\n",
      "\n",
      "Were climbing all the while\n",
      "\n",
      "Till when they reached the other side,\n",
      "\n",
      "A dominie in gray\n",
      "\n",
      "Put gently up the evening bars,\n",
      "\n",
      "And led the flock away.\n",
      "\n"
     ]
    }
   ],
   "source": [
    "lines = poem.readlines()\n",
    "for line in lines:\n",
    "    print(line)"
   ]
  },
  {
   "cell_type": "markdown",
   "metadata": {},
   "source": [
    "### Loading a CSV\n",
    "CSVs can be easily loaded in a tabular format called a DataFrame. This is a 2-D datatype with columns and rows, very similar to an excel file.\n",
    "We use the Pandas package for this.\n",
    "CSVs can be loaded from online, or from a local file using the path location."
   ]
  },
  {
   "cell_type": "code",
   "execution_count": null,
   "metadata": {},
   "outputs": [],
   "source": [
    "# import pandas\n",
    "import pandas as pd\n",
    "\n",
    "# loading a CSV that's hosted on a website:\n",
    "taxi_rides_data = pd.read_csv(\"https://s3.amazonaws.com/nyc-tlc/trip+data/yellow_tripdata_2020-01.csv\", low_memory=False)\n",
    "\n",
    "# loading a CSV from file\n",
    "energy_data = pd.read_csv(\"./data/energy/PJM_Load_hourly.csv\")"
   ]
  }
 ],
 "metadata": {
  "kernelspec": {
   "display_name": "Python 3",
   "language": "python",
   "name": "python3"
  },
  "language_info": {
   "codemirror_mode": {
    "name": "ipython",
    "version": 3
   },
   "file_extension": ".py",
   "mimetype": "text/x-python",
   "name": "python",
   "nbconvert_exporter": "python",
   "pygments_lexer": "ipython3",
   "version": "3.6.13"
  }
 },
 "nbformat": 4,
 "nbformat_minor": 4
}
