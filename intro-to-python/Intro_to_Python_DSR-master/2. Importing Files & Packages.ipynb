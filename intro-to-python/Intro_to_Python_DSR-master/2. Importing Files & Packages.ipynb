{
 "cells": [
  {
   "cell_type": "markdown",
   "metadata": {},
   "source": [
    "# 2. Importing Files and Packages\n",
    "Basic Python is not where the true power of the language lies. The true power lies in the huge community around the language. \n",
    "There are thousands of packages in Python that build on the base language and make it possible to do many other things, like data processing, editing movies, building websites, or making plots. Here's a [list](https://wiki.python.org/moin/UsefulModules) of some of the most commonly used Python packages.\n",
    "Chances are, for nearly anything you want to do, a package exists in Python to do it. \n",
    "\n",
    "We will also learn here how to navigate around files in our computer's file system to access other files that we want to use. "
   ]
  },
  {
   "cell_type": "markdown",
   "metadata": {},
   "source": [
    "## Paths\n",
    "Your computer's directory is based on paths, that separate files into different directories and folders. \n",
    "\n",
    "Separators\n",
    "- Windows uses `\\` \n",
    "- Unix uses `/` \n",
    "\n",
    "We can see where we are in our file system easily using the \"os\" package in Python."
   ]
  },
  {
   "cell_type": "code",
   "execution_count": null,
   "metadata": {},
   "outputs": [],
   "source": []
  },
  {
   "cell_type": "markdown",
   "metadata": {},
   "source": [
    "We can move around between the paths using `cd` command. The notation `../` to go back one level of the directory, then filling in the rest with what we want to have. "
   ]
  },
  {
   "cell_type": "code",
   "execution_count": null,
   "metadata": {},
   "outputs": [],
   "source": []
  },
  {
   "cell_type": "markdown",
   "metadata": {},
   "source": [
    "## Importing packages\n",
    "\n",
    "We can import packages in various ways:"
   ]
  },
  {
   "cell_type": "code",
   "execution_count": null,
   "metadata": {},
   "outputs": [],
   "source": []
  },
  {
   "cell_type": "markdown",
   "metadata": {},
   "source": [
    "## Importing files\n",
    "\n",
    "To import files, we combine what we've learned about paths with what we've learned about packages. \n",
    "How we import files depends on the type of file we want to import. \n",
    "- Text files:\n",
    "    - We can easily read and write text files using the tools built in to basic python\n",
    "- CSVs:\n",
    "    - for CSVs, we need to use an additional package called [Pandas](https://pandas.pydata.org). Pandas is the main data processing and analysis package for python. "
   ]
  },
  {
   "cell_type": "code",
   "execution_count": null,
   "metadata": {},
   "outputs": [],
   "source": []
  },
  {
   "cell_type": "code",
   "execution_count": null,
   "metadata": {},
   "outputs": [],
   "source": []
  },
  {
   "cell_type": "code",
   "execution_count": null,
   "metadata": {},
   "outputs": [],
   "source": []
  },
  {
   "cell_type": "code",
   "execution_count": null,
   "metadata": {},
   "outputs": [],
   "source": []
  },
  {
   "cell_type": "code",
   "execution_count": null,
   "metadata": {},
   "outputs": [],
   "source": []
  },
  {
   "cell_type": "markdown",
   "metadata": {},
   "source": [
    "### Loading a CSV\n",
    "CSVs can be easily loaded in a tabular format called a DataFrame. This is a 2-D datatype with columns and rows, very similar to an excel file.\n",
    "We use the Pandas package for this.\n",
    "CSVs can be loaded from online, or from a local file using the path location."
   ]
  },
  {
   "cell_type": "code",
   "execution_count": null,
   "metadata": {},
   "outputs": [],
   "source": [
    "# import pandas\n",
    "import pandas as pd\n",
    "\n",
    "# loading a CSV that's hosted on a website:\n",
    "taxi_rides_data = pd.read_csv(\"https://s3.amazonaws.com/nyc-tlc/trip+data/yellow_tripdata_2020-01.csv\", low_memory=False)\n",
    "\n",
    "# loading a CSV from file\n",
    "energy_data = pd.read_csv(\"./data/energy/PJM_Load_hourly.csv\")"
   ]
  }
 ],
 "metadata": {
  "kernelspec": {
   "display_name": "Python 3 (ipykernel)",
   "language": "python",
   "name": "python3"
  },
  "language_info": {
   "codemirror_mode": {
    "name": "ipython",
    "version": 3
   },
   "file_extension": ".py",
   "mimetype": "text/x-python",
   "name": "python",
   "nbconvert_exporter": "python",
   "pygments_lexer": "ipython3",
   "version": "3.7.9"
  }
 },
 "nbformat": 4,
 "nbformat_minor": 4
}
