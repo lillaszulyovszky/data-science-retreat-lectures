{
 "cells": [
  {
   "cell_type": "code",
   "execution_count": 1,
   "metadata": {},
   "outputs": [],
   "source": [
    "import numpy as np\n",
    "from PIL import Image"
   ]
  },
  {
   "cell_type": "markdown",
   "metadata": {},
   "source": [
    "# Tensors\n",
    "\n",
    "In the first notebook ([vector.ipynb](https://github.com/ADGEfficiency/teaching-monolith/blob/master/numpy/1.vector.ipynb)) we dealt with vectors (one dimensional).  In the second notebook ([matrix.ipynb](https://github.com/ADGEfficiency/teaching-monolith/blob/master/numpy/2.matrix.ipynb)) we looked at arrays with two dimensions.\n",
    "\n",
    "Now we deal with **Tensors** - arrays that can have many dimensions.\n",
    "\n",
    "- n-dimensional arrays\n",
    "- 3 = volume\n",
    "- uppercase, bold $\\textbf{A}_{i,j,k}$\n",
    "\n",
    "## Working in three dimensions\n",
    "\n",
    "Extension of two dimensions\n",
    "- everything we saw in the previous notebook holds\n",
    "\n",
    "Images\n",
    "- height\n",
    "- width\n",
    "- channels (colors)\n",
    "\n",
    "Sequential models\n",
    "- (batch_size, num_timesteps, *features)"
   ]
  },
  {
   "cell_type": "code",
   "execution_count": null,
   "metadata": {},
   "outputs": [],
   "source": [
    "image = np.random.rand(3, 3, 3)"
   ]
  },
  {
   "cell_type": "markdown",
   "metadata": {},
   "source": [
    "## Practical\n",
    "\n",
    "Create an array filled from a normal distribution, with the shape\n",
    "- 100 samples\n",
    "- 64 timesteps\n",
    "- 32 height\n",
    "- 16 width\n",
    "- 3 channels"
   ]
  },
  {
   "cell_type": "code",
   "execution_count": null,
   "metadata": {},
   "outputs": [],
   "source": []
  },
  {
   "cell_type": "markdown",
   "metadata": {},
   "source": [
    "## Practical\n",
    "\n",
    "Aggregate by standard deviation `np.std` \n",
    "- over the width\n",
    "- over the height\n",
    "- over the channels\n",
    "- over all data"
   ]
  },
  {
   "cell_type": "code",
   "execution_count": null,
   "metadata": {},
   "outputs": [],
   "source": []
  },
  {
   "cell_type": "markdown",
   "metadata": {},
   "source": [
    "## PNG to Numpy array"
   ]
  },
  {
   "cell_type": "code",
   "execution_count": 2,
   "metadata": {},
   "outputs": [],
   "source": [
    "from PIL import Image\n",
    "\n",
    "img = Image.open(\"data/abbyroad.png\")\n",
    "img.show()"
   ]
  },
  {
   "cell_type": "markdown",
   "metadata": {},
   "source": [
    "To see how this picture looks like in RGB code, we apply the following function:"
   ]
  },
  {
   "cell_type": "code",
   "execution_count": 5,
   "metadata": {},
   "outputs": [
    {
     "name": "stdout",
     "output_type": "stream",
     "text": [
      "(2048, 2048, 3)\n"
     ]
    }
   ],
   "source": [
    "array = np.array(img)\n",
    "print(array.shape)"
   ]
  },
  {
   "cell_type": "code",
   "execution_count": 11,
   "metadata": {},
   "outputs": [],
   "source": [
    "gray_img = np.mean(array, axis=2)\n",
    "Image.fromarray(gray_img).show()"
   ]
  },
  {
   "cell_type": "code",
   "execution_count": 14,
   "metadata": {},
   "outputs": [],
   "source": [
    "kernel = np.array([\n",
    "    [-1, -1, -1],\n",
    "    [-1, 8, -1],\n",
    "    [-1, -1, -1]    \n",
    "])\n",
    "\n",
    "\n",
    "# Exercise: Slide the kernel through the black and white image\n",
    "\n",
    "\n",
    "# Create an emtpy container in which the scalar products are going to be inserted\n",
    "\n",
    "\n",
    "# Loop over the image and apply the kernel to get the scalar product\n",
    "\n",
    "\n",
    "# Display the image\n",
    "\n"
   ]
  },
  {
   "cell_type": "code",
   "execution_count": 41,
   "metadata": {},
   "outputs": [],
   "source": [
    "kernel_size = len(kernel)\n",
    "image_size = len(gray_img)\n",
    "\n",
    "new_size = image_size - (kernel_size-1)\n",
    "container = np.empty((new_size, new_size))"
   ]
  },
  {
   "cell_type": "code",
   "execution_count": 43,
   "metadata": {},
   "outputs": [],
   "source": [
    "last_element = image_size - kernel_size + 1\n",
    "\n",
    "for i in range(last_element):\n",
    "    i_end = i + 3\n",
    "    for j in range(last_element):\n",
    "        j_end = j + 3\n",
    "        snippet = gray_img[i:i_end, j:j_end]\n",
    "        container[i, j] = np.multiply(kernel, snippet).sum()\n"
   ]
  },
  {
   "cell_type": "code",
   "execution_count": 44,
   "metadata": {},
   "outputs": [],
   "source": [
    "new_image = Image.fromarray(container)\n",
    "new_image.show()"
   ]
  },
  {
   "cell_type": "markdown",
   "metadata": {},
   "source": [
    "## Practical\n",
    "Now create the negative version and grayscale version of that picture and save it in the data folder"
   ]
  },
  {
   "cell_type": "code",
   "execution_count": 37,
   "metadata": {},
   "outputs": [
    {
     "data": {
      "text/plain": [
       "0.999999999999984"
      ]
     },
     "execution_count": 37,
     "metadata": {},
     "output_type": "execute_result"
    }
   ],
   "source": []
  },
  {
   "cell_type": "code",
   "execution_count": null,
   "metadata": {},
   "outputs": [],
   "source": []
  },
  {
   "cell_type": "markdown",
   "metadata": {},
   "source": [
    "## Answers\n",
    "You are encourage to give it a try before you look at the solution"
   ]
  },
  {
   "cell_type": "code",
   "execution_count": null,
   "metadata": {},
   "outputs": [],
   "source": []
  },
  {
   "cell_type": "markdown",
   "metadata": {},
   "source": [
    "## Practical - convolution\n",
    "\n",
    "Implement the convolution operation - we will do this together as a class! The idea looks like this \n",
    "<img src=\"assets/conv.png\" alt=\"\" width=\"300\"/>"
   ]
  },
  {
   "cell_type": "code",
   "execution_count": 34,
   "metadata": {},
   "outputs": [],
   "source": [
    "# Turn the image into a grayscale\n",
    "\n",
    "\n",
    "def rgb2array(rgb):\n",
    "    return np.dot(rgb[..., :3], [0.33, 0.33, 0.33])\n",
    "\n",
    "def grayscale(png_array):\n",
    "    black_white = rgb2array(png_array)\n",
    "    bw_img = Image.fromarray(black_white)\n",
    "    return black_white\n",
    "bw_array = grayscale(array)\n",
    "\n",
    "# Create a kernel\n",
    "\n",
    "kernel = [\n",
    "    [-1, -1, -1],\n",
    "    [-1, 8, -1],\n",
    "    [-1, -1, -1]\n",
    "]\n",
    "flat_kernel = np.array(kernel).flatten()\n",
    "\n",
    "# Loop over the image and apply the kernel\n",
    "container = np.zeros((bw_array.shape[0], bw_array.shape[0]))\n",
    "size = bw_array.shape[0] - 3 + 1\n",
    "for i in range(size):\n",
    "    for j in range(size):\n",
    "        matrix = bw_array[i:i+3, j:j+3].flatten()\n",
    "        scalar = np.dot(flat_kernel, matrix)\n",
    "        container[i, j] = scalar"
   ]
  },
  {
   "cell_type": "code",
   "execution_count": 35,
   "metadata": {},
   "outputs": [],
   "source": [
    "img = Image.fromarray(container)\n",
    "img.show()"
   ]
  },
  {
   "cell_type": "code",
   "execution_count": 20,
   "metadata": {},
   "outputs": [
    {
     "data": {
      "text/plain": [
       "array([[ 14.52,  14.52,  14.52, ...,  19.14,  16.17,  15.18],\n",
       "       [ 15.51,  15.51,  15.51, ...,  20.13,  19.14,  19.14],\n",
       "       [ 16.5 ,  16.5 ,  15.51, ...,  20.13,  21.12,  22.11],\n",
       "       ...,\n",
       "       [187.11, 184.14, 181.17, ..., 184.47, 188.43, 192.39],\n",
       "       [186.12, 182.16, 180.18, ..., 186.45, 188.43, 193.38],\n",
       "       [185.13, 181.17, 179.19, ..., 189.42, 190.41, 194.37]])"
      ]
     },
     "execution_count": 20,
     "metadata": {},
     "output_type": "execute_result"
    }
   ],
   "source": []
  },
  {
   "cell_type": "code",
   "execution_count": null,
   "metadata": {},
   "outputs": [],
   "source": []
  }
 ],
 "metadata": {
  "kernelspec": {
   "display_name": "Python 3 (ipykernel)",
   "language": "python",
   "name": "python3"
  },
  "language_info": {
   "codemirror_mode": {
    "name": "ipython",
    "version": 3
   },
   "file_extension": ".py",
   "mimetype": "text/x-python",
   "name": "python",
   "nbconvert_exporter": "python",
   "pygments_lexer": "ipython3",
   "version": "3.7.9"
  },
  "toc": {
   "base_numbering": 1,
   "nav_menu": {},
   "number_sections": true,
   "sideBar": true,
   "skip_h1_title": false,
   "title_cell": "Table of Contents",
   "title_sidebar": "Contents",
   "toc_cell": false,
   "toc_position": {},
   "toc_section_display": true,
   "toc_window_display": false
  },
  "varInspector": {
   "cols": {
    "lenName": 16,
    "lenType": 16,
    "lenVar": 40
   },
   "kernels_config": {
    "python": {
     "delete_cmd_postfix": "",
     "delete_cmd_prefix": "del ",
     "library": "var_list.py",
     "varRefreshCmd": "print(var_dic_list())"
    },
    "r": {
     "delete_cmd_postfix": ") ",
     "delete_cmd_prefix": "rm(",
     "library": "var_list.r",
     "varRefreshCmd": "cat(var_dic_list()) "
    }
   },
   "types_to_exclude": [
    "module",
    "function",
    "builtin_function_or_method",
    "instance",
    "_Feature"
   ],
   "window_display": false
  }
 },
 "nbformat": 4,
 "nbformat_minor": 4
}
