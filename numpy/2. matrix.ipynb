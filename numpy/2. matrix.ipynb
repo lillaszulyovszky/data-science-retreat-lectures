{
 "cells": [
  {
   "cell_type": "code",
   "execution_count": null,
   "metadata": {},
   "outputs": [],
   "source": []
  },
  {
   "cell_type": "markdown",
   "metadata": {},
   "source": [
    "# Matricies\n",
    "\n",
    "This notebook uses many images from the excellent [A Visual Intro to NumPy and Data Representation](https://jalammar.github.io/visual-numpy/) from [Jay Alammar](https://jalammar.github.io/).\n",
    "\n",
    "In the first notebook ([vector.ipynb](https://github.com/ADGEfficiency/teaching-monolith/blob/master/numpy/1.vector.ipynb)) we dealt with vectors (one dimensional). \n",
    "\n",
    "Now we deal with **Matricies** - arrays with two dimensions.\n",
    "\n",
    "$\\textbf{A}_{2, 2} = \\begin{bmatrix}A_{1, 1} & A_{1, 2} \\\\ A_{2, 1} & A_{2, 2}\\end{bmatrix}$\n",
    "\n",
    "- two dimensional\n",
    "- uppercase, bold $\\textbf{A}_{m, n}$\n",
    "- $A_{1, 1}$ = first element\n",
    "- area\n",
    "- tabular data\n",
    "\n",
    "## Reshaping\n",
    "\n",
    "Now that we have multiple dimensions, we need to start considering shape.\n",
    "\n",
    "We can see the shape using `.shape`"
   ]
  },
  {
   "cell_type": "code",
   "execution_count": 2,
   "metadata": {},
   "outputs": [],
   "source": [
    "import numpy as np\n",
    "data = np.array([1,2])"
   ]
  },
  {
   "cell_type": "markdown",
   "metadata": {},
   "source": [
    "And the number of elements using `.size`"
   ]
  },
  {
   "cell_type": "code",
   "execution_count": 3,
   "metadata": {},
   "outputs": [
    {
     "data": {
      "text/plain": [
       "2"
      ]
     },
     "execution_count": 3,
     "metadata": {},
     "output_type": "execute_result"
    }
   ],
   "source": [
    "data.size"
   ]
  },
  {
   "cell_type": "markdown",
   "metadata": {},
   "source": [
    "The **shape** of a matrix becomes more than just an indication of the length.  We can change the shape using reshape:"
   ]
  },
  {
   "cell_type": "code",
   "execution_count": 4,
   "metadata": {},
   "outputs": [
    {
     "data": {
      "text/plain": [
       "(2,)"
      ]
     },
     "execution_count": 4,
     "metadata": {},
     "output_type": "execute_result"
    }
   ],
   "source": [
    "data.shape"
   ]
  },
  {
   "cell_type": "markdown",
   "metadata": {},
   "source": [
    "A very useful tool when reshaping is using `-1` - this is a free dimension that will be set to match the size of the data\n",
    "- this is often set to the batch / number of samples dimension"
   ]
  },
  {
   "cell_type": "code",
   "execution_count": 6,
   "metadata": {},
   "outputs": [
    {
     "ename": "AttributeError",
     "evalue": "'list' object has no attribute 'reshape'",
     "output_type": "error",
     "traceback": [
      "\u001b[0;31m---------------------------------------------------------------------------\u001b[0m",
      "\u001b[0;31mAttributeError\u001b[0m                            Traceback (most recent call last)",
      "\u001b[0;32m<ipython-input-6-738d8aa5d6bb>\u001b[0m in \u001b[0;36m<module>\u001b[0;34m\u001b[0m\n\u001b[1;32m      6\u001b[0m ]\n\u001b[1;32m      7\u001b[0m \u001b[0;34m\u001b[0m\u001b[0m\n\u001b[0;32m----> 8\u001b[0;31m \u001b[0mdata\u001b[0m\u001b[0;34m.\u001b[0m\u001b[0mreshape\u001b[0m\u001b[0;34m(\u001b[0m\u001b[0;34m-\u001b[0m\u001b[0;36m1\u001b[0m\u001b[0;34m)\u001b[0m\u001b[0;34m\u001b[0m\u001b[0;34m\u001b[0m\u001b[0m\n\u001b[0m",
      "\u001b[0;31mAttributeError\u001b[0m: 'list' object has no attribute 'reshape'"
     ]
    }
   ],
   "source": [
    "data = [\n",
    "    [1,2,3],\n",
    "    [4,5,6],\n",
    "    [7,8,9],\n",
    "    [10,11,12]\n",
    "]\n",
    "\n",
    "data.reshape(-1)"
   ]
  },
  {
   "cell_type": "code",
   "execution_count": null,
   "metadata": {},
   "outputs": [],
   "source": []
  },
  {
   "cell_type": "markdown",
   "metadata": {},
   "source": [
    "We can use `.reshape` to flatten"
   ]
  },
  {
   "cell_type": "code",
   "execution_count": null,
   "metadata": {},
   "outputs": [],
   "source": []
  },
  {
   "cell_type": "markdown",
   "metadata": {},
   "source": [
    "We can also use `.flatten`"
   ]
  },
  {
   "cell_type": "code",
   "execution_count": null,
   "metadata": {},
   "outputs": [],
   "source": []
  },
  {
   "cell_type": "markdown",
   "metadata": {},
   "source": [
    "And finally `.ravel`"
   ]
  },
  {
   "cell_type": "code",
   "execution_count": null,
   "metadata": {},
   "outputs": [],
   "source": []
  },
  {
   "cell_type": "markdown",
   "metadata": {},
   "source": [
    "`.flatten` always returns a copy - `.ravel` doesn't (if it can)\n",
    "\n",
    "Closely related to a reshape is the **transpose**, which flips the array along the diagonal:\n",
    "\n",
    "<img src=\"assets/trans.png\" alt=\"\" width=\"300\"/>"
   ]
  },
  {
   "cell_type": "code",
   "execution_count": null,
   "metadata": {},
   "outputs": [],
   "source": []
  },
  {
   "cell_type": "code",
   "execution_count": null,
   "metadata": {},
   "outputs": [],
   "source": []
  },
  {
   "cell_type": "markdown",
   "metadata": {},
   "source": [
    "Reshape is (usually) computationally **cheap** - to understand why we need to know a little about how a `np.array` is laid out in memory\n",
    "\n",
    "## The `np.array` in memory\n",
    "\n",
    "- the data is stored in a single block\n",
    "- the shape is stored as a tuple\n",
    "\n",
    "Why is storing in a single block (known as a contiguous layout) a good thing?\n",
    "- to access the next value an the array \n",
    "- we just move to the next memory address\n",
    "- length = defined by the data type\n",
    "\n",
    "> ... storing data in a contiguous block of memory ensures that the architecture of modern CPUs is used optimally, in terms of memory access patterns, CPU cache, and vectorized instructions - [iPython coobook](https://ipython-books.github.io/45-understanding-the-internals-of-numpy-to-avoid-unnecessary-array-copying/)\n",
    "\n",
    "Changing the shape only means changing the tuple \n",
    "- the layout of the data in memory is not changed\n",
    "\n",
    "The operations that will change the memory layout are ones that change the order of the data - for example a transpose:"
   ]
  },
  {
   "cell_type": "code",
   "execution_count": null,
   "metadata": {},
   "outputs": [],
   "source": []
  },
  {
   "cell_type": "code",
   "execution_count": null,
   "metadata": {},
   "outputs": [],
   "source": []
  },
  {
   "cell_type": "markdown",
   "metadata": {},
   "source": [
    "## Two dimensional indexing\n",
    "\n",
    "<img src=\"assets/idx2.png\" alt=\"\" width=\"500\"/>"
   ]
  },
  {
   "cell_type": "code",
   "execution_count": null,
   "metadata": {},
   "outputs": [],
   "source": []
  },
  {
   "cell_type": "markdown",
   "metadata": {},
   "source": [
    "We specify both dimensions using a familiar `[]` syntax\n",
    "\n",
    "`:` = entire dimension"
   ]
  },
  {
   "cell_type": "code",
   "execution_count": null,
   "metadata": {},
   "outputs": [],
   "source": []
  },
  {
   "cell_type": "markdown",
   "metadata": {},
   "source": [
    "`-1` = last element"
   ]
  },
  {
   "cell_type": "code",
   "execution_count": null,
   "metadata": {},
   "outputs": [],
   "source": []
  },
  {
   "cell_type": "markdown",
   "metadata": {},
   "source": [
    "### Two dimension aggregation\n",
    "\n",
    "<img src=\"assets/agg-2d.png\" alt=\"\" width=\"900\"/>\n",
    "\n",
    "Now that we are working in two dimensions, we have more flexibility in how we aggregate\n",
    "- we can specify the axis (i.e. the dimension) along which we aggregate"
   ]
  },
  {
   "cell_type": "code",
   "execution_count": null,
   "metadata": {},
   "outputs": [],
   "source": []
  },
  {
   "cell_type": "code",
   "execution_count": null,
   "metadata": {},
   "outputs": [],
   "source": []
  },
  {
   "cell_type": "code",
   "execution_count": null,
   "metadata": {},
   "outputs": [],
   "source": []
  },
  {
   "cell_type": "code",
   "execution_count": null,
   "metadata": {},
   "outputs": [],
   "source": []
  },
  {
   "cell_type": "markdown",
   "metadata": {},
   "source": [
    "By default `numpy` will remove the dimension you are aggregating over:"
   ]
  },
  {
   "cell_type": "code",
   "execution_count": null,
   "metadata": {},
   "outputs": [],
   "source": []
  },
  {
   "cell_type": "code",
   "execution_count": null,
   "metadata": {},
   "outputs": [],
   "source": []
  },
  {
   "cell_type": "markdown",
   "metadata": {},
   "source": [
    "You can choose to keep this dimension using a `keepdims` argument:"
   ]
  },
  {
   "cell_type": "code",
   "execution_count": null,
   "metadata": {},
   "outputs": [],
   "source": []
  },
  {
   "cell_type": "markdown",
   "metadata": {},
   "source": [
    "## Practical\n",
    "\n",
    "Aggregate by variance `np.var` \n",
    "- over the rows\n",
    "- over the columns\n",
    "- over all data"
   ]
  },
  {
   "cell_type": "code",
   "execution_count": null,
   "metadata": {},
   "outputs": [],
   "source": []
  },
  {
   "cell_type": "markdown",
   "metadata": {},
   "source": [
    "## Two dimensional broadcasting\n",
    "\n",
    "The general rule with broadcasting - dimensions are compatible when\n",
    "- they are equal\n",
    "- or when one of them is 1\n",
    "\n",
    "<img src=\"assets/broad-2d.png\" alt=\"\" width=\"500\"/>"
   ]
  },
  {
   "cell_type": "code",
   "execution_count": null,
   "metadata": {},
   "outputs": [],
   "source": []
  },
  {
   "cell_type": "code",
   "execution_count": null,
   "metadata": {},
   "outputs": [],
   "source": []
  },
  {
   "cell_type": "code",
   "execution_count": null,
   "metadata": {},
   "outputs": [],
   "source": []
  },
  {
   "cell_type": "markdown",
   "metadata": {},
   "source": [
    "## Matrix arithmetic\n",
    "\n",
    "Can make arrays from nested lists:"
   ]
  },
  {
   "cell_type": "code",
   "execution_count": null,
   "metadata": {},
   "outputs": [],
   "source": []
  },
  {
   "cell_type": "markdown",
   "metadata": {},
   "source": [
    "We can add matricies of the same shape as expected:"
   ]
  },
  {
   "cell_type": "markdown",
   "metadata": {},
   "source": [
    "<img src=\"assets/add-matrix.png\" alt=\"\" width=\"300\"/>"
   ]
  },
  {
   "cell_type": "code",
   "execution_count": null,
   "metadata": {},
   "outputs": [],
   "source": []
  },
  {
   "cell_type": "markdown",
   "metadata": {},
   "source": [
    "## Matrix multiplication\n",
    "\n",
    "This kind of matrix multiplication will often **change the shape** of the array\n",
    "- this is what happens in neural networks\n",
    "\n",
    "<img src=\"assets/dot1.png\" alt=\"\" width=\"900\"/>\n",
    "\n",
    "This operation can be visualized:\n",
    "\n",
    "<img src=\"assets/dot2.png\" alt=\"\" width=\"900\"/>"
   ]
  },
  {
   "cell_type": "code",
   "execution_count": null,
   "metadata": {},
   "outputs": [],
   "source": []
  },
  {
   "cell_type": "markdown",
   "metadata": {},
   "source": [
    "This is done in numpy using either `np.dot()`:"
   ]
  },
  {
   "cell_type": "code",
   "execution_count": null,
   "metadata": {},
   "outputs": [],
   "source": []
  },
  {
   "cell_type": "markdown",
   "metadata": {},
   "source": [
    "Or calling the `.dot()` method on the array itself:"
   ]
  },
  {
   "cell_type": "code",
   "execution_count": null,
   "metadata": {},
   "outputs": [],
   "source": []
  },
  {
   "cell_type": "markdown",
   "metadata": {},
   "source": [
    "## Making arrays from nested lists"
   ]
  },
  {
   "cell_type": "code",
   "execution_count": null,
   "metadata": {},
   "outputs": [],
   "source": []
  },
  {
   "cell_type": "markdown",
   "metadata": {},
   "source": [
    "## Making arrays from shape tuples\n",
    "\n",
    "The argument to these functions is a tuple\n",
    "\n",
    "### `zeros`, `ones`, `full`"
   ]
  },
  {
   "cell_type": "code",
   "execution_count": null,
   "metadata": {},
   "outputs": [],
   "source": []
  },
  {
   "cell_type": "code",
   "execution_count": null,
   "metadata": {},
   "outputs": [],
   "source": []
  },
  {
   "cell_type": "code",
   "execution_count": null,
   "metadata": {},
   "outputs": [],
   "source": []
  },
  {
   "cell_type": "markdown",
   "metadata": {},
   "source": [
    "### `zeros_like`, `ones_like`, `full_like`\n",
    "\n",
    "Similar to counterparts above, except their shape is defined by another array:"
   ]
  },
  {
   "cell_type": "code",
   "execution_count": null,
   "metadata": {},
   "outputs": [],
   "source": []
  },
  {
   "cell_type": "code",
   "execution_count": null,
   "metadata": {},
   "outputs": [],
   "source": []
  },
  {
   "cell_type": "code",
   "execution_count": null,
   "metadata": {},
   "outputs": [],
   "source": []
  },
  {
   "cell_type": "code",
   "execution_count": null,
   "metadata": {},
   "outputs": [],
   "source": []
  },
  {
   "cell_type": "markdown",
   "metadata": {},
   "source": [
    "### `empty`\n",
    "\n",
    "Similar to `zeros`, except the array is filled with garbage from RAM \n",
    "- this is a bit quicker than `zeros`"
   ]
  },
  {
   "cell_type": "code",
   "execution_count": null,
   "metadata": {},
   "outputs": [],
   "source": []
  },
  {
   "cell_type": "markdown",
   "metadata": {},
   "source": [
    "### `eye`\n",
    "\n",
    "Identity matrix :"
   ]
  },
  {
   "cell_type": "code",
   "execution_count": null,
   "metadata": {},
   "outputs": [],
   "source": []
  },
  {
   "cell_type": "markdown",
   "metadata": {},
   "source": [
    "The linear algebra verision of a 1"
   ]
  },
  {
   "cell_type": "code",
   "execution_count": null,
   "metadata": {},
   "outputs": [],
   "source": []
  },
  {
   "cell_type": "code",
   "execution_count": null,
   "metadata": {},
   "outputs": [],
   "source": []
  },
  {
   "cell_type": "markdown",
   "metadata": {},
   "source": [
    "# Regression factors\n",
    "The formula for the regression coefficients is\n",
    "\n",
    "$\\beta = (X'X)^{(-1)}X'Y $\n",
    "\n",
    "But the data is a bit messed up, meaning that the format of the independent variables are saved in a flat array. That means we have a 1xN vector. I.e. the data was changed from that: \n",
    "\n",
    "<img src=\"assets/data_before.png\" alt=\"\" width=\"500\"/>\n",
    "\n",
    "to that:\n",
    "\n",
    "<img src=\"assets/data_after.png\" alt=\"\" width=\"700\"/>\n",
    "\n",
    "The array contains the following variables: \n",
    "\n",
    "- Sale (in Dollars) - Amount of money received by the store\n",
    "- Pack Size - Number of bottles per item\n",
    "- State Bottle Cost - Cost of producing the bottle \n",
    "- Packs Sold - Amount of bottles sold\n",
    "- Bottle Volume (in ml) - How many ml each bottle has\n",
    "\n",
    "\n",
    "\n",
    "Question: Determine the regression coefficents of the following OLS regression\n",
    "\n",
    "$Sale = \\beta_0 + \\beta_1 * (Pack Size) + \\beta_2 * (State Bottle Cost) + \\beta_3 * (Packs Sold) + \\beta_4 * (Bottle Volume) + \\epsilon $"
   ]
  },
  {
   "cell_type": "code",
   "execution_count": 1,
   "metadata": {
    "scrolled": true
   },
   "outputs": [
    {
     "name": "stdout",
     "output_type": "stream",
     "text": [
      "['162.84' 6 '18.09' ... '7.53' 12 750]\n"
     ]
    }
   ],
   "source": [
    "import pickle\n",
    "import numpy as np\n",
    "with open(\"./data/data.pkl\", \"rb\") as f:\n",
    "    data = pickle.load(f)\n",
    "print(data)"
   ]
  },
  {
   "cell_type": "code",
   "execution_count": 2,
   "metadata": {},
   "outputs": [],
   "source": [
    "# Getting the data into the right shape\n",
    "# Gettin the data into the right type\n",
    "# Split features and target\n",
    "# Add a constant to the features\n",
    "# Do the arithmetic-> Betas\n",
    "# Import either statsmodels or sklearn to validate results"
   ]
  },
  {
   "cell_type": "code",
   "execution_count": 3,
   "metadata": {},
   "outputs": [
    {
     "data": {
      "text/plain": [
       "(100000, 5)"
      ]
     },
     "execution_count": 3,
     "metadata": {},
     "output_type": "execute_result"
    }
   ],
   "source": [
    "# Getting the data into the right shape\n",
    "reshaped = data.reshape((100000, 5))\n",
    "reshaped.shape"
   ]
  },
  {
   "cell_type": "code",
   "execution_count": 4,
   "metadata": {},
   "outputs": [],
   "source": [
    "# Gettin the data into the right type\n",
    "float_reshaped = reshaped.astype(float)"
   ]
  },
  {
   "cell_type": "code",
   "execution_count": 5,
   "metadata": {},
   "outputs": [
    {
     "data": {
      "text/plain": [
       "array([162.84, 325.68,  19.2 , ...,  30.36,  59.64, 135.6 ])"
      ]
     },
     "execution_count": 5,
     "metadata": {},
     "output_type": "execute_result"
    }
   ],
   "source": [
    "# Split features and target\n",
    "target_reshaped = float_reshaped[:, 0]\n",
    "target_reshaped"
   ]
  },
  {
   "cell_type": "code",
   "execution_count": 6,
   "metadata": {},
   "outputs": [
    {
     "data": {
      "text/plain": [
       "array([[  6.  ,  18.09,   6.  , 750.  ],\n",
       "       [  6.  ,  18.09,  12.  , 750.  ],\n",
       "       [ 20.  ,   6.4 ,   2.  , 150.  ],\n",
       "       ...,\n",
       "       [ 12.  ,   3.37,   6.  , 750.  ],\n",
       "       [ 12.  ,   3.31,  12.  , 750.  ],\n",
       "       [ 12.  ,   7.53,  12.  , 750.  ]])"
      ]
     },
     "execution_count": 6,
     "metadata": {},
     "output_type": "execute_result"
    }
   ],
   "source": [
    "features_reshaped = float_reshaped[:, 1:]\n",
    "features_reshaped"
   ]
  },
  {
   "cell_type": "code",
   "execution_count": 7,
   "metadata": {},
   "outputs": [],
   "source": [
    "# Add a constant to the features\n",
    "constant_added_feat = np.hstack([np.ones([features_reshaped.shape[0], 1], dtype=np.int32), features_reshaped])\n",
    "# ones = np.ones(len(features_reshaped))"
   ]
  },
  {
   "cell_type": "code",
   "execution_count": 8,
   "metadata": {},
   "outputs": [],
   "source": [
    "# Do the arithmetic-> Betas\n",
    "# Sale = \\beta_0 + \\beta_1 * (Pack Size) + \\beta_2 * (State Bottle Cost) + \\beta_3 * (Packs Sold) + \\beta_4 * (Bottle Volume) + \\epsilon \n",
    "\n",
    "y = target_reshaped\n",
    "X = constant_added_feat\n",
    "\n",
    "# 𝛽=(𝑋′𝑋)(−1)𝑋′𝑌\n",
    "# B = (X.transpose * X)(*-1)*(X.transpose * Y)\n"
   ]
  },
  {
   "cell_type": "code",
   "execution_count": 9,
   "metadata": {},
   "outputs": [
    {
     "data": {
      "text/plain": [
       "(100000, 5)"
      ]
     },
     "execution_count": 9,
     "metadata": {},
     "output_type": "execute_result"
    }
   ],
   "source": [
    "X.shape"
   ]
  },
  {
   "cell_type": "code",
   "execution_count": 10,
   "metadata": {},
   "outputs": [],
   "source": [
    "transpose_x = np.transpose(X)\n",
    "first_part = np.dot(transpose_x, X)\n",
    "inv = np.linalg.inv(first_part)"
   ]
  },
  {
   "cell_type": "code",
   "execution_count": 13,
   "metadata": {},
   "outputs": [
    {
     "data": {
      "text/plain": [
       "array([-3.88928013e+01, -4.62402519e+00,  9.48100848e+00,  1.53183949e+01,\n",
       "       -1.88215965e-02])"
      ]
     },
     "execution_count": 13,
     "metadata": {},
     "output_type": "execute_result"
    }
   ],
   "source": [
    "second_part = np.dot(transpose_x, y)\n",
    "np.dot(inv, second_part)"
   ]
  },
  {
   "cell_type": "code",
   "execution_count": 14,
   "metadata": {},
   "outputs": [],
   "source": [
    "import statsmodels.api as sm"
   ]
  },
  {
   "cell_type": "code",
   "execution_count": 15,
   "metadata": {},
   "outputs": [
    {
     "data": {
      "text/html": [
       "<table class=\"simpletable\">\n",
       "<caption>OLS Regression Results</caption>\n",
       "<tr>\n",
       "  <th>Dep. Variable:</th>            <td>y</td>        <th>  R-squared:         </th>  <td>   0.779</td>  \n",
       "</tr>\n",
       "<tr>\n",
       "  <th>Model:</th>                   <td>OLS</td>       <th>  Adj. R-squared:    </th>  <td>   0.779</td>  \n",
       "</tr>\n",
       "<tr>\n",
       "  <th>Method:</th>             <td>Least Squares</td>  <th>  F-statistic:       </th>  <td>8.835e+04</td> \n",
       "</tr>\n",
       "<tr>\n",
       "  <th>Date:</th>             <td>Fri, 01 Oct 2021</td> <th>  Prob (F-statistic):</th>   <td>  0.00</td>   \n",
       "</tr>\n",
       "<tr>\n",
       "  <th>Time:</th>                 <td>15:48:54</td>     <th>  Log-Likelihood:    </th> <td>-6.6361e+05</td>\n",
       "</tr>\n",
       "<tr>\n",
       "  <th>No. Observations:</th>      <td>100000</td>      <th>  AIC:               </th>  <td>1.327e+06</td> \n",
       "</tr>\n",
       "<tr>\n",
       "  <th>Df Residuals:</th>          <td> 99995</td>      <th>  BIC:               </th>  <td>1.327e+06</td> \n",
       "</tr>\n",
       "<tr>\n",
       "  <th>Df Model:</th>              <td>     4</td>      <th>                     </th>      <td> </td>     \n",
       "</tr>\n",
       "<tr>\n",
       "  <th>Covariance Type:</th>      <td>nonrobust</td>    <th>                     </th>      <td> </td>     \n",
       "</tr>\n",
       "</table>\n",
       "<table class=\"simpletable\">\n",
       "<tr>\n",
       "    <td></td>       <th>coef</th>     <th>std err</th>      <th>t</th>      <th>P>|t|</th>  <th>[0.025</th>    <th>0.975]</th>  \n",
       "</tr>\n",
       "<tr>\n",
       "  <th>const</th> <td>  -38.8928</td> <td>    2.675</td> <td>  -14.537</td> <td> 0.000</td> <td>  -44.137</td> <td>  -33.649</td>\n",
       "</tr>\n",
       "<tr>\n",
       "  <th>x1</th>    <td>   -4.6240</td> <td>    0.104</td> <td>  -44.531</td> <td> 0.000</td> <td>   -4.828</td> <td>   -4.421</td>\n",
       "</tr>\n",
       "<tr>\n",
       "  <th>x2</th>    <td>    9.4810</td> <td>    0.092</td> <td>  102.755</td> <td> 0.000</td> <td>    9.300</td> <td>    9.662</td>\n",
       "</tr>\n",
       "<tr>\n",
       "  <th>x3</th>    <td>   15.3184</td> <td>    0.026</td> <td>  586.137</td> <td> 0.000</td> <td>   15.267</td> <td>   15.370</td>\n",
       "</tr>\n",
       "<tr>\n",
       "  <th>x4</th>    <td>   -0.0188</td> <td>    0.002</td> <td>  -12.034</td> <td> 0.000</td> <td>   -0.022</td> <td>   -0.016</td>\n",
       "</tr>\n",
       "</table>\n",
       "<table class=\"simpletable\">\n",
       "<tr>\n",
       "  <th>Omnibus:</th>       <td>190007.483</td> <th>  Durbin-Watson:     </th>    <td>   2.005</td>    \n",
       "</tr>\n",
       "<tr>\n",
       "  <th>Prob(Omnibus):</th>   <td> 0.000</td>   <th>  Jarque-Bera (JB):  </th> <td>11161884404.416</td>\n",
       "</tr>\n",
       "<tr>\n",
       "  <th>Skew:</th>            <td>13.336</td>   <th>  Prob(JB):          </th>    <td>    0.00</td>    \n",
       "</tr>\n",
       "<tr>\n",
       "  <th>Kurtosis:</th>       <td>1639.503</td>  <th>  Cond. No.          </th>    <td>4.81e+03</td>    \n",
       "</tr>\n",
       "</table><br/><br/>Notes:<br/>[1] Standard Errors assume that the covariance matrix of the errors is correctly specified.<br/>[2] The condition number is large, 4.81e+03. This might indicate that there are<br/>strong multicollinearity or other numerical problems."
      ],
      "text/plain": [
       "<class 'statsmodels.iolib.summary.Summary'>\n",
       "\"\"\"\n",
       "                            OLS Regression Results                            \n",
       "==============================================================================\n",
       "Dep. Variable:                      y   R-squared:                       0.779\n",
       "Model:                            OLS   Adj. R-squared:                  0.779\n",
       "Method:                 Least Squares   F-statistic:                 8.835e+04\n",
       "Date:                Fri, 01 Oct 2021   Prob (F-statistic):               0.00\n",
       "Time:                        15:48:54   Log-Likelihood:            -6.6361e+05\n",
       "No. Observations:              100000   AIC:                         1.327e+06\n",
       "Df Residuals:                   99995   BIC:                         1.327e+06\n",
       "Df Model:                           4                                         \n",
       "Covariance Type:            nonrobust                                         \n",
       "==============================================================================\n",
       "                 coef    std err          t      P>|t|      [0.025      0.975]\n",
       "------------------------------------------------------------------------------\n",
       "const        -38.8928      2.675    -14.537      0.000     -44.137     -33.649\n",
       "x1            -4.6240      0.104    -44.531      0.000      -4.828      -4.421\n",
       "x2             9.4810      0.092    102.755      0.000       9.300       9.662\n",
       "x3            15.3184      0.026    586.137      0.000      15.267      15.370\n",
       "x4            -0.0188      0.002    -12.034      0.000      -0.022      -0.016\n",
       "==============================================================================\n",
       "Omnibus:                   190007.483   Durbin-Watson:                   2.005\n",
       "Prob(Omnibus):                  0.000   Jarque-Bera (JB):      11161884404.416\n",
       "Skew:                          13.336   Prob(JB):                         0.00\n",
       "Kurtosis:                    1639.503   Cond. No.                     4.81e+03\n",
       "==============================================================================\n",
       "\n",
       "Notes:\n",
       "[1] Standard Errors assume that the covariance matrix of the errors is correctly specified.\n",
       "[2] The condition number is large, 4.81e+03. This might indicate that there are\n",
       "strong multicollinearity or other numerical problems.\n",
       "\"\"\""
      ]
     },
     "execution_count": 15,
     "metadata": {},
     "output_type": "execute_result"
    }
   ],
   "source": [
    "model = sm.OLS(y, X)\n",
    "results = model.fit()\n",
    "results.summary()"
   ]
  },
  {
   "cell_type": "code",
   "execution_count": 18,
   "metadata": {},
   "outputs": [
    {
     "data": {
      "image/png": "[encoded data removed]",
      "text/plain": [
       "<Figure size 360x360 with 1 Axes>"
      ]
     },
     "metadata": {
      "needs_background": "light"
     },
     "output_type": "display_data"
    }
   ],
   "source": [
    "from sklearn.linear_model import LinearRegression\n",
    "ols = LinearRegression()\n",
    "ols.fit(X, y)\n",
    "\n",
    "y_pred = ols.predict(X)\n",
    "\n",
    "import matplotlib.pyplot as plt\n",
    "fig, axs = plt.subplots(figsize=(5,5))\n",
    "axs.plot(y, label=\"True\")\n",
    "axs.plot(y_pred, label=\"Pred\")\n",
    "axs.legend()\n",
    "plt.show()"
   ]
  },
  {
   "cell_type": "code",
   "execution_count": null,
   "metadata": {},
   "outputs": [],
   "source": [
    "# Import either statsmodels or sklearn to validate results\n"
   ]
  },
  {
   "cell_type": "code",
   "execution_count": null,
   "metadata": {},
   "outputs": [],
   "source": []
  },
  {
   "cell_type": "code",
   "execution_count": null,
   "metadata": {},
   "outputs": [],
   "source": []
  },
  {
   "cell_type": "markdown",
   "metadata": {},
   "source": [
    "## Answers\n",
    "You are encouraged to use this upcoming line only for checking purposes"
   ]
  },
  {
   "cell_type": "code",
   "execution_count": 44,
   "metadata": {},
   "outputs": [
    {
     "data": {
      "text/plain": [
       "array([-3.88928013e+01, -4.62402519e+00,  9.48100848e+00,  1.53183949e+01,\n",
       "       -1.88215965e-02])"
      ]
     },
     "execution_count": 44,
     "metadata": {},
     "output_type": "execute_result"
    }
   ],
   "source": [
    "from Answers import beta_coefficients, stats_package\n",
    "beta_coefficients()"
   ]
  },
  {
   "cell_type": "markdown",
   "metadata": {},
   "source": [
    "## Cross checking\n",
    "Here we are cross checking with a statistics package"
   ]
  },
  {
   "cell_type": "code",
   "execution_count": null,
   "metadata": {},
   "outputs": [],
   "source": []
  },
  {
   "cell_type": "code",
   "execution_count": null,
   "metadata": {},
   "outputs": [],
   "source": []
  }
 ],
 "metadata": {
  "kernelspec": {
   "display_name": "Python 3",
   "language": "python",
   "name": "python3"
  },
  "language_info": {
   "codemirror_mode": {
    "name": "ipython",
    "version": 3
   },
   "file_extension": ".py",
   "mimetype": "text/x-python",
   "name": "python",
   "nbconvert_exporter": "python",
   "pygments_lexer": "ipython3",
   "version": "3.8.5"
  },
  "varInspector": {
   "cols": {
    "lenName": 16,
    "lenType": 16,
    "lenVar": 40
   },
   "kernels_config": {
    "python": {
     "delete_cmd_postfix": "",
     "delete_cmd_prefix": "del ",
     "library": "var_list.py",
     "varRefreshCmd": "print(var_dic_list())"
    },
    "r": {
     "delete_cmd_postfix": ") ",
     "delete_cmd_prefix": "rm(",
     "library": "var_list.r",
     "varRefreshCmd": "cat(var_dic_list()) "
    }
   },
   "types_to_exclude": [
    "module",
    "function",
    "builtin_function_or_method",
    "instance",
    "_Feature"
   ],
   "window_display": false
  }
 },
 "nbformat": 4,
 "nbformat_minor": 4
}
