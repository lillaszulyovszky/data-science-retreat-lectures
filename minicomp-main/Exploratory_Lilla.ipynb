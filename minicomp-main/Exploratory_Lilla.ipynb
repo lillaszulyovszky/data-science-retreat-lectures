{
 "cells": [
  {
   "cell_type": "code",
   "execution_count": 1,
   "id": "76273743",
   "metadata": {},
   "outputs": [
    {
     "name": "stderr",
     "output_type": "stream",
     "text": [
      "/opt/anaconda3/lib/python3.8/site-packages/IPython/core/interactiveshell.py:3441: DtypeWarning: Columns (7) have mixed types.Specify dtype option on import or set low_memory=False.\n",
      "  exec(code_obj, self.user_global_ns, self.user_ns)\n"
     ]
    }
   ],
   "source": [
    "import pandas as pd\n",
    "import numpy as np\n",
    "\n",
    "store_data = pd.read_csv(\"./data/store.csv\")\n",
    "\n",
    "train_data = pd.read_csv(\"./data/train.csv\")"
   ]
  },
  {
   "cell_type": "code",
   "execution_count": 2,
   "id": "4fff23e8",
   "metadata": {
    "scrolled": true
   },
   "outputs": [
    {
     "data": {
      "text/html": [
       "<div>\n",
       "<style scoped>\n",
       "    .dataframe tbody tr th:only-of-type {\n",
       "        vertical-align: middle;\n",
       "    }\n",
       "\n",
       "    .dataframe tbody tr th {\n",
       "        vertical-align: top;\n",
       "    }\n",
       "\n",
       "    .dataframe thead th {\n",
       "        text-align: right;\n",
       "    }\n",
       "</style>\n",
       "<table border=\"1\" class=\"dataframe\">\n",
       "  <thead>\n",
       "    <tr style=\"text-align: right;\">\n",
       "      <th></th>\n",
       "      <th>Date</th>\n",
       "      <th>Store</th>\n",
       "      <th>DayOfWeek</th>\n",
       "      <th>Sales</th>\n",
       "      <th>Customers</th>\n",
       "      <th>Open</th>\n",
       "      <th>Promo</th>\n",
       "      <th>StateHoliday</th>\n",
       "      <th>SchoolHoliday</th>\n",
       "    </tr>\n",
       "  </thead>\n",
       "  <tbody>\n",
       "    <tr>\n",
       "      <th>0</th>\n",
       "      <td>2013-01-01</td>\n",
       "      <td>1115.0</td>\n",
       "      <td>2.0</td>\n",
       "      <td>0.0</td>\n",
       "      <td>0.0</td>\n",
       "      <td>0.0</td>\n",
       "      <td>0.0</td>\n",
       "      <td>a</td>\n",
       "      <td>1.0</td>\n",
       "    </tr>\n",
       "    <tr>\n",
       "      <th>1</th>\n",
       "      <td>2013-01-01</td>\n",
       "      <td>379.0</td>\n",
       "      <td>2.0</td>\n",
       "      <td>0.0</td>\n",
       "      <td>0.0</td>\n",
       "      <td>0.0</td>\n",
       "      <td>0.0</td>\n",
       "      <td>a</td>\n",
       "      <td>1.0</td>\n",
       "    </tr>\n",
       "    <tr>\n",
       "      <th>2</th>\n",
       "      <td>2013-01-01</td>\n",
       "      <td>378.0</td>\n",
       "      <td>2.0</td>\n",
       "      <td>0.0</td>\n",
       "      <td>0.0</td>\n",
       "      <td>0.0</td>\n",
       "      <td>0.0</td>\n",
       "      <td>a</td>\n",
       "      <td>1.0</td>\n",
       "    </tr>\n",
       "    <tr>\n",
       "      <th>3</th>\n",
       "      <td>2013-01-01</td>\n",
       "      <td>377.0</td>\n",
       "      <td>2.0</td>\n",
       "      <td>0.0</td>\n",
       "      <td>0.0</td>\n",
       "      <td>0.0</td>\n",
       "      <td>0.0</td>\n",
       "      <td>a</td>\n",
       "      <td>1.0</td>\n",
       "    </tr>\n",
       "    <tr>\n",
       "      <th>4</th>\n",
       "      <td>2013-01-01</td>\n",
       "      <td>376.0</td>\n",
       "      <td>2.0</td>\n",
       "      <td>0.0</td>\n",
       "      <td>0.0</td>\n",
       "      <td>0.0</td>\n",
       "      <td>0.0</td>\n",
       "      <td>a</td>\n",
       "      <td>1.0</td>\n",
       "    </tr>\n",
       "  </tbody>\n",
       "</table>\n",
       "</div>"
      ],
      "text/plain": [
       "         Date   Store  DayOfWeek  Sales  Customers  Open  Promo StateHoliday  \\\n",
       "0  2013-01-01  1115.0        2.0    0.0        0.0   0.0    0.0            a   \n",
       "1  2013-01-01   379.0        2.0    0.0        0.0   0.0    0.0            a   \n",
       "2  2013-01-01   378.0        2.0    0.0        0.0   0.0    0.0            a   \n",
       "3  2013-01-01   377.0        2.0    0.0        0.0   0.0    0.0            a   \n",
       "4  2013-01-01   376.0        2.0    0.0        0.0   0.0    0.0            a   \n",
       "\n",
       "   SchoolHoliday  \n",
       "0            1.0  \n",
       "1            1.0  \n",
       "2            1.0  \n",
       "3            1.0  \n",
       "4            1.0  "
      ]
     },
     "execution_count": 2,
     "metadata": {},
     "output_type": "execute_result"
    }
   ],
   "source": [
    "train_data.head()"
   ]
  },
  {
   "cell_type": "code",
   "execution_count": 28,
   "id": "1671e61b",
   "metadata": {
    "scrolled": true
   },
   "outputs": [
    {
     "data": {
      "text/html": [
       "<div>\n",
       "<style scoped>\n",
       "    .dataframe tbody tr th:only-of-type {\n",
       "        vertical-align: middle;\n",
       "    }\n",
       "\n",
       "    .dataframe tbody tr th {\n",
       "        vertical-align: top;\n",
       "    }\n",
       "\n",
       "    .dataframe thead th {\n",
       "        text-align: right;\n",
       "    }\n",
       "</style>\n",
       "<table border=\"1\" class=\"dataframe\">\n",
       "  <thead>\n",
       "    <tr style=\"text-align: right;\">\n",
       "      <th></th>\n",
       "      <th>Store</th>\n",
       "      <th>StoreType</th>\n",
       "      <th>Assortment</th>\n",
       "      <th>CompetitionDistance</th>\n",
       "      <th>CompetitionOpenSinceMonth</th>\n",
       "      <th>CompetitionOpenSinceYear</th>\n",
       "      <th>Promo2</th>\n",
       "      <th>Promo2SinceWeek</th>\n",
       "      <th>Promo2SinceYear</th>\n",
       "      <th>PromoInterval</th>\n",
       "    </tr>\n",
       "  </thead>\n",
       "  <tbody>\n",
       "    <tr>\n",
       "      <th>0</th>\n",
       "      <td>1</td>\n",
       "      <td>c</td>\n",
       "      <td>a</td>\n",
       "      <td>1270.0</td>\n",
       "      <td>9.0</td>\n",
       "      <td>2008.0</td>\n",
       "      <td>0</td>\n",
       "      <td>NaN</td>\n",
       "      <td>NaN</td>\n",
       "      <td>NaN</td>\n",
       "    </tr>\n",
       "    <tr>\n",
       "      <th>1</th>\n",
       "      <td>2</td>\n",
       "      <td>a</td>\n",
       "      <td>a</td>\n",
       "      <td>570.0</td>\n",
       "      <td>11.0</td>\n",
       "      <td>2007.0</td>\n",
       "      <td>1</td>\n",
       "      <td>13.0</td>\n",
       "      <td>2010.0</td>\n",
       "      <td>Jan,Apr,Jul,Oct</td>\n",
       "    </tr>\n",
       "    <tr>\n",
       "      <th>2</th>\n",
       "      <td>3</td>\n",
       "      <td>a</td>\n",
       "      <td>a</td>\n",
       "      <td>14130.0</td>\n",
       "      <td>12.0</td>\n",
       "      <td>2006.0</td>\n",
       "      <td>1</td>\n",
       "      <td>14.0</td>\n",
       "      <td>2011.0</td>\n",
       "      <td>Jan,Apr,Jul,Oct</td>\n",
       "    </tr>\n",
       "    <tr>\n",
       "      <th>3</th>\n",
       "      <td>4</td>\n",
       "      <td>c</td>\n",
       "      <td>c</td>\n",
       "      <td>620.0</td>\n",
       "      <td>9.0</td>\n",
       "      <td>2009.0</td>\n",
       "      <td>0</td>\n",
       "      <td>NaN</td>\n",
       "      <td>NaN</td>\n",
       "      <td>NaN</td>\n",
       "    </tr>\n",
       "    <tr>\n",
       "      <th>4</th>\n",
       "      <td>5</td>\n",
       "      <td>a</td>\n",
       "      <td>a</td>\n",
       "      <td>29910.0</td>\n",
       "      <td>4.0</td>\n",
       "      <td>2015.0</td>\n",
       "      <td>0</td>\n",
       "      <td>NaN</td>\n",
       "      <td>NaN</td>\n",
       "      <td>NaN</td>\n",
       "    </tr>\n",
       "  </tbody>\n",
       "</table>\n",
       "</div>"
      ],
      "text/plain": [
       "   Store StoreType Assortment  CompetitionDistance  CompetitionOpenSinceMonth  \\\n",
       "0      1         c          a               1270.0                        9.0   \n",
       "1      2         a          a                570.0                       11.0   \n",
       "2      3         a          a              14130.0                       12.0   \n",
       "3      4         c          c                620.0                        9.0   \n",
       "4      5         a          a              29910.0                        4.0   \n",
       "\n",
       "   CompetitionOpenSinceYear  Promo2  Promo2SinceWeek  Promo2SinceYear  \\\n",
       "0                    2008.0       0              NaN              NaN   \n",
       "1                    2007.0       1             13.0           2010.0   \n",
       "2                    2006.0       1             14.0           2011.0   \n",
       "3                    2009.0       0              NaN              NaN   \n",
       "4                    2015.0       0              NaN              NaN   \n",
       "\n",
       "     PromoInterval  \n",
       "0              NaN  \n",
       "1  Jan,Apr,Jul,Oct  \n",
       "2  Jan,Apr,Jul,Oct  \n",
       "3              NaN  \n",
       "4              NaN  "
      ]
     },
     "execution_count": 3,
     "metadata": {},
     "output_type": "execute_result"
    }
   ],
   "source": [
    "store_data.head()"
   ]
  },
  {
   "cell_type": "code",
<<<<<<< Updated upstream
   "execution_count": 4,
   "id": "f6b3fd49",
||||||| constructed merge base
   "execution_count": 4,
   "id": "8b0ebe08",
=======
   "execution_count": 29,
   "id": "37ecaf7c",
>>>>>>> Stashed changes
   "metadata": {},
   "outputs": [
    {
<<<<<<< Updated upstream
     "name": "stdout",
     "output_type": "stream",
     "text": [
      "637774\n"
     ]
||||||| constructed merge base
     "data": {
      "text/plain": [
       "(637774, 18)"
      ]
     },
     "execution_count": 4,
     "metadata": {},
     "output_type": "execute_result"
=======
     "data": {
      "text/plain": [
       "(637774, 18)"
      ]
     },
     "execution_count": 29,
     "metadata": {},
     "output_type": "execute_result"
>>>>>>> Stashed changes
    }
   ],
   "source": [
    "print(len(train_data))"
   ]
  },
  {
   "cell_type": "code",
<<<<<<< Updated upstream
   "execution_count": 5,
   "id": "2258f05b",
   "metadata": {},
   "outputs": [
    {
     "name": "stdout",
     "output_type": "stream",
     "text": [
      "1115\n"
     ]
    }
   ],
   "source": [
    "print(len(store_data))"
   ]
  },
  {
   "cell_type": "code",
   "execution_count": 6,
   "id": "2518658d",
   "metadata": {},
||||||| constructed merge base
   "execution_count": 5,
   "id": "a6976b38",
   "metadata": {
    "scrolled": true
   },
=======
   "execution_count": 30,
   "id": "a3af950a",
   "metadata": {
    "scrolled": true
   },
>>>>>>> Stashed changes
   "outputs": [],
   "source": [
    "train_data.dropna(subset=[\"Sales\"], inplace=True)"
   ]
  },
  {
   "cell_type": "code",
<<<<<<< Updated upstream
   "execution_count": 7,
   "id": "38520f55",
||||||| constructed merge base
   "execution_count": 25,
   "id": "8d3ca4b8",
=======
   "execution_count": 31,
   "id": "070cac17",
>>>>>>> Stashed changes
   "metadata": {},
   "outputs": [],
   "source": [
<<<<<<< Updated upstream
    "# drop customers, not used\n",
    "train_data.drop(\"Customers\", axis=1, inplace=True)"
||||||| constructed merge base
    "merged_data_missing = merged_no_drop[merged_no_drop.isna().any(axis=1)]\n",
    "promo_merged_data_missing = merged_data_missing[merged_data_missing['PromoInterval'].isnull()]\n",
    "store_and_promo = merged_data_missing[merged_data_missing['Store'].isnull()]\n",
    "store_and_promo.to_csv(\"./data/store_and_promo.csv\")"
=======
    "merged_data_missing = merged_no_drop[merged_no_drop.isna().any(axis=1)]\n",
    "promo_merged_data_missing = merged_no_drop[merged_no_drop['PromoInterval'].isnull()]\n",
    "store_and_promo = merged_no_drop[merged_no_drop['Store'].isnull()]\n",
    "store_and_promo.to_csv(\"./data/store_and_promo.csv\")"
>>>>>>> Stashed changes
   ]
  },
  {
   "cell_type": "code",
<<<<<<< Updated upstream
   "execution_count": 8,
   "id": "97e0ebf7",
||||||| constructed merge base
   "execution_count": 26,
   "id": "565c3877",
=======
   "execution_count": 26,
   "id": "833ea27d",
>>>>>>> Stashed changes
   "metadata": {},
   "outputs": [
    {
     "data": {
      "text/plain": [
       "Date              object\n",
       "Store            float64\n",
       "DayOfWeek        float64\n",
       "Sales            float64\n",
       "Open             float64\n",
       "Promo            float64\n",
       "StateHoliday      object\n",
       "SchoolHoliday    float64\n",
       "dtype: object"
      ]
     },
     "execution_count": 8,
     "metadata": {},
     "output_type": "execute_result"
    }
   ],
   "source": [
    "train_data.dtypes"
   ]
  },
  {
   "cell_type": "code",
   "execution_count": 9,
   "id": "f7736293",
   "metadata": {
    "scrolled": true
   },
   "outputs": [
    {
     "data": {
      "text/plain": [
       "Store                          int64\n",
       "StoreType                     object\n",
       "Assortment                    object\n",
       "CompetitionDistance          float64\n",
       "CompetitionOpenSinceMonth    float64\n",
       "CompetitionOpenSinceYear     float64\n",
       "Promo2                         int64\n",
       "Promo2SinceWeek              float64\n",
       "Promo2SinceYear              float64\n",
       "PromoInterval                 object\n",
       "dtype: object"
      ]
     },
     "execution_count": 9,
     "metadata": {},
     "output_type": "execute_result"
    }
   ],
   "source": [
    "store_data.dtypes"
   ]
  },
  {
   "cell_type": "code",
   "execution_count": 10,
   "id": "507c386e",
   "metadata": {
    "scrolled": false
   },
   "outputs": [
    {
     "data": {
      "text/html": [
       "<div>\n",
       "<style scoped>\n",
       "    .dataframe tbody tr th:only-of-type {\n",
       "        vertical-align: middle;\n",
       "    }\n",
       "\n",
       "    .dataframe tbody tr th {\n",
       "        vertical-align: top;\n",
       "    }\n",
       "\n",
       "    .dataframe thead th {\n",
       "        text-align: right;\n",
       "    }\n",
       "</style>\n",
       "<table border=\"1\" class=\"dataframe\">\n",
       "  <thead>\n",
       "    <tr style=\"text-align: right;\">\n",
       "      <th></th>\n",
       "      <th>Date</th>\n",
       "      <th>Store</th>\n",
       "      <th>DayOfWeek</th>\n",
       "      <th>Sales</th>\n",
       "      <th>Open</th>\n",
       "      <th>Promo</th>\n",
       "      <th>StateHoliday</th>\n",
       "      <th>SchoolHoliday</th>\n",
       "    </tr>\n",
       "  </thead>\n",
       "  <tbody>\n",
       "    <tr>\n",
       "      <th>138</th>\n",
       "      <td>2013-01-01</td>\n",
       "      <td>NaN</td>\n",
       "      <td>2.0</td>\n",
       "      <td>0.0</td>\n",
       "      <td>0.0</td>\n",
       "      <td>0.0</td>\n",
       "      <td>a</td>\n",
       "      <td>1.0</td>\n",
       "    </tr>\n",
       "    <tr>\n",
       "      <th>178</th>\n",
       "      <td>2013-01-01</td>\n",
       "      <td>NaN</td>\n",
       "      <td>2.0</td>\n",
       "      <td>0.0</td>\n",
       "      <td>0.0</td>\n",
       "      <td>0.0</td>\n",
       "      <td>a</td>\n",
       "      <td>1.0</td>\n",
       "    </tr>\n",
       "    <tr>\n",
       "      <th>202</th>\n",
       "      <td>2013-01-01</td>\n",
       "      <td>NaN</td>\n",
       "      <td>2.0</td>\n",
       "      <td>0.0</td>\n",
       "      <td>0.0</td>\n",
       "      <td>0.0</td>\n",
       "      <td>a</td>\n",
       "      <td>1.0</td>\n",
       "    </tr>\n",
       "    <tr>\n",
       "      <th>208</th>\n",
       "      <td>2013-01-01</td>\n",
       "      <td>NaN</td>\n",
       "      <td>2.0</td>\n",
       "      <td>0.0</td>\n",
       "      <td>0.0</td>\n",
       "      <td>0.0</td>\n",
       "      <td>a</td>\n",
       "      <td>1.0</td>\n",
       "    </tr>\n",
       "    <tr>\n",
       "      <th>233</th>\n",
       "      <td>2013-01-01</td>\n",
       "      <td>NaN</td>\n",
       "      <td>2.0</td>\n",
       "      <td>0.0</td>\n",
       "      <td>0.0</td>\n",
       "      <td>0.0</td>\n",
       "      <td>a</td>\n",
       "      <td>1.0</td>\n",
       "    </tr>\n",
       "    <tr>\n",
       "      <th>...</th>\n",
       "      <td>...</td>\n",
       "      <td>...</td>\n",
       "      <td>...</td>\n",
       "      <td>...</td>\n",
       "      <td>...</td>\n",
       "      <td>...</td>\n",
       "      <td>...</td>\n",
       "      <td>...</td>\n",
       "    </tr>\n",
       "    <tr>\n",
       "      <th>633931</th>\n",
       "      <td>2014-07-27</td>\n",
       "      <td>NaN</td>\n",
       "      <td>7.0</td>\n",
       "      <td>0.0</td>\n",
       "      <td>0.0</td>\n",
       "      <td>0.0</td>\n",
       "      <td>0</td>\n",
       "      <td>0.0</td>\n",
       "    </tr>\n",
       "    <tr>\n",
       "      <th>633943</th>\n",
       "      <td>2014-07-27</td>\n",
       "      <td>NaN</td>\n",
       "      <td>7.0</td>\n",
       "      <td>0.0</td>\n",
       "      <td>0.0</td>\n",
       "      <td>0.0</td>\n",
       "      <td>0</td>\n",
       "      <td>0.0</td>\n",
       "    </tr>\n",
       "    <tr>\n",
       "      <th>633976</th>\n",
       "      <td>2014-07-27</td>\n",
       "      <td>NaN</td>\n",
       "      <td>7.0</td>\n",
       "      <td>0.0</td>\n",
       "      <td>0.0</td>\n",
       "      <td>0.0</td>\n",
       "      <td>0</td>\n",
       "      <td>0.0</td>\n",
       "    </tr>\n",
       "    <tr>\n",
       "      <th>633989</th>\n",
       "      <td>2014-07-27</td>\n",
       "      <td>NaN</td>\n",
       "      <td>7.0</td>\n",
       "      <td>0.0</td>\n",
       "      <td>0.0</td>\n",
       "      <td>0.0</td>\n",
       "      <td>0</td>\n",
       "      <td>0.0</td>\n",
       "    </tr>\n",
       "    <tr>\n",
       "      <th>637732</th>\n",
       "      <td>2014-07-31</td>\n",
       "      <td>NaN</td>\n",
       "      <td>4.0</td>\n",
       "      <td>13183.0</td>\n",
       "      <td>1.0</td>\n",
       "      <td>1.0</td>\n",
       "      <td>0</td>\n",
       "      <td>1.0</td>\n",
       "    </tr>\n",
       "  </tbody>\n",
       "</table>\n",
       "<p>2721 rows × 8 columns</p>\n",
       "</div>"
      ],
      "text/plain": [
       "              Date  Store  DayOfWeek    Sales  Open  Promo StateHoliday  \\\n",
       "138     2013-01-01    NaN        2.0      0.0   0.0    0.0            a   \n",
       "178     2013-01-01    NaN        2.0      0.0   0.0    0.0            a   \n",
       "202     2013-01-01    NaN        2.0      0.0   0.0    0.0            a   \n",
       "208     2013-01-01    NaN        2.0      0.0   0.0    0.0            a   \n",
       "233     2013-01-01    NaN        2.0      0.0   0.0    0.0            a   \n",
       "...            ...    ...        ...      ...   ...    ...          ...   \n",
       "633931  2014-07-27    NaN        7.0      0.0   0.0    0.0            0   \n",
       "633943  2014-07-27    NaN        7.0      0.0   0.0    0.0            0   \n",
       "633976  2014-07-27    NaN        7.0      0.0   0.0    0.0            0   \n",
       "633989  2014-07-27    NaN        7.0      0.0   0.0    0.0            0   \n",
       "637732  2014-07-31    NaN        4.0  13183.0   1.0    1.0            0   \n",
       "\n",
       "        SchoolHoliday  \n",
       "138               1.0  \n",
       "178               1.0  \n",
       "202               1.0  \n",
       "208               1.0  \n",
       "233               1.0  \n",
       "...               ...  \n",
       "633931            0.0  \n",
       "633943            0.0  \n",
       "633976            0.0  \n",
       "633989            0.0  \n",
       "637732            1.0  \n",
       "\n",
       "[2721 rows x 8 columns]"
      ]
     },
     "execution_count": 10,
     "metadata": {},
     "output_type": "execute_result"
    }
   ],
   "source": [
<<<<<<< Updated upstream
||||||| constructed merge base
    "store_and_promo"
   ]
  },
  {
   "cell_type": "markdown",
   "id": "194f492d",
   "metadata": {},
   "source": [
    "merged_data.lo\n",
    "[:, merged_data.isna().any()]"
   ]
  },
  {
   "cell_type": "code",
   "execution_count": null,
   "id": "f6b3fd49",
   "metadata": {},
   "outputs": [],
   "source": [
    "print(len(train_data))"
   ]
  },
  {
   "cell_type": "code",
   "execution_count": null,
   "id": "2258f05b",
   "metadata": {},
   "outputs": [],
   "source": [
    "print(len(store_data))"
   ]
  },
  {
   "cell_type": "code",
   "execution_count": null,
   "id": "2518658d",
   "metadata": {},
   "outputs": [],
   "source": [
    "train_data.dropna(subset=[\"Sales\"], inplace=True)"
   ]
  },
  {
   "cell_type": "code",
   "execution_count": null,
   "id": "38520f55",
   "metadata": {},
   "outputs": [],
   "source": [
    "# drop customers, not used\n",
    "train_data.drop(\"Customers\", axis=1, inplace=True)"
   ]
  },
  {
   "cell_type": "code",
   "execution_count": null,
   "id": "97e0ebf7",
   "metadata": {},
   "outputs": [],
   "source": [
    "train_data.dtypes"
   ]
  },
  {
   "cell_type": "code",
   "execution_count": null,
   "id": "f7736293",
   "metadata": {
    "scrolled": true
   },
   "outputs": [],
   "source": [
    "store_data.dtypes"
   ]
  },
  {
   "cell_type": "code",
   "execution_count": null,
   "id": "507c386e",
   "metadata": {
    "scrolled": false
   },
   "outputs": [],
   "source": [
=======
    "store_and_promo"
   ]
  },
  {
   "cell_type": "markdown",
   "id": "1799bed6",
   "metadata": {},
   "source": [
    "merged_data.lo\n",
    "[:, merged_data.isna().any()]"
   ]
  },
  {
   "cell_type": "code",
   "execution_count": null,
   "id": "f6b3fd49",
   "metadata": {},
   "outputs": [],
   "source": [
    "print(len(train_data))"
   ]
  },
  {
   "cell_type": "code",
   "execution_count": null,
   "id": "2258f05b",
   "metadata": {},
   "outputs": [],
   "source": [
    "print(len(store_data))"
   ]
  },
  {
   "cell_type": "code",
   "execution_count": null,
   "id": "2518658d",
   "metadata": {},
   "outputs": [],
   "source": [
    "train_data.dropna(subset=[\"Sales\"], inplace=True)"
   ]
  },
  {
   "cell_type": "code",
   "execution_count": null,
   "id": "38520f55",
   "metadata": {},
   "outputs": [],
   "source": [
    "# drop customers, not used\n",
    "train_data.drop(\"Customers\", axis=1, inplace=True)"
   ]
  },
  {
   "cell_type": "code",
   "execution_count": null,
   "id": "97e0ebf7",
   "metadata": {},
   "outputs": [],
   "source": [
    "train_data.dtypes"
   ]
  },
  {
   "cell_type": "code",
   "execution_count": null,
   "id": "f7736293",
   "metadata": {
    "scrolled": true
   },
   "outputs": [],
   "source": [
    "store_data.dtypes"
   ]
  },
  {
   "cell_type": "code",
   "execution_count": null,
   "id": "507c386e",
   "metadata": {
    "scrolled": false
   },
   "outputs": [],
   "source": [
>>>>>>> Stashed changes
    "# removing duplicats\n",
    "duped_mask = train_data.duplicated()\n",
    "duplicated_data = train_data.loc[duped_mask, :]\n",
    "duplicated_data"
   ]
  },
  {
   "cell_type": "code",
   "execution_count": 11,
   "id": "b02bdbac",
   "metadata": {},
   "outputs": [],
   "source": [
    "train_data.drop_duplicates(inplace=True)"
   ]
  },
  {
   "cell_type": "code",
   "execution_count": 12,
   "id": "e51f6de4",
   "metadata": {},
   "outputs": [
    {
     "data": {
      "text/plain": [
       "1"
      ]
     },
     "execution_count": 12,
     "metadata": {},
     "output_type": "execute_result"
    }
   ],
   "source": [
    "# There's NaNs in the store ID\n",
    "\n",
    "store_data.loc[:, \"Store\"].min()"
   ]
  },
  {
   "cell_type": "code",
   "execution_count": 13,
   "id": "46b55141",
   "metadata": {},
   "outputs": [],
   "source": [
    "train_data = train_data.fillna({\"Store\": 0})"
   ]
  },
  {
   "cell_type": "code",
   "execution_count": 14,
   "id": "037a1e54",
   "metadata": {
    "scrolled": true
   },
   "outputs": [],
   "source": [
    "train_data = train_data.astype({\"Store\": int})"
   ]
  },
  {
   "cell_type": "code",
   "execution_count": 15,
   "id": "06b7f37d",
   "metadata": {},
   "outputs": [],
   "source": [
    "merged_data = train_data.merge(store_data, how=\"left\", on=\"Store\")"
   ]
  },
  {
   "cell_type": "code",
   "execution_count": 16,
   "id": "407858d4",
   "metadata": {},
   "outputs": [
    {
     "data": {
      "text/html": [
       "<div>\n",
       "<style scoped>\n",
       "    .dataframe tbody tr th:only-of-type {\n",
       "        vertical-align: middle;\n",
       "    }\n",
       "\n",
       "    .dataframe tbody tr th {\n",
       "        vertical-align: top;\n",
       "    }\n",
       "\n",
       "    .dataframe thead th {\n",
       "        text-align: right;\n",
       "    }\n",
       "</style>\n",
       "<table border=\"1\" class=\"dataframe\">\n",
       "  <thead>\n",
       "    <tr style=\"text-align: right;\">\n",
       "      <th></th>\n",
       "      <th>Date</th>\n",
       "      <th>Store</th>\n",
       "      <th>DayOfWeek</th>\n",
       "      <th>Sales</th>\n",
       "      <th>Open</th>\n",
       "      <th>Promo</th>\n",
       "      <th>StateHoliday</th>\n",
       "      <th>SchoolHoliday</th>\n",
       "      <th>StoreType</th>\n",
       "      <th>Assortment</th>\n",
       "      <th>CompetitionDistance</th>\n",
       "      <th>CompetitionOpenSinceMonth</th>\n",
       "      <th>CompetitionOpenSinceYear</th>\n",
       "      <th>Promo2</th>\n",
       "      <th>Promo2SinceWeek</th>\n",
       "      <th>Promo2SinceYear</th>\n",
       "      <th>PromoInterval</th>\n",
       "    </tr>\n",
       "  </thead>\n",
       "  <tbody>\n",
       "    <tr>\n",
       "      <th>0</th>\n",
       "      <td>2013-01-01</td>\n",
       "      <td>1115</td>\n",
       "      <td>2.0</td>\n",
       "      <td>0.0</td>\n",
       "      <td>0.0</td>\n",
       "      <td>0.0</td>\n",
       "      <td>a</td>\n",
       "      <td>1.0</td>\n",
       "      <td>d</td>\n",
       "      <td>c</td>\n",
       "      <td>5350.0</td>\n",
       "      <td>NaN</td>\n",
       "      <td>NaN</td>\n",
       "      <td>1.0</td>\n",
       "      <td>22.0</td>\n",
       "      <td>2012.0</td>\n",
       "      <td>Mar,Jun,Sept,Dec</td>\n",
       "    </tr>\n",
       "    <tr>\n",
       "      <th>1</th>\n",
       "      <td>2013-01-01</td>\n",
       "      <td>379</td>\n",
       "      <td>2.0</td>\n",
       "      <td>0.0</td>\n",
       "      <td>0.0</td>\n",
       "      <td>0.0</td>\n",
       "      <td>a</td>\n",
       "      <td>1.0</td>\n",
       "      <td>d</td>\n",
       "      <td>a</td>\n",
       "      <td>6630.0</td>\n",
       "      <td>NaN</td>\n",
       "      <td>NaN</td>\n",
       "      <td>0.0</td>\n",
       "      <td>NaN</td>\n",
       "      <td>NaN</td>\n",
       "      <td>NaN</td>\n",
       "    </tr>\n",
       "    <tr>\n",
       "      <th>2</th>\n",
       "      <td>2013-01-01</td>\n",
       "      <td>378</td>\n",
       "      <td>2.0</td>\n",
       "      <td>0.0</td>\n",
       "      <td>0.0</td>\n",
       "      <td>0.0</td>\n",
       "      <td>a</td>\n",
       "      <td>1.0</td>\n",
       "      <td>a</td>\n",
       "      <td>c</td>\n",
       "      <td>2140.0</td>\n",
       "      <td>8.0</td>\n",
       "      <td>2012.0</td>\n",
       "      <td>0.0</td>\n",
       "      <td>NaN</td>\n",
       "      <td>NaN</td>\n",
       "      <td>NaN</td>\n",
       "    </tr>\n",
       "    <tr>\n",
       "      <th>3</th>\n",
       "      <td>2013-01-01</td>\n",
       "      <td>377</td>\n",
       "      <td>2.0</td>\n",
       "      <td>0.0</td>\n",
       "      <td>0.0</td>\n",
       "      <td>0.0</td>\n",
       "      <td>a</td>\n",
       "      <td>1.0</td>\n",
       "      <td>a</td>\n",
       "      <td>c</td>\n",
       "      <td>100.0</td>\n",
       "      <td>6.0</td>\n",
       "      <td>2010.0</td>\n",
       "      <td>1.0</td>\n",
       "      <td>18.0</td>\n",
       "      <td>2010.0</td>\n",
       "      <td>Feb,May,Aug,Nov</td>\n",
       "    </tr>\n",
       "    <tr>\n",
       "      <th>4</th>\n",
       "      <td>2013-01-01</td>\n",
       "      <td>376</td>\n",
       "      <td>2.0</td>\n",
       "      <td>0.0</td>\n",
       "      <td>0.0</td>\n",
       "      <td>0.0</td>\n",
       "      <td>a</td>\n",
       "      <td>1.0</td>\n",
       "      <td>a</td>\n",
       "      <td>a</td>\n",
       "      <td>160.0</td>\n",
       "      <td>8.0</td>\n",
       "      <td>2012.0</td>\n",
       "      <td>0.0</td>\n",
       "      <td>NaN</td>\n",
       "      <td>NaN</td>\n",
       "      <td>NaN</td>\n",
       "    </tr>\n",
       "  </tbody>\n",
       "</table>\n",
       "</div>"
      ],
      "text/plain": [
       "         Date  Store  DayOfWeek  Sales  Open  Promo StateHoliday  \\\n",
       "0  2013-01-01   1115        2.0    0.0   0.0    0.0            a   \n",
       "1  2013-01-01    379        2.0    0.0   0.0    0.0            a   \n",
       "2  2013-01-01    378        2.0    0.0   0.0    0.0            a   \n",
       "3  2013-01-01    377        2.0    0.0   0.0    0.0            a   \n",
       "4  2013-01-01    376        2.0    0.0   0.0    0.0            a   \n",
       "\n",
       "   SchoolHoliday StoreType Assortment  CompetitionDistance  \\\n",
       "0            1.0         d          c               5350.0   \n",
       "1            1.0         d          a               6630.0   \n",
       "2            1.0         a          c               2140.0   \n",
       "3            1.0         a          c                100.0   \n",
       "4            1.0         a          a                160.0   \n",
       "\n",
       "   CompetitionOpenSinceMonth  CompetitionOpenSinceYear  Promo2  \\\n",
       "0                        NaN                       NaN     1.0   \n",
       "1                        NaN                       NaN     0.0   \n",
       "2                        8.0                    2012.0     0.0   \n",
       "3                        6.0                    2010.0     1.0   \n",
       "4                        8.0                    2012.0     0.0   \n",
       "\n",
       "   Promo2SinceWeek  Promo2SinceYear     PromoInterval  \n",
       "0             22.0           2012.0  Mar,Jun,Sept,Dec  \n",
       "1              NaN              NaN               NaN  \n",
       "2              NaN              NaN               NaN  \n",
       "3             18.0           2010.0   Feb,May,Aug,Nov  \n",
       "4              NaN              NaN               NaN  "
      ]
     },
     "execution_count": 16,
     "metadata": {},
     "output_type": "execute_result"
    }
   ],
   "source": [
    "merged_data.head()"
   ]
  },
  {
   "cell_type": "code",
   "execution_count": 17,
   "id": "c02b1cad",
   "metadata": {},
   "outputs": [
    {
     "data": {
      "text/plain": [
       "616026"
      ]
     },
     "execution_count": 17,
     "metadata": {},
     "output_type": "execute_result"
    }
   ],
   "source": [
    "len(merged_data)"
   ]
  },
  {
   "cell_type": "code",
   "execution_count": 18,
   "id": "9406d8df",
   "metadata": {},
   "outputs": [],
   "source": [
    "from sklearn.model_selection import train_test_split\n",
    "\n",
    "X = merged_data.loc[:, ~merged_data.columns.isin([\"Sales\"])]\n",
    "y = merged_data.loc[:, \"Sales\"]\n",
    "\n",
    "X_train, X_test, y_train, y_test = train_test_split(X, y, random_state=42, train_size=.8)"
   ]
  },
  {
   "cell_type": "code",
   "execution_count": 19,
   "id": "730dd320",
   "metadata": {
    "scrolled": true
   },
   "outputs": [
    {
     "data": {
      "text/html": [
       "<div>\n",
       "<style scoped>\n",
       "    .dataframe tbody tr th:only-of-type {\n",
       "        vertical-align: middle;\n",
       "    }\n",
       "\n",
       "    .dataframe tbody tr th {\n",
       "        vertical-align: top;\n",
       "    }\n",
       "\n",
       "    .dataframe thead th {\n",
       "        text-align: right;\n",
       "    }\n",
       "</style>\n",
       "<table border=\"1\" class=\"dataframe\">\n",
       "  <thead>\n",
       "    <tr style=\"text-align: right;\">\n",
       "      <th></th>\n",
       "      <th>Date</th>\n",
       "      <th>Store</th>\n",
       "      <th>DayOfWeek</th>\n",
       "      <th>Open</th>\n",
       "      <th>Promo</th>\n",
       "      <th>StateHoliday</th>\n",
       "      <th>SchoolHoliday</th>\n",
       "      <th>StoreType</th>\n",
       "      <th>Assortment</th>\n",
       "      <th>CompetitionDistance</th>\n",
       "      <th>CompetitionOpenSinceMonth</th>\n",
       "      <th>CompetitionOpenSinceYear</th>\n",
       "      <th>Promo2</th>\n",
       "      <th>Promo2SinceWeek</th>\n",
       "      <th>Promo2SinceYear</th>\n",
       "      <th>PromoInterval</th>\n",
       "    </tr>\n",
       "  </thead>\n",
       "  <tbody>\n",
       "    <tr>\n",
       "      <th>231958</th>\n",
       "      <td>2013-08-04</td>\n",
       "      <td>275</td>\n",
       "      <td>7.0</td>\n",
       "      <td>0.0</td>\n",
       "      <td>0.0</td>\n",
       "      <td>0</td>\n",
       "      <td>0.0</td>\n",
       "      <td>d</td>\n",
       "      <td>a</td>\n",
       "      <td>300.0</td>\n",
       "      <td>5.0</td>\n",
       "      <td>2014.0</td>\n",
       "      <td>1.0</td>\n",
       "      <td>40.0</td>\n",
       "      <td>2014.0</td>\n",
       "      <td>Jan,Apr,Jul,Oct</td>\n",
       "    </tr>\n",
       "    <tr>\n",
       "      <th>284375</th>\n",
       "      <td>2013-09-22</td>\n",
       "      <td>287</td>\n",
       "      <td>7.0</td>\n",
       "      <td>0.0</td>\n",
       "      <td>0.0</td>\n",
       "      <td>0</td>\n",
       "      <td>0.0</td>\n",
       "      <td>c</td>\n",
       "      <td>a</td>\n",
       "      <td>2740.0</td>\n",
       "      <td>5.0</td>\n",
       "      <td>2009.0</td>\n",
       "      <td>1.0</td>\n",
       "      <td>40.0</td>\n",
       "      <td>2014.0</td>\n",
       "      <td>Jan,Apr,Jul,Oct</td>\n",
       "    </tr>\n",
       "    <tr>\n",
       "      <th>476572</th>\n",
       "      <td>2014-03-19</td>\n",
       "      <td>922</td>\n",
       "      <td>3.0</td>\n",
       "      <td>1.0</td>\n",
       "      <td>1.0</td>\n",
       "      <td>0.0</td>\n",
       "      <td>0.0</td>\n",
       "      <td>d</td>\n",
       "      <td>a</td>\n",
       "      <td>2110.0</td>\n",
       "      <td>3.0</td>\n",
       "      <td>2006.0</td>\n",
       "      <td>0.0</td>\n",
       "      <td>NaN</td>\n",
       "      <td>NaN</td>\n",
       "      <td>NaN</td>\n",
       "    </tr>\n",
       "    <tr>\n",
       "      <th>594375</th>\n",
       "      <td>2014-07-08</td>\n",
       "      <td>406</td>\n",
       "      <td>2.0</td>\n",
       "      <td>1.0</td>\n",
       "      <td>0.0</td>\n",
       "      <td>0</td>\n",
       "      <td>0.0</td>\n",
       "      <td>d</td>\n",
       "      <td>c</td>\n",
       "      <td>8240.0</td>\n",
       "      <td>3.0</td>\n",
       "      <td>2001.0</td>\n",
       "      <td>1.0</td>\n",
       "      <td>10.0</td>\n",
       "      <td>2013.0</td>\n",
       "      <td>Feb,May,Aug,Nov</td>\n",
       "    </tr>\n",
       "    <tr>\n",
       "      <th>417389</th>\n",
       "      <td>2014-01-23</td>\n",
       "      <td>860</td>\n",
       "      <td>4.0</td>\n",
       "      <td>1.0</td>\n",
       "      <td>1.0</td>\n",
       "      <td>0</td>\n",
       "      <td>0.0</td>\n",
       "      <td>c</td>\n",
       "      <td>c</td>\n",
       "      <td>5980.0</td>\n",
       "      <td>2.0</td>\n",
       "      <td>2010.0</td>\n",
       "      <td>0.0</td>\n",
       "      <td>NaN</td>\n",
       "      <td>NaN</td>\n",
       "      <td>NaN</td>\n",
       "    </tr>\n",
       "  </tbody>\n",
       "</table>\n",
       "</div>"
      ],
      "text/plain": [
       "              Date  Store  DayOfWeek  Open  Promo StateHoliday  SchoolHoliday  \\\n",
       "231958  2013-08-04    275        7.0   0.0    0.0            0            0.0   \n",
       "284375  2013-09-22    287        7.0   0.0    0.0            0            0.0   \n",
       "476572  2014-03-19    922        3.0   1.0    1.0          0.0            0.0   \n",
       "594375  2014-07-08    406        2.0   1.0    0.0            0            0.0   \n",
       "417389  2014-01-23    860        4.0   1.0    1.0            0            0.0   \n",
       "\n",
       "       StoreType Assortment  CompetitionDistance  CompetitionOpenSinceMonth  \\\n",
       "231958         d          a                300.0                        5.0   \n",
       "284375         c          a               2740.0                        5.0   \n",
       "476572         d          a               2110.0                        3.0   \n",
       "594375         d          c               8240.0                        3.0   \n",
       "417389         c          c               5980.0                        2.0   \n",
       "\n",
       "        CompetitionOpenSinceYear  Promo2  Promo2SinceWeek  Promo2SinceYear  \\\n",
       "231958                    2014.0     1.0             40.0           2014.0   \n",
       "284375                    2009.0     1.0             40.0           2014.0   \n",
       "476572                    2006.0     0.0              NaN              NaN   \n",
       "594375                    2001.0     1.0             10.0           2013.0   \n",
       "417389                    2010.0     0.0              NaN              NaN   \n",
       "\n",
       "          PromoInterval  \n",
       "231958  Jan,Apr,Jul,Oct  \n",
       "284375  Jan,Apr,Jul,Oct  \n",
       "476572              NaN  \n",
       "594375  Feb,May,Aug,Nov  \n",
       "417389              NaN  "
      ]
     },
     "execution_count": 19,
     "metadata": {},
     "output_type": "execute_result"
    }
   ],
   "source": [
    "X_train.head()"
   ]
  },
  {
   "cell_type": "code",
   "execution_count": 20,
   "id": "a5ae5601",
   "metadata": {
    "scrolled": true
   },
   "outputs": [
    {
     "data": {
      "text/plain": [
       "492820"
      ]
     },
     "execution_count": 20,
     "metadata": {},
     "output_type": "execute_result"
    }
   ],
   "source": [
    "len(X_train)"
   ]
  },
  {
   "cell_type": "code",
   "execution_count": 21,
   "id": "d02fd627",
   "metadata": {},
   "outputs": [
    {
     "data": {
      "text/plain": [
       "123206"
      ]
     },
     "execution_count": 21,
     "metadata": {},
     "output_type": "execute_result"
    }
   ],
   "source": [
    "len(X_test)"
   ]
  },
  {
   "cell_type": "code",
   "execution_count": 22,
   "id": "72d7282a",
   "metadata": {},
   "outputs": [],
   "source": [
    "# from pandas_profiling import ProfileReport\n",
    "\n",
    "# profile = ProfileReport(X_train)\n",
    "# profile.to_file(output_file=\"rossman_profile_report.html\")"
   ]
  },
  {
   "cell_type": "code",
   "execution_count": 23,
   "id": "c4ca63dd",
   "metadata": {},
   "outputs": [
    {
     "data": {
      "text/plain": [
       "Index(['Date', 'Store', 'DayOfWeek', 'Open', 'Promo', 'StateHoliday',\n",
       "       'SchoolHoliday', 'StoreType', 'Assortment', 'CompetitionDistance',\n",
       "       'CompetitionOpenSinceMonth', 'CompetitionOpenSinceYear', 'Promo2',\n",
       "       'Promo2SinceWeek', 'Promo2SinceYear', 'PromoInterval'],\n",
       "      dtype='object')"
      ]
     },
     "execution_count": 23,
     "metadata": {},
     "output_type": "execute_result"
    }
   ],
   "source": [
    "X_train.columns"
   ]
  },
  {
   "cell_type": "markdown",
   "id": "dc8db653",
   "metadata": {},
   "source": [
    "Check amount of features missing per sample. If 4 or more, meaning about 50%, try dropping entire row.\n",
    "\n",
    "**Lilla**\n",
    "\n",
    "    Date -> datetime\n",
    "    split in year, month, week, day of week; drop the original\n",
    "    make sure weekday matches weekday from date; check for missing values and impute where necessary\n",
    "    encode all except year with sine+cosine! https://ianlondon.github.io/blog/encoding-cyclical-features-24hour-time/\n",
    "\n",
    "    DayOfWeek\n",
    "    drop, replace with values derived from Date\n",
    "\n",
    "    CompetitionDistance -> float\n",
    "    Try: median imputation\n",
    "    Try also: KNNImputer (sklearn)\n",
    "\n",
    "**Corstiaen**\n",
    "\n",
    "    Store\n",
    "    3 options:\n",
    "    * drop\n",
    "    * target encoding -> float\n",
    "    * frequency encoding -> int\n",
    "    test model to see what works best\n",
    "\n",
    "    Open -> one-hot encode\n",
    "    3 categories, meaning 2 one-hot columns\n",
    "    \n",
    "    Promo -> one-hot encode\n",
    "    3 categories, meaning 2 one-hot columns\n",
    "    \n",
    "    StateHoliday -> one-hot encode\n",
    "    5 categories, meaning 4 one-hot columns\n",
    "    turn 0.0 into 0\n",
    "    ['0', 0.0, 'c', nan, 'a', 'b']\n",
    "    \n",
    "    SchoolHoliday -> one-hot encode\n",
    "    3 categories, meaning 2 one-hot columns\n",
    "    \n",
    "    StoreType -> one-hot encode\n",
    "    5 categories, meaning 4 one-hot columns\n",
    "    \n",
    "    Assortment -> one-hot encode\n",
    "    4 categories, meaning 3 one-hot columns\n",
    "    \n",
    "    \n",
    "**SAM**\n",
    "\n",
    "    CompetitionOpenSinceMonth -> new int or float\n",
    "    CompetitionOpenSinceYear -> new int or float\n",
    "    Merge and create new feature, giving temporal distance from 2015-07-31 or 2015-08-31\n",
    "    potentially use datetime for these calculations?\n",
    "    Try: median imputation\n",
    "    Try also: KNNImputer (sklearn)\n",
    "    \n",
    "    Promo2 -> one-hot encode\n",
    "    3 categories including NaN, 2 columns\n",
    "    make sure all missing in other Promo2 features are described by these three categories!\n",
    "    \n",
    "    Promo2SinceWeek -> new int or float\n",
    "    Promo2SinceYear -> new int or float\n",
    "    Merge and create new feature, giving temporal distance from 2015-07-31 or 2015-08-31\n",
    "    potentially use datetime for these calculations?\n",
    "    imputation with any value, this is caught by the boolean from Promo2 feature\n",
    "    \n",
    "    PromoInterval -> one-hot encode\n",
    "    3 categories, NaNs can be added to the mode category, these will again be described by the Promo2 feature\n",
    "    "
   ]
  },
  {
   "cell_type": "code",
   "execution_count": 24,
   "id": "366fe307",
   "metadata": {},
   "outputs": [
    {
     "data": {
      "text/plain": [
       "0      12819\n",
       "379      469\n",
       "195      466\n",
       "465      464\n",
       "939      461\n",
       "       ...  \n",
       "977      387\n",
       "275      385\n",
       "46       383\n",
       "430      381\n",
       "279      380\n",
       "Name: Store, Length: 1116, dtype: int64"
      ]
     },
     "execution_count": 24,
     "metadata": {},
     "output_type": "execute_result"
    }
   ],
   "source": [
    "X_train.loc[:, \"Store\"].value_counts()"
   ]
  },
  {
   "cell_type": "code",
   "execution_count": null,
   "id": "85891e96",
   "metadata": {},
   "outputs": [],
   "source": []
  },
  {
   "cell_type": "code",
   "execution_count": null,
   "id": "a258d5f8",
   "metadata": {},
   "outputs": [],
   "source": []
  },
  {
   "cell_type": "code",
   "execution_count": 25,
   "id": "52ce86c0",
   "metadata": {
    "scrolled": true
   },
<<<<<<< Updated upstream
   "outputs": [
    {
     "data": {
      "text/plain": [
       "array([ 0.,  1., nan])"
      ]
     },
     "execution_count": 25,
     "metadata": {},
     "output_type": "execute_result"
    }
   ],
||||||| constructed merge base
   "outputs": [],
   "source": [
    "X_train.loc[:, \"SchoolHoliday\"].unique()"
   ]
  },
  {
   "cell_type": "code",
   "execution_count": null,
   "id": "79b741a7",
   "metadata": {},
   "outputs": [],
   "source": [
    "def date_cleaning(X_train):\n",
    "    \"\"\"this function splits the Date column into Year, Month, Day of the week and adds it's sin/cos features\n",
    "    \"\"\"\n",
    "    # change to datetime\n",
    "    X_train.loc[:,\"Date\"] = pd.to_datetime(X_train.loc[:,\"Date\"])\n",
    "    \n",
    "    # helper function\n",
    "    def encode(X_train, col, max_val):\n",
    "        X_train[col + '_sin'] = np.sin(2 * np.pi * X_train[col]/max_val)\n",
    "        X_train[col + '_cos'] = np.cos(2 * np.pi * X_train[col]/max_val)\n",
    "        return X_train\n",
    "    \n",
    "    # datetime split in year, month, week, day of week and adding sin/cos\n",
    "    X_train[\"Year\"] = pd.DatetimeIndex(X_train.loc[:,\"Date\"]).year\n",
    "    X_train[\"Month\"] = pd.DatetimeIndex(X_train.loc[:,\"Date\"]).month\n",
    "    X_train = encode(X_train, \"Month\", 12)\n",
    "    X_train[\"Day_of_the_week\"] = X_train.loc[:,\"Date\"].dt.dayofweek\n",
    "    X_train = encode(X_train, \"Day_of_the_week\", 365)\n",
    "\n",
    "    #ready to drop DayofWeek and Date\n",
    "    drop_columns = [\"DayOfWeek\", \"Date\"]\n",
    "    X_train.drop(drop_columns, axis=1, inplace=True)\n",
    "    \n",
    "    return X_train"
   ]
  },
  {
   "cell_type": "code",
   "execution_count": null,
   "id": "e2718230",
   "metadata": {},
   "outputs": [],
   "source": [
    "X_train = date_cleaning(X_train)"
   ]
  },
  {
   "cell_type": "code",
   "execution_count": null,
   "id": "89a5ebbc",
   "metadata": {
    "scrolled": true
   },
   "outputs": [],
   "source": [
    "X_train"
   ]
  },
  {
   "cell_type": "code",
   "execution_count": null,
   "id": "3ca1e128",
   "metadata": {},
   "outputs": [],
   "source": [
    "X_train.StateHoliday.value_counts()"
   ]
  },
  {
   "cell_type": "code",
   "execution_count": null,
   "id": "402d766d",
   "metadata": {},
   "outputs": [],
   "source": []
  },
  {
   "cell_type": "code",
   "execution_count": null,
   "id": "330a4593",
   "metadata": {
    "scrolled": true
   },
   "outputs": [],
   "source": [
    "#X_train['StateHoliday'] = X_train['StateHoliday'].map({0.0: 0})\n",
    "#X_train.StateHoliday.replace(to_replace=dict(0.0==0), inplace=True)\n",
    "X_train.StateHoliday.replace([0.0], [0], inplace=True)\n",
    "                \n",
    "# change to int\n",
    "X_train['StateHoliday'] = X_train['StateHoliday'].astype(int)"
   ]
  },
  {
   "cell_type": "code",
   "execution_count": null,
   "id": "a8d3ba84",
   "metadata": {
    "scrolled": true
   },
   "outputs": [],
   "source": [
    "X_train.loc[:, \"StateHoliday\"].value_counts()"
   ]
  },
  {
   "cell_type": "code",
   "execution_count": null,
   "id": "a705cf8d",
   "metadata": {},
   "outputs": [],
   "source": [
    "X_train[\"StateHoliday\"].dtype()"
   ]
  },
  {
   "cell_type": "code",
   "execution_count": null,
   "id": "e5d691e6",
   "metadata": {},
   "outputs": [],
   "source": [
    "# CompetitionDistance -> float and median imputation\n",
    "X_train.loc[:, \"CompetitionDistance\"] = X_train.loc[:, \"CompetitionDistance\"].astype(float).fillna((X_train.loc[:, \"CompetitionDistance\"].median()))"
   ]
  },
  {
   "cell_type": "markdown",
   "id": "d5444df5",
   "metadata": {},
   "source": [
    "Open -> one-hot encode\n",
    "3 categories, meaning 2 one-hot columns\n",
    "\n",
    "Promo -> one-hot encode\n",
    "3 categories, meaning 2 one-hot columns\n",
    "\n",
    "StateHoliday -> one-hot encode\n",
    "5 categories, meaning 4 one-hot columns\n",
    "turn 0.0 into 0\n",
    "['0', 0.0, 'c', nan, 'a', 'b']\n",
    "\n",
    "SchoolHoliday -> one-hot encode\n",
    "3 categories, meaning 2 one-hot columns\n",
    "\n",
    "StoreType -> one-hot encode\n",
    "5 categories, meaning 4 one-hot columns\n",
    "\n",
    "Assortment -> one-hot encode\n",
    "4 categories, meaning 3 one-hot columns"
   ]
  },
  {
   "cell_type": "code",
   "execution_count": null,
   "id": "368e9ab5",
   "metadata": {},
   "outputs": [],
=======
   "outputs": [],
   "source": [
    "X_train.loc[:, \"SchoolHoliday\"].unique()"
   ]
  },
  {
   "cell_type": "code",
   "execution_count": null,
   "id": "d16f0323",
   "metadata": {},
   "outputs": [],
   "source": [
    "def date_cleaning(X_train):\n",
    "    \"\"\"this function splits the Date column into Year, Month, Day of the week and adds it's sin/cos features\n",
    "    \"\"\"\n",
    "    # change to datetime\n",
    "    X_train.loc[:,\"Date\"] = pd.to_datetime(X_train.loc[:,\"Date\"])\n",
    "    \n",
    "    # helper function\n",
    "    def encode(X_train, col, max_val):\n",
    "        X_train[col + '_sin'] = np.sin(2 * np.pi * X_train[col]/max_val)\n",
    "        X_train[col + '_cos'] = np.cos(2 * np.pi * X_train[col]/max_val)\n",
    "        return X_train\n",
    "    \n",
    "    # datetime split in year, month, week, day of week and adding sin/cos\n",
    "    X_train[\"Year\"] = pd.DatetimeIndex(X_train.loc[:,\"Date\"]).year\n",
    "    X_train[\"Month\"] = pd.DatetimeIndex(X_train.loc[:,\"Date\"]).month\n",
    "    X_train = encode(X_train, \"Month\", 12)\n",
    "    X_train[\"Day_of_the_week\"] = X_train.loc[:,\"Date\"].dt.dayofweek\n",
    "    X_train = encode(X_train, \"Day_of_the_week\", 365)\n",
    "\n",
    "    #ready to drop DayofWeek and Date\n",
    "    drop_columns = [\"DayOfWeek\", \"Date\"]\n",
    "    X_train.drop(drop_columns, axis=1, inplace=True)\n",
    "    \n",
    "    return X_train"
   ]
  },
  {
   "cell_type": "code",
   "execution_count": null,
   "id": "cfb92dcc",
   "metadata": {},
   "outputs": [],
   "source": [
    "X_train = date_cleaning(X_train)"
   ]
  },
  {
   "cell_type": "code",
   "execution_count": null,
   "id": "7fd662e8",
   "metadata": {
    "scrolled": true
   },
   "outputs": [],
   "source": [
    "X_train"
   ]
  },
  {
   "cell_type": "code",
   "execution_count": null,
   "id": "08d07bbb",
   "metadata": {},
   "outputs": [],
   "source": [
    "X_train.StateHoliday.value_counts()"
   ]
  },
  {
   "cell_type": "code",
   "execution_count": null,
   "id": "83909fc8",
   "metadata": {},
   "outputs": [],
   "source": []
  },
  {
   "cell_type": "code",
   "execution_count": null,
   "id": "7f123676",
   "metadata": {
    "scrolled": true
   },
   "outputs": [],
   "source": [
    "#X_train['StateHoliday'] = X_train['StateHoliday'].map({0.0: 0})\n",
    "#X_train.StateHoliday.replace(to_replace=dict(0.0==0), inplace=True)\n",
    "X_train.StateHoliday.replace([0.0], [0], inplace=True)\n",
    "                \n",
    "# change to int\n",
    "X_train['StateHoliday'] = X_train['StateHoliday'].astype(int)"
   ]
  },
  {
   "cell_type": "code",
   "execution_count": null,
   "id": "a5229efd",
   "metadata": {
    "scrolled": true
   },
   "outputs": [],
   "source": [
    "X_train.loc[:, \"StateHoliday\"].value_counts()"
   ]
  },
  {
   "cell_type": "code",
   "execution_count": null,
   "id": "33eacea5",
   "metadata": {},
   "outputs": [],
   "source": [
    "X_train[\"StateHoliday\"].dtype()"
   ]
  },
  {
   "cell_type": "code",
   "execution_count": null,
   "id": "d738b708",
   "metadata": {},
   "outputs": [],
   "source": [
    "# CompetitionDistance -> float and median imputation\n",
    "X_train.loc[:, \"CompetitionDistance\"] = X_train.loc[:, \"CompetitionDistance\"].astype(float).fillna((X_train.loc[:, \"CompetitionDistance\"].median()))"
   ]
  },
  {
   "cell_type": "markdown",
   "id": "b789273b",
   "metadata": {},
   "source": [
    "Open -> one-hot encode\n",
    "3 categories, meaning 2 one-hot columns\n",
    "\n",
    "Promo -> one-hot encode\n",
    "3 categories, meaning 2 one-hot columns\n",
    "\n",
    "StateHoliday -> one-hot encode\n",
    "5 categories, meaning 4 one-hot columns\n",
    "turn 0.0 into 0\n",
    "['0', 0.0, 'c', nan, 'a', 'b']\n",
    "\n",
    "SchoolHoliday -> one-hot encode\n",
    "3 categories, meaning 2 one-hot columns\n",
    "\n",
    "StoreType -> one-hot encode\n",
    "5 categories, meaning 4 one-hot columns\n",
    "\n",
    "Assortment -> one-hot encode\n",
    "4 categories, meaning 3 one-hot columns"
   ]
  },
  {
   "cell_type": "code",
   "execution_count": null,
   "id": "935971be",
   "metadata": {},
   "outputs": [],
>>>>>>> Stashed changes
   "source": [
    "X_train.loc[:, \"SchoolHoliday\"].unique()"
   ]
  },
  {
   "cell_type": "code",
<<<<<<< Updated upstream
   "execution_count": 26,
   "id": "d64f5385",
||||||| constructed merge base
   "execution_count": null,
   "id": "6f0445b8",
   "metadata": {},
   "outputs": [],
   "source": []
  },
  {
   "cell_type": "code",
   "execution_count": null,
   "id": "e527d501",
=======
   "execution_count": null,
   "id": "da453bcb",
   "metadata": {},
   "outputs": [],
   "source": []
  },
  {
   "cell_type": "code",
   "execution_count": null,
   "id": "de4c7d04",
>>>>>>> Stashed changes
   "metadata": {},
   "outputs": [],
   "source": [
    "def date_cleaning(X_train):\n",
    "    \"\"\"this function splits the Date column into Year, Month, Day of the week and adds it's sin/cos features\n",
    "    \"\"\"\n",
    "    # change to datetime\n",
    "    X_train.loc[:,\"Date\"] = pd.to_datetime(X_train.loc[:,\"Date\"])\n",
    "    \n",
    "    # helper function\n",
    "    def encode(X_train, col, max_val):\n",
    "        X_train[col + '_sin'] = np.sin(2 * np.pi * X_train[col]/max_val)\n",
    "        X_train[col + '_cos'] = np.cos(2 * np.pi * X_train[col]/max_val)\n",
    "        return X_train\n",
    "    \n",
    "    # datetime split in year, month, week, day of week and adding sin/cos\n",
    "    X_train[\"Year\"] = pd.DatetimeIndex(X_train.loc[:,\"Date\"]).year\n",
    "    X_train[\"Month\"] = pd.DatetimeIndex(X_train.loc[:,\"Date\"]).month\n",
    "    X_train = encode(X_train, \"Month\", 12)\n",
    "    X_train[\"Day_of_the_week\"] = X_train.loc[:,\"Date\"].dt.dayofweek\n",
    "    X_train = encode(X_train, \"Day_of_the_week\", 365)\n",
    "\n",
    "    #ready to drop DayofWeek and Date\n",
    "    drop_columns = [\"DayOfWeek\", \"Date\"]\n",
    "    X_train.drop(drop_columns, axis=1, inplace=True)\n",
    "    \n",
    "    return X_train"
   ]
  },
  {
   "cell_type": "code",
<<<<<<< Updated upstream
   "execution_count": 27,
   "id": "d762fb89",
||||||| constructed merge base
   "execution_count": null,
   "id": "215b2364",
=======
   "execution_count": null,
   "id": "b7117bec",
>>>>>>> Stashed changes
   "metadata": {},
   "outputs": [
    {
     "name": "stderr",
     "output_type": "stream",
     "text": [
      "/opt/anaconda3/lib/python3.8/site-packages/pandas/core/indexing.py:1773: SettingWithCopyWarning: \n",
      "A value is trying to be set on a copy of a slice from a DataFrame.\n",
      "Try using .loc[row_indexer,col_indexer] = value instead\n",
      "\n",
      "See the caveats in the documentation: https://pandas.pydata.org/pandas-docs/stable/user_guide/indexing.html#returning-a-view-versus-a-copy\n",
      "  self._setitem_single_column(ilocs[0], value, pi)\n",
      "/var/folders/4v/cg5vs6j958l03gj1_w2prrhc0000gn/T/ipykernel_25955/3241304215.py:14: SettingWithCopyWarning: \n",
      "A value is trying to be set on a copy of a slice from a DataFrame.\n",
      "Try using .loc[row_indexer,col_indexer] = value instead\n",
      "\n",
      "See the caveats in the documentation: https://pandas.pydata.org/pandas-docs/stable/user_guide/indexing.html#returning-a-view-versus-a-copy\n",
      "  X_train[\"Year\"] = pd.DatetimeIndex(X_train.loc[:,\"Date\"]).year\n",
      "/var/folders/4v/cg5vs6j958l03gj1_w2prrhc0000gn/T/ipykernel_25955/3241304215.py:15: SettingWithCopyWarning: \n",
      "A value is trying to be set on a copy of a slice from a DataFrame.\n",
      "Try using .loc[row_indexer,col_indexer] = value instead\n",
      "\n",
      "See the caveats in the documentation: https://pandas.pydata.org/pandas-docs/stable/user_guide/indexing.html#returning-a-view-versus-a-copy\n",
      "  X_train[\"Month\"] = pd.DatetimeIndex(X_train.loc[:,\"Date\"]).month\n",
      "/var/folders/4v/cg5vs6j958l03gj1_w2prrhc0000gn/T/ipykernel_25955/3241304215.py:9: SettingWithCopyWarning: \n",
      "A value is trying to be set on a copy of a slice from a DataFrame.\n",
      "Try using .loc[row_indexer,col_indexer] = value instead\n",
      "\n",
      "See the caveats in the documentation: https://pandas.pydata.org/pandas-docs/stable/user_guide/indexing.html#returning-a-view-versus-a-copy\n",
      "  X_train[col + '_sin'] = np.sin(2 * np.pi * X_train[col]/max_val)\n",
      "/var/folders/4v/cg5vs6j958l03gj1_w2prrhc0000gn/T/ipykernel_25955/3241304215.py:10: SettingWithCopyWarning: \n",
      "A value is trying to be set on a copy of a slice from a DataFrame.\n",
      "Try using .loc[row_indexer,col_indexer] = value instead\n",
      "\n",
      "See the caveats in the documentation: https://pandas.pydata.org/pandas-docs/stable/user_guide/indexing.html#returning-a-view-versus-a-copy\n",
      "  X_train[col + '_cos'] = np.cos(2 * np.pi * X_train[col]/max_val)\n",
      "/var/folders/4v/cg5vs6j958l03gj1_w2prrhc0000gn/T/ipykernel_25955/3241304215.py:17: SettingWithCopyWarning: \n",
      "A value is trying to be set on a copy of a slice from a DataFrame.\n",
      "Try using .loc[row_indexer,col_indexer] = value instead\n",
      "\n",
      "See the caveats in the documentation: https://pandas.pydata.org/pandas-docs/stable/user_guide/indexing.html#returning-a-view-versus-a-copy\n",
      "  X_train[\"Day_of_the_week\"] = X_train.loc[:,\"Date\"].dt.dayofweek\n",
      "/opt/anaconda3/lib/python3.8/site-packages/pandas/core/frame.py:4906: SettingWithCopyWarning: \n",
      "A value is trying to be set on a copy of a slice from a DataFrame\n",
      "\n",
      "See the caveats in the documentation: https://pandas.pydata.org/pandas-docs/stable/user_guide/indexing.html#returning-a-view-versus-a-copy\n",
      "  return super().drop(\n"
     ]
    }
   ],
   "source": [
    "X_train = date_cleaning(X_train)"
   ]
  },
  {
   "cell_type": "code",
<<<<<<< Updated upstream
   "execution_count": 28,
   "id": "1e8d321d",
||||||| constructed merge base
   "execution_count": null,
   "id": "7bb964a1",
=======
   "execution_count": null,
   "id": "7326171a",
>>>>>>> Stashed changes
   "metadata": {},
   "outputs": [
    {
     "data": {
      "text/html": [
       "<div>\n",
       "<style scoped>\n",
       "    .dataframe tbody tr th:only-of-type {\n",
       "        vertical-align: middle;\n",
       "    }\n",
       "\n",
       "    .dataframe tbody tr th {\n",
       "        vertical-align: top;\n",
       "    }\n",
       "\n",
       "    .dataframe thead th {\n",
       "        text-align: right;\n",
       "    }\n",
       "</style>\n",
       "<table border=\"1\" class=\"dataframe\">\n",
       "  <thead>\n",
       "    <tr style=\"text-align: right;\">\n",
       "      <th></th>\n",
       "      <th>Store</th>\n",
       "      <th>Open</th>\n",
       "      <th>Promo</th>\n",
       "      <th>StateHoliday</th>\n",
       "      <th>SchoolHoliday</th>\n",
       "      <th>StoreType</th>\n",
       "      <th>Assortment</th>\n",
       "      <th>CompetitionDistance</th>\n",
       "      <th>CompetitionOpenSinceMonth</th>\n",
       "      <th>CompetitionOpenSinceYear</th>\n",
       "      <th>...</th>\n",
       "      <th>Promo2SinceWeek</th>\n",
       "      <th>Promo2SinceYear</th>\n",
       "      <th>PromoInterval</th>\n",
       "      <th>Year</th>\n",
       "      <th>Month</th>\n",
       "      <th>Month_sin</th>\n",
       "      <th>Month_cos</th>\n",
       "      <th>Day_of_the_week</th>\n",
       "      <th>Day_of_the_week_sin</th>\n",
       "      <th>Day_of_the_week_cos</th>\n",
       "    </tr>\n",
       "  </thead>\n",
       "  <tbody>\n",
       "    <tr>\n",
       "      <th>231958</th>\n",
       "      <td>275</td>\n",
       "      <td>0.0</td>\n",
       "      <td>0.0</td>\n",
       "      <td>0</td>\n",
       "      <td>0.0</td>\n",
       "      <td>d</td>\n",
       "      <td>a</td>\n",
       "      <td>300.0</td>\n",
       "      <td>5.0</td>\n",
       "      <td>2014.0</td>\n",
       "      <td>...</td>\n",
       "      <td>40.0</td>\n",
       "      <td>2014.0</td>\n",
       "      <td>Jan,Apr,Jul,Oct</td>\n",
       "      <td>2013</td>\n",
       "      <td>8</td>\n",
       "      <td>-8.660254e-01</td>\n",
       "      <td>-5.000000e-01</td>\n",
       "      <td>6</td>\n",
       "      <td>0.103102</td>\n",
       "      <td>0.994671</td>\n",
       "    </tr>\n",
       "    <tr>\n",
       "      <th>284375</th>\n",
       "      <td>287</td>\n",
       "      <td>0.0</td>\n",
       "      <td>0.0</td>\n",
       "      <td>0</td>\n",
       "      <td>0.0</td>\n",
       "      <td>c</td>\n",
       "      <td>a</td>\n",
       "      <td>2740.0</td>\n",
       "      <td>5.0</td>\n",
       "      <td>2009.0</td>\n",
       "      <td>...</td>\n",
       "      <td>40.0</td>\n",
       "      <td>2014.0</td>\n",
       "      <td>Jan,Apr,Jul,Oct</td>\n",
       "      <td>2013</td>\n",
       "      <td>9</td>\n",
       "      <td>-1.000000e+00</td>\n",
       "      <td>-1.836970e-16</td>\n",
       "      <td>6</td>\n",
       "      <td>0.103102</td>\n",
       "      <td>0.994671</td>\n",
       "    </tr>\n",
       "    <tr>\n",
       "      <th>476572</th>\n",
       "      <td>922</td>\n",
       "      <td>1.0</td>\n",
       "      <td>1.0</td>\n",
       "      <td>0.0</td>\n",
       "      <td>0.0</td>\n",
       "      <td>d</td>\n",
       "      <td>a</td>\n",
       "      <td>2110.0</td>\n",
       "      <td>3.0</td>\n",
       "      <td>2006.0</td>\n",
       "      <td>...</td>\n",
       "      <td>NaN</td>\n",
       "      <td>NaN</td>\n",
       "      <td>NaN</td>\n",
       "      <td>2014</td>\n",
       "      <td>3</td>\n",
       "      <td>1.000000e+00</td>\n",
       "      <td>6.123234e-17</td>\n",
       "      <td>2</td>\n",
       "      <td>0.034422</td>\n",
       "      <td>0.999407</td>\n",
       "    </tr>\n",
       "    <tr>\n",
       "      <th>594375</th>\n",
       "      <td>406</td>\n",
       "      <td>1.0</td>\n",
       "      <td>0.0</td>\n",
       "      <td>0</td>\n",
       "      <td>0.0</td>\n",
       "      <td>d</td>\n",
       "      <td>c</td>\n",
       "      <td>8240.0</td>\n",
       "      <td>3.0</td>\n",
       "      <td>2001.0</td>\n",
       "      <td>...</td>\n",
       "      <td>10.0</td>\n",
       "      <td>2013.0</td>\n",
       "      <td>Feb,May,Aug,Nov</td>\n",
       "      <td>2014</td>\n",
       "      <td>7</td>\n",
       "      <td>-5.000000e-01</td>\n",
       "      <td>-8.660254e-01</td>\n",
       "      <td>1</td>\n",
       "      <td>0.017213</td>\n",
       "      <td>0.999852</td>\n",
       "    </tr>\n",
       "    <tr>\n",
       "      <th>417389</th>\n",
       "      <td>860</td>\n",
       "      <td>1.0</td>\n",
       "      <td>1.0</td>\n",
       "      <td>0</td>\n",
       "      <td>0.0</td>\n",
       "      <td>c</td>\n",
       "      <td>c</td>\n",
       "      <td>5980.0</td>\n",
       "      <td>2.0</td>\n",
       "      <td>2010.0</td>\n",
       "      <td>...</td>\n",
       "      <td>NaN</td>\n",
       "      <td>NaN</td>\n",
       "      <td>NaN</td>\n",
       "      <td>2014</td>\n",
       "      <td>1</td>\n",
       "      <td>5.000000e-01</td>\n",
       "      <td>8.660254e-01</td>\n",
       "      <td>3</td>\n",
       "      <td>0.051620</td>\n",
       "      <td>0.998667</td>\n",
       "    </tr>\n",
       "    <tr>\n",
       "      <th>...</th>\n",
       "      <td>...</td>\n",
       "      <td>...</td>\n",
       "      <td>...</td>\n",
       "      <td>...</td>\n",
       "      <td>...</td>\n",
       "      <td>...</td>\n",
       "      <td>...</td>\n",
       "      <td>...</td>\n",
       "      <td>...</td>\n",
       "      <td>...</td>\n",
       "      <td>...</td>\n",
       "      <td>...</td>\n",
       "      <td>...</td>\n",
       "      <td>...</td>\n",
       "      <td>...</td>\n",
       "      <td>...</td>\n",
       "      <td>...</td>\n",
       "      <td>...</td>\n",
       "      <td>...</td>\n",
       "      <td>...</td>\n",
       "      <td>...</td>\n",
       "    </tr>\n",
       "    <tr>\n",
       "      <th>110268</th>\n",
       "      <td>242</td>\n",
       "      <td>1.0</td>\n",
       "      <td>0.0</td>\n",
       "      <td>0</td>\n",
       "      <td>0.0</td>\n",
       "      <td>d</td>\n",
       "      <td>a</td>\n",
       "      <td>6880.0</td>\n",
       "      <td>9.0</td>\n",
       "      <td>2001.0</td>\n",
       "      <td>...</td>\n",
       "      <td>14.0</td>\n",
       "      <td>2011.0</td>\n",
       "      <td>Jan,Apr,Jul,Oct</td>\n",
       "      <td>2013</td>\n",
       "      <td>4</td>\n",
       "      <td>8.660254e-01</td>\n",
       "      <td>-5.000000e-01</td>\n",
       "      <td>5</td>\n",
       "      <td>0.085965</td>\n",
       "      <td>0.996298</td>\n",
       "    </tr>\n",
       "    <tr>\n",
       "      <th>259178</th>\n",
       "      <td>979</td>\n",
       "      <td>1.0</td>\n",
       "      <td>1.0</td>\n",
       "      <td>0</td>\n",
       "      <td>0.0</td>\n",
       "      <td>a</td>\n",
       "      <td>c</td>\n",
       "      <td>2270.0</td>\n",
       "      <td>11.0</td>\n",
       "      <td>2005.0</td>\n",
       "      <td>...</td>\n",
       "      <td>14.0</td>\n",
       "      <td>2011.0</td>\n",
       "      <td>Jan,Apr,Jul,Oct</td>\n",
       "      <td>2013</td>\n",
       "      <td>8</td>\n",
       "      <td>-8.660254e-01</td>\n",
       "      <td>-5.000000e-01</td>\n",
       "      <td>3</td>\n",
       "      <td>0.051620</td>\n",
       "      <td>0.998667</td>\n",
       "    </tr>\n",
       "    <tr>\n",
       "      <th>365838</th>\n",
       "      <td>980</td>\n",
       "      <td>1.0</td>\n",
       "      <td>1.0</td>\n",
       "      <td>0</td>\n",
       "      <td>0.0</td>\n",
       "      <td>a</td>\n",
       "      <td>a</td>\n",
       "      <td>4420.0</td>\n",
       "      <td>9.0</td>\n",
       "      <td>2005.0</td>\n",
       "      <td>...</td>\n",
       "      <td>NaN</td>\n",
       "      <td>NaN</td>\n",
       "      <td>NaN</td>\n",
       "      <td>2013</td>\n",
       "      <td>12</td>\n",
       "      <td>-2.449294e-16</td>\n",
       "      <td>1.000000e+00</td>\n",
       "      <td>4</td>\n",
       "      <td>0.068802</td>\n",
       "      <td>0.997630</td>\n",
       "    </tr>\n",
       "    <tr>\n",
       "      <th>131932</th>\n",
       "      <td>0</td>\n",
       "      <td>1.0</td>\n",
       "      <td>1.0</td>\n",
       "      <td>0</td>\n",
       "      <td>0.0</td>\n",
       "      <td>NaN</td>\n",
       "      <td>NaN</td>\n",
       "      <td>NaN</td>\n",
       "      <td>NaN</td>\n",
       "      <td>NaN</td>\n",
       "      <td>...</td>\n",
       "      <td>NaN</td>\n",
       "      <td>NaN</td>\n",
       "      <td>NaN</td>\n",
       "      <td>2013</td>\n",
       "      <td>5</td>\n",
       "      <td>5.000000e-01</td>\n",
       "      <td>-8.660254e-01</td>\n",
       "      <td>4</td>\n",
       "      <td>0.068802</td>\n",
       "      <td>0.997630</td>\n",
       "    </tr>\n",
       "    <tr>\n",
       "      <th>121958</th>\n",
       "      <td>80</td>\n",
       "      <td>1.0</td>\n",
       "      <td>1.0</td>\n",
       "      <td>0</td>\n",
       "      <td>0.0</td>\n",
       "      <td>d</td>\n",
       "      <td>a</td>\n",
       "      <td>7910.0</td>\n",
       "      <td>NaN</td>\n",
       "      <td>NaN</td>\n",
       "      <td>...</td>\n",
       "      <td>NaN</td>\n",
       "      <td>NaN</td>\n",
       "      <td>NaN</td>\n",
       "      <td>2013</td>\n",
       "      <td>4</td>\n",
       "      <td>8.660254e-01</td>\n",
       "      <td>-5.000000e-01</td>\n",
       "      <td>2</td>\n",
       "      <td>0.034422</td>\n",
       "      <td>0.999407</td>\n",
       "    </tr>\n",
       "  </tbody>\n",
       "</table>\n",
       "<p>492820 rows × 21 columns</p>\n",
       "</div>"
      ],
      "text/plain": [
       "        Store  Open  Promo StateHoliday  SchoolHoliday StoreType Assortment  \\\n",
       "231958    275   0.0    0.0            0            0.0         d          a   \n",
       "284375    287   0.0    0.0            0            0.0         c          a   \n",
       "476572    922   1.0    1.0          0.0            0.0         d          a   \n",
       "594375    406   1.0    0.0            0            0.0         d          c   \n",
       "417389    860   1.0    1.0            0            0.0         c          c   \n",
       "...       ...   ...    ...          ...            ...       ...        ...   \n",
       "110268    242   1.0    0.0            0            0.0         d          a   \n",
       "259178    979   1.0    1.0            0            0.0         a          c   \n",
       "365838    980   1.0    1.0            0            0.0         a          a   \n",
       "131932      0   1.0    1.0            0            0.0       NaN        NaN   \n",
       "121958     80   1.0    1.0            0            0.0         d          a   \n",
       "\n",
       "        CompetitionDistance  CompetitionOpenSinceMonth  \\\n",
       "231958                300.0                        5.0   \n",
       "284375               2740.0                        5.0   \n",
       "476572               2110.0                        3.0   \n",
       "594375               8240.0                        3.0   \n",
       "417389               5980.0                        2.0   \n",
       "...                     ...                        ...   \n",
       "110268               6880.0                        9.0   \n",
       "259178               2270.0                       11.0   \n",
       "365838               4420.0                        9.0   \n",
       "131932                  NaN                        NaN   \n",
       "121958               7910.0                        NaN   \n",
       "\n",
       "        CompetitionOpenSinceYear  ...  Promo2SinceWeek  Promo2SinceYear  \\\n",
       "231958                    2014.0  ...             40.0           2014.0   \n",
       "284375                    2009.0  ...             40.0           2014.0   \n",
       "476572                    2006.0  ...              NaN              NaN   \n",
       "594375                    2001.0  ...             10.0           2013.0   \n",
       "417389                    2010.0  ...              NaN              NaN   \n",
       "...                          ...  ...              ...              ...   \n",
       "110268                    2001.0  ...             14.0           2011.0   \n",
       "259178                    2005.0  ...             14.0           2011.0   \n",
       "365838                    2005.0  ...              NaN              NaN   \n",
       "131932                       NaN  ...              NaN              NaN   \n",
       "121958                       NaN  ...              NaN              NaN   \n",
       "\n",
       "          PromoInterval  Year  Month     Month_sin     Month_cos  \\\n",
       "231958  Jan,Apr,Jul,Oct  2013      8 -8.660254e-01 -5.000000e-01   \n",
       "284375  Jan,Apr,Jul,Oct  2013      9 -1.000000e+00 -1.836970e-16   \n",
       "476572              NaN  2014      3  1.000000e+00  6.123234e-17   \n",
       "594375  Feb,May,Aug,Nov  2014      7 -5.000000e-01 -8.660254e-01   \n",
       "417389              NaN  2014      1  5.000000e-01  8.660254e-01   \n",
       "...                 ...   ...    ...           ...           ...   \n",
       "110268  Jan,Apr,Jul,Oct  2013      4  8.660254e-01 -5.000000e-01   \n",
       "259178  Jan,Apr,Jul,Oct  2013      8 -8.660254e-01 -5.000000e-01   \n",
       "365838              NaN  2013     12 -2.449294e-16  1.000000e+00   \n",
       "131932              NaN  2013      5  5.000000e-01 -8.660254e-01   \n",
       "121958              NaN  2013      4  8.660254e-01 -5.000000e-01   \n",
       "\n",
       "        Day_of_the_week  Day_of_the_week_sin  Day_of_the_week_cos  \n",
       "231958                6             0.103102             0.994671  \n",
       "284375                6             0.103102             0.994671  \n",
       "476572                2             0.034422             0.999407  \n",
       "594375                1             0.017213             0.999852  \n",
       "417389                3             0.051620             0.998667  \n",
       "...                 ...                  ...                  ...  \n",
       "110268                5             0.085965             0.996298  \n",
       "259178                3             0.051620             0.998667  \n",
       "365838                4             0.068802             0.997630  \n",
       "131932                4             0.068802             0.997630  \n",
       "121958                2             0.034422             0.999407  \n",
       "\n",
       "[492820 rows x 21 columns]"
      ]
     },
     "execution_count": 28,
     "metadata": {},
     "output_type": "execute_result"
    }
   ],
   "source": [
    "X_train"
   ]
  },
  {
   "cell_type": "code",
<<<<<<< Updated upstream
   "execution_count": 33,
   "id": "15b85392",
||||||| constructed merge base
   "execution_count": null,
   "id": "8fe248d1",
=======
   "execution_count": null,
   "id": "c70c00a6",
>>>>>>> Stashed changes
   "metadata": {},
   "outputs": [
    {
     "data": {
      "text/plain": [
       "0"
      ]
     },
     "execution_count": 33,
     "metadata": {},
     "output_type": "execute_result"
    }
   ],
   "source": [
    "# CompetitionDistance -> float and median imputation\n",
    "X_train.loc[:, \"CompetitionDistance\"] = X_train.loc[:, \"CompetitionDistance\"].astype(float).fillna((X_train.loc[:, \"CompetitionDistance\"].median()))"
   ]
  }
 ],
 "metadata": {
  "kernelspec": {
   "display_name": "Python 3 (ipykernel)",
   "language": "python",
   "name": "python3"
  },
  "language_info": {
   "codemirror_mode": {
    "name": "ipython",
    "version": 3
   },
   "file_extension": ".py",
   "mimetype": "text/x-python",
   "name": "python",
   "nbconvert_exporter": "python",
   "pygments_lexer": "ipython3",
   "version": "3.8.12"
  }
 },
 "nbformat": 4,
 "nbformat_minor": 5
}
