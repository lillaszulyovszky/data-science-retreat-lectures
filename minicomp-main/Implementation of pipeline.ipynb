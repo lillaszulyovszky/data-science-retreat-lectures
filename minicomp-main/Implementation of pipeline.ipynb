{
 "cells": [
  {
   "cell_type": "markdown",
   "id": "19bb7826",
   "metadata": {},
   "source": [
    "    Documentation\n",
    "    Visualizations\n",
    "\n",
    "    Regression model for comparison\n",
    "    RandomForest hyperparameters\n",
    "    XGBoost implementation and hyperparameters\n",
    "\n",
    "    (Train/validation cross validation implementation)"
   ]
  },
  {
   "cell_type": "markdown",
   "id": "50606e04",
   "metadata": {},
   "source": [
    "# Import libraries"
   ]
  },
  {
   "cell_type": "code",
   "execution_count": 2,
   "id": "76273743",
   "metadata": {
    "scrolled": true
   },
   "outputs": [],
   "source": [
    "# general\n",
    "import pandas as pd\n",
    "import numpy as np\n",
    "import seaborn as sns\n",
    "import matplotlib.pyplot as plt\n",
    "from pandas_profiling import ProfileReport\n",
    "# sklearn\n",
    "from sklearn.model_selection import train_test_split\n",
    "from sklearn.pipeline import Pipeline\n",
    "from sklearn.ensemble import RandomForestRegressor\n",
    "# encoders\n",
    "from category_encoders.target_encoder import TargetEncoder\n",
    "from category_encoders.ordinal import OrdinalEncoder\n",
    "from category_encoders.one_hot import OneHotEncoder\n",
    "# custom classes\n",
    "from preprocessing import Merger, Imputer, Cleaner\n",
    "%matplotlib inline\n"
   ]
  },
  {
   "cell_type": "markdown",
   "id": "097dc5ca",
   "metadata": {},
   "source": [
    "# Load data"
   ]
  },
  {
   "cell_type": "markdown",
   "id": "8f4acf79",
   "metadata": {},
   "source": [
    "<font color='red'>For now we are ignoring the holdout data.</font>"
   ]
  },
  {
   "cell_type": "code",
   "execution_count": 3,
   "id": "8ffc0062",
   "metadata": {},
   "outputs": [
    {
     "name": "stderr",
     "output_type": "stream",
     "text": [
      "/opt/anaconda3/lib/python3.8/site-packages/IPython/core/interactiveshell.py:3441: DtypeWarning: Columns (7) have mixed types.Specify dtype option on import or set low_memory=False.\n",
      "  exec(code_obj, self.user_global_ns, self.user_ns)\n"
     ]
    }
   ],
   "source": [
    "store_data = pd.read_csv(\"./data/store.csv\")\n",
    "sales_data = pd.read_csv(\"./data/train.csv\")\n",
    "# holdout_data = pd.read_csv(\"./data/holdout.csv\")"
   ]
  },
  {
   "cell_type": "markdown",
   "id": "1c1efe20",
   "metadata": {},
   "source": [
    "# Preprocessing of data"
   ]
  },
  {
   "cell_type": "markdown",
   "id": "02712bec",
   "metadata": {},
   "source": [
    "## Merging tables"
   ]
  },
  {
   "cell_type": "markdown",
   "id": "b62433ef",
   "metadata": {},
   "source": [
    "Our store information is separate from our sales information. In our Merger object we perform multiple operations:\n",
    "* Drop sales data where sales is NaN or 0.\n",
    "* Drop the customers column because of its direct relation to sales and its unknown value when predicting the future.\n",
    "* Combine sales and store data into a single table by joining on the store ID.\n",
    "* All stores without and ID, i.e., the NaNs, are given the label 0. This label was not in use as a store ID."
   ]
  },
  {
   "cell_type": "markdown",
   "id": "0450e5e5",
   "metadata": {},
   "source": [
    "<font color='red'>We need to decide what to do with the holdout and how to cross validate</font>"
   ]
  },
  {
   "cell_type": "code",
   "execution_count": 4,
   "id": "5672dbd5",
   "metadata": {},
   "outputs": [
    {
     "name": "stderr",
     "output_type": "stream",
     "text": [
      "/opt/anaconda3/lib/python3.8/site-packages/pandas/core/frame.py:4906: SettingWithCopyWarning: \n",
      "A value is trying to be set on a copy of a slice from a DataFrame\n",
      "\n",
      "See the caveats in the documentation: https://pandas.pydata.org/pandas-docs/stable/user_guide/indexing.html#returning-a-view-versus-a-copy\n",
      "  return super().drop(\n"
     ]
    }
   ],
   "source": [
    "mrg = Merger()\n",
    "mrg.merge(sales_data, store_data)\n",
    "merged_data = mrg.merged_data"
   ]
  },
  {
   "cell_type": "code",
   "execution_count": 5,
   "id": "416039f0",
   "metadata": {
    "scrolled": true
   },
   "outputs": [
    {
     "name": "stdout",
     "output_type": "stream",
     "text": [
      "We have 512956 samples to work with.\n"
     ]
    },
    {
     "data": {
      "text/html": [
       "<div>\n",
       "<style scoped>\n",
       "    .dataframe tbody tr th:only-of-type {\n",
       "        vertical-align: middle;\n",
       "    }\n",
       "\n",
       "    .dataframe tbody tr th {\n",
       "        vertical-align: top;\n",
       "    }\n",
       "\n",
       "    .dataframe thead th {\n",
       "        text-align: right;\n",
       "    }\n",
       "</style>\n",
       "<table border=\"1\" class=\"dataframe\">\n",
       "  <thead>\n",
       "    <tr style=\"text-align: right;\">\n",
       "      <th></th>\n",
       "      <th>Date</th>\n",
       "      <th>Store</th>\n",
       "      <th>DayOfWeek</th>\n",
       "      <th>Sales</th>\n",
       "      <th>Open</th>\n",
       "      <th>Promo</th>\n",
       "      <th>StateHoliday</th>\n",
       "      <th>SchoolHoliday</th>\n",
       "      <th>StoreType</th>\n",
       "      <th>Assortment</th>\n",
       "      <th>CompetitionDistance</th>\n",
       "      <th>CompetitionOpenSinceMonth</th>\n",
       "      <th>CompetitionOpenSinceYear</th>\n",
       "      <th>Promo2</th>\n",
       "      <th>Promo2SinceWeek</th>\n",
       "      <th>Promo2SinceYear</th>\n",
       "      <th>PromoInterval</th>\n",
       "    </tr>\n",
       "  </thead>\n",
       "  <tbody>\n",
       "    <tr>\n",
       "      <th>455106</th>\n",
       "      <td>2014-05-22</td>\n",
       "      <td>986</td>\n",
       "      <td>4.0</td>\n",
       "      <td>5959.0</td>\n",
       "      <td>1.0</td>\n",
       "      <td>NaN</td>\n",
       "      <td>0</td>\n",
       "      <td>0.0</td>\n",
       "      <td>a</td>\n",
       "      <td>a</td>\n",
       "      <td>620.0</td>\n",
       "      <td>10.0</td>\n",
       "      <td>2014.0</td>\n",
       "      <td>1.0</td>\n",
       "      <td>18.0</td>\n",
       "      <td>2014.0</td>\n",
       "      <td>Feb,May,Aug,Nov</td>\n",
       "    </tr>\n",
       "    <tr>\n",
       "      <th>430099</th>\n",
       "      <td>2014-04-24</td>\n",
       "      <td>1039</td>\n",
       "      <td>4.0</td>\n",
       "      <td>5658.0</td>\n",
       "      <td>1.0</td>\n",
       "      <td>0.0</td>\n",
       "      <td>0</td>\n",
       "      <td>1.0</td>\n",
       "      <td>a</td>\n",
       "      <td>c</td>\n",
       "      <td>70.0</td>\n",
       "      <td>6.0</td>\n",
       "      <td>1990.0</td>\n",
       "      <td>1.0</td>\n",
       "      <td>22.0</td>\n",
       "      <td>2012.0</td>\n",
       "      <td>Mar,Jun,Sept,Dec</td>\n",
       "    </tr>\n",
       "    <tr>\n",
       "      <th>411674</th>\n",
       "      <td>2014-04-02</td>\n",
       "      <td>571</td>\n",
       "      <td>3.0</td>\n",
       "      <td>7199.0</td>\n",
       "      <td>1.0</td>\n",
       "      <td>1.0</td>\n",
       "      <td>0.0</td>\n",
       "      <td>0.0</td>\n",
       "      <td>d</td>\n",
       "      <td>a</td>\n",
       "      <td>2110.0</td>\n",
       "      <td>11.0</td>\n",
       "      <td>1995.0</td>\n",
       "      <td>1.0</td>\n",
       "      <td>40.0</td>\n",
       "      <td>2014.0</td>\n",
       "      <td>Jan,Apr,Jul,Oct</td>\n",
       "    </tr>\n",
       "    <tr>\n",
       "      <th>508512</th>\n",
       "      <td>2014-07-26</td>\n",
       "      <td>556</td>\n",
       "      <td>6.0</td>\n",
       "      <td>5599.0</td>\n",
       "      <td>1.0</td>\n",
       "      <td>0.0</td>\n",
       "      <td>0</td>\n",
       "      <td>0.0</td>\n",
       "      <td>d</td>\n",
       "      <td>c</td>\n",
       "      <td>1140.0</td>\n",
       "      <td>11.0</td>\n",
       "      <td>2014.0</td>\n",
       "      <td>0.0</td>\n",
       "      <td>NaN</td>\n",
       "      <td>NaN</td>\n",
       "      <td>NaN</td>\n",
       "    </tr>\n",
       "    <tr>\n",
       "      <th>36057</th>\n",
       "      <td>2013-02-09</td>\n",
       "      <td>145</td>\n",
       "      <td>6.0</td>\n",
       "      <td>6969.0</td>\n",
       "      <td>1.0</td>\n",
       "      <td>0.0</td>\n",
       "      <td>0</td>\n",
       "      <td>0.0</td>\n",
       "      <td>a</td>\n",
       "      <td>a</td>\n",
       "      <td>280.0</td>\n",
       "      <td>NaN</td>\n",
       "      <td>NaN</td>\n",
       "      <td>1.0</td>\n",
       "      <td>45.0</td>\n",
       "      <td>2009.0</td>\n",
       "      <td>Feb,May,Aug,Nov</td>\n",
       "    </tr>\n",
       "  </tbody>\n",
       "</table>\n",
       "</div>"
      ],
      "text/plain": [
       "              Date  Store  DayOfWeek   Sales  Open  Promo StateHoliday  \\\n",
       "455106  2014-05-22    986        4.0  5959.0   1.0    NaN            0   \n",
       "430099  2014-04-24   1039        4.0  5658.0   1.0    0.0            0   \n",
       "411674  2014-04-02    571        3.0  7199.0   1.0    1.0          0.0   \n",
       "508512  2014-07-26    556        6.0  5599.0   1.0    0.0            0   \n",
       "36057   2013-02-09    145        6.0  6969.0   1.0    0.0            0   \n",
       "\n",
       "        SchoolHoliday StoreType Assortment  CompetitionDistance  \\\n",
       "455106            0.0         a          a                620.0   \n",
       "430099            1.0         a          c                 70.0   \n",
       "411674            0.0         d          a               2110.0   \n",
       "508512            0.0         d          c               1140.0   \n",
       "36057             0.0         a          a                280.0   \n",
       "\n",
       "        CompetitionOpenSinceMonth  CompetitionOpenSinceYear  Promo2  \\\n",
       "455106                       10.0                    2014.0     1.0   \n",
       "430099                        6.0                    1990.0     1.0   \n",
       "411674                       11.0                    1995.0     1.0   \n",
       "508512                       11.0                    2014.0     0.0   \n",
       "36057                         NaN                       NaN     1.0   \n",
       "\n",
       "        Promo2SinceWeek  Promo2SinceYear     PromoInterval  \n",
       "455106             18.0           2014.0   Feb,May,Aug,Nov  \n",
       "430099             22.0           2012.0  Mar,Jun,Sept,Dec  \n",
       "411674             40.0           2014.0   Jan,Apr,Jul,Oct  \n",
       "508512              NaN              NaN               NaN  \n",
       "36057              45.0           2009.0   Feb,May,Aug,Nov  "
      ]
     },
     "execution_count": 5,
     "metadata": {},
     "output_type": "execute_result"
    }
   ],
   "source": [
    "print(f\"We have {len(merged_data)} samples to work with.\")\n",
    "merged_data.sample(5)"
   ]
  },
  {
   "cell_type": "code",
   "execution_count": 6,
   "id": "c45d804b",
   "metadata": {
    "scrolled": true
   },
   "outputs": [
    {
     "name": "stdout",
     "output_type": "stream",
     "text": [
      "There are 30 duplicated values in our dataset.\n",
      "This is a low number compared to the 512956 samples in our dataset.\n",
      "These duplicates are not necessarily 'true' because the store ID is not known.\n",
      "Therefore these duplicates may actually be two shops having the exact same sales on a single day.\n",
      "Because of this uncertainty we are keeping the duplicates in our dataset.\n"
     ]
    }
   ],
   "source": [
    "duped_mask = merged_data.duplicated()\n",
    "duplicated_data = merged_data.loc[duped_mask, :]\n",
    "\n",
    "print(f\"There are {len(duplicated_data)} duplicated values in our dataset.\")\n",
    "print(f\"This is a low number compared to the {len(merged_data)} samples in our dataset.\")\n",
    "print(\"These duplicates are not necessarily 'true' because the store ID is not known.\")\n",
    "print(\"Therefore these duplicates may actually be two shops having the exact same sales on a single day.\")\n",
    "print(\"Because of this uncertainty we are keeping the duplicates in our dataset.\")"
   ]
  },
  {
   "cell_type": "code",
   "execution_count": 7,
   "id": "35c0cb53",
   "metadata": {},
   "outputs": [],
   "source": [
    "# columns = ['Store', 'DayOfWeek', 'Open', 'Promo', 'StateHoliday',\n",
    "#        'SchoolHoliday', 'StoreType', 'Assortment', 'CompetitionDistance',\n",
    "#        'CompetitionOpenSinceMonth', 'CompetitionOpenSinceYear', 'Promo2',\n",
    "#        'Promo2SinceWeek', 'Promo2SinceYear', 'PromoInterval']\n",
    "# merged_time_series = merged_data.drop(columns, axis=1, inplace=True)"
   ]
  },
  {
   "cell_type": "code",
   "execution_count": 8,
   "id": "d63d2c8f",
   "metadata": {},
   "outputs": [],
   "source": [
    "# #merged_data date column to datetime and to week and year column\n",
    "# def date_to_week(df):\n",
    "#     df['Date'] = pd.to_datetime(df['Date'])\n",
    "#     df['Week'] = df['Date'].dt.week\n",
    "#     df['Year'] = df['Date'].dt.year\n",
    "#     return df\n",
    "\n",
    "# date_to_week(merged_data)\n",
    "\n",
    "# #merged_data merge week and year column\n",
    "# def merge_week_year(df):\n",
    "#     # df[\"Week\"] = df[\"Week\"].astype(int)\n",
    "#     # df[\"Year\"] = df[\"Year\"].astype(int)\n",
    "#     df[\"WeekOfYear\"] = df[\"Year\"].astype(str) + \"/\" + df[\"Week\"].astype(str)\n",
    "#     return df\n",
    "\n",
    "# merge_week_year(merged_data)\n"
   ]
  },
  {
   "cell_type": "code",
   "execution_count": 9,
   "id": "ffcb4e95",
   "metadata": {},
   "outputs": [],
   "source": [
    "# # plotly plot sales per storetype per date\n",
    "# def plot_sales_per_storetype_per_date(merged_data):\n",
    "#     fig = plt.figure(figsize=(12, 8))\n",
    "#     sns.set(style=\"whitegrid\")\n",
    "#     sns.lineplot(x=\"Date\", y=\"Sales\", hue=\"StoreType\", data=merged_data)\n",
    "#     plt.show()\n",
    "\n",
    "# plot_sales_per_storetype_per_date(merged_data)\n"
   ]
  },
  {
   "cell_type": "code",
   "execution_count": 10,
   "id": "a92766e4",
   "metadata": {},
   "outputs": [],
   "source": [
    "# # plotly plot sales per storetype per date group by year-week \n",
    "# def plot_sales_per_storetype_per_date_group_by_week(merged_data):\n",
    "#     fig = plt.figure(figsize=(12, 8))\n",
    "#     sns.set(style=\"whitegrid\")\n",
    "#     sns.lineplot(x=\"WeekOfYear\", y=\"Sales\", hue=\"StoreType\", data=merged_data)\n",
    "#     plt.show()\n",
    "\n",
    "# plot_sales_per_storetype_per_date_group_by_week(merged_data)"
   ]
  },
  {
   "cell_type": "code",
   "execution_count": 11,
   "id": "1c9c5346",
   "metadata": {},
   "outputs": [],
   "source": [
    "# plotly plot sales per storetype per date group by year-week \n",
    "# def "
   ]
  },
  {
   "cell_type": "code",
   "execution_count": 12,
   "id": "57b4d883",
   "metadata": {},
   "outputs": [],
   "source": [
    "# plot merged_data by \n",
    "# merged_data.groupby(['StoreType', 'Date']).Sales.mean().plot(x='Date', y='Sales', kind='line')\n"
   ]
  },
  {
   "cell_type": "code",
   "execution_count": 13,
   "id": "b83ba607",
   "metadata": {},
   "outputs": [],
   "source": [
    "# merged_data.groupby(by = \"Sales\").mean().plot(kind = \"line\")\n",
    "\n",
    "#merged_data.plot(x = 'Date', y = (merged_data.groupby(['Sales'].mean())))"
   ]
  },
  {
   "cell_type": "code",
   "execution_count": 14,
   "id": "6670bbaa",
   "metadata": {},
   "outputs": [],
   "source": [
    "# merged_time_series"
   ]
  },
  {
   "cell_type": "code",
   "execution_count": 15,
   "id": "113457ea",
   "metadata": {},
   "outputs": [],
   "source": [
    "# sns.lineplot(x=\"Date\", y=\"Sales\", data=merged_data);"
   ]
  },
  {
   "cell_type": "code",
   "execution_count": 16,
   "id": "447bdc88",
   "metadata": {},
   "outputs": [],
   "source": [
    "# plot merged_data Sales column with Stores lineplot\n",
    "# sns.lineplot(data=merged_data, x=\"Date\", y=\"StoreType\")"
   ]
  },
  {
   "cell_type": "markdown",
   "id": "2ee344df",
   "metadata": {},
   "source": [
    "## Splitting train, validation, and test sets"
   ]
  },
  {
   "cell_type": "markdown",
   "id": "1c169e7d",
   "metadata": {},
   "source": [
    "Before continuing we need to split our test and training sets. Because we are dealing with time-series data, we split on data before and after specific dates."
   ]
  },
  {
   "cell_type": "markdown",
   "id": "d1cb6afc",
   "metadata": {},
   "source": [
    "<font color='red'>We are currently splitting train, validation, and test. Are we doing cross validation? How? How should we be splitting? Once decided, also update all names in notebook.</font>"
   ]
  },
  {
   "cell_type": "code",
   "execution_count": 17,
   "id": "55b2e353",
   "metadata": {},
   "outputs": [
    {
     "name": "stdout",
     "output_type": "stream",
     "text": [
      "The last day in our data is 2014-07-31\n"
     ]
    }
   ],
   "source": [
    "print(f\"The last day in our data is {merged_data['Date'].max()}\")"
   ]
  },
  {
   "cell_type": "code",
   "execution_count": 18,
   "id": "847ccd69",
   "metadata": {},
   "outputs": [],
   "source": [
    "test_date_split = '2014-04-31'\n",
    "validation_date_split = '2014-01-31'"
   ]
  },
  {
   "cell_type": "code",
   "execution_count": 19,
   "id": "01d4b4f3",
   "metadata": {},
   "outputs": [],
   "source": [
    "merged_data_train = merged_data.query(\"Date <= @validation_date_split\")\n",
    "merged_data_validation = merged_data.query(\"Date > @validation_date_split & Date <= @test_date_split\")\n",
    "merged_data_test = merged_data.query(\"Date > @test_date_split\")"
   ]
  },
  {
   "cell_type": "code",
   "execution_count": 20,
   "id": "e229cb29",
   "metadata": {},
   "outputs": [
    {
     "data": {
      "image/png": "[encoded data removed]",
      "text/plain": [
       "<Figure size 432x288 with 1 Axes>"
      ]
     },
     "metadata": {
      "needs_background": "light"
     },
     "output_type": "display_data"
    }
   ],
   "source": [
    "plt.plot(merged_data.index, merged_data['Sales'])\n",
    "plt.title('Rossmann Sales')\n",
    "plt.ylabel('Price ($)');\n",
    "plt.show()"
   ]
  },
  {
   "cell_type": "code",
   "execution_count": 21,
   "id": "075f7ce8",
   "metadata": {
    "scrolled": false
   },
   "outputs": [
    {
     "name": "stderr",
     "output_type": "stream",
     "text": [
      "/var/folders/4v/cg5vs6j958l03gj1_w2prrhc0000gn/T/ipykernel_21751/2642529958.py:2: UserWarning: To output multiple subplots, the figure containing the passed axes is being cleared\n",
      "  merged_data.hist(ax=ax)\n"
     ]
    },
    {
     "data": {
      "image/png": "[encoded data removed]",
      "text/plain": [
       "<Figure size 1080x648 with 12 Axes>"
      ]
     },
     "metadata": {
      "needs_background": "light"
     },
     "output_type": "display_data"
    }
   ],
   "source": [
    "fig ,ax = plt.subplots(figsize=(15,9))\n",
    "merged_data.hist(ax=ax)\n",
    "plt.show()"
   ]
  },
  {
   "cell_type": "code",
   "execution_count": 22,
   "id": "f64bf8f6",
   "metadata": {},
   "outputs": [
    {
     "data": {
      "image/png": "[encoded data removed]",
      "text/plain": [
       "<Figure size 432x288 with 1 Axes>"
      ]
     },
     "metadata": {
      "needs_background": "light"
     },
     "output_type": "display_data"
    }
   ],
   "source": [
    "ax = sns.violinplot(x=\"Sales\", y=\"StoreType\", data=merged_data)"
   ]
  },
  {
   "cell_type": "code",
   "execution_count": 23,
   "id": "104f68ab",
   "metadata": {},
   "outputs": [
    {
     "data": {
      "image/png": "[encoded data removed]",
      "text/plain": [
       "<Figure size 432x288 with 1 Axes>"
      ]
     },
     "metadata": {
      "needs_background": "light"
     },
     "output_type": "display_data"
    }
   ],
   "source": [
    "ax = sns.violinplot(x=\"Sales\", y=\"StoreType\", data=merged_data)"
   ]
  },
  {
   "cell_type": "code",
   "execution_count": 24,
   "id": "0650ad75",
   "metadata": {},
   "outputs": [],
   "source": [
    "X_train = merged_data_train.loc[:, ~merged_data_train.columns.isin([\"Sales\"])]\n",
    "y_train = merged_data_train.loc[:, \"Sales\"]\n",
    "\n",
    "X_validation = merged_data_validation.loc[:, ~merged_data_validation.columns.isin([\"Sales\"])]\n",
    "y_validation = merged_data_validation.loc[:, \"Sales\"]\n",
    "\n",
    "X_test = merged_data_test.loc[:, ~merged_data_test.columns.isin([\"Sales\"])]\n",
    "y_test = merged_data_test.loc[:, \"Sales\"]"
   ]
  },
  {
   "cell_type": "markdown",
   "id": "6c553c4c",
   "metadata": {},
   "source": [
    "Splitting results."
   ]
  },
  {
   "cell_type": "code",
   "execution_count": 25,
   "id": "1fa88da8",
   "metadata": {
    "scrolled": true
   },
   "outputs": [
    {
     "name": "stdout",
     "output_type": "stream",
     "text": [
      "Our train set has 355654 samples\n",
      "Our validation set has 80183 samples\n",
      "Our test set has 77119 samples\n"
     ]
    }
   ],
   "source": [
    "print(f\"Our train set has {len(X_train)} samples\")\n",
    "print(f\"Our validation set has {len(X_validation)} samples\")\n",
    "print(f\"Our test set has {len(X_test)} samples\")"
   ]
  },
  {
   "cell_type": "markdown",
   "id": "cf21e03e",
   "metadata": {},
   "source": [
    "## Data profiling"
   ]
  },
  {
   "cell_type": "markdown",
   "id": "86db13fe",
   "metadata": {},
   "source": [
    "The cell below is commented out for faster running of this notebook. The resulting profile report can be found by following the link below:\n",
    "\n",
    "**[Rossmann profile report](files/rossmann_profile_report.html)**"
   ]
  },
  {
   "cell_type": "code",
   "execution_count": 26,
   "id": "87d8ff25",
   "metadata": {},
   "outputs": [],
   "source": [
    "# profile = ProfileReport(X_train)\n",
    "# profile.to_file(output_file=\"rossmann_profile_report.html\")"
   ]
  },
  {
   "cell_type": "markdown",
   "id": "b1d7c9ca",
   "metadata": {},
   "source": [
    "## Feature engineering"
   ]
  },
  {
   "cell_type": "code",
   "execution_count": 27,
   "id": "f43ba90e",
   "metadata": {},
   "outputs": [],
   "source": [
    "# fig, (axis1) = plt.subplots(1,1,figsize=(15,4))\n",
    "# sns.countplot(x='Weekday', hue='Storetype', data=X_train, palette=\"husl\", ax=axis1)\n",
    "# plt.show()"
   ]
  },
  {
   "cell_type": "markdown",
   "id": "3b0cd147",
   "metadata": {},
   "source": [
    "<font color='red'>It would be good to check amount of features missing per sample. If more than 50%, try dropping entire row.</font>\n",
    "\n",
    "<font color='red'>It would be good to check for outliers.</font>\n",
    "\n",
    "For each feature we applied the following changes:\n",
    "\n",
    "**Date**\n",
    "* Split feature into four features: year, month, week, day of week\n",
    "* Encode month, week, and day of week with sine+cosine for circularity\n",
    "* Drop the original feature\n",
    "\n",
    "**DayOfWeek**\n",
    "* Drop feature, will be replaced with values derived from Date\n",
    "\n",
    "**Store**\n",
    "* Applying target encoding\n",
    "* Consideration of frequency encoding, depending on success of target encoding. May be changed after first tests.\n",
    "\n",
    "<font color='red'>Should we still test frequency encoding? Or do we change this wording? \"Target encoding proved very successful and gave this feature the highest importance in a single RandomForestRegressor.\"</font>\n",
    "\n",
    "**Open**\n",
    "* Two values available: 1 (True) and NaN. Therefore using zero imputation.\n",
    "* If feature turns out to be unimportant (likely with ~3% NaNs), drop feature after first tests\n",
    "\n",
    "<font color='red'>Are we dropping it?</font>\n",
    "\n",
    "**Promo**\n",
    "* Mode imputing ~3% of NaNs\n",
    "\n",
    "**StateHoliday**\n",
    "* Four categories\n",
    "* Category 0.0 needs to be changed to \"0\"\n",
    "* Mode imputing ~3% of NaNs\n",
    "* Apply ordinal encoding because number of stores open is in goes in descending order: 0>a>b>c. This likely reflects overall store opening in the nation.\n",
    "\n",
    "<font color='red'>It could be nice to check if a specific StoreType is open more often on StateHolidays or not.</font>\n",
    "\n",
    "**SchoolHoliday**\n",
    "* Mode imputing ~3% of NaNs\n",
    "\n",
    "**StoreType**\n",
    "* Mode imputing ~3%\n",
    "* Ordinal encoding because 4 models, a-d, may very well relate to store size, e.g., large shopping mall store vs. small train station store.\n",
    "\n",
    "**Assortment**\n",
    "* Mode imputing ~3%\n",
    "* Apply ordinal encoding because assortment is an ordinate: a = basic, b = extra, c = extended    \n",
    "    \n",
    "**CompetitionDistance**\n",
    "* Applying median imputation to ~3% missing values\n",
    "\n",
    "**CompetitionOpenSinceMonth** and **CompetitionOpenSinceYear**\n",
    "* Merge and create new feature, giving temporal distance in days from sales date, and drop the original features\n",
    "* Set negative days, i.e., days before competition opened, to 0\n",
    "* First imputation: set NaNs to -1\n",
    "\n",
    "<font color='red'>These last two points could be edited: add a True/False feature for missing values/negative days vs. SalesCompetitionLag</font>\n",
    "\n",
    "**Promo2**\n",
    "* Mode imputing ~3%\n",
    "* All 1s (True) also have other information on Promo2\n",
    "* When there is a NaN there is no information on a possible promotion. Though a promotion is not likely and 0 imputation could be good, we still choose mode imputation due to a lack of information.\n",
    "\n",
    "**Promo2SinceWeek** and **Promo2SinceYear**\n",
    "* Merge and create new feature, giving temporal distance in days from sales date, and drop the original features\n",
    "* Set negative days, i.e., days before Promo2 started, to 0\n",
    "* First imputation: set NaNs to -1\n",
    "\n",
    "<font color='red'>Imputation of Stores not participating in Promo2 is caught by the boolean from the Promo2 feature. However, the last two points could be edited: add a True/False feature for missing values/negative days vs. Promo2Lag</font>\n",
    "\n",
    "**PromoInterval**\n",
    "* Mode imputed\n",
    "* Apply one-hot encoding\n",
    "\n",
    "<font color='red'>Same as Promo2SinceWeek and Promo2SinceYear. Would again be good to catch NaNs with the Promo2 feature</font>\n",
    "\n",
    "<font color='red'>Or are we dropping this feature entirely?</font>"
   ]
  },
  {
   "cell_type": "markdown",
   "id": "893b7db4",
   "metadata": {},
   "source": [
    "## Impute missing values"
   ]
  },
  {
   "cell_type": "markdown",
   "id": "37b47d76",
   "metadata": {},
   "source": [
    "Following the considerations and strategies above, we first impute missing values."
   ]
  },
  {
   "cell_type": "code",
   "execution_count": 28,
   "id": "d3fefde3",
   "metadata": {},
   "outputs": [],
   "source": [
    "imp = Imputer()\n",
    "imp.define_imputers()\n",
    "imp.fit(X_train)\n",
    "X_train_transf = imp.transform_reconstruct(X_train)\n",
    "X_test_transf = imp.transform_reconstruct(X_test)\n",
    "X_validation_transf = imp.transform_reconstruct(X_validation)"
   ]
  },
  {
   "cell_type": "markdown",
   "id": "3f0c0e23",
   "metadata": {},
   "source": [
    "## Clean data"
   ]
  },
  {
   "cell_type": "markdown",
   "id": "1145478b",
   "metadata": {},
   "source": [
    "With most values imputed, we follow the above considerations and strategies for further cleaning"
   ]
  },
  {
   "cell_type": "code",
   "execution_count": 29,
   "id": "d44c2c4c",
   "metadata": {},
   "outputs": [],
   "source": [
    "clnr = Cleaner()\n",
    "clnr.clean(X_train_transf)\n",
    "X_train_clean = clnr.data\n",
    "X_train_clean_dates = clnr.dates\n",
    "\n",
    "clnr = Cleaner()\n",
    "clnr.clean(X_validation_transf)\n",
    "X_validation_clean = clnr.data\n",
    "X_validation_clean_dates = clnr.dates\n",
    "\n",
    "clnr = Cleaner()\n",
    "clnr.clean(X_test_transf)\n",
    "X_test_clean = clnr.data\n",
    "X_test_clean_dates = clnr.dates"
   ]
  },
  {
   "cell_type": "code",
   "execution_count": 30,
   "id": "621ea7fc",
   "metadata": {},
   "outputs": [
    {
     "data": {
      "text/plain": [
       "(355654, 18)"
      ]
     },
     "execution_count": 30,
     "metadata": {},
     "output_type": "execute_result"
    }
   ],
   "source": [
    "X_train_clean.shape"
   ]
  },
  {
   "cell_type": "code",
   "execution_count": 41,
   "id": "1af10038",
   "metadata": {},
   "outputs": [
    {
     "data": {
      "text/plain": [
       "0         3139.0\n",
       "1         2401.0\n",
       "2         2646.0\n",
       "3         3113.0\n",
       "4         2907.0\n",
       "           ...  \n",
       "355649    7084.0\n",
       "355650    5098.0\n",
       "355651    9265.0\n",
       "355652    8393.0\n",
       "355653    8873.0\n",
       "Name: Sales, Length: 355654, dtype: float64"
      ]
     },
     "execution_count": 41,
     "metadata": {},
     "output_type": "execute_result"
    }
   ],
   "source": [
    "df['y_hats'] = y_hats2\n"
   ]
  },
  {
   "cell_type": "code",
   "execution_count": 43,
   "id": "94c8bc6d",
   "metadata": {},
   "outputs": [],
   "source": [
    "df = pd.concat([X_train, y_train])\n",
    "df['Sales'] = y_train"
   ]
  },
  {
   "cell_type": "code",
   "execution_count": 45,
   "id": "91b1165d",
   "metadata": {},
   "outputs": [],
   "source": [
    "df.to_csv('merged_data_clean.csv')"
   ]
  },
  {
   "cell_type": "markdown",
   "id": "86b88a0a",
   "metadata": {},
   "source": [
    "## Visualization of cleaned data"
   ]
  },
  {
   "cell_type": "markdown",
   "id": "cfc76104",
   "metadata": {},
   "source": [
    "After the above steps, our data looks as follows."
   ]
  },
  {
   "cell_type": "code",
   "execution_count": 33,
   "id": "c3092719",
   "metadata": {
    "scrolled": true
   },
   "outputs": [
    {
     "data": {
      "text/html": [
       "<div>\n",
       "<style scoped>\n",
       "    .dataframe tbody tr th:only-of-type {\n",
       "        vertical-align: middle;\n",
       "    }\n",
       "\n",
       "    .dataframe tbody tr th {\n",
       "        vertical-align: top;\n",
       "    }\n",
       "\n",
       "    .dataframe thead th {\n",
       "        text-align: right;\n",
       "    }\n",
       "</style>\n",
       "<table border=\"1\" class=\"dataframe\">\n",
       "  <thead>\n",
       "    <tr style=\"text-align: right;\">\n",
       "      <th></th>\n",
       "      <th>Date</th>\n",
       "      <th>Store</th>\n",
       "      <th>Promo</th>\n",
       "      <th>StateHoliday</th>\n",
       "      <th>SchoolHoliday</th>\n",
       "      <th>StoreType</th>\n",
       "      <th>Assortment</th>\n",
       "      <th>CompetitionDistance</th>\n",
       "      <th>Promo2</th>\n",
       "      <th>Year</th>\n",
       "      <th>Month</th>\n",
       "      <th>Weekday</th>\n",
       "      <th>Month_sin</th>\n",
       "      <th>Month_cos</th>\n",
       "      <th>Weekday_sin</th>\n",
       "      <th>Weekday_cos</th>\n",
       "      <th>SalesCompetitionLag</th>\n",
       "      <th>Promo2Lag</th>\n",
       "    </tr>\n",
       "  </thead>\n",
       "  <tbody>\n",
       "    <tr>\n",
       "      <th>242479</th>\n",
       "      <td>2013-09-26</td>\n",
       "      <td>674</td>\n",
       "      <td>1.0</td>\n",
       "      <td>0</td>\n",
       "      <td>0.0</td>\n",
       "      <td>a</td>\n",
       "      <td>a</td>\n",
       "      <td>2640.0</td>\n",
       "      <td>1.0</td>\n",
       "      <td>2013</td>\n",
       "      <td>9</td>\n",
       "      <td>3</td>\n",
       "      <td>-1.000000e+00</td>\n",
       "      <td>-1.836970e-16</td>\n",
       "      <td>0.051620</td>\n",
       "      <td>0.998667</td>\n",
       "      <td>2856.0</td>\n",
       "      <td>53.0</td>\n",
       "    </tr>\n",
       "    <tr>\n",
       "      <th>339420</th>\n",
       "      <td>2014-01-14</td>\n",
       "      <td>749</td>\n",
       "      <td>0.0</td>\n",
       "      <td>0</td>\n",
       "      <td>0.0</td>\n",
       "      <td>a</td>\n",
       "      <td>a</td>\n",
       "      <td>3410.0</td>\n",
       "      <td>1.0</td>\n",
       "      <td>2014</td>\n",
       "      <td>1</td>\n",
       "      <td>1</td>\n",
       "      <td>5.000000e-01</td>\n",
       "      <td>8.660254e-01</td>\n",
       "      <td>0.017213</td>\n",
       "      <td>0.999852</td>\n",
       "      <td>897.0</td>\n",
       "      <td>0.0</td>\n",
       "    </tr>\n",
       "    <tr>\n",
       "      <th>314752</th>\n",
       "      <td>2013-12-16</td>\n",
       "      <td>300</td>\n",
       "      <td>1.0</td>\n",
       "      <td>0</td>\n",
       "      <td>0.0</td>\n",
       "      <td>a</td>\n",
       "      <td>c</td>\n",
       "      <td>120.0</td>\n",
       "      <td>1.0</td>\n",
       "      <td>2013</td>\n",
       "      <td>12</td>\n",
       "      <td>0</td>\n",
       "      <td>-2.449294e-16</td>\n",
       "      <td>1.000000e+00</td>\n",
       "      <td>0.000000</td>\n",
       "      <td>1.000000</td>\n",
       "      <td>1720.0</td>\n",
       "      <td>715.0</td>\n",
       "    </tr>\n",
       "    <tr>\n",
       "      <th>135830</th>\n",
       "      <td>2013-06-04</td>\n",
       "      <td>98</td>\n",
       "      <td>1.0</td>\n",
       "      <td>0</td>\n",
       "      <td>0.0</td>\n",
       "      <td>d</td>\n",
       "      <td>c</td>\n",
       "      <td>15140.0</td>\n",
       "      <td>1.0</td>\n",
       "      <td>2013</td>\n",
       "      <td>6</td>\n",
       "      <td>1</td>\n",
       "      <td>1.224647e-16</td>\n",
       "      <td>-1.000000e+00</td>\n",
       "      <td>0.017213</td>\n",
       "      <td>0.999852</td>\n",
       "      <td>2377.0</td>\n",
       "      <td>520.0</td>\n",
       "    </tr>\n",
       "    <tr>\n",
       "      <th>238318</th>\n",
       "      <td>2013-09-21</td>\n",
       "      <td>736</td>\n",
       "      <td>0.0</td>\n",
       "      <td>0</td>\n",
       "      <td>0.0</td>\n",
       "      <td>c</td>\n",
       "      <td>c</td>\n",
       "      <td>1650.0</td>\n",
       "      <td>1.0</td>\n",
       "      <td>2013</td>\n",
       "      <td>9</td>\n",
       "      <td>5</td>\n",
       "      <td>-1.000000e+00</td>\n",
       "      <td>-1.836970e-16</td>\n",
       "      <td>0.085965</td>\n",
       "      <td>0.996298</td>\n",
       "      <td>-1.0</td>\n",
       "      <td>902.0</td>\n",
       "    </tr>\n",
       "    <tr>\n",
       "      <th>84922</th>\n",
       "      <td>2013-04-05</td>\n",
       "      <td>1088</td>\n",
       "      <td>0.0</td>\n",
       "      <td>0</td>\n",
       "      <td>1.0</td>\n",
       "      <td>a</td>\n",
       "      <td>a</td>\n",
       "      <td>4300.0</td>\n",
       "      <td>1.0</td>\n",
       "      <td>2013</td>\n",
       "      <td>4</td>\n",
       "      <td>4</td>\n",
       "      <td>8.660254e-01</td>\n",
       "      <td>-5.000000e-01</td>\n",
       "      <td>0.068802</td>\n",
       "      <td>0.997630</td>\n",
       "      <td>1496.0</td>\n",
       "      <td>0.0</td>\n",
       "    </tr>\n",
       "    <tr>\n",
       "      <th>114212</th>\n",
       "      <td>2013-05-08</td>\n",
       "      <td>663</td>\n",
       "      <td>0.0</td>\n",
       "      <td>0</td>\n",
       "      <td>0.0</td>\n",
       "      <td>a</td>\n",
       "      <td>c</td>\n",
       "      <td>7860.0</td>\n",
       "      <td>0.0</td>\n",
       "      <td>2013</td>\n",
       "      <td>5</td>\n",
       "      <td>2</td>\n",
       "      <td>5.000000e-01</td>\n",
       "      <td>-8.660254e-01</td>\n",
       "      <td>0.034422</td>\n",
       "      <td>0.999407</td>\n",
       "      <td>2929.0</td>\n",
       "      <td>-1.0</td>\n",
       "    </tr>\n",
       "    <tr>\n",
       "      <th>182689</th>\n",
       "      <td>2013-07-24</td>\n",
       "      <td>969</td>\n",
       "      <td>0.0</td>\n",
       "      <td>0</td>\n",
       "      <td>0.0</td>\n",
       "      <td>a</td>\n",
       "      <td>c</td>\n",
       "      <td>600.0</td>\n",
       "      <td>1.0</td>\n",
       "      <td>2013</td>\n",
       "      <td>7</td>\n",
       "      <td>2</td>\n",
       "      <td>-5.000000e-01</td>\n",
       "      <td>-8.660254e-01</td>\n",
       "      <td>0.034422</td>\n",
       "      <td>0.999407</td>\n",
       "      <td>5014.0</td>\n",
       "      <td>136.0</td>\n",
       "    </tr>\n",
       "    <tr>\n",
       "      <th>24984</th>\n",
       "      <td>2013-01-29</td>\n",
       "      <td>418</td>\n",
       "      <td>0.0</td>\n",
       "      <td>0</td>\n",
       "      <td>0.0</td>\n",
       "      <td>a</td>\n",
       "      <td>a</td>\n",
       "      <td>1060.0</td>\n",
       "      <td>1.0</td>\n",
       "      <td>2013</td>\n",
       "      <td>1</td>\n",
       "      <td>1</td>\n",
       "      <td>5.000000e-01</td>\n",
       "      <td>8.660254e-01</td>\n",
       "      <td>0.017213</td>\n",
       "      <td>0.999852</td>\n",
       "      <td>1369.0</td>\n",
       "      <td>576.0</td>\n",
       "    </tr>\n",
       "    <tr>\n",
       "      <th>105480</th>\n",
       "      <td>2013-04-27</td>\n",
       "      <td>1115</td>\n",
       "      <td>0.0</td>\n",
       "      <td>0</td>\n",
       "      <td>0.0</td>\n",
       "      <td>d</td>\n",
       "      <td>c</td>\n",
       "      <td>5350.0</td>\n",
       "      <td>1.0</td>\n",
       "      <td>2013</td>\n",
       "      <td>4</td>\n",
       "      <td>5</td>\n",
       "      <td>8.660254e-01</td>\n",
       "      <td>-5.000000e-01</td>\n",
       "      <td>0.085965</td>\n",
       "      <td>0.996298</td>\n",
       "      <td>-1.0</td>\n",
       "      <td>335.0</td>\n",
       "    </tr>\n",
       "  </tbody>\n",
       "</table>\n",
       "</div>"
      ],
      "text/plain": [
       "             Date  Store  Promo StateHoliday  SchoolHoliday StoreType  \\\n",
       "242479 2013-09-26    674    1.0            0            0.0         a   \n",
       "339420 2014-01-14    749    0.0            0            0.0         a   \n",
       "314752 2013-12-16    300    1.0            0            0.0         a   \n",
       "135830 2013-06-04     98    1.0            0            0.0         d   \n",
       "238318 2013-09-21    736    0.0            0            0.0         c   \n",
       "84922  2013-04-05   1088    0.0            0            1.0         a   \n",
       "114212 2013-05-08    663    0.0            0            0.0         a   \n",
       "182689 2013-07-24    969    0.0            0            0.0         a   \n",
       "24984  2013-01-29    418    0.0            0            0.0         a   \n",
       "105480 2013-04-27   1115    0.0            0            0.0         d   \n",
       "\n",
       "       Assortment  CompetitionDistance  Promo2  Year  Month  Weekday  \\\n",
       "242479          a               2640.0     1.0  2013      9        3   \n",
       "339420          a               3410.0     1.0  2014      1        1   \n",
       "314752          c                120.0     1.0  2013     12        0   \n",
       "135830          c              15140.0     1.0  2013      6        1   \n",
       "238318          c               1650.0     1.0  2013      9        5   \n",
       "84922           a               4300.0     1.0  2013      4        4   \n",
       "114212          c               7860.0     0.0  2013      5        2   \n",
       "182689          c                600.0     1.0  2013      7        2   \n",
       "24984           a               1060.0     1.0  2013      1        1   \n",
       "105480          c               5350.0     1.0  2013      4        5   \n",
       "\n",
       "           Month_sin     Month_cos  Weekday_sin  Weekday_cos  \\\n",
       "242479 -1.000000e+00 -1.836970e-16     0.051620     0.998667   \n",
       "339420  5.000000e-01  8.660254e-01     0.017213     0.999852   \n",
       "314752 -2.449294e-16  1.000000e+00     0.000000     1.000000   \n",
       "135830  1.224647e-16 -1.000000e+00     0.017213     0.999852   \n",
       "238318 -1.000000e+00 -1.836970e-16     0.085965     0.996298   \n",
       "84922   8.660254e-01 -5.000000e-01     0.068802     0.997630   \n",
       "114212  5.000000e-01 -8.660254e-01     0.034422     0.999407   \n",
       "182689 -5.000000e-01 -8.660254e-01     0.034422     0.999407   \n",
       "24984   5.000000e-01  8.660254e-01     0.017213     0.999852   \n",
       "105480  8.660254e-01 -5.000000e-01     0.085965     0.996298   \n",
       "\n",
       "        SalesCompetitionLag  Promo2Lag  \n",
       "242479               2856.0       53.0  \n",
       "339420                897.0        0.0  \n",
       "314752               1720.0      715.0  \n",
       "135830               2377.0      520.0  \n",
       "238318                 -1.0      902.0  \n",
       "84922                1496.0        0.0  \n",
       "114212               2929.0       -1.0  \n",
       "182689               5014.0      136.0  \n",
       "24984                1369.0      576.0  \n",
       "105480                 -1.0      335.0  "
      ]
     },
     "execution_count": 33,
     "metadata": {},
     "output_type": "execute_result"
    }
   ],
   "source": [
    "X_train_clean.sample(10)"
   ]
  },
  {
   "cell_type": "code",
   "execution_count": 34,
   "id": "7fc2d91b",
   "metadata": {},
   "outputs": [],
   "source": [
    "import matplotlib.pyplot as plt\n"
   ]
  },
  {
   "cell_type": "code",
   "execution_count": 35,
   "id": "e73d855b",
   "metadata": {},
   "outputs": [
    {
     "data": {
      "image/png": "[encoded data removed]",
      "text/plain": [
       "<Figure size 432x288 with 1 Axes>"
      ]
     },
     "metadata": {
      "needs_background": "light"
     },
     "output_type": "display_data"
    }
   ],
   "source": [
    "# plot Date column from X_train and Sales column from y_train\n",
    "plt.scatter(X_train_clean_dates, y_train)\n",
    "plt.show()"
   ]
  },
  {
   "cell_type": "markdown",
   "id": "d2066a92",
   "metadata": {},
   "source": [
    "<font color='red'>It would be good to add some visualizations here.</font>\n",
    "\n",
    "<font color='red'>Examples could be the time series with special highlights going to periods with high sales (e.g., Christmas)</font>"
   ]
  },
  {
   "cell_type": "markdown",
   "id": "7cf3fe6d",
   "metadata": {},
   "source": [
    "# Modeling"
   ]
  },
  {
   "cell_type": "markdown",
   "id": "60e771ff",
   "metadata": {},
   "source": [
    "## Begin pipeline"
   ]
  },
  {
   "cell_type": "markdown",
   "id": "a49982f4",
   "metadata": {},
   "source": [
    "We start with building a base-pipeline on which we can build our models. This base pipeline takes care of data encoding."
   ]
  },
  {
   "cell_type": "code",
   "execution_count": 36,
   "id": "adb50e85",
   "metadata": {},
   "outputs": [],
   "source": [
    "pipe = Pipeline([\n",
    "    (\"target_encoder\", TargetEncoder(cols=\"Store\")),\n",
    "    (\"ordinal_encoder\", OrdinalEncoder(cols=[\"StateHoliday\", \"StoreType\", \"Assortment\"])),\n",
    "], verbose=True)"
   ]
  },
  {
   "cell_type": "markdown",
   "id": "2b0dbec5",
   "metadata": {},
   "source": [
    "## Random forest"
   ]
  },
  {
   "cell_type": "markdown",
   "id": "b0691e25",
   "metadata": {},
   "source": [
    "Our first attempt uses a single random forest regressor so that we can get a first glimpse of the importance of different features."
   ]
  },
  {
   "cell_type": "code",
   "execution_count": 37,
   "id": "21fe281c",
   "metadata": {},
   "outputs": [],
   "source": [
    "rfr = RandomForestRegressor(\n",
    "    n_estimators=1024,\n",
    "    max_depth=16,\n",
    "    min_samples_split=32,\n",
    "    n_jobs=-1,\n",
    "    random_state=42,\n",
    ")\n",
    "\n",
    "rfpipe = pipe\n",
    "\n",
    "rfpipe.steps.append(['rfr', rfr])"
   ]
  },
  {
   "cell_type": "markdown",
   "id": "ba99720c",
   "metadata": {},
   "source": [
    "<font color='red'>Interestingly, adding the Week_sin and Week_cos features had a horrible effect on the model, taking the score up from 19.7 to ~27! What do we do?</font>"
   ]
  },
  {
   "cell_type": "code",
   "execution_count": 38,
   "id": "fad7a302",
   "metadata": {
    "scrolled": true
   },
   "outputs": [
    {
     "name": "stderr",
     "output_type": "stream",
     "text": [
      "/opt/anaconda3/lib/python3.8/site-packages/category_encoders/utils.py:21: FutureWarning: is_categorical is deprecated and will be removed in a future version.  Use is_categorical_dtype instead\n",
      "  elif pd.api.types.is_categorical(cols):\n"
     ]
    },
    {
     "name": "stdout",
     "output_type": "stream",
     "text": [
      "[Pipeline] .... (step 1 of 3) Processing target_encoder, total=   0.1s\n",
      "[Pipeline] ... (step 2 of 3) Processing ordinal_encoder, total=   0.1s\n"
     ]
    },
    {
     "ename": "TypeError",
     "evalue": "The DType <class 'numpy.dtype[datetime64]'> could not be promoted by <class 'numpy.dtype[float64]'>. This means that no common DType exists for the given inputs. For example they cannot be stored in a single array unless the dtype is `object`. The full list of DTypes is: (<class 'numpy.dtype[datetime64]'>, <class 'numpy.dtype[float64]'>, <class 'numpy.dtype[float64]'>, <class 'numpy.dtype[int64]'>, <class 'numpy.dtype[float64]'>, <class 'numpy.dtype[int64]'>, <class 'numpy.dtype[int64]'>, <class 'numpy.dtype[float64]'>, <class 'numpy.dtype[float64]'>, <class 'numpy.dtype[int64]'>, <class 'numpy.dtype[int64]'>, <class 'numpy.dtype[int64]'>, <class 'numpy.dtype[float64]'>, <class 'numpy.dtype[float64]'>, <class 'numpy.dtype[float64]'>, <class 'numpy.dtype[float64]'>, <class 'numpy.dtype[float64]'>, <class 'numpy.dtype[float64]'>)",
     "output_type": "error",
     "traceback": [
      "\u001b[0;31m---------------------------------------------------------------------------\u001b[0m",
      "\u001b[0;31mTypeError\u001b[0m                                 Traceback (most recent call last)",
      "\u001b[0;32m/var/folders/4v/cg5vs6j958l03gj1_w2prrhc0000gn/T/ipykernel_21751/1623819906.py\u001b[0m in \u001b[0;36m<module>\u001b[0;34m\u001b[0m\n\u001b[0;32m----> 1\u001b[0;31m \u001b[0mrfpipe\u001b[0m\u001b[0;34m.\u001b[0m\u001b[0mfit\u001b[0m\u001b[0;34m(\u001b[0m\u001b[0mX_train_clean\u001b[0m\u001b[0;34m,\u001b[0m \u001b[0my_train\u001b[0m\u001b[0;34m)\u001b[0m\u001b[0;34m\u001b[0m\u001b[0;34m\u001b[0m\u001b[0m\n\u001b[0m\u001b[1;32m      2\u001b[0m \u001b[0;31m#rfpipe.fit(X_train_clean.drop(labels=[\"Week_sin\", \"Week_cos\"], axis=1), y_train)\u001b[0m\u001b[0;34m\u001b[0m\u001b[0;34m\u001b[0m\u001b[0;34m\u001b[0m\u001b[0m\n",
      "\u001b[0;32m/opt/anaconda3/lib/python3.8/site-packages/sklearn/pipeline.py\u001b[0m in \u001b[0;36mfit\u001b[0;34m(self, X, y, **fit_params)\u001b[0m\n\u001b[1;32m    333\u001b[0m             \u001b[0;32mif\u001b[0m \u001b[0mself\u001b[0m\u001b[0;34m.\u001b[0m\u001b[0m_final_estimator\u001b[0m \u001b[0;34m!=\u001b[0m \u001b[0;34m'passthrough'\u001b[0m\u001b[0;34m:\u001b[0m\u001b[0;34m\u001b[0m\u001b[0;34m\u001b[0m\u001b[0m\n\u001b[1;32m    334\u001b[0m                 \u001b[0mfit_params_last_step\u001b[0m \u001b[0;34m=\u001b[0m \u001b[0mfit_params_steps\u001b[0m\u001b[0;34m[\u001b[0m\u001b[0mself\u001b[0m\u001b[0;34m.\u001b[0m\u001b[0msteps\u001b[0m\u001b[0;34m[\u001b[0m\u001b[0;34m-\u001b[0m\u001b[0;36m1\u001b[0m\u001b[0;34m]\u001b[0m\u001b[0;34m[\u001b[0m\u001b[0;36m0\u001b[0m\u001b[0;34m]\u001b[0m\u001b[0;34m]\u001b[0m\u001b[0;34m\u001b[0m\u001b[0;34m\u001b[0m\u001b[0m\n\u001b[0;32m--> 335\u001b[0;31m                 \u001b[0mself\u001b[0m\u001b[0;34m.\u001b[0m\u001b[0m_final_estimator\u001b[0m\u001b[0;34m.\u001b[0m\u001b[0mfit\u001b[0m\u001b[0;34m(\u001b[0m\u001b[0mXt\u001b[0m\u001b[0;34m,\u001b[0m \u001b[0my\u001b[0m\u001b[0;34m,\u001b[0m \u001b[0;34m**\u001b[0m\u001b[0mfit_params_last_step\u001b[0m\u001b[0;34m)\u001b[0m\u001b[0;34m\u001b[0m\u001b[0;34m\u001b[0m\u001b[0m\n\u001b[0m\u001b[1;32m    336\u001b[0m \u001b[0;34m\u001b[0m\u001b[0m\n\u001b[1;32m    337\u001b[0m         \u001b[0;32mreturn\u001b[0m \u001b[0mself\u001b[0m\u001b[0;34m\u001b[0m\u001b[0;34m\u001b[0m\u001b[0m\n",
      "\u001b[0;32m/opt/anaconda3/lib/python3.8/site-packages/sklearn/ensemble/_forest.py\u001b[0m in \u001b[0;36mfit\u001b[0;34m(self, X, y, sample_weight)\u001b[0m\n\u001b[1;32m    301\u001b[0m                 \u001b[0;34m\"sparse multilabel-indicator for y is not supported.\"\u001b[0m\u001b[0;34m\u001b[0m\u001b[0;34m\u001b[0m\u001b[0m\n\u001b[1;32m    302\u001b[0m             )\n\u001b[0;32m--> 303\u001b[0;31m         X, y = self._validate_data(X, y, multi_output=True,\n\u001b[0m\u001b[1;32m    304\u001b[0m                                    accept_sparse=\"csc\", dtype=DTYPE)\n\u001b[1;32m    305\u001b[0m         \u001b[0;32mif\u001b[0m \u001b[0msample_weight\u001b[0m \u001b[0;32mis\u001b[0m \u001b[0;32mnot\u001b[0m \u001b[0;32mNone\u001b[0m\u001b[0;34m:\u001b[0m\u001b[0;34m\u001b[0m\u001b[0;34m\u001b[0m\u001b[0m\n",
      "\u001b[0;32m/opt/anaconda3/lib/python3.8/site-packages/sklearn/base.py\u001b[0m in \u001b[0;36m_validate_data\u001b[0;34m(self, X, y, reset, validate_separately, **check_params)\u001b[0m\n\u001b[1;32m    430\u001b[0m                 \u001b[0my\u001b[0m \u001b[0;34m=\u001b[0m \u001b[0mcheck_array\u001b[0m\u001b[0;34m(\u001b[0m\u001b[0my\u001b[0m\u001b[0;34m,\u001b[0m \u001b[0;34m**\u001b[0m\u001b[0mcheck_y_params\u001b[0m\u001b[0;34m)\u001b[0m\u001b[0;34m\u001b[0m\u001b[0;34m\u001b[0m\u001b[0m\n\u001b[1;32m    431\u001b[0m             \u001b[0;32melse\u001b[0m\u001b[0;34m:\u001b[0m\u001b[0;34m\u001b[0m\u001b[0;34m\u001b[0m\u001b[0m\n\u001b[0;32m--> 432\u001b[0;31m                 \u001b[0mX\u001b[0m\u001b[0;34m,\u001b[0m \u001b[0my\u001b[0m \u001b[0;34m=\u001b[0m \u001b[0mcheck_X_y\u001b[0m\u001b[0;34m(\u001b[0m\u001b[0mX\u001b[0m\u001b[0;34m,\u001b[0m \u001b[0my\u001b[0m\u001b[0;34m,\u001b[0m \u001b[0;34m**\u001b[0m\u001b[0mcheck_params\u001b[0m\u001b[0;34m)\u001b[0m\u001b[0;34m\u001b[0m\u001b[0;34m\u001b[0m\u001b[0m\n\u001b[0m\u001b[1;32m    433\u001b[0m             \u001b[0mout\u001b[0m \u001b[0;34m=\u001b[0m \u001b[0mX\u001b[0m\u001b[0;34m,\u001b[0m \u001b[0my\u001b[0m\u001b[0;34m\u001b[0m\u001b[0;34m\u001b[0m\u001b[0m\n\u001b[1;32m    434\u001b[0m \u001b[0;34m\u001b[0m\u001b[0m\n",
      "\u001b[0;32m/opt/anaconda3/lib/python3.8/site-packages/sklearn/utils/validation.py\u001b[0m in \u001b[0;36minner_f\u001b[0;34m(*args, **kwargs)\u001b[0m\n\u001b[1;32m     71\u001b[0m                           FutureWarning)\n\u001b[1;32m     72\u001b[0m         \u001b[0mkwargs\u001b[0m\u001b[0;34m.\u001b[0m\u001b[0mupdate\u001b[0m\u001b[0;34m(\u001b[0m\u001b[0;34m{\u001b[0m\u001b[0mk\u001b[0m\u001b[0;34m:\u001b[0m \u001b[0marg\u001b[0m \u001b[0;32mfor\u001b[0m \u001b[0mk\u001b[0m\u001b[0;34m,\u001b[0m \u001b[0marg\u001b[0m \u001b[0;32min\u001b[0m \u001b[0mzip\u001b[0m\u001b[0;34m(\u001b[0m\u001b[0msig\u001b[0m\u001b[0;34m.\u001b[0m\u001b[0mparameters\u001b[0m\u001b[0;34m,\u001b[0m \u001b[0margs\u001b[0m\u001b[0;34m)\u001b[0m\u001b[0;34m}\u001b[0m\u001b[0;34m)\u001b[0m\u001b[0;34m\u001b[0m\u001b[0;34m\u001b[0m\u001b[0m\n\u001b[0;32m---> 73\u001b[0;31m         \u001b[0;32mreturn\u001b[0m \u001b[0mf\u001b[0m\u001b[0;34m(\u001b[0m\u001b[0;34m**\u001b[0m\u001b[0mkwargs\u001b[0m\u001b[0;34m)\u001b[0m\u001b[0;34m\u001b[0m\u001b[0;34m\u001b[0m\u001b[0m\n\u001b[0m\u001b[1;32m     74\u001b[0m     \u001b[0;32mreturn\u001b[0m \u001b[0minner_f\u001b[0m\u001b[0;34m\u001b[0m\u001b[0;34m\u001b[0m\u001b[0m\n\u001b[1;32m     75\u001b[0m \u001b[0;34m\u001b[0m\u001b[0m\n",
      "\u001b[0;32m/opt/anaconda3/lib/python3.8/site-packages/sklearn/utils/validation.py\u001b[0m in \u001b[0;36mcheck_X_y\u001b[0;34m(X, y, accept_sparse, accept_large_sparse, dtype, order, copy, force_all_finite, ensure_2d, allow_nd, multi_output, ensure_min_samples, ensure_min_features, y_numeric, estimator)\u001b[0m\n\u001b[1;32m    794\u001b[0m         \u001b[0;32mraise\u001b[0m \u001b[0mValueError\u001b[0m\u001b[0;34m(\u001b[0m\u001b[0;34m\"y cannot be None\"\u001b[0m\u001b[0;34m)\u001b[0m\u001b[0;34m\u001b[0m\u001b[0;34m\u001b[0m\u001b[0m\n\u001b[1;32m    795\u001b[0m \u001b[0;34m\u001b[0m\u001b[0m\n\u001b[0;32m--> 796\u001b[0;31m     X = check_array(X, accept_sparse=accept_sparse,\n\u001b[0m\u001b[1;32m    797\u001b[0m                     \u001b[0maccept_large_sparse\u001b[0m\u001b[0;34m=\u001b[0m\u001b[0maccept_large_sparse\u001b[0m\u001b[0;34m,\u001b[0m\u001b[0;34m\u001b[0m\u001b[0;34m\u001b[0m\u001b[0m\n\u001b[1;32m    798\u001b[0m                     \u001b[0mdtype\u001b[0m\u001b[0;34m=\u001b[0m\u001b[0mdtype\u001b[0m\u001b[0;34m,\u001b[0m \u001b[0morder\u001b[0m\u001b[0;34m=\u001b[0m\u001b[0morder\u001b[0m\u001b[0;34m,\u001b[0m \u001b[0mcopy\u001b[0m\u001b[0;34m=\u001b[0m\u001b[0mcopy\u001b[0m\u001b[0;34m,\u001b[0m\u001b[0;34m\u001b[0m\u001b[0;34m\u001b[0m\u001b[0m\n",
      "\u001b[0;32m/opt/anaconda3/lib/python3.8/site-packages/sklearn/utils/validation.py\u001b[0m in \u001b[0;36minner_f\u001b[0;34m(*args, **kwargs)\u001b[0m\n\u001b[1;32m     71\u001b[0m                           FutureWarning)\n\u001b[1;32m     72\u001b[0m         \u001b[0mkwargs\u001b[0m\u001b[0;34m.\u001b[0m\u001b[0mupdate\u001b[0m\u001b[0;34m(\u001b[0m\u001b[0;34m{\u001b[0m\u001b[0mk\u001b[0m\u001b[0;34m:\u001b[0m \u001b[0marg\u001b[0m \u001b[0;32mfor\u001b[0m \u001b[0mk\u001b[0m\u001b[0;34m,\u001b[0m \u001b[0marg\u001b[0m \u001b[0;32min\u001b[0m \u001b[0mzip\u001b[0m\u001b[0;34m(\u001b[0m\u001b[0msig\u001b[0m\u001b[0;34m.\u001b[0m\u001b[0mparameters\u001b[0m\u001b[0;34m,\u001b[0m \u001b[0margs\u001b[0m\u001b[0;34m)\u001b[0m\u001b[0;34m}\u001b[0m\u001b[0;34m)\u001b[0m\u001b[0;34m\u001b[0m\u001b[0;34m\u001b[0m\u001b[0m\n\u001b[0;32m---> 73\u001b[0;31m         \u001b[0;32mreturn\u001b[0m \u001b[0mf\u001b[0m\u001b[0;34m(\u001b[0m\u001b[0;34m**\u001b[0m\u001b[0mkwargs\u001b[0m\u001b[0;34m)\u001b[0m\u001b[0;34m\u001b[0m\u001b[0;34m\u001b[0m\u001b[0m\n\u001b[0m\u001b[1;32m     74\u001b[0m     \u001b[0;32mreturn\u001b[0m \u001b[0minner_f\u001b[0m\u001b[0;34m\u001b[0m\u001b[0;34m\u001b[0m\u001b[0m\n\u001b[1;32m     75\u001b[0m \u001b[0;34m\u001b[0m\u001b[0m\n",
      "\u001b[0;32m/opt/anaconda3/lib/python3.8/site-packages/sklearn/utils/validation.py\u001b[0m in \u001b[0;36mcheck_array\u001b[0;34m(array, accept_sparse, accept_large_sparse, dtype, order, copy, force_all_finite, ensure_2d, allow_nd, ensure_min_samples, ensure_min_features, estimator)\u001b[0m\n\u001b[1;32m    532\u001b[0m \u001b[0;34m\u001b[0m\u001b[0m\n\u001b[1;32m    533\u001b[0m         \u001b[0;32mif\u001b[0m \u001b[0mall\u001b[0m\u001b[0;34m(\u001b[0m\u001b[0misinstance\u001b[0m\u001b[0;34m(\u001b[0m\u001b[0mdtype\u001b[0m\u001b[0;34m,\u001b[0m \u001b[0mnp\u001b[0m\u001b[0;34m.\u001b[0m\u001b[0mdtype\u001b[0m\u001b[0;34m)\u001b[0m \u001b[0;32mfor\u001b[0m \u001b[0mdtype\u001b[0m \u001b[0;32min\u001b[0m \u001b[0mdtypes_orig\u001b[0m\u001b[0;34m)\u001b[0m\u001b[0;34m:\u001b[0m\u001b[0;34m\u001b[0m\u001b[0;34m\u001b[0m\u001b[0m\n\u001b[0;32m--> 534\u001b[0;31m             \u001b[0mdtype_orig\u001b[0m \u001b[0;34m=\u001b[0m \u001b[0mnp\u001b[0m\u001b[0;34m.\u001b[0m\u001b[0mresult_type\u001b[0m\u001b[0;34m(\u001b[0m\u001b[0;34m*\u001b[0m\u001b[0mdtypes_orig\u001b[0m\u001b[0;34m)\u001b[0m\u001b[0;34m\u001b[0m\u001b[0;34m\u001b[0m\u001b[0m\n\u001b[0m\u001b[1;32m    535\u001b[0m \u001b[0;34m\u001b[0m\u001b[0m\n\u001b[1;32m    536\u001b[0m     \u001b[0;32mif\u001b[0m \u001b[0mdtype_numeric\u001b[0m\u001b[0;34m:\u001b[0m\u001b[0;34m\u001b[0m\u001b[0;34m\u001b[0m\u001b[0m\n",
      "\u001b[0;32m<__array_function__ internals>\u001b[0m in \u001b[0;36mresult_type\u001b[0;34m(*args, **kwargs)\u001b[0m\n",
      "\u001b[0;31mTypeError\u001b[0m: The DType <class 'numpy.dtype[datetime64]'> could not be promoted by <class 'numpy.dtype[float64]'>. This means that no common DType exists for the given inputs. For example they cannot be stored in a single array unless the dtype is `object`. The full list of DTypes is: (<class 'numpy.dtype[datetime64]'>, <class 'numpy.dtype[float64]'>, <class 'numpy.dtype[float64]'>, <class 'numpy.dtype[int64]'>, <class 'numpy.dtype[float64]'>, <class 'numpy.dtype[int64]'>, <class 'numpy.dtype[int64]'>, <class 'numpy.dtype[float64]'>, <class 'numpy.dtype[float64]'>, <class 'numpy.dtype[int64]'>, <class 'numpy.dtype[int64]'>, <class 'numpy.dtype[int64]'>, <class 'numpy.dtype[float64]'>, <class 'numpy.dtype[float64]'>, <class 'numpy.dtype[float64]'>, <class 'numpy.dtype[float64]'>, <class 'numpy.dtype[float64]'>, <class 'numpy.dtype[float64]'>)"
     ]
    }
   ],
   "source": [
    "rfpipe.fit(X_train_clean, y_train)\n",
    "#rfpipe.fit(X_train_clean.drop(labels=[\"Week_sin\", \"Week_cos\"], axis=1), y_train)"
   ]
  },
  {
   "cell_type": "code",
   "execution_count": null,
   "id": "7b5aee7d",
   "metadata": {
    "scrolled": true
   },
   "outputs": [],
   "source": [
    "y_pred = rfpipe.predict(X_validation_clean)\n",
    "#y_pred = rfpipe.predict(X_validation_clean.drop(labels=[\"Week_sin\", \"Week_cos\"], axis=1))"
   ]
  },
  {
   "cell_type": "code",
   "execution_count": null,
   "id": "7afe2263",
   "metadata": {},
   "outputs": [],
   "source": [
    "def metric(preds, actuals):\n",
    "    preds = preds.reshape(-1)\n",
    "    actuals = actuals.values.reshape(-1)\n",
    "    assert preds.shape == actuals.shape\n",
    "    return 100 * np.linalg.norm((actuals - preds) / actuals) / np.sqrt(preds.shape[0])"
   ]
  },
  {
   "cell_type": "code",
   "execution_count": null,
   "id": "64ebf65a",
   "metadata": {
    "scrolled": false
   },
   "outputs": [],
   "source": [
    "metric(y_pred, y_validation)"
   ]
  },
  {
   "cell_type": "code",
   "execution_count": null,
   "id": "30e930e6",
   "metadata": {},
   "outputs": [],
   "source": [
    " n_estimators=1024,\n",
    "    max_depth=16,\n",
    "    min_samples_split=32,\n",
    "    n_jobs=-1,\n",
    "    random_state=42,"
   ]
  },
  {
   "cell_type": "code",
   "execution_count": null,
   "id": "c74c6c1e",
   "metadata": {},
   "outputs": [],
   "source": [
    "# dropped Open, PromoInterval, \n",
    "# dropped Week_sin, Week_cos\n",
    "#   n_estimators=1024,\n",
    "#     max_depth=32,\n",
    "#     min_samples_split=32,\n",
    "#     n_jobs=-1,\n",
    "#     random_state=42,\n",
    "    \n",
    "#     19.625869037388814\n"
   ]
  },
  {
   "cell_type": "code",
   "execution_count": null,
   "id": "f5df8b30",
   "metadata": {},
   "outputs": [],
   "source": [
    "# dropped Week_sin, Week_cos\n",
    "#     n_estimators=512,\n",
    "#     max_depth=8,\n",
    "#     min_samples_split=16,\n",
    "#     n_jobs=-1,\n",
    "#     random_state=42,\n",
    "# )\n",
    "# 24.231677863136422\n"
   ]
  },
  {
   "cell_type": "code",
   "execution_count": null,
   "id": "4eb6694c",
   "metadata": {},
   "outputs": [],
   "source": [
    "# dropped Week_sin, Week_cos\n",
    "# n_estimators=512,\n",
    "#     max_depth=8,\n",
    "#     min_samples_split=16,\n",
    "#     n_jobs=-1,\n",
    "#     random_state=0,\n",
    "\n",
    "# 24.226454063190513"
   ]
  },
  {
   "cell_type": "code",
   "execution_count": null,
   "id": "4fee6f0f",
   "metadata": {},
   "outputs": [],
   "source": [
    "# dropped Week_sin, Week_cos\n",
    "# n_estimators=1024,\n",
    "#     max_depth=16,\n",
    "#     min_samples_split=32,\n",
    "#     n_jobs=-1,\n",
    "#     random_state=42,\n",
    "\n",
    "# 19.602686717730144"
   ]
  },
  {
   "cell_type": "code",
   "execution_count": null,
   "id": "e4e949bb",
   "metadata": {},
   "outputs": [],
   "source": [
    "# dropped Week_sin, Week_cos\n",
    "# n_estimators=1024,\n",
    "#     max_depth=8,\n",
    "#     min_samples_split=16,\n",
    "#     n_jobs=-1,\n",
    "#     random_state=42,\n",
    "\n",
    "\n",
    "#  24.24530735315937"
   ]
  },
  {
   "cell_type": "code",
   "execution_count": null,
   "id": "6a66a844",
   "metadata": {},
   "outputs": [],
   "source": [
    "# 19.689037516898324"
   ]
  },
  {
   "cell_type": "code",
   "execution_count": null,
   "id": "42e3a0b0",
   "metadata": {},
   "outputs": [],
   "source": [
    "# 19.337539508342996"
   ]
  },
  {
   "cell_type": "code",
   "execution_count": null,
   "id": "a02ab8f8",
   "metadata": {},
   "outputs": [],
   "source": [
    "import matplotlib.pyplot as plt\n",
    "%matplotlib inline\n",
    "plt.plot(y_validation, y_pred, '.')\n",
    "plt.show()"
   ]
  },
  {
   "cell_type": "code",
   "execution_count": null,
   "id": "2b215936",
   "metadata": {},
   "outputs": [],
   "source": [
    "importances = pd.DataFrame({\n",
    "    \"features\": rfpipe.steps[3][1].feature_names_in_,\n",
    "    \"values\": rfpipe.steps[3][1].feature_importances_,\n",
    "})\n",
    "\n",
    "print(importances.sort_values(by=\"values\", ascending=False))\n",
    "\n",
    "importances.set_index(\"features\").sort_values(by=\"values\", ascending=False).plot.barh()"
   ]
  },
  {
   "cell_type": "code",
   "execution_count": null,
   "id": "1a91e965",
   "metadata": {},
   "outputs": [],
   "source": []
  },
  {
   "cell_type": "code",
   "execution_count": null,
   "id": "1e9ebc25",
   "metadata": {},
   "outputs": [],
   "source": []
  },
  {
   "cell_type": "code",
   "execution_count": null,
   "id": "f521b828",
   "metadata": {},
   "outputs": [],
   "source": []
  },
  {
   "cell_type": "code",
   "execution_count": null,
   "id": "fbabbc77",
   "metadata": {},
   "outputs": [],
   "source": []
  },
  {
   "cell_type": "code",
   "execution_count": null,
   "id": "8871cb5b",
   "metadata": {},
   "outputs": [],
   "source": []
  },
  {
   "cell_type": "code",
   "execution_count": null,
   "id": "e5b4d9b3",
   "metadata": {},
   "outputs": [],
   "source": []
  },
  {
   "cell_type": "code",
   "execution_count": null,
   "id": "6647da25",
   "metadata": {},
   "outputs": [],
   "source": []
  },
  {
   "cell_type": "code",
   "execution_count": null,
   "id": "11692cc1",
   "metadata": {},
   "outputs": [],
   "source": []
  }
 ],
 "metadata": {
  "interpreter": {
   "hash": "40d3a090f54c6569ab1632332b64b2c03c39dcf918b08424e98f38b5ae0af88f"
  },
  "kernelspec": {
   "display_name": "Python 3.8.11 64-bit ('base': conda)",
   "language": "python",
   "name": "python3811jvsc74a57bd040d3a090f54c6569ab1632332b64b2c03c39dcf918b08424e98f38b5ae0af88f"
  },
  "language_info": {
   "codemirror_mode": {
    "name": "ipython",
    "version": 3
   },
   "file_extension": ".py",
   "mimetype": "text/x-python",
   "name": "python",
   "nbconvert_exporter": "python",
   "pygments_lexer": "ipython3",
   "version": "3.8.11"
  }
 },
 "nbformat": 4,
 "nbformat_minor": 5
}
