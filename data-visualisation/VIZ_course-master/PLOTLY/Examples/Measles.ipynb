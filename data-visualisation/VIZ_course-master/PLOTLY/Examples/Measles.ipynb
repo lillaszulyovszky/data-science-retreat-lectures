{
 "cells": [
  {
   "cell_type": "markdown",
   "metadata": {},
   "source": [
    "# Imports"
   ]
  },
  {
   "cell_type": "code",
   "execution_count": null,
   "metadata": {
    "ExecuteTime": {
     "end_time": "2017-11-15T00:13:34.507553",
     "start_time": "2017-11-15T00:13:34.505062"
    },
    "collapsed": true
   },
   "outputs": [],
   "source": [
    "import numpy as np\n",
    "import pandas as pd"
   ]
  },
  {
   "cell_type": "code",
   "execution_count": null,
   "metadata": {
    "ExecuteTime": {
     "end_time": "2017-11-15T00:13:38.298093",
     "start_time": "2017-11-15T00:13:34.887203"
    },
    "collapsed": true
   },
   "outputs": [],
   "source": [
    "import matplotlib.pyplot as plt\n",
    "%matplotlib inline\n",
    "import matplotlib.dates as mdates\n",
    "import seaborn as sns\n",
    "sns.set(context='talk',font='Courier New',font_scale=1.6)"
   ]
  },
  {
   "cell_type": "code",
   "execution_count": null,
   "metadata": {
    "ExecuteTime": {
     "end_time": "2017-11-15T00:13:38.939374",
     "start_time": "2017-11-15T00:13:38.301544"
    },
    "collapsed": true
   },
   "outputs": [],
   "source": [
    "import plotly as py\n",
    "import plotly.graph_objs as go"
   ]
  },
  {
   "cell_type": "code",
   "execution_count": null,
   "metadata": {
    "ExecuteTime": {
     "end_time": "2017-11-15T00:13:39.106585",
     "start_time": "2017-11-15T00:13:38.943530"
    }
   },
   "outputs": [],
   "source": [
    "import cufflinks as cf\n",
    "cf.offline.go_offline(connected=True)"
   ]
  },
  {
   "cell_type": "markdown",
   "metadata": {},
   "source": [
    "# Load and prepare the data"
   ]
  },
  {
   "cell_type": "code",
   "execution_count": null,
   "metadata": {
    "ExecuteTime": {
     "end_time": "2017-11-14T21:25:49.406476",
     "start_time": "2017-11-14T21:25:49.295614"
    }
   },
   "outputs": [],
   "source": [
    "data = pd.read_csv('../../data/measles_incidence.csv', skiprows=2, na_values='-')"
   ]
  },
  {
   "cell_type": "code",
   "execution_count": null,
   "metadata": {
    "ExecuteTime": {
     "end_time": "2017-11-15T00:06:58.229985",
     "start_time": "2017-11-15T00:06:58.207992"
    },
    "collapsed": true
   },
   "outputs": [],
   "source": [
    "annual = data.drop('WEEK', axis=1).groupby('YEAR').sum()"
   ]
  },
  {
   "cell_type": "code",
   "execution_count": null,
   "metadata": {
    "ExecuteTime": {
     "end_time": "2017-11-15T00:08:38.902724",
     "start_time": "2017-11-15T00:08:38.880905"
    }
   },
   "outputs": [],
   "source": [
    "annual.to_csv('../../data/measles_incidence_per_year.csv')"
   ]
  },
  {
   "cell_type": "code",
   "execution_count": null,
   "metadata": {
    "ExecuteTime": {
     "end_time": "2017-11-15T00:10:52.831042",
     "start_time": "2017-11-15T00:10:52.791905"
    }
   },
   "outputs": [],
   "source": [
    "annual.head()"
   ]
  },
  {
   "cell_type": "code",
   "execution_count": null,
   "metadata": {
    "ExecuteTime": {
     "end_time": "2017-11-15T00:10:46.042018",
     "start_time": "2017-11-15T00:10:46.033758"
    },
    "collapsed": true
   },
   "outputs": [],
   "source": [
    "stacked = annual.stack().reset_index()\n",
    "stacked.columns = ['year', 'state', 'incidence']"
   ]
  },
  {
   "cell_type": "code",
   "execution_count": null,
   "metadata": {
    "ExecuteTime": {
     "end_time": "2017-11-15T00:10:46.571555",
     "start_time": "2017-11-15T00:10:46.558314"
    }
   },
   "outputs": [],
   "source": [
    "stacked.head()"
   ]
  },
  {
   "cell_type": "markdown",
   "metadata": {},
   "source": [
    "# Average incidence over time"
   ]
  },
  {
   "cell_type": "code",
   "execution_count": null,
   "metadata": {
    "ExecuteTime": {
     "end_time": "2017-11-15T00:15:52.063690",
     "start_time": "2017-11-15T00:15:52.060442"
    },
    "collapsed": true
   },
   "outputs": [],
   "source": [
    "# avg_incidence = stacked.groupby('year').incidence.mean()\n",
    "avg_incidence = annual.mean(axis=1)"
   ]
  },
  {
   "cell_type": "code",
   "execution_count": null,
   "metadata": {
    "ExecuteTime": {
     "end_time": "2017-11-15T00:13:41.279044",
     "start_time": "2017-11-15T00:13:41.259740"
    }
   },
   "outputs": [],
   "source": [
    "trace = go.Scatter(x=avg_incidence.index,\n",
    "                   y=avg_incidence,\n",
    "                   mode='lines+markers')\n",
    "\n",
    "layout = dict(title='Average Measles Incidence vs Time',\n",
    "              xaxis=dict(title='Year'),\n",
    "              yaxis=dict(title='Average Measles Incidence'),\n",
    "              annotations=[dict(x=1963,\n",
    "                                y=0.1,\n",
    "                                xref='x',\n",
    "                                yref='paper',\n",
    "                                text='vaccine<br>introduced',\n",
    "                                showarrow=True,\n",
    "                                ax=0,\n",
    "                                ay=-250)])\n",
    "\n",
    "fig = go.Figure(data=[trace], layout=layout)\n",
    "\n",
    "py.offline.iplot(fig)"
   ]
  },
  {
   "cell_type": "code",
   "execution_count": null,
   "metadata": {
    "ExecuteTime": {
     "end_time": "2017-11-14T16:30:53.010812",
     "start_time": "2017-11-14T16:30:51.352002"
    }
   },
   "outputs": [],
   "source": [
    "py.plotly.plot(fig, filename='measles_vs_time', sharing='public')"
   ]
  },
  {
   "cell_type": "markdown",
   "metadata": {},
   "source": [
    "# Incidence over time for each U.S. state"
   ]
  },
  {
   "cell_type": "code",
   "execution_count": null,
   "metadata": {
    "ExecuteTime": {
     "end_time": "2017-11-15T00:13:55.276647",
     "start_time": "2017-11-15T00:13:55.166644"
    }
   },
   "outputs": [],
   "source": [
    "trace = go.Heatmap(z=annual.T.values,\n",
    "                   x=annual.index,\n",
    "                   y=annual.columns,\n",
    "                   colorbar = dict(title = 'Incidence<br>(cases per 100K)',\n",
    "                                   titleside = 'top',\n",
    "                                   ticks = 'outside'))\n",
    "\n",
    "layout = go.Layout(title='Annual Measles Incidence vs Time',\n",
    "                   height=600,\n",
    "                   xaxis=dict(title='Year',\n",
    "                              tickmode='array',\n",
    "                              tickvals=list(range(1920,2010,10))),\n",
    "                   yaxis=dict(autotick=False,\n",
    "                              tickfont=dict(size=8)),\n",
    "                   margin=dict(l=120),\n",
    "                   annotations=[dict(x=1963,\n",
    "                                     y=1,\n",
    "                                     xref='x',\n",
    "                                     yref='paper',\n",
    "                                     text='vaccine introduced',\n",
    "                                     showarrow=True,\n",
    "                                     ax=0)\n",
    "                               ])\n",
    "\n",
    "fig = go.Figure(data=[trace], layout=layout)\n",
    "\n",
    "py.offline.iplot(fig)"
   ]
  },
  {
   "cell_type": "code",
   "execution_count": null,
   "metadata": {
    "ExecuteTime": {
     "end_time": "2017-11-14T12:05:50.016097",
     "start_time": "2017-11-14T12:05:47.967709"
    }
   },
   "outputs": [],
   "source": [
    "py.plotly.plot(fig, filename='measles_heatmap', sharing='public')"
   ]
  },
  {
   "cell_type": "markdown",
   "metadata": {},
   "source": [
    "# Histogram of States by incidence"
   ]
  },
  {
   "cell_type": "code",
   "execution_count": null,
   "metadata": {
    "ExecuteTime": {
     "end_time": "2017-11-15T00:14:10.985153",
     "start_time": "2017-11-15T00:14:10.979746"
    }
   },
   "outputs": [],
   "source": [
    "annual.index"
   ]
  },
  {
   "cell_type": "code",
   "execution_count": null,
   "metadata": {
    "ExecuteTime": {
     "end_time": "2017-11-15T00:14:12.980906",
     "start_time": "2017-11-15T00:14:12.964130"
    }
   },
   "outputs": [],
   "source": [
    "year = 1942\n",
    "\n",
    "trace = go.Histogram(x=annual.loc[year],\n",
    "                     xbins=dict(start=0,\n",
    "                                end=1500,\n",
    "                                size=50),\n",
    "                     name=str(year))\n",
    "\n",
    "layout = go.Layout(title='U.S. States vs. Measles Incidence<br>year: '+str(year),\n",
    "                   xaxis=dict(title='Measles Incidence (cases per 100K)',\n",
    "                              range=[0,1500]),\n",
    "                   yaxis=dict(title='Number of US states'),\n",
    "                   bargap=0.05)\n",
    "\n",
    "fig = go.Figure(data=[trace], layout=layout)\n",
    "\n",
    "py.offline.iplot(fig)"
   ]
  },
  {
   "cell_type": "code",
   "execution_count": null,
   "metadata": {
    "ExecuteTime": {
     "end_time": "2017-11-15T00:14:19.740941",
     "start_time": "2017-11-15T00:14:16.716983"
    }
   },
   "outputs": [],
   "source": [
    "py.plotly.plot(fig, filename='measles_histogram_1942', sharing='public')"
   ]
  },
  {
   "cell_type": "markdown",
   "metadata": {},
   "source": [
    "# Histogram of States by incidence for each year"
   ]
  },
  {
   "cell_type": "code",
   "execution_count": null,
   "metadata": {
    "ExecuteTime": {
     "end_time": "2017-11-15T00:14:20.065431",
     "start_time": "2017-11-15T00:14:19.744368"
    }
   },
   "outputs": [],
   "source": [
    "# Based on https://plot.ly/python/sliders/\n",
    "\n",
    "# Traces and steps\n",
    "traces = []\n",
    "steps = []\n",
    "for i, year in enumerate(annual.index):\n",
    "    # Add a trace for every year\n",
    "    trace = go.Histogram(x=annual.loc[year],\n",
    "                         xbins=dict(start=0,\n",
    "                                    end=1500,\n",
    "                                    size=50),\n",
    "                         name=str(year),\n",
    "                         visible=True if year==1928 else False)\n",
    "    traces.append(trace)\n",
    "    \n",
    "    # Add a step for every year\n",
    "    step = dict(method='restyle',\n",
    "                args=['visible', [False] * len(annual)],\n",
    "                label=str(year))\n",
    "    step['args'][1][i] = True # Toggle i'th trace to \"visible\"\n",
    "    steps.append(step)\n",
    "\n",
    "# Slider\n",
    "sliders = [dict(active = 0,\n",
    "                currentvalue = {\"prefix\": \"Year: \"},\n",
    "                pad = {\"t\": 50},\n",
    "                steps = steps)]\n",
    "\n",
    "# Layout\n",
    "layout = go.Layout(title='U.S. States vs. Measles Incidence',\n",
    "                   xaxis=dict(title='Measles Incidence (cases per 100K)',\n",
    "                              range=[0,1500]),\n",
    "                   yaxis=dict(title='Number of US states',\n",
    "                              range=[0,52]),\n",
    "                   bargap=0.05,\n",
    "                   sliders = sliders)\n",
    "\n",
    "# Figure\n",
    "fig = go.Figure(data=traces, layout=layout)\n",
    "\n",
    "py.offline.iplot(fig)"
   ]
  },
  {
   "cell_type": "code",
   "execution_count": null,
   "metadata": {
    "ExecuteTime": {
     "end_time": "2017-11-14T16:34:38.099281",
     "start_time": "2017-11-14T16:34:35.141455"
    }
   },
   "outputs": [],
   "source": [
    "py.plotly.plot(fig, filename='measles_histograms', sharing='public')"
   ]
  },
  {
   "cell_type": "code",
   "execution_count": null,
   "metadata": {
    "collapsed": true
   },
   "outputs": [],
   "source": []
  }
 ],
 "metadata": {
  "kernelspec": {
   "display_name": "Python 3",
   "language": "python",
   "name": "python3"
  },
  "language_info": {
   "codemirror_mode": {
    "name": "ipython",
    "version": 3
   },
   "file_extension": ".py",
   "mimetype": "text/x-python",
   "name": "python",
   "nbconvert_exporter": "python",
   "pygments_lexer": "ipython3",
   "version": "3.5.3"
  },
  "toc": {
   "toc_cell": false,
   "toc_number_sections": true,
   "toc_threshold": 6,
   "toc_window_display": false
  },
  "widgets": {
   "state": {},
   "version": "1.1.2"
  }
 },
 "nbformat": 4,
 "nbformat_minor": 2
}
