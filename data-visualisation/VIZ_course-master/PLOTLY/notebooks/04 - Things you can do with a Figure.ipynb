{
 "cells": [
  {
   "cell_type": "markdown",
   "metadata": {},
   "source": [
    "# Things you can do with a Figure object"
   ]
  },
  {
   "cell_type": "code",
   "execution_count": null,
   "metadata": {
    "ExecuteTime": {
     "end_time": "2017-11-12T12:11:54.642737",
     "start_time": "2017-11-12T12:11:53.056468"
    },
    "slideshow": {
     "slide_type": "-"
    }
   },
   "outputs": [],
   "source": [
    "# Import the library\n",
    "import plotly as py"
   ]
  },
  {
   "cell_type": "code",
   "execution_count": null,
   "metadata": {
    "ExecuteTime": {
     "end_time": "2017-11-12T12:12:07.576419",
     "start_time": "2017-11-12T12:12:07.573724"
    }
   },
   "outputs": [],
   "source": [
    "# Building blocks of Plotly plots\n",
    "import plotly.graph_objs as go"
   ]
  },
  {
   "cell_type": "code",
   "execution_count": null,
   "metadata": {},
   "outputs": [],
   "source": [
    "# Constructing a figure\n",
    "import numpy as np\n",
    "x = np.linspace(0, 2*np.pi)\n",
    "\n",
    "# Traces\n",
    "trace0 = dict(\n",
    "    type='scatter', \n",
    "    x=x, \n",
    "    y=np.sin(x), \n",
    "    name='sin(x)'\n",
    ")\n",
    "trace1 = dict(\n",
    "    type='scatter', \n",
    "    x=x, \n",
    "    y=np.cos(x), \n",
    "    name='cos(x)'\n",
    ")\n",
    "\n",
    "# Layout\n",
    "layout = dict(\n",
    "    title='SIN and COS functions',\n",
    "    xaxis=dict(title='x'),\n",
    "    yaxis=dict(title='f(x)')\n",
    ")\n",
    "\n",
    "# Figure\n",
    "fig = go.Figure(data=[trace0, trace1], layout=layout) "
   ]
  },
  {
   "cell_type": "markdown",
   "metadata": {},
   "source": [
    "#### Introspect the fig object"
   ]
  },
  {
   "cell_type": "code",
   "execution_count": null,
   "metadata": {},
   "outputs": [],
   "source": [
    "fig.to_dict()"
   ]
  },
  {
   "cell_type": "code",
   "execution_count": null,
   "metadata": {
    "scrolled": true
   },
   "outputs": [],
   "source": [
    "# To get all the figure properties, including the default values (those that you haven't set yourself).\n",
    "# This is useful to see the full list of things that you can change in a figure.\n",
    "fig.full_figure_for_development(as_dict=True)"
   ]
  },
  {
   "cell_type": "markdown",
   "metadata": {},
   "source": [
    "#### Display the result within the notebook"
   ]
  },
  {
   "cell_type": "code",
   "execution_count": null,
   "metadata": {},
   "outputs": [],
   "source": [
    "# The .show method accepts a config parameter\n",
    "fig.show(config=dict(displaylogo=False))"
   ]
  },
  {
   "cell_type": "code",
   "execution_count": null,
   "metadata": {},
   "outputs": [],
   "source": [
    "# The figure can be shown also as a static image\n",
    "fig.show(renderer='png')"
   ]
  },
  {
   "cell_type": "markdown",
   "metadata": {},
   "source": [
    "#### Create a stand-alone html file "
   ]
  },
  {
   "cell_type": "code",
   "execution_count": null,
   "metadata": {},
   "outputs": [],
   "source": [
    "# This includes by default all necessary code (including Plotly.js) to render the plot\n",
    "fig.write_html(\n",
    "    file='sin_cos.html', \n",
    "    include_plotlyjs='cdn',\n",
    "    config=dict(displaylogo=False),\n",
    ")"
   ]
  },
  {
   "cell_type": "markdown",
   "metadata": {},
   "source": [
    "#### Create just a `<div>` element with the plot to embed in your web page"
   ]
  },
  {
   "cell_type": "code",
   "execution_count": null,
   "metadata": {},
   "outputs": [],
   "source": [
    "fig.write_html(\n",
    "    file='mydiv.html', \n",
    "    include_plotlyjs=False,\n",
    "    config=dict(displaylogo=False),\n",
    "    full_html=False,\n",
    ")"
   ]
  },
  {
   "cell_type": "code",
   "execution_count": null,
   "metadata": {},
   "outputs": [],
   "source": [
    "# Then you can use the resulting string in your own HTML code:\n",
    "with open('mydiv.html', 'r') as f:\n",
    "    div_str = f.read()\n",
    "\n",
    "html_str = f'''\n",
    "<!DOCTYPE html>\n",
    "<html>\n",
    "\n",
    "  <head>\n",
    "    <script src='https://cdn.plot.ly/plotly-latest.min.js'></script>\n",
    "  </head>\n",
    "\n",
    "  <body>\n",
    "    <h1>Simple Dashboard</h1>\n",
    "    <p>The following plot is static and interactive at the same time ;)</p>\n",
    "\n",
    "    {div_str}\n",
    "\n",
    "  </body>\n",
    "\n",
    "</html>\n",
    "'''\n",
    "\n",
    "\n",
    "# The final string can be saved in a file\n",
    "with open('simple_dashboard.html', 'w') as f:\n",
    "    f.write(html_str)"
   ]
  },
  {
   "cell_type": "markdown",
   "metadata": {},
   "source": [
    "#### Export it as static image (done by [`kaleido`](https://github.com/plotly/Kaleido) under the hood)"
   ]
  },
  {
   "cell_type": "markdown",
   "metadata": {},
   "source": [
    "Although it is possible to download a static image manually by pressing the camera icon on any Plotly plot, you can do that also programatically with:"
   ]
  },
  {
   "cell_type": "code",
   "execution_count": null,
   "metadata": {},
   "outputs": [],
   "source": [
    "fig.write_image(file='sin_cos.png', width=700, height=500)"
   ]
  },
  {
   "cell_type": "markdown",
   "metadata": {},
   "source": [
    "#### Share it via the Plotly cloud (Chart Studio)"
   ]
  },
  {
   "cell_type": "markdown",
   "metadata": {},
   "source": [
    "Chart Studio is another pip installable Plotly library (`pip install chart_studio`) that allows you to generate plots and use the Plotly cloud platform to host and share them. This requires a Plotly (free) account. The hosting is also for free as long as you keep your plots public.\n",
    "\n",
    "See [Getting Started with Chart Studio in Python](https://plot.ly/python/getting-started-with-chart-studio/)."
   ]
  },
  {
   "cell_type": "markdown",
   "metadata": {},
   "source": [
    "## Exercise"
   ]
  },
  {
   "cell_type": "markdown",
   "metadata": {},
   "source": [
    "Take any of the Plotly figures built so far (or any one of your choice), embed it in your custom HTML document and host it in [GitHub pages](https://pages.github.com/) following the steps defined in the [slides](https://slides.com/chumo/plotly/)."
   ]
  },
  {
   "cell_type": "code",
   "execution_count": null,
   "metadata": {},
   "outputs": [],
   "source": []
  }
 ],
 "metadata": {
  "kernelspec": {
   "display_name": "Python 3",
   "language": "python",
   "name": "python3"
  },
  "language_info": {
   "codemirror_mode": {
    "name": "ipython",
    "version": 3
   },
   "file_extension": ".py",
   "mimetype": "text/x-python",
   "name": "python",
   "nbconvert_exporter": "python",
   "pygments_lexer": "ipython3",
   "version": "3.7.4"
  }
 },
 "nbformat": 4,
 "nbformat_minor": 4
}
