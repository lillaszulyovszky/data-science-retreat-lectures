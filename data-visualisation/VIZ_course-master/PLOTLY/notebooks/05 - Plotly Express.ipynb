{
 "cells": [
  {
   "cell_type": "markdown",
   "metadata": {},
   "source": [
    "# Plotly Express"
   ]
  },
  {
   "cell_type": "markdown",
   "metadata": {},
   "source": [
    "Check the presentation blog post [Introducing Plotly Express](https://medium.com/@plotlygraphs/introducing-plotly-express-808df010143d)."
   ]
  },
  {
   "cell_type": "code",
   "execution_count": null,
   "metadata": {},
   "outputs": [],
   "source": [
    "# Plotly Express is now a sublibrary of Plotly:\n",
    "import plotly.express as px"
   ]
  },
  {
   "cell_type": "markdown",
   "metadata": {},
   "source": [
    "## Tidy DataFrames as input in Plotly Express"
   ]
  },
  {
   "cell_type": "markdown",
   "metadata": {},
   "source": [
    "Tidy Data according to Hadley Wickham: ([original paper](http://vita.had.co.nz/papers/tidy-data.pdf))\n",
    "\n",
    "- Each variable forms a column and contains values\n",
    "- Each observation forms a row\n",
    "- Each type of observational unit forms a table"
   ]
  },
  {
   "cell_type": "code",
   "execution_count": null,
   "metadata": {},
   "outputs": [],
   "source": [
    "import pandas as pd"
   ]
  },
  {
   "cell_type": "code",
   "execution_count": null,
   "metadata": {},
   "outputs": [],
   "source": [
    "# Here is a \"messy\" dataframe (wide-form):\n",
    "messy = pd.DataFrame({\n",
    "    'patient': ['John Smith', 'Jane Doe', 'Mary Johnson'],\n",
    "    'Treatment A': [None, 16, 3],\n",
    "    'Treatment B': [2, 11, 1],\n",
    "})\n",
    "\n",
    "messy"
   ]
  },
  {
   "cell_type": "code",
   "execution_count": null,
   "metadata": {},
   "outputs": [],
   "source": [
    "# The pandas method `.melt` can often be used to tidy the data (long-form):\n",
    "tidy = messy.melt(\n",
    "    id_vars=['patient'],\n",
    "    value_vars=['Treatment A', 'Treatment B'],\n",
    "    var_name='Treatment',\n",
    "    value_name='Result',\n",
    ")\n",
    "\n",
    "tidy"
   ]
  },
  {
   "cell_type": "code",
   "execution_count": null,
   "metadata": {},
   "outputs": [],
   "source": [
    "# Once it is in tidy format, plotly express allows you to build complex interactive plots with a one-liner:\n",
    "px.bar(\n",
    "    data_frame=tidy,\n",
    "    x='patient',\n",
    "    y='Result',\n",
    "    color='Treatment',\n",
    "    barmode='group',\n",
    "    title='Medical Treatment Results',\n",
    ")"
   ]
  },
  {
   "cell_type": "markdown",
   "metadata": {},
   "source": [
    "**IMPORTANT**: From Plotly.py version 4.8 it is no longer a requirement to use [tidy](https://www.jeannicholashould.com/tidy-data-in-python.html) dataframes. See [this post](https://medium.com/plotly/beyond-tidy-plotly-express-now-accepts-wide-form-and-mixed-form-data-bdc3e054f891)."
   ]
  },
  {
   "cell_type": "code",
   "execution_count": null,
   "metadata": {},
   "outputs": [],
   "source": [
    "# Plotly express also takes messy dataframes (suitable for quick visualizations during data exploration).\n",
    "px.bar(\n",
    "    messy, \n",
    "    x='patient', \n",
    "    y=['Treatment A', 'Treatment B'], \n",
    "    barmode='group',\n",
    "    title='Medical Treatment Results',\n",
    ")"
   ]
  },
  {
   "cell_type": "markdown",
   "metadata": {},
   "source": [
    "## Exercise 1"
   ]
  },
  {
   "cell_type": "markdown",
   "metadata": {},
   "source": [
    "Use the example cluster data, loaded with:"
   ]
  },
  {
   "cell_type": "code",
   "execution_count": null,
   "metadata": {},
   "outputs": [],
   "source": [
    "import pandas as pd\n",
    "table = pd.read_csv('https://raw.githubusercontent.com/chumo/Data2Serve/master/transition_clusters.csv')"
   ]
  },
  {
   "cell_type": "markdown",
   "metadata": {},
   "source": [
    "... and convert it into a tidy dataframe (_HINT_: use `pd.concat` method). It should look like this:\n",
    "\n",
    "![](images/fig_05.0.png)"
   ]
  },
  {
   "cell_type": "markdown",
   "metadata": {},
   "source": [
    "## Exercise 2"
   ]
  },
  {
   "cell_type": "markdown",
   "metadata": {},
   "source": [
    "Take the tidy dataframe created in Exercise 1 and build this plot with two subplots:\n",
    "\n",
    "![](images/fig_05.1.png)"
   ]
  },
  {
   "cell_type": "markdown",
   "metadata": {},
   "source": [
    "And now making each subplot as a frame of an animated plot:\n",
    "\n",
    "![](images/fig_05.2.png)"
   ]
  },
  {
   "cell_type": "markdown",
   "metadata": {},
   "source": [
    "## Exercise 3"
   ]
  },
  {
   "cell_type": "markdown",
   "metadata": {},
   "source": [
    "Using the gapminder data:"
   ]
  },
  {
   "cell_type": "code",
   "execution_count": null,
   "metadata": {},
   "outputs": [],
   "source": [
    "gapminder = px.data.gapminder()"
   ]
  },
  {
   "cell_type": "code",
   "execution_count": null,
   "metadata": {},
   "outputs": [],
   "source": [
    "gapminder.head()"
   ]
  },
  {
   "cell_type": "markdown",
   "metadata": {},
   "source": [
    "Build the following plots:\n",
    "\n",
    "![](images/fig_05.3.png)\n",
    "\n",
    "![](images/fig_05.4.png)\n",
    "\n",
    "and this animated plot:\n",
    "\n",
    "![](images/fig_05.5.png)"
   ]
  },
  {
   "cell_type": "markdown",
   "metadata": {},
   "source": [
    "## Plotly Express powered backend for Pandas plotting"
   ]
  },
  {
   "cell_type": "markdown",
   "metadata": {},
   "source": [
    "Since Pandas 0.25 it is possible to provide any backend for the `.plot` plotting API. \n",
    "\n",
    "Plotly backend ([see here](https://plotly.com/python/pandas-backend/)) can be set with:"
   ]
  },
  {
   "cell_type": "code",
   "execution_count": null,
   "metadata": {},
   "outputs": [],
   "source": [
    "import pandas as pd\n",
    "pd.options.plotting.backend = 'plotly'"
   ]
  },
  {
   "cell_type": "markdown",
   "metadata": {},
   "source": [
    "Then you can use the most common functionalities of Plotly Express by passing your Plotly parameters to the `.plot` method available to any pandas DataFrame;"
   ]
  },
  {
   "cell_type": "code",
   "execution_count": null,
   "metadata": {},
   "outputs": [],
   "source": [
    "tidy.plot.bar(\n",
    "    x='patient', \n",
    "    y='Result', \n",
    "    color='Treatment',\n",
    "    barmode='group',\n",
    "    title='Medical Treatment Results',\n",
    ")"
   ]
  }
 ],
 "metadata": {
  "kernelspec": {
   "display_name": "Python 3",
   "language": "python",
   "name": "python3"
  },
  "language_info": {
   "codemirror_mode": {
    "name": "ipython",
    "version": 3
   },
   "file_extension": ".py",
   "mimetype": "text/x-python",
   "name": "python",
   "nbconvert_exporter": "python",
   "pygments_lexer": "ipython3",
   "version": "3.8.5"
  }
 },
 "nbformat": 4,
 "nbformat_minor": 4
}
