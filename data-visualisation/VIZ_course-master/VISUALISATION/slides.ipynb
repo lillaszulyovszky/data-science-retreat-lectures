{
 "cells": [
  {
   "cell_type": "markdown",
   "metadata": {
    "slideshow": {
     "slide_type": "slide"
    }
   },
   "source": [
    "**Data communication through visualisations**\n",
    "\n",
    "\n",
    ">Jesús Martínez Blanco\n",
    "><font color=\"red\">Data Scientist, LiveIntent Inc.</font>"
   ]
  },
  {
   "cell_type": "markdown",
   "metadata": {
    "slideshow": {
     "slide_type": "slide"
    }
   },
   "source": [
    "Fundamentals of data perception in a visualisations:\n",
    "\n",
    "https://www.youtube.com/watch?v=fSgEeI2Xpdc\n",
    "\n",
    "http://rpubs.com/jrauser/hhsd_notes\n",
    "\n",
    "- Always visualize your data\n",
    "- General guidelines for visualization:\n",
    "    1. Estimation\n",
    "    2. Assembly\n",
    "    3. Detection\n",
    "    4. Relationships"
   ]
  },
  {
   "cell_type": "markdown",
   "metadata": {
    "slideshow": {
     "slide_type": "slide"
    }
   },
   "source": [
    "** Always visualize your data **\n",
    "\n",
    "Video from the *GAPMINDER FOUNDATION*: *[How Does Income Relate to Life Expectancy](http://www.gapminder.org/answers/how-does-income-relate-to-life-expectancy/)*\n",
    "(Hans Rosling)"
   ]
  },
  {
   "cell_type": "markdown",
   "metadata": {
    "slideshow": {
     "slide_type": "slide"
    }
   },
   "source": [
    "**GAPMINDER FOUNDATION**: \n",
    "\n",
    "*Swedish non-profit venture that promotes sustainable global development and achievement of the United Nations Millennium Development Goals by increased use and understanding of statistics and other information about social, economic and environmental development at local, national and global levels.*\n",
    "\n",
    "*[How Does Income Relate to Life Expectancy](http://www.gapminder.org/answers/how-does-income-relate-to-life-expectancy/)*\n",
    "(Hans Rosling)\n",
    "\n",
    "[Example](figures/bokeh_final_project.html)"
   ]
  },
  {
   "cell_type": "markdown",
   "metadata": {
    "slideshow": {
     "slide_type": "subslide"
    }
   },
   "source": [
    "<font color=\"red\">**CLIENT BASED** visualizations</font>\n",
    "\n",
    "+ Interactivity at user's machine\n",
    "+ Depends on speed of the browser \n",
    "+ CPU intensive\n",
    "+ Storage limitations\n",
    "\n",
    "[Plot here](figures/wind_speed_dist.html)"
   ]
  },
  {
   "cell_type": "markdown",
   "metadata": {
    "slideshow": {
     "slide_type": "subslide"
    }
   },
   "source": [
    "<font color=\"red\">**SERVER BASED** visualizations</font>\n",
    "\n",
    "+ Approach:\n",
    "    + Send client-side Javascript interactions to server\n",
    "    + Server processes information\n",
    "    + Generate image on server\n",
    "    + transfer image to client and display it \n",
    "+ This implies:\n",
    "    + Computation at server\n",
    "    + Fast processing and less storage limits\n",
    "    + Bandwidth demanding\n",
    "    + Transfer time precludes some interactivity\n",
    "\n",
    "[Plot here](http://demo.bokehplots.com/apps/weather)"
   ]
  },
  {
   "cell_type": "markdown",
   "metadata": {
    "slideshow": {
     "slide_type": "slide"
    }
   },
   "source": [
    "<center><img src=\"figures/intvis1.jpg\" width=150%></center>"
   ]
  },
  {
   "cell_type": "markdown",
   "metadata": {
    "slideshow": {
     "slide_type": "slide"
    }
   },
   "source": [
    "<center><img src=\"figures/intvis2.jpg\" width=150%></center>"
   ]
  },
  {
   "cell_type": "markdown",
   "metadata": {
    "slideshow": {
     "slide_type": "slide"
    }
   },
   "source": [
    "<center><img src=\"figures/intvis3.jpg\" width=150%></center>"
   ]
  }
 ],
 "metadata": {
  "celltoolbar": "Slideshow",
  "kernelspec": {
   "display_name": "Python 3",
   "language": "python",
   "name": "python3"
  },
  "language_info": {
   "codemirror_mode": {
    "name": "ipython",
    "version": 3
   },
   "file_extension": ".py",
   "mimetype": "text/x-python",
   "name": "python",
   "nbconvert_exporter": "python",
   "pygments_lexer": "ipython3",
   "version": "3.5.3"
  },
  "toc": {
   "toc_cell": false,
   "toc_number_sections": true,
   "toc_section_display": "block",
   "toc_threshold": 6,
   "toc_window_display": false
  },
  "toc_position": {
   "height": "151px",
   "left": "760.891px",
   "right": "20px",
   "top": "185px",
   "width": "286px"
  },
  "widgets": {
   "state": {},
   "version": "1.1.2"
  }
 },
 "nbformat": 4,
 "nbformat_minor": 1
}
