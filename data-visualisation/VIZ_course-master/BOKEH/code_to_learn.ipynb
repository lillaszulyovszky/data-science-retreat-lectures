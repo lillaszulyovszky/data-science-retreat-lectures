{
 "cells": [
  {
   "cell_type": "markdown",
   "metadata": {
    "slideshow": {
     "slide_type": "slide"
    }
   },
   "source": [
    "# [Bokeh](http://bokeh.pydata.org/en/latest/)"
   ]
  },
  {
   "cell_type": "markdown",
   "metadata": {
    "slideshow": {
     "slide_type": "slide"
    }
   },
   "source": [
    "## How to start"
   ]
  },
  {
   "cell_type": "code",
   "execution_count": null,
   "metadata": {
    "ExecuteTime": {
     "end_time": "2017-07-08T23:29:37.960597",
     "start_time": "2017-07-08T23:29:36.026713"
    },
    "collapsed": true
   },
   "outputs": [],
   "source": [
    "# import methods for graph outputs\n",
    "from bokeh.io import output_file, output_notebook, reset_output, show"
   ]
  },
  {
   "cell_type": "code",
   "execution_count": null,
   "metadata": {
    "ExecuteTime": {
     "end_time": "2017-07-08T23:29:39.642421",
     "start_time": "2017-07-08T23:29:39.636064"
    },
    "collapsed": true
   },
   "outputs": [],
   "source": [
    "# by invoking output_file(), the method show() will generate an extenral html file with the plot\n",
    "output_file('bokeh_plot.html')"
   ]
  },
  {
   "cell_type": "code",
   "execution_count": null,
   "metadata": {
    "ExecuteTime": {
     "end_time": "2017-07-08T23:29:40.889503",
     "start_time": "2017-07-08T23:29:40.870947"
    },
    "collapsed": true
   },
   "outputs": [],
   "source": [
    "# if you just want to show the plot in the notebook, first disable the operation above...\n",
    "reset_output()\n",
    "\n",
    "# and then invoke output_notebook(), so that the method show() will show the graph in the notebook\n",
    "output_notebook()"
   ]
  },
  {
   "cell_type": "markdown",
   "metadata": {
    "slideshow": {
     "slide_type": "subslide"
    }
   },
   "source": [
    "**Example Based on `bkcharts`**"
   ]
  },
  {
   "cell_type": "code",
   "execution_count": null,
   "metadata": {
    "ExecuteTime": {
     "end_time": "2017-07-08T23:29:45.329936",
     "start_time": "2017-07-08T23:29:44.349090"
    },
    "collapsed": true,
    "scrolled": false
   },
   "outputs": [],
   "source": [
    "from bkcharts import BoxPlot\n",
    "from bokeh.sampledata.autompg import autompg as df\n",
    "\n",
    "p = BoxPlot(df, values='mpg', label='cyl', color='cyl', title=\"MPG Summary (grouped and shaded by CYL)\")\n",
    "\n",
    "show(p)"
   ]
  },
  {
   "cell_type": "markdown",
   "metadata": {
    "slideshow": {
     "slide_type": "slide"
    }
   },
   "source": [
    "## Bokeh Glyphs\n",
    "\n",
    "Glyph =  Basic visual building block of Bokeh plots:\n",
    "\n",
    "Types:\n",
    "+ Line\n",
    "+ Marker\n",
    "+ Patch\n",
    "+ Rectangles and Ovals\n",
    "+ Images\n",
    "+ Wedges and Arcs\n",
    "+ ...for more glyph types [click here](http://bokeh.pydata.org/en/latest/docs/user_guide/plotting.html)."
   ]
  },
  {
   "cell_type": "markdown",
   "metadata": {
    "slideshow": {
     "slide_type": "subslide"
    }
   },
   "source": [
    "**Line glyphs**"
   ]
  },
  {
   "cell_type": "code",
   "execution_count": null,
   "metadata": {
    "ExecuteTime": {
     "end_time": "2017-07-08T23:30:04.268994",
     "start_time": "2017-07-08T23:30:04.095759"
    },
    "collapsed": true
   },
   "outputs": [],
   "source": [
    "from bokeh.plotting import figure\n",
    "\n",
    "#prepare some data\n",
    "x = [1, 2, 3, 4, 5]\n",
    "y = [6, 7, 2, 4, 5]\n",
    "\n",
    "#create a new plot with a title and axis labels\n",
    "p = figure(title=\"simple line example\", x_axis_label='x', y_axis_label='y')\n",
    "\n",
    "#add a line renderer with legend and line thickness\n",
    "p.line(x, y, legend=\"Temp.\", line_width=2)\n",
    "\n",
    "#show the results\n",
    "show(p)"
   ]
  },
  {
   "cell_type": "markdown",
   "metadata": {},
   "source": [
    "**Circle glyphs**"
   ]
  },
  {
   "cell_type": "code",
   "execution_count": null,
   "metadata": {
    "ExecuteTime": {
     "end_time": "2017-07-08T23:30:09.590007",
     "start_time": "2017-07-08T23:30:09.376785"
    },
    "collapsed": true
   },
   "outputs": [],
   "source": [
    "# create a new plot with a title and axis labels\n",
    "p = figure(title=\"simple line/circle example\", x_axis_label='x', y_axis_label='y')\n",
    "\n",
    "# add two glyphs a line and a circle glyph\n",
    "p.line(x, y, legend=\"Temp.\", line_width=2)\n",
    "p.circle(x, y, size=20, color=\"navy\", alpha=0.5)\n",
    "\n",
    "show(p)"
   ]
  },
  {
   "cell_type": "markdown",
   "metadata": {
    "slideshow": {
     "slide_type": "subslide"
    }
   },
   "source": [
    "**Annular Wedges glyphs**"
   ]
  },
  {
   "cell_type": "code",
   "execution_count": null,
   "metadata": {
    "ExecuteTime": {
     "end_time": "2017-07-08T23:30:12.054457",
     "start_time": "2017-07-08T23:30:11.790938"
    },
    "collapsed": true
   },
   "outputs": [],
   "source": [
    "from numpy import pi\n",
    "\n",
    "# create a new plot with a title and axis labels\n",
    "p = figure(title=\"simple line/circle/wedge example\", x_axis_label='x', y_axis_label='y')\n",
    "\n",
    "# add three glyphs: a line, a circle and an angular glyph\n",
    "p.line(x, y, legend=\"Temp.\", line_width=2)\n",
    "p.circle(x, y, size=20, color=\"navy\", alpha=0.5)\n",
    "p.annular_wedge(x, y, inner_radius=0.1, outer_radius=0.25, start_angle=pi, end_angle=1.5*pi, color=\"green\", alpha=0.6)\n",
    "\n",
    "show(p)"
   ]
  },
  {
   "cell_type": "markdown",
   "metadata": {
    "slideshow": {
     "slide_type": "subslide"
    }
   },
   "source": [
    "**Exercise - Bokeh 1 - Glyphs**\n",
    "\n",
    "1. Load the following data\n",
    "\n",
    "```python\n",
    "month = [1,2,3,4,5,6,7,8,9,10,11,12]\n",
    "high_2000 = [32.5,37.6,49.9,53.0,69,75.4,76.5,76.6,70.7,60.6,45,29.3]\n",
    "low_2000 = [13.8,22.3,32.5,37.2,49.9,56,57.7,58.3,52,42.8,31.6,15.9]\n",
    "high_2007 = [36.5,26.6,43.6,52.3,71.5,81.4,80.5,82.2,76,67.3,46.1,35]\n",
    "low_2007 = [23.6,14,27,36.8,47.6,57.7,58.9,61.2,53.3,48.5,31,23]\n",
    "name = ['High 2007','Low 2007','High 2000','Low 2000']\n",
    "color = [(205, 12, 24),(22, 96, 167),(205, 12, 24),(22, 96, 167)]\n",
    "```\n",
    "2. Visualize the data using a line glyph for each data list with the specified colors and names and map month on the x-axis. Use the following attributes for the line glyphs:\n",
    "    + `legend=name[]`\n",
    "    + `line_width=2`\n",
    "    + `color=color[]`\n",
    "    + `line_dash = [4,2]`\n",
    "3. Add a figure name (*Temperature in New York*) and axis-labels (*Month*, *Temperature in F°*) specifying the following figure attributes:\n",
    "    + `title=`\n",
    "    + `x_axis_label=`\n",
    "    + `y_axis_label=`\n"
   ]
  },
  {
   "cell_type": "markdown",
   "metadata": {
    "slideshow": {
     "slide_type": "subslide"
    }
   },
   "source": [
    "<font color='red'>Double click to see the solution</font>\n",
    "<code style='display:none'>\n",
    "\n",
    "-- SOLUTION --\n",
    "\n",
    "month = [1,2,3,4,5,6,7,8,9,10,11,12]\n",
    "high_2000 = [32.5,37.6,49.9,53.0,69.1,75.4,76.5,76.6,70.7,60.6,45.1,29.3]\n",
    "low_2000 = [13.8,22.3,32.5,37.2,49.9,56.1,57.7,58.3,51.2,42.8,31.6,15.9]\n",
    "high_2007 = [36.5,26.6,43.6,52.3,71.5,81.4,80.5,82.2,76.0,67.3,46.1,35.0]\n",
    "low_2007 = [23.6,14.0,27.0,36.8,47.6,57.7,58.9,61.2,53.3,48.5,31.0,23.6]\n",
    "name = ['High 2007','Low 2007','High 2000','Low 2000']\n",
    "color = [(205, 12, 24),(22, 96, 167),(205, 12, 24),(22, 96, 167)]\n",
    "\n",
    "p = figure(title=\"Temperature in New York\", x_axis_label='Month', y_axis_label='Temperature in F°')\n",
    "\n",
    "#add line glyphs\n",
    "p.line(month, high_2000, legend=name[0], line_width=2, color=color[0],line_dash=[4, 2])\n",
    "p.line(month, low_2000, legend=name[1], line_width=2, color=color[1],line_dash=[4, 2])\n",
    "p.line(month, high_2007, legend=name[2], line_width=2, color=color[2])\n",
    "p.line(month, low_2007, legend=name[3], line_width=2, color=color[3])\n",
    "\n",
    "show(p)\n",
    "\n",
    "</code>"
   ]
  },
  {
   "cell_type": "markdown",
   "metadata": {},
   "source": [
    "## Manipulating Plots"
   ]
  },
  {
   "cell_type": "markdown",
   "metadata": {
    "slideshow": {
     "slide_type": "skip"
    }
   },
   "source": [
    "**Setting Ranges of Plots**\n",
    "  \n",
    "+ Bokeh will attempt to automatically set the data bounds of plots to fit snugly around the data.\n",
    "+ However, one can manually set the range using ```x_range``` and ```y_range```."
   ]
  },
  {
   "cell_type": "code",
   "execution_count": null,
   "metadata": {
    "ExecuteTime": {
     "end_time": "2017-07-08T23:30:31.545069",
     "start_time": "2017-07-08T23:30:31.330367"
    },
    "collapsed": true
   },
   "outputs": [],
   "source": [
    "from bokeh.models import Range1d\n",
    "\n",
    "# create a new plot with a range set with a tuple\n",
    "p = figure(plot_width=400, plot_height=400, x_range=(0, 20))\n",
    "\n",
    "# set a range using a Range1d\n",
    "p.y_range = Range1d(0, 15)\n",
    "\n",
    "# add a line glyph\n",
    "p.line(x, y, legend=\"Temp.\", line_width=2)\n",
    "\n",
    "show(p)"
   ]
  },
  {
   "cell_type": "markdown",
   "metadata": {
    "slideshow": {
     "slide_type": "skip"
    }
   },
   "source": [
    "**Specifying the Axis - Categorical Axis**\n",
    "\n",
    "+ without defining the axis the linear axis is used as default, which is suitable for numerical data"
   ]
  },
  {
   "cell_type": "code",
   "execution_count": null,
   "metadata": {
    "ExecuteTime": {
     "end_time": "2017-07-08T23:36:47.116054",
     "start_time": "2017-07-08T23:36:46.845556"
    },
    "collapsed": true
   },
   "outputs": [],
   "source": [
    "factors = [\"a\", \"b\", \"c\", \"d\", \"e\", \"f\", \"g\", \"h\"]\n",
    "x = [50, 40, 65, 10, 25, 37, 80, 60]\n",
    "\n",
    "p = figure(y_range=factors) #set the range attribute of the y-axis to factors\n",
    "\n",
    "p.circle(x, factors, size=15, fill_color=\"orange\", line_color=\"green\", line_width=3)\n",
    "\n",
    "show(p)"
   ]
  },
  {
   "cell_type": "markdown",
   "metadata": {
    "slideshow": {
     "slide_type": "skip"
    }
   },
   "source": [
    "**Specifying the Axis - Datetime Axis**\n",
    "\n",
    "+ useful for timeseries data"
   ]
  },
  {
   "cell_type": "code",
   "execution_count": null,
   "metadata": {
    "ExecuteTime": {
     "end_time": "2017-07-08T23:43:35.269502",
     "start_time": "2017-07-08T23:43:35.028649"
    },
    "collapsed": true
   },
   "outputs": [],
   "source": [
    "import pandas as pd\n",
    "\n",
    "AAPL = pd.read_csv(\"data/AAPL.csv\", parse_dates=['Date'])\n",
    "\n",
    "# create a new plot with a datetime axis type\n",
    "p = figure(width=800, height=250, x_axis_type=\"datetime\")\n",
    "\n",
    "p.line(AAPL['Date'], AAPL['Close'], color='navy', alpha=0.5)\n",
    "\n",
    "show(p)"
   ]
  },
  {
   "cell_type": "markdown",
   "metadata": {
    "slideshow": {
     "slide_type": "skip"
    }
   },
   "source": [
    "**Other axis specifications**\n",
    "  \n",
    "1. [Log-Scale axis](http://bokeh.pydata.org/en/0.10.0/docs/user_guide/plotting.html#log-scale-axes)\n",
    "    + Useful for data grows exponentially (e.g. GDP)\n",
    "2. [Twin axis](http://bokeh.pydata.org/en/0.10.0/docs/user_guide/plotting.html#twin-axes)\n",
    "    + Add multiple axes representing different ranges to a single plot"
   ]
  },
  {
   "cell_type": "markdown",
   "metadata": {
    "slideshow": {
     "slide_type": "skip"
    }
   },
   "source": [
    "**Annotations - Legends**"
   ]
  },
  {
   "cell_type": "code",
   "execution_count": null,
   "metadata": {
    "ExecuteTime": {
     "end_time": "2017-07-08T23:44:04.993250",
     "start_time": "2017-07-08T23:44:04.714965"
    },
    "collapsed": true
   },
   "outputs": [],
   "source": [
    "import numpy as np\n",
    "\n",
    "x = np.linspace(0, 4*np.pi, 100)\n",
    "y = np.sin(x)\n",
    "\n",
    "p = figure()\n",
    "\n",
    "p.circle(x, y, legend=\"sin(x)\")\n",
    "p.line(x, y, legend=\"sin(x)\")\n",
    "\n",
    "p.line(x, 2*y, legend=\"2*sin(x)\", line_dash=[4, 4], line_color=\"orange\", line_width=2)\n",
    "\n",
    "p.square(x, 3*y, legend=\"3*sin(x)\", fill_color=None, line_color=\"green\")\n",
    "p.line(x, 3*y, legend=\"3*sin(x)\", line_color=\"green\")\n",
    "\n",
    "show(p)"
   ]
  },
  {
   "cell_type": "markdown",
   "metadata": {
    "slideshow": {
     "slide_type": "slide"
    }
   },
   "source": [
    "## High-Level Charts"
   ]
  },
  {
   "cell_type": "markdown",
   "metadata": {
    "slideshow": {
     "slide_type": "subslide"
    }
   },
   "source": [
    "**Bar Charts**\n",
    "  \n",
    "+ Barcharts can be produced using a pandas data frame object  "
   ]
  },
  {
   "cell_type": "code",
   "execution_count": null,
   "metadata": {
    "ExecuteTime": {
     "end_time": "2017-07-08T23:44:14.342637",
     "start_time": "2017-07-08T23:44:14.316986"
    },
    "collapsed": true
   },
   "outputs": [],
   "source": [
    "from bkcharts import Bar\n",
    "from bokeh.sampledata.autompg import autompg as df\n",
    "\n",
    "df.head()"
   ]
  },
  {
   "cell_type": "code",
   "execution_count": null,
   "metadata": {
    "ExecuteTime": {
     "end_time": "2017-07-08T23:44:16.699196",
     "start_time": "2017-07-08T23:44:16.214020"
    },
    "collapsed": true
   },
   "outputs": [],
   "source": [
    "p = Bar(df, label='yr', values='mpg', \n",
    "        agg='mean', # default aggregation is sum\n",
    "        title=\"Average MPG by YR\")\n",
    "\n",
    "show(p)"
   ]
  },
  {
   "cell_type": "markdown",
   "metadata": {
    "slideshow": {
     "slide_type": "subslide"
    }
   },
   "source": [
    "**Bar Charts - Aggregations / Grouping**\n",
    "  \n",
    "1. Aggregations can be added to high-level chart objects. They specify how each group (here `yr`) should be aggregated\n",
    "2. Groups the data further into subgroups  \n",
    "[dataset-description](http://cs.nyu.edu/courses/fall00/G22.3033-001/weka/weka-3-0-2/data/auto-mpg.arff).\n",
    "\n",
    "Origins (1 = usa; 2 = europe; 3 = japan)  "
   ]
  },
  {
   "cell_type": "code",
   "execution_count": null,
   "metadata": {
    "ExecuteTime": {
     "end_time": "2017-07-08T23:44:20.473287",
     "start_time": "2017-07-08T23:44:19.558027"
    },
    "collapsed": true
   },
   "outputs": [],
   "source": [
    "from bkcharts import Bar\n",
    "from bokeh.sampledata.autompg import autompg as df\n",
    "\n",
    "p = Bar(df, label='yr', values='mpg', \n",
    "        agg='mean', #we take the average of the year\n",
    "        group='origin', #we group the bars into subgroups based on the origin of the cars\n",
    "        title=\"Average MPG by YR\",\n",
    "        legend='top_left')\n",
    "\n",
    "show(p)"
   ]
  },
  {
   "cell_type": "markdown",
   "metadata": {
    "slideshow": {
     "slide_type": "subslide"
    }
   },
   "source": [
    "**Exercise - Bokeh 2 - Bar Chart**\n",
    "\n",
    "1. Take the bar chart from before and plot the max value of `mpg` in each month\n",
    "2. Group by `cly` instead of `origin`\n",
    "2. Set the barwidth to `0.4` using the `bar_width` parameter directly in the Bar-object\n",
    "3. Add a legend in the top-right corner using `legend='top_right'`"
   ]
  },
  {
   "cell_type": "markdown",
   "metadata": {
    "slideshow": {
     "slide_type": "subslide"
    }
   },
   "source": [
    "<font color='red'>Double click to see the solution</font>\n",
    "<code style='display:none'>\n",
    "\n",
    "-- SOLUTION --\n",
    "\n",
    "from bokeh.charts import Bar\n",
    "from bokeh.sampledata.autompg import autompg as df\n",
    "\n",
    "p = Bar(df, label='yr', values='mpg', \n",
    "        agg='max',\n",
    "        group='cyl',\n",
    "        legend='top_right',\n",
    "        title='Max MPG by YR and Cylinder',\n",
    "        bar_width=0.4)\n",
    "\n",
    "show(p)\n",
    "\n",
    "</code>"
   ]
  },
  {
   "cell_type": "markdown",
   "metadata": {
    "slideshow": {
     "slide_type": "subslide"
    }
   },
   "source": [
    "**Histograms**\n",
    "+ Quickly display the distribution of values in a set of data. \n",
    "+ Pass a literal sequence of values (e.g a python list, NumPy or Pandas Series) to the object"
   ]
  },
  {
   "cell_type": "code",
   "execution_count": null,
   "metadata": {
    "ExecuteTime": {
     "end_time": "2017-07-08T23:44:29.328950",
     "start_time": "2017-07-08T23:44:27.544476"
    },
    "collapsed": true
   },
   "outputs": [],
   "source": [
    "from bkcharts import Histogram\n",
    "from bokeh.sampledata.autompg import autompg as df\n",
    "\n",
    "p = Histogram(df, \n",
    "            values='mpg',    #Pass the mpg column to the values parameter\n",
    "            bins=50,         #Adjust the number of bins to be displayed\n",
    "            color='navy',    #Adjust the color of the bars\n",
    "            title=\"MPG Distribution\")\n",
    "\n",
    "show(p)"
   ]
  },
  {
   "cell_type": "markdown",
   "metadata": {
    "slideshow": {
     "slide_type": "subslide"
    }
   },
   "source": [
    "**Histograms - Colour Groups**\n",
    "+ Color parameter can be used to group the data \n",
    "+ Pass values of one of the columns to the color parameter\n",
    "   + The data is first grouped by this column\n",
    "   + Histogram is generated for each group\n",
    "   + Each histogram is automatically colored differently, and a legend displayed  "
   ]
  },
  {
   "cell_type": "code",
   "execution_count": null,
   "metadata": {
    "ExecuteTime": {
     "end_time": "2017-07-08T23:44:37.085358",
     "start_time": "2017-07-08T23:44:37.064022"
    },
    "collapsed": true
   },
   "outputs": [],
   "source": [
    "df.head()"
   ]
  },
  {
   "cell_type": "code",
   "execution_count": null,
   "metadata": {
    "ExecuteTime": {
     "end_time": "2017-07-08T23:44:43.994015",
     "start_time": "2017-07-08T23:44:42.933559"
    },
    "collapsed": true
   },
   "outputs": [],
   "source": [
    "from bokeh.sampledata.autompg import autompg as df\n",
    "\n",
    "p = Histogram(df, \n",
    "              values='hp', \n",
    "              color='origin', #Pass origin column of df to the color parameter\n",
    "              title=\"HP Distribution (color grouped by CYL)\",\n",
    "              legend='top_right')\n",
    "\n",
    "show(p)"
   ]
  },
  {
   "cell_type": "markdown",
   "metadata": {
    "slideshow": {
     "slide_type": "subslide"
    }
   },
   "source": [
    "**Further High-Level Charts**\n",
    "1. Scatter Plots\n",
    "2. Box Plots\n",
    "3. Heat Map\n",
    "4. Time Series\n",
    "5. Donut Charts\n",
    "\n",
    "[User Guide](http://bokeh.pydata.org/en/0.11.0/docs/user_guide/charts.html)"
   ]
  },
  {
   "cell_type": "markdown",
   "metadata": {
    "slideshow": {
     "slide_type": "subslide"
    }
   },
   "source": [
    "## Styling Charts\n",
    "[Visual Properties](http://bokeh.pydata.org/en/0.11.0/docs/user_guide/styling.html)\n",
    "    + Line Properties\n",
    "    + Fill Properties\n",
    "    + Text Properties\n",
    "    + Specifying Colors"
   ]
  },
  {
   "cell_type": "markdown",
   "metadata": {
    "slideshow": {
     "slide_type": "subslide"
    }
   },
   "source": [
    "**Specifying Colors**\n",
    "\n",
    "Color values can be provided in any of the following ways:  \n",
    "+ any of the 147 named CSS colors, e.g. 'green', 'indigo' [See here](http://www.w3schools.com/colors/colors_names.asp)\n",
    "+ a 3-tuple of integers (r,g,b) between 0 and 255\n",
    "+ a 4-tuple of (r,g,b,a) where r, g, b are integers between 0 and 255 and a is a floating point value between 0 and 1\n",
    "+ hex value, e.g., '#FF0000', '#44444444'"
   ]
  },
  {
   "cell_type": "markdown",
   "metadata": {
    "slideshow": {
     "slide_type": "subslide"
    }
   },
   "source": [
    "**Plot Dimensions**\n",
    "+ Width and height of a Plot controlled by `plot_width` and `plot_height` attributes.\n",
    "+ Values are in screen units, \n",
    "+ Control the size of the entire canvas area, including any axes or titles\n",
    "+ `responsive` attribute to make the chart responsive\n",
    "    + Plots will fill the container they are sitting in\n",
    "    + Plots will only resize down to a minimum of 100px (height or width) "
   ]
  },
  {
   "cell_type": "code",
   "execution_count": null,
   "metadata": {
    "ExecuteTime": {
     "end_time": "2017-07-08T23:45:08.968780",
     "start_time": "2017-07-08T23:45:07.598796"
    },
    "collapsed": true
   },
   "outputs": [],
   "source": [
    "from bokeh.plotting import figure\n",
    "\n",
    "# create a new plot\n",
    "p = figure(plot_width=700) #one can assign it directly in the plot object\n",
    "p.plot_height = 300        #or manipulate the plot object afterwards\n",
    "# p.responsive = True        #make the plot responsive\n",
    "\n",
    "p.circle([1, 2, 3, 4, 5], [2, 5, 8, 2, 7], size=10)\n",
    "\n",
    "output_file(\"bokeh_dimensions_responsive.html\")\n",
    "\n",
    "show(p)\n",
    "\n",
    "# back to notebook only\n",
    "reset_output()\n",
    "output_notebook()"
   ]
  },
  {
   "cell_type": "markdown",
   "metadata": {
    "slideshow": {
     "slide_type": "subslide"
    }
   },
   "source": [
    "**Plot Title**\n",
    "\n",
    "+ Plot title styling is controlled by the figure properties `title.text_<attribute>`.\n",
    "+ [Overview of text properties](http://bokeh.pydata.org/en/0.10.0/docs/user_guide/styling.html#text-properties)"
   ]
  },
  {
   "cell_type": "code",
   "execution_count": null,
   "metadata": {
    "ExecuteTime": {
     "end_time": "2017-07-08T23:45:35.668110",
     "start_time": "2017-07-08T23:45:35.544220"
    },
    "collapsed": true
   },
   "outputs": [],
   "source": [
    "from bokeh.plotting import figure\n",
    "\n",
    "# create a new plot with a title\n",
    "p = figure(plot_width=400, plot_height=400, title=\"Good Looking Bold Purple Title\")\n",
    "p.title.text_color = \"purple\"     #Assign color\n",
    "p.title.text_font = \"helvetica\"   #Assign font type\n",
    "p.title.text_font_style = \"bold\"  #Assign font style\n",
    "\n",
    "p.circle([1, 2, 3, 4, 5], [2, 5, 8, 2, 7], size=10)\n",
    "\n",
    "show(p)"
   ]
  },
  {
   "cell_type": "markdown",
   "metadata": {
    "slideshow": {
     "slide_type": "subslide"
    }
   },
   "source": [
    "**Further Plot Attributes**\n",
    "\n",
    "1. [Background](http://bokeh.pydata.org/en/0.11.0/docs/user_guide/styling.html#background)\n",
    "    + Control the background color\n",
    "2. [Borders](http://bokeh.pydata.org/en/0.11.0/docs/user_guide/styling.html#border)\n",
    "    + Border color and minimum border distance\n",
    "3. [Outline](http://bokeh.pydata.org/en/0.11.0/docs/user_guide/styling.html#outline)\n",
    "    + Change outline color, alpha and thickness"
   ]
  },
  {
   "cell_type": "markdown",
   "metadata": {
    "slideshow": {
     "slide_type": "subslide"
    }
   },
   "source": [
    "**Styling Charts - Glyphs**\n",
    "\n",
    "To style a glyph:\n",
    "+ Obtain a specific `glyph`-object and then modify its properties. \n",
    "+ Or just style the Glyph while creating it."
   ]
  },
  {
   "cell_type": "code",
   "execution_count": null,
   "metadata": {
    "ExecuteTime": {
     "end_time": "2017-07-08T23:45:43.011430",
     "start_time": "2017-07-08T23:45:42.907555"
    },
    "collapsed": true
   },
   "outputs": [],
   "source": [
    "from bokeh.plotting import figure\n",
    "\n",
    "p = figure(plot_width=300, plot_height=300)\n",
    "r = p.circle([1,2,3,4,5], [2,5,8,2,7]) #obtain the GlyphRenderer\n",
    "\n",
    "glyph = r.glyph      #obtain the glyph object using the glyph function\n",
    "glyph.size = 60\n",
    "glyph.fill_alpha = 0.2\n",
    "glyph.line_color = \"firebrick\"\n",
    "glyph.line_dash = [6, 3]\n",
    "glyph.line_width = 2\n",
    "\n",
    "# This would yield the same\n",
    "# p.circle([1,2,3,4,5], [2,5,8,2,7], size=60, \n",
    "#         fill_alpha=0.2, line_color='firebrick', line_dash=[6,3], line_width=2)\n",
    "\n",
    "show(p)"
   ]
  },
  {
   "cell_type": "markdown",
   "metadata": {
    "slideshow": {
     "slide_type": "subslide"
    }
   },
   "source": [
    "**Further Objects**\n",
    "\n",
    "1. [Axis](http://bokeh.pydata.org/en/0.11.0/docs/user_guide/styling.html#axes)\n",
    "2. [Grids](http://bokeh.pydata.org/en/0.11.0/docs/user_guide/styling.html#grids)\n",
    "3. [Legends](http://bokeh.pydata.org/en/0.11.0/docs/user_guide/styling.html#legends)\n"
   ]
  },
  {
   "cell_type": "markdown",
   "metadata": {
    "slideshow": {
     "slide_type": "slide"
    }
   },
   "source": [
    "## Laying Out Multiple Plots\n",
    "Bokeh includes several layout options for arranging plots and widgets in an HTML document\n",
    "\n",
    "1. Row Layout\n",
    "2. Column Layout\n",
    "3. Grid Layout"
   ]
  },
  {
   "cell_type": "code",
   "execution_count": null,
   "metadata": {
    "ExecuteTime": {
     "end_time": "2017-07-08T23:45:49.396745",
     "start_time": "2017-07-08T23:45:49.231634"
    },
    "collapsed": true
   },
   "outputs": [],
   "source": [
    "from bokeh.layouts import gridplot, row, column\n",
    "from bokeh.plotting import figure\n",
    "\n",
    "x = list(range(11))\n",
    "y0 = x\n",
    "y1 = [10 - i for i in x]\n",
    "y2 = [abs(i - 5) for i in x]\n",
    "\n",
    "# create three new plots\n",
    "s1 = figure(width=250, plot_height=250, title=None)\n",
    "s1.circle(x, y0, size=10, color=\"navy\", alpha=0.5)\n",
    "\n",
    "s2 = figure(width=250, height=250, title=None)\n",
    "s2.triangle(x, y1, size=10, color=\"firebrick\", alpha=0.5)\n",
    "\n",
    "s3 = figure(width=250, height=250, title=None)\n",
    "s3.square(x, y2, size=10, color=\"olive\", alpha=0.5)"
   ]
  },
  {
   "cell_type": "markdown",
   "metadata": {},
   "source": [
    "**Row Layout**"
   ]
  },
  {
   "cell_type": "code",
   "execution_count": null,
   "metadata": {
    "ExecuteTime": {
     "end_time": "2017-07-08T23:45:58.226072",
     "start_time": "2017-07-08T23:45:58.040208"
    },
    "collapsed": true
   },
   "outputs": [],
   "source": [
    "p = row(s1, s2, s3)\n",
    "\n",
    "show(p)"
   ]
  },
  {
   "cell_type": "markdown",
   "metadata": {},
   "source": [
    "**Column Layout**"
   ]
  },
  {
   "cell_type": "code",
   "execution_count": null,
   "metadata": {
    "ExecuteTime": {
     "end_time": "2017-07-08T23:46:02.514264",
     "start_time": "2017-07-08T23:46:02.303918"
    },
    "collapsed": true
   },
   "outputs": [],
   "source": [
    "p = column(s1, s2, s3)\n",
    "\n",
    "show(p)"
   ]
  },
  {
   "cell_type": "markdown",
   "metadata": {
    "slideshow": {
     "slide_type": "subslide"
    }
   },
   "source": [
    "**Grid Layout**"
   ]
  },
  {
   "cell_type": "code",
   "execution_count": null,
   "metadata": {
    "ExecuteTime": {
     "end_time": "2017-07-08T23:46:05.488019",
     "start_time": "2017-07-08T23:46:05.225182"
    },
    "collapsed": true
   },
   "outputs": [],
   "source": [
    "p = gridplot([[s1, s2], [None, s3]])\n",
    "\n",
    "show(p)"
   ]
  },
  {
   "cell_type": "markdown",
   "metadata": {
    "slideshow": {
     "slide_type": "slide"
    }
   },
   "source": [
    "## Interactions: *Panning* and *Brushing*"
   ]
  },
  {
   "cell_type": "markdown",
   "metadata": {
    "slideshow": {
     "slide_type": "subslide"
    }
   },
   "source": [
    "**Linking Plots - Panning**\n",
    "\n",
    "+ To enable panning across plots we need to share range objects between figure() calls."
   ]
  },
  {
   "cell_type": "code",
   "execution_count": null,
   "metadata": {
    "ExecuteTime": {
     "end_time": "2017-07-08T23:46:28.858746",
     "start_time": "2017-07-08T23:46:28.536163"
    },
    "collapsed": true
   },
   "outputs": [],
   "source": [
    "from bokeh.plotting import figure, gridplot\n",
    "\n",
    "x = list(range(11))\n",
    "y0 = x\n",
    "y1 = [10-xx for xx in x]\n",
    "y2 = [abs(xx-5) for xx in x]\n",
    "\n",
    "# create a new plot\n",
    "s1 = figure(width=250, plot_height=250, title=None)\n",
    "s1.circle(x, y0, size=10, color=\"navy\", alpha=0.5)\n",
    "\n",
    "# create a new plot and share both ranges using y_range and x_range\n",
    "s2 = figure(width=250, height=250, x_range=s1.x_range, y_range=s1.y_range, title=None)\n",
    "s2.triangle(x, y1, size=10, color=\"firebrick\", alpha=0.5)\n",
    "\n",
    "# create a new plot and share only one range using x_range\n",
    "s3 = figure(width=250, height=250, x_range=s1.x_range, title=None)\n",
    "s3.square(x, y2, size=10, color=\"olive\", alpha=0.5)\n",
    "\n",
    "p = gridplot([[s1, s2, s3]])\n",
    "\n",
    "# show the results\n",
    "show(p)"
   ]
  },
  {
   "cell_type": "markdown",
   "metadata": {
    "slideshow": {
     "slide_type": "subslide"
    }
   },
   "source": [
    "**Linking Plots - Brushing**\n",
    "\n",
    "+ Link selections acted on one glyph sharing the same data sources\n",
    "+ Can be useful for highlighting selections across different representations"
   ]
  },
  {
   "cell_type": "code",
   "execution_count": null,
   "metadata": {
    "ExecuteTime": {
     "end_time": "2017-07-08T23:46:55.435255",
     "start_time": "2017-07-08T23:46:54.078602"
    },
    "collapsed": true
   },
   "outputs": [],
   "source": [
    "from bokeh.models import ColumnDataSource\n",
    "from bokeh.plotting import gridplot\n",
    "\n",
    "x = list(range(-20, 21))\n",
    "y0 = [abs(xx) for xx in x]\n",
    "y1 = [xx**2 for xx in x]\n",
    "\n",
    "# create a column data source for the plots to share\n",
    "source = ColumnDataSource(data=dict(keyx=x, keyy0=y0, keyy1=y1))\n",
    "\n",
    "TOOLS = \"box_select,lasso_select,help\" #define which tools to include\n",
    "\n",
    "# create a new plot and add a renderer\n",
    "left = figure(tools=TOOLS, width=300, height=300, title=None)\n",
    "left.circle('keyx', 'keyy0', source=source)\n",
    "\n",
    "# create another new plot and add a renderer\n",
    "right = figure(tools=TOOLS, width=300, height=300, title=None)\n",
    "right.circle('keyx', 'keyy1', source=source)\n",
    "\n",
    "p = gridplot([[left, right]])\n",
    "\n",
    "show(p)"
   ]
  },
  {
   "cell_type": "markdown",
   "metadata": {},
   "source": [
    "## Interactions: Hover / tooltips"
   ]
  },
  {
   "cell_type": "markdown",
   "metadata": {},
   "source": [
    "(Not yet fully operational functionality; does not work for all glyphs).\n",
    "\n",
    "It is possible to define a hover tooltip that will show information related to the data source. The way to refer to the information that is to appear in the toolip is with a `@` or a `$` symbol:\n",
    "- Field names starting with `@` are interpreted as columns on the data source.\n",
    "- Field names starting with `$` are special, known fields, e.g. `$x` will display the x-coordinate under the current mouse position. `$index` will display the index of the corresponding data point.\n",
    "\n",
    "Custom tooltips with arbitrary HTML code can also be defined (see [the docs](http://bokeh.pydata.org/en/latest/docs/user_guide/tools.html#custom-tooltip) for more details)."
   ]
  },
  {
   "cell_type": "code",
   "execution_count": null,
   "metadata": {
    "ExecuteTime": {
     "end_time": "2017-07-08T23:47:50.285475",
     "start_time": "2017-07-08T23:47:50.052749"
    },
    "collapsed": true
   },
   "outputs": [],
   "source": [
    "from bokeh.plotting import figure, show, ColumnDataSource\n",
    "from bokeh.models import HoverTool\n",
    "\n",
    "source = ColumnDataSource(data=dict(x=[1, 2, 3, 4, 5],\n",
    "                                    y=[2, 5, 8, 2, 7],\n",
    "                                    desc=['A', 'b', 'C', 'd', 'E']))\n",
    "\n",
    "hover = HoverTool(tooltips=[(\"index\", \"$index\"),\n",
    "                            (\"(x,y)\", \"($x, $y)\"),\n",
    "                            (\"desc\", \"@desc\")])\n",
    "\n",
    "p = figure(plot_width=400,\n",
    "           plot_height=400,\n",
    "           tools=[hover],\n",
    "           title=\"Mouse over the dots\")\n",
    "\n",
    "p.circle('x', 'y', size=20, source=source)\n",
    "\n",
    "show(p)"
   ]
  },
  {
   "cell_type": "markdown",
   "metadata": {},
   "source": [
    "## Interactions: *Widgets*"
   ]
  },
  {
   "cell_type": "markdown",
   "metadata": {
    "slideshow": {
     "slide_type": "subslide"
    }
   },
   "source": [
    "**Adding Widgets**\n",
    "\n",
    "1. What are widgets?  \n",
    "    + Widgets are UI components based on JavaScript which can be used for user input.\n",
    "2. How can widgets be used?\n",
    "    + Use the CustomJS callback\n",
    "    + Use the bokeh-server and set up event handlers with .on_change\n",
    "3. [What form of widgets exist?](http://bokeh.pydata.org/en/0.11.0/docs/user_guide/interaction.html#adding-widgets)\n",
    "    + Button\n",
    "    + Checkbox\n",
    "    + DataTable\n",
    "    + Dropdown\n",
    "    + Multiselect\n",
    "    + Radio Button\n",
    "    + Slider\n",
    "    + ...\n"
   ]
  },
  {
   "cell_type": "markdown",
   "metadata": {
    "slideshow": {
     "slide_type": "subslide"
    }
   },
   "source": [
    "**Button/Checkbox**"
   ]
  },
  {
   "cell_type": "code",
   "execution_count": null,
   "metadata": {
    "ExecuteTime": {
     "end_time": "2017-07-08T23:48:18.424968",
     "start_time": "2017-07-08T23:48:18.257384"
    },
    "collapsed": true
   },
   "outputs": [],
   "source": [
    "from bokeh.models.widgets import Button, CheckboxGroup\n",
    "from bokeh.layouts import column\n",
    "\n",
    "# button\n",
    "button = Button(label=\"Foo\", button_type=\"success\")\n",
    "\n",
    "# checkbox\n",
    "checkbox_group = CheckboxGroup(labels=[\"Option 1\", \"Option 2\", \"Option 3\"], active=[0, 1])\n",
    "\n",
    "show(column(button, checkbox_group))"
   ]
  },
  {
   "cell_type": "markdown",
   "metadata": {},
   "source": [
    "**Panel/Tabs**"
   ]
  },
  {
   "cell_type": "code",
   "execution_count": null,
   "metadata": {
    "ExecuteTime": {
     "end_time": "2017-07-08T23:48:43.638235",
     "start_time": "2017-07-08T23:48:43.361425"
    },
    "collapsed": true
   },
   "outputs": [],
   "source": [
    "from bokeh.models.widgets import Panel, Tabs\n",
    "tab1 = Panel(child=s1, title=\"tab1\")\n",
    "tab2 = Panel(child=s2, title=\"tab2\")\n",
    "layout = Tabs(tabs=[tab1, tab2])\n",
    "\n",
    "show(layout)"
   ]
  },
  {
   "cell_type": "markdown",
   "metadata": {
    "slideshow": {
     "slide_type": "subslide"
    }
   },
   "source": [
    "## Interactions: *Callbacks*\n",
    "\n",
    "Callbacks can be specified from the Python layer that results in an action on the javascript level (without the need of the Bokeh Server)."
   ]
  },
  {
   "cell_type": "markdown",
   "metadata": {
    "slideshow": {
     "slide_type": "skip"
    }
   },
   "source": [
    "**Example: OpenURL**\n",
    "\n",
    "+ Expose an OpenURL callback object that is passed to a Tap tool\n",
    "+ Open URL action called whenever users clicks on glyph or part of glyph  "
   ]
  },
  {
   "cell_type": "code",
   "execution_count": null,
   "metadata": {
    "ExecuteTime": {
     "end_time": "2017-07-08T23:49:14.740419",
     "start_time": "2017-07-08T23:49:14.439916"
    },
    "collapsed": true
   },
   "outputs": [],
   "source": [
    "from bokeh.models import ColumnDataSource, OpenURL, TapTool\n",
    "from bokeh.plotting import figure\n",
    "\n",
    "p = figure(plot_width=400, plot_height=400,\n",
    "           tools=\"tap\", title=\"Click the Dots\") # add the tap-tool to the figure\n",
    "\n",
    "source = ColumnDataSource(data=dict(\n",
    "    x=[1, 2, 3, 4, 5],\n",
    "    y=[2, 5, 8, 2, 7],\n",
    "    color=[\"navy\", \"orange\", \"olive\", \"firebrick\", \"gold\"]\n",
    "    )) #Maps names of columns to sequences or arrays\n",
    "\n",
    "p.circle('x', 'y', color='color', \n",
    "    size=20, source=source) # adding color as a user-supplied data source\n",
    "\n",
    "url = \"http://www.colors.commutercreative.com/@color/\" #@color references the color in the datasource\n",
    "taptool = p.select(type=TapTool) #select the taptool object from the figure\n",
    "taptool.callback = OpenURL(url=url) #defining the callback of the tap tool\n",
    "\n",
    "show(p)"
   ]
  },
  {
   "cell_type": "markdown",
   "metadata": {},
   "source": [
    "\n",
    "**CustomJS**\n",
    "\n",
    "To express even more advanced callbacks that must be called on the Javascript side in order to add custom logic and interactivity when a widget is used.\n",
    "\n",
    "[check the docs](http://bokeh.pydata.org/en/0.10.0/docs/user_guide/interaction.html#customjs-for-widgets)"
   ]
  },
  {
   "cell_type": "code",
   "execution_count": null,
   "metadata": {
    "ExecuteTime": {
     "end_time": "2017-07-08T23:51:03.501796",
     "start_time": "2017-07-08T23:51:03.216571"
    },
    "collapsed": true
   },
   "outputs": [],
   "source": [
    "from bokeh.layouts import column\n",
    "from bokeh.models import CustomJS, ColumnDataSource, Slider\n",
    "from bokeh.plotting import figure\n",
    "\n",
    "x = [x*0.005 for x in range(0, 200)]\n",
    "y = x\n",
    "\n",
    "source = ColumnDataSource(data=dict(x=x, y=y))\n",
    "\n",
    "p = figure(plot_width=400, plot_height=400)\n",
    "p.line('x', 'y', source=source, line_width=3, line_alpha=0.6)\n",
    "\n",
    "callback = CustomJS(args=dict(source=source), code=\"\"\"\n",
    "        var data = source.get('data');\n",
    "        var value = cb_obj.get('value')\n",
    "        x = data['x']\n",
    "        y = data['y']\n",
    "        for (i = 0; i < x.length; i++) {\n",
    "            y[i] = Math.pow(x[i], value)}\n",
    "        source.trigger('change'); \"\"\")\n",
    "\n",
    "slider = Slider(start=0.1, end=4, value=1, step=.1, title=\"power\")\n",
    "slider.callback = callback\n",
    "\n",
    "layout = column(slider, p)\n",
    "\n",
    "show(layout)"
   ]
  },
  {
   "cell_type": "code",
   "execution_count": null,
   "metadata": {
    "collapsed": true
   },
   "outputs": [],
   "source": []
  }
 ],
 "metadata": {
  "celltoolbar": "Raw Cell Format",
  "kernelspec": {
   "display_name": "Python 3",
   "language": "python",
   "name": "python3"
  },
  "language_info": {
   "codemirror_mode": {
    "name": "ipython",
    "version": 3
   },
   "file_extension": ".py",
   "mimetype": "text/x-python",
   "name": "python",
   "nbconvert_exporter": "python",
   "pygments_lexer": "ipython3",
   "version": "3.5.3"
  },
  "toc": {
   "toc_cell": false,
   "toc_number_sections": true,
   "toc_section_display": "block",
   "toc_threshold": 6,
   "toc_window_display": false
  },
  "toc_position": {
   "height": "323px",
   "left": "760.885px",
   "right": "20px",
   "top": "185px",
   "width": "328px"
  },
  "widgets": {
   "state": {},
   "version": "1.1.2"
  }
 },
 "nbformat": 4,
 "nbformat_minor": 1
}
