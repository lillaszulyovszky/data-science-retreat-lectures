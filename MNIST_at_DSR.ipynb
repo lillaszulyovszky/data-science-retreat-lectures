{
  "nbformat": 4,
  "nbformat_minor": 0,
  "metadata": {
    "colab": {
      "name": "MNIST at DSR.ipynb",
      "provenance": [],
      "collapsed_sections": [],
      "authorship_tag": "ABX9TyOBg3ozX01ngUWFvAYh6Opg",
      "include_colab_link": true
    },
    "kernelspec": {
      "name": "python3",
      "display_name": "Python 3"
    },
    "language_info": {
      "name": "python"
    },
    "accelerator": "GPU"
  },
  "cells": [
    {
      "cell_type": "markdown",
      "metadata": {
        "id": "view-in-github",
        "colab_type": "text"
      },
      "source": [
        "<a href=\"https://colab.research.google.com/github/lillaszulyovszky/data-science-retreat-lectures/blob/main/MNIST_at_DSR.ipynb\" target=\"_parent\"><img src=\"https://colab.research.google.com/assets/colab-badge.svg\" alt=\"Open In Colab\"/></a>"
      ]
    },
    {
      "cell_type": "code",
      "metadata": {
        "id": "HqnECQJ8LTIG"
      },
      "source": [
        "from tensorflow.keras.datasets import mnist"
      ],
      "execution_count": 1,
      "outputs": []
    },
    {
      "cell_type": "markdown",
      "metadata": {
        "id": "3nCY1fivOAV7"
      },
      "source": [
        "# look at your data"
      ]
    },
    {
      "cell_type": "code",
      "metadata": {
        "id": "rKNNUzdONRJ8"
      },
      "source": [
        "(train_images, train_labels), (test_images, test_labels) = mnist.load_data()"
      ],
      "execution_count": 2,
      "outputs": []
    },
    {
      "cell_type": "code",
      "metadata": {
        "colab": {
          "base_uri": "https://localhost:8080/"
        },
        "id": "4pNMumOTOJiH",
        "outputId": "29f16d8d-4cfa-4d83-88a0-906eea276547"
      },
      "source": [
        "print(train_images.shape)\n",
        "print(train_labels.shape)\n",
        "print(test_images.shape)\n",
        "print(test_labels.shape)"
      ],
      "execution_count": 3,
      "outputs": [
        {
          "output_type": "stream",
          "name": "stdout",
          "text": [
            "(60000, 28, 28)\n",
            "(60000,)\n",
            "(10000, 28, 28)\n",
            "(10000,)\n"
          ]
        }
      ]
    },
    {
      "cell_type": "code",
      "metadata": {
        "colab": {
          "base_uri": "https://localhost:8080/",
          "height": 545
        },
        "id": "RLcWIOzlPNg9",
        "outputId": "0d0b8ed6-35b2-44ce-8160-feba212a709f"
      },
      "source": [
        "#print(train_images[0])\n",
        "import matplotlib.pyplot as plt\n",
        "index = 0\n",
        "plt.imshow(train_images[index], cmap=\"gray\")\n",
        "plt.title(f\"Label is {train_labels[index]}\")\n",
        "plt.show()\n",
        "plt.close()\n",
        "\n",
        "#print(train_images[0])\n",
        "import matplotlib.pyplot as plt\n",
        "index = 0\n",
        "plt.imshow(train_images[index], cmap=\"gray\")\n",
        "plt.title(f\"Label is {train_labels[index]}\")\n",
        "plt.show()\n",
        "plt.close()"
      ],
      "execution_count": 4,
      "outputs": [
        {
          "output_type": "display_data",
          "data": {
            "image/png": "[encoded data removed]",
            "text/plain": [
              "<Figure size 432x288 with 1 Axes>"
            ]
          },
          "metadata": {
            "needs_background": "light"
          }
        },
        {
          "output_type": "display_data",
          "data": {
            "image/png": "[encoded data removed]",
            "text/plain": [
              "<Figure size 432x288 with 1 Axes>"
            ]
          },
          "metadata": {
            "needs_background": "light"
          }
        }
      ]
    },
    {
      "cell_type": "code",
      "metadata": {
        "colab": {
          "base_uri": "https://localhost:8080/"
        },
        "id": "6yZqbbs-Rg6d",
        "outputId": "a719e5dc-b610-4112-fa37-9d04af29576a"
      },
      "source": [
        "set(train_labels)"
      ],
      "execution_count": 5,
      "outputs": [
        {
          "output_type": "execute_result",
          "data": {
            "text/plain": [
              "{0, 1, 2, 3, 4, 5, 6, 7, 8, 9}"
            ]
          },
          "metadata": {},
          "execution_count": 5
        }
      ]
    },
    {
      "cell_type": "code",
      "metadata": {
        "colab": {
          "base_uri": "https://localhost:8080/",
          "height": 267
        },
        "id": "sWPPGu-OtBoH",
        "outputId": "6d185f61-0641-42d1-ac04-97b1825a9459"
      },
      "source": [
        "plt.hist(train_labels)\n",
        "plt.show()"
      ],
      "execution_count": 6,
      "outputs": [
        {
          "output_type": "display_data",
          "data": {
            "image/png": "[encoded data removed]",
            "text/plain": [
              "<Figure size 432x288 with 1 Axes>"
            ]
          },
          "metadata": {
            "needs_background": "light"
          }
        }
      ]
    },
    {
      "cell_type": "code",
      "metadata": {
        "id": "HwG98lW4Txky"
      },
      "source": [
        "from tensorflow.keras import models, layers\n",
        "\n",
        "model = models.Sequential()\n",
        "model.add(layers.Flatten(input_shape=(28,28)))\n",
        "#model.add(layers.MaxPooling2D(pool_size=(2, 2)))\n",
        "model.add(layers.Dense(128, activation=\"relu\"))\n",
        "model.add(layers.Dense(10, activation=\"softmax\"))\n",
        "\n",
        "#model.add(layers.Dropout(0.6))\n",
        "\n"
      ],
      "execution_count": 42,
      "outputs": []
    },
    {
      "cell_type": "code",
      "metadata": {
        "colab": {
          "base_uri": "https://localhost:8080/"
        },
        "id": "7o42y_1oIaxt",
        "outputId": "988b9030-3588-4784-b498-e07912a463de"
      },
      "source": [
        "model.summary()\n",
        "\n",
        "model.compile(\n",
        "    optimizer=\"adam\",\n",
        "    loss=\"categorical_crossentropy\",\n",
        "    metrics=[\"accuracy\"])\n"
      ],
      "execution_count": 43,
      "outputs": [
        {
          "output_type": "stream",
          "name": "stdout",
          "text": [
            "Model: \"sequential_5\"\n",
            "_________________________________________________________________\n",
            "Layer (type)                 Output Shape              Param #   \n",
            "=================================================================\n",
            "flatten_5 (Flatten)          (None, 784)               0         \n",
            "_________________________________________________________________\n",
            "dense_6 (Dense)              (None, 128)               100480    \n",
            "_________________________________________________________________\n",
            "dense_7 (Dense)              (None, 10)                1290      \n",
            "=================================================================\n",
            "Total params: 101,770\n",
            "Trainable params: 101,770\n",
            "Non-trainable params: 0\n",
            "_________________________________________________________________\n"
          ]
        }
      ]
    },
    {
      "cell_type": "markdown",
      "metadata": {
        "id": "NURlfKCWXEeY"
      },
      "source": [
        "Output: will be batch size\n",
        "\n",
        "Shape: 28 x 28\n",
        "\n",
        "Param: if 0 = no weights\n",
        "\n",
        "could change input_shape to the variable shape\n",
        "\n",
        "deep network: with at least 1 hidden layer\n",
        "\n",
        "\n",
        "\n"
      ]
    },
    {
      "cell_type": "code",
      "metadata": {
        "id": "jgjmkWHgVs1v"
      },
      "source": [
        "x_train = train_images.astype(\"float32\") / 255.0\n",
        "x_test = test_images.astype(\"float32\") / 255.0\n",
        "\n",
        "from tensorflow.keras.utils import to_categorical\n",
        "y_train = to_categorical(train_labels)\n",
        "y_test = to_categorical(test_labels)\n",
        "\n"
      ],
      "execution_count": 44,
      "outputs": []
    },
    {
      "cell_type": "code",
      "metadata": {
        "colab": {
          "base_uri": "https://localhost:8080/",
          "height": 299
        },
        "id": "Cv7p_2WWtYFi",
        "outputId": "10ec9ef9-4962-42c9-d169-1072ce1e1218"
      },
      "source": [
        "index = 6\n",
        "prediction = model.predict(x_test[index].reshape((1,28,28)))[0]\n",
        "print(prediction.shape)\n",
        "plt.plot(y_test[index])\n",
        "plt.plot(prediction)"
      ],
      "execution_count": 45,
      "outputs": [
        {
          "output_type": "stream",
          "name": "stdout",
          "text": [
            "(10,)\n"
          ]
        },
        {
          "output_type": "execute_result",
          "data": {
            "text/plain": [
              "[<matplotlib.lines.Line2D at 0x7f0c209a6450>]"
            ]
          },
          "metadata": {},
          "execution_count": 45
        },
        {
          "output_type": "display_data",
          "data": {
            "image/png": "[encoded data removed]",
            "text/plain": [
              "<Figure size 432x288 with 1 Axes>"
            ]
          },
          "metadata": {
            "needs_background": "light"
          }
        }
      ]
    },
    {
      "cell_type": "code",
      "metadata": {
        "colab": {
          "base_uri": "https://localhost:8080/"
        },
        "id": "oefSnxW_uQ7L",
        "outputId": "2135e3a9-d500-463c-e6f8-168469eeaca6"
      },
      "source": [
        "loss, accuracy = model.evaluate(x_test, y_test)\n",
        "loss, accuracy"
      ],
      "execution_count": 46,
      "outputs": [
        {
          "output_type": "stream",
          "name": "stdout",
          "text": [
            "313/313 [==============================] - 1s 3ms/step - loss: 2.4251 - accuracy: 0.0807\n"
          ]
        },
        {
          "output_type": "execute_result",
          "data": {
            "text/plain": [
              "(2.425075054168701, 0.08070000261068344)"
            ]
          },
          "metadata": {},
          "execution_count": 46
        }
      ]
    },
    {
      "cell_type": "code",
      "metadata": {
        "colab": {
          "base_uri": "https://localhost:8080/"
        },
        "id": "zovmA3uiz51y",
        "outputId": "81f6893e-5b46-401f-e1c2-81c080c158c4"
      },
      "source": [
        "train_loss, train_accuracy = model.evaluate(x_train, y_train)\n",
        "test_loss, test_accuracy = model.evaluate(x_test, y_test)"
      ],
      "execution_count": 47,
      "outputs": [
        {
          "output_type": "stream",
          "name": "stdout",
          "text": [
            "1875/1875 [==============================] - 6s 3ms/step - loss: 2.4255 - accuracy: 0.0802\n",
            "313/313 [==============================] - 1s 3ms/step - loss: 2.4251 - accuracy: 0.0807\n"
          ]
        }
      ]
    },
    {
      "cell_type": "code",
      "metadata": {
        "colab": {
          "base_uri": "https://localhost:8080/"
        },
        "id": "MCdGlvkIwlnv",
        "outputId": "23755521-8c56-4729-ae3c-5246785ee0f8"
      },
      "source": [
        "history = model.fit(\n",
        "    x_train, y_train,\n",
        "    batch_size=128,\n",
        "    epochs=128,\n",
        "    validation_split=0.2\n",
        ")"
      ],
      "execution_count": 48,
      "outputs": [
        {
          "output_type": "stream",
          "name": "stdout",
          "text": [
            "Epoch 1/32\n",
            "375/375 [==============================] - 2s 4ms/step - loss: 0.3999 - accuracy: 0.8897 - val_loss: 0.2130 - val_accuracy: 0.9419\n",
            "Epoch 2/32\n",
            "375/375 [==============================] - 1s 4ms/step - loss: 0.1839 - accuracy: 0.9490 - val_loss: 0.1619 - val_accuracy: 0.9542\n",
            "Epoch 3/32\n",
            "375/375 [==============================] - 1s 4ms/step - loss: 0.1322 - accuracy: 0.9623 - val_loss: 0.1339 - val_accuracy: 0.9622\n",
            "Epoch 4/32\n",
            "375/375 [==============================] - 2s 4ms/step - loss: 0.1019 - accuracy: 0.9709 - val_loss: 0.1127 - val_accuracy: 0.9678\n",
            "Epoch 5/32\n",
            "375/375 [==============================] - 2s 4ms/step - loss: 0.0815 - accuracy: 0.9766 - val_loss: 0.1060 - val_accuracy: 0.9693\n",
            "Epoch 6/32\n",
            "375/375 [==============================] - 2s 4ms/step - loss: 0.0672 - accuracy: 0.9810 - val_loss: 0.0971 - val_accuracy: 0.9723\n",
            "Epoch 7/32\n",
            "375/375 [==============================] - 2s 4ms/step - loss: 0.0560 - accuracy: 0.9843 - val_loss: 0.0910 - val_accuracy: 0.9729\n",
            "Epoch 8/32\n",
            "375/375 [==============================] - 2s 4ms/step - loss: 0.0472 - accuracy: 0.9867 - val_loss: 0.0913 - val_accuracy: 0.9730\n",
            "Epoch 9/32\n",
            "375/375 [==============================] - 2s 4ms/step - loss: 0.0397 - accuracy: 0.9894 - val_loss: 0.0853 - val_accuracy: 0.9741\n",
            "Epoch 10/32\n",
            "375/375 [==============================] - 2s 4ms/step - loss: 0.0340 - accuracy: 0.9914 - val_loss: 0.0876 - val_accuracy: 0.9753\n",
            "Epoch 11/32\n",
            "375/375 [==============================] - 2s 4ms/step - loss: 0.0292 - accuracy: 0.9920 - val_loss: 0.0897 - val_accuracy: 0.9740\n",
            "Epoch 12/32\n",
            "375/375 [==============================] - 1s 4ms/step - loss: 0.0249 - accuracy: 0.9940 - val_loss: 0.0828 - val_accuracy: 0.9766\n",
            "Epoch 13/32\n",
            "375/375 [==============================] - 2s 4ms/step - loss: 0.0199 - accuracy: 0.9957 - val_loss: 0.0916 - val_accuracy: 0.9738\n",
            "Epoch 14/32\n",
            "375/375 [==============================] - 2s 4ms/step - loss: 0.0179 - accuracy: 0.9959 - val_loss: 0.0881 - val_accuracy: 0.9756\n",
            "Epoch 15/32\n",
            "375/375 [==============================] - 2s 4ms/step - loss: 0.0147 - accuracy: 0.9970 - val_loss: 0.0875 - val_accuracy: 0.9761\n",
            "Epoch 16/32\n",
            "375/375 [==============================] - 2s 4ms/step - loss: 0.0132 - accuracy: 0.9974 - val_loss: 0.0862 - val_accuracy: 0.9760\n",
            "Epoch 17/32\n",
            "375/375 [==============================] - 1s 4ms/step - loss: 0.0105 - accuracy: 0.9983 - val_loss: 0.1026 - val_accuracy: 0.9739\n",
            "Epoch 18/32\n",
            "375/375 [==============================] - 2s 4ms/step - loss: 0.0097 - accuracy: 0.9984 - val_loss: 0.0924 - val_accuracy: 0.9747\n",
            "Epoch 19/32\n",
            "375/375 [==============================] - 2s 4ms/step - loss: 0.0074 - accuracy: 0.9990 - val_loss: 0.0939 - val_accuracy: 0.9764\n",
            "Epoch 20/32\n",
            "375/375 [==============================] - 2s 4ms/step - loss: 0.0068 - accuracy: 0.9991 - val_loss: 0.0930 - val_accuracy: 0.9776\n",
            "Epoch 21/32\n",
            "375/375 [==============================] - 1s 4ms/step - loss: 0.0054 - accuracy: 0.9995 - val_loss: 0.0942 - val_accuracy: 0.9760\n",
            "Epoch 22/32\n",
            "375/375 [==============================] - 2s 4ms/step - loss: 0.0042 - accuracy: 0.9997 - val_loss: 0.0995 - val_accuracy: 0.9762\n",
            "Epoch 23/32\n",
            "375/375 [==============================] - 2s 4ms/step - loss: 0.0044 - accuracy: 0.9994 - val_loss: 0.1018 - val_accuracy: 0.9758\n",
            "Epoch 24/32\n",
            "375/375 [==============================] - 1s 4ms/step - loss: 0.0035 - accuracy: 0.9998 - val_loss: 0.1002 - val_accuracy: 0.9762\n",
            "Epoch 25/32\n",
            "375/375 [==============================] - 2s 4ms/step - loss: 0.0043 - accuracy: 0.9993 - val_loss: 0.1094 - val_accuracy: 0.9762\n",
            "Epoch 26/32\n",
            "375/375 [==============================] - 1s 4ms/step - loss: 0.0085 - accuracy: 0.9976 - val_loss: 0.1269 - val_accuracy: 0.9722\n",
            "Epoch 27/32\n",
            "375/375 [==============================] - 2s 4ms/step - loss: 0.0039 - accuracy: 0.9995 - val_loss: 0.1030 - val_accuracy: 0.9775\n",
            "Epoch 28/32\n",
            "375/375 [==============================] - 1s 4ms/step - loss: 0.0016 - accuracy: 1.0000 - val_loss: 0.1031 - val_accuracy: 0.9782\n",
            "Epoch 29/32\n",
            "375/375 [==============================] - 2s 4ms/step - loss: 0.0012 - accuracy: 1.0000 - val_loss: 0.1066 - val_accuracy: 0.9780\n",
            "Epoch 30/32\n",
            "375/375 [==============================] - 1s 4ms/step - loss: 9.5232e-04 - accuracy: 1.0000 - val_loss: 0.1038 - val_accuracy: 0.9783\n",
            "Epoch 31/32\n",
            "375/375 [==============================] - 1s 4ms/step - loss: 8.1067e-04 - accuracy: 1.0000 - val_loss: 0.1051 - val_accuracy: 0.9787\n",
            "Epoch 32/32\n",
            "375/375 [==============================] - 1s 4ms/step - loss: 8.7971e-04 - accuracy: 1.0000 - val_loss: 0.1091 - val_accuracy: 0.9766\n"
          ]
        }
      ]
    },
    {
      "cell_type": "code",
      "metadata": {
        "colab": {
          "base_uri": "https://localhost:8080/",
          "height": 513
        },
        "id": "-rBzUTi2yTGU",
        "outputId": "5d25aee8-338f-4b06-ce6e-6e0558915098"
      },
      "source": [
        "#model.history.history\n",
        "\n",
        "plt.plot(history.history[\"loss\"], label=\"loss\")\n",
        "plt.plot(history.history[\"val_loss\"], label=\"val_loss\")\n",
        "plt.legend()\n",
        "plt.show()\n",
        "plt.plot(history.history[\"accuracy\"], label=\"accuracy\")\n",
        "plt.plot(history.history[\"val_accuracy\"], label=\"val_accuracy\")\n",
        "plt.legend()\n",
        "plt.show()"
      ],
      "execution_count": 49,
      "outputs": [
        {
          "output_type": "display_data",
          "data": {
            "image/png": "[encoded data removed]",
            "text/plain": [
              "<Figure size 432x288 with 1 Axes>"
            ]
          },
          "metadata": {
            "needs_background": "light"
          }
        },
        {
          "output_type": "display_data",
          "data": {
            "image/png": "[encoded data removed]",
            "text/plain": [
              "<Figure size 432x288 with 1 Axes>"
            ]
          },
          "metadata": {
            "needs_background": "light"
          }
        }
      ]
    },
    {
      "cell_type": "code",
      "metadata": {
        "colab": {
          "base_uri": "https://localhost:8080/"
        },
        "id": "KszTvg9OyqWH",
        "outputId": "a5362d7e-e5cd-4a3b-eb8e-61b2995faaea"
      },
      "source": [
        "model.evaluate(x_test, y_test)"
      ],
      "execution_count": 50,
      "outputs": [
        {
          "output_type": "stream",
          "name": "stdout",
          "text": [
            "313/313 [==============================] - 1s 3ms/step - loss: 0.0861 - accuracy: 0.9801\n"
          ]
        },
        {
          "output_type": "execute_result",
          "data": {
            "text/plain": [
              "[0.08612672239542007, 0.9800999760627747]"
            ]
          },
          "metadata": {},
          "execution_count": 50
        }
      ]
    },
    {
      "cell_type": "code",
      "metadata": {
        "colab": {
          "base_uri": "https://localhost:8080/",
          "height": 299
        },
        "id": "nptkyem31ELs",
        "outputId": "0b701112-7ba7-4713-a107-63296e94c32b"
      },
      "source": [
        "index = 6\n",
        "prediction = model.predict(x_test[index].reshape((1,28,28)))[0]\n",
        "print(prediction.shape)\n",
        "plt.plot(prediction)\n",
        "plt.plot(y_test[index])\n"
      ],
      "execution_count": 51,
      "outputs": [
        {
          "output_type": "stream",
          "name": "stdout",
          "text": [
            "(10,)\n"
          ]
        },
        {
          "output_type": "execute_result",
          "data": {
            "text/plain": [
              "[<matplotlib.lines.Line2D at 0x7f0c1e617890>]"
            ]
          },
          "metadata": {},
          "execution_count": 51
        },
        {
          "output_type": "display_data",
          "data": {
            "image/png": "[encoded data removed]",
            "text/plain": [
              "<Figure size 432x288 with 1 Axes>"
            ]
          },
          "metadata": {
            "needs_background": "light"
          }
        }
      ]
    },
    {
      "cell_type": "code",
      "metadata": {
        "id": "O9Y1H5ww5wWj"
      },
      "source": [
        "\n"
      ],
      "execution_count": 51,
      "outputs": []
    },
    {
      "cell_type": "code",
      "metadata": {
        "id": "3PePy-9KLVaQ"
      },
      "source": [
        ""
      ],
      "execution_count": 51,
      "outputs": []
    }
  ]
}