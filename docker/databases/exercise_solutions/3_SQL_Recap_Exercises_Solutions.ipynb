{
 "cells": [
  {
   "cell_type": "markdown",
   "metadata": {},
   "source": [
    "# SQL Recap Exercise Solutions\n",
    "\n",
    "## Exercise 1\n",
    "\n",
    "Get all songs (`Track`) by **Queen** (`Artist`)"
   ]
  },
  {
   "cell_type": "markdown",
   "metadata": {},
   "source": [
    "### Solution\n",
    "\n",
    "```\n",
    "SHOW DATABASES;\n",
    "```\n",
    "\n",
    "```\n",
    "USE Chinook;\n",
    "```\n",
    "\n",
    "```\n",
    "SHOW TABLES;\n",
    "```\n",
    "\n",
    "```\n",
    "SELECT * FROM Artist LIMIT 10;\n",
    "```\n",
    "\n",
    "```\n",
    "SELECT * FROM Artist WHERE Name LIKE 'QUEEN';\n",
    "```\n",
    "\n",
    "```\n",
    "SELECT * FROM Track LIMIT 10;\n",
    "```\n",
    "\n",
    "```\n",
    "SELECT * FROM Album LIMIT 10;\n",
    "```\n",
    "\n",
    "```\n",
    "SELECT * FROM Track T\n",
    "JOIN Album A\n",
    "ON T.AlbumId = A.AlbumId\n",
    "WHERE A.ArtistId=51;\n",
    "```"
   ]
  },
  {
   "cell_type": "markdown",
   "metadata": {},
   "source": [
    "## Exercise 2\n",
    "\n",
    "Get the top 5 playlists (`Playlist`) with the most number of songs (`Track`)"
   ]
  },
  {
   "cell_type": "markdown",
   "metadata": {},
   "source": [
    "### Solution\n",
    "\n",
    "```\n",
    "mysql> SELECT PlaylistId, COUNT(TrackId) FROM PlaylistTrack GROUP BY 1 ORDER BY 2 DESC LIMIT 5;\n",
    "+------------+----------------+\n",
    "| PlaylistId | COUNT(TrackId) |\n",
    "+------------+----------------+\n",
    "|          8 |           3290 |\n",
    "|          1 |           3290 |\n",
    "|          5 |           1477 |\n",
    "|          3 |            213 |\n",
    "|         10 |            213 |\n",
    "+------------+----------------+\n",
    "5 rows in set (0.01 sec)\n",
    "```"
   ]
  },
  {
   "cell_type": "markdown",
   "metadata": {},
   "source": [
    "## Exercise 3\n",
    "\n",
    "Get all artists (`Artist`) that haven't released any albums (`Album`)"
   ]
  },
  {
   "cell_type": "markdown",
   "metadata": {},
   "source": [
    "### Solution\n",
    "\n",
    "```\n",
    "mysql> SELECT * FROM Artist A \n",
    "LEFT JOIN Album L \n",
    "ON A.ArtistId = L.ArtistID \n",
    "WHERE L.ArtistId IS NULL;\n",
    "\n",
    "\n",
    "+----------+----------------------------+---------+-------+----------+\n",
    "| ArtistId | Name                       | AlbumId | Title | ArtistId |\n",
    "+----------+----------------------------+---------+-------+----------+\n",
    "|       25 | Milton Nascimento & Bebeto |    NULL | NULL  |     NULL |\n",
    "|       26 | Azymuth                    |    NULL | NULL  |     NULL |\n",
    "|       28 | Jo?o Gilberto              |    NULL | NULL  |     NULL |\n",
    "|       29 | Bebel Gilberto             |    NULL | NULL  |     NULL |\n",
    "|       30 | Jorge Vercilo              |    NULL | NULL  |     NULL |\n",
    "...\n",
    "...\n",
    "```\n"
   ]
  },
  {
   "cell_type": "markdown",
   "metadata": {},
   "source": [
    "## Extra Exercise\n",
    "\n",
    "Get all customer information of customers (`Customer`) that were invoiced (`Invoice`) in the year 2011"
   ]
  },
  {
   "cell_type": "markdown",
   "metadata": {},
   "source": [
    "### Solution\n",
    "\n",
    "```\n",
    "SELECT * FROM Customer;\n",
    "```\n",
    "\n",
    "```\n",
    "SELECT * FROM Invoice;\n",
    "```\n",
    "\n",
    "```\n",
    "DESCRIBE Invoice;\n",
    "```\n",
    "\n",
    "\n",
    "```\n",
    "SELECT C.* \n",
    "FROM Customer C \n",
    "JOIN Invoice I \n",
    "ON C.CustomerId = I.CustomerId \n",
    "WHERE YEAR(I.InvoiceDate) = 2011;\n",
    "```"
   ]
  },
  {
   "cell_type": "code",
   "execution_count": null,
   "metadata": {},
   "outputs": [],
   "source": []
  }
 ],
 "metadata": {
  "kernelspec": {
   "display_name": "Python 3",
   "language": "python",
   "name": "python3"
  },
  "language_info": {
   "codemirror_mode": {
    "name": "ipython",
    "version": 3
   },
   "file_extension": ".py",
   "mimetype": "text/x-python",
   "name": "python",
   "nbconvert_exporter": "python",
   "pygments_lexer": "ipython3",
   "version": "3.7.0"
  }
 },
 "nbformat": 4,
 "nbformat_minor": 4
}
