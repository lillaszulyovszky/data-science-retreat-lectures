{
 "cells": [
  {
   "cell_type": "markdown",
   "metadata": {
    "slideshow": {
     "slide_type": "slide"
    }
   },
   "source": [
    "# SQL Recap\n",
    "\n",
    "Let's do a recap of SQL commands.\n",
    "\n",
    "For this exercise, we will use the [Chinook Database](https://github.com/lerocha/chinook-database)\n",
    "\n",
    "A MySQL dump of the Chinook database is already included in this folder, in location `db/`"
   ]
  },
  {
   "cell_type": "code",
   "execution_count": 1,
   "metadata": {
    "slideshow": {
     "slide_type": "slide"
    }
   },
   "outputs": [
    {
     "name": "stdout",
     "output_type": "stream",
     "text": [
      "/Users/abhijit/workspace/dsr/databases/3_SQL_Recap\r\n"
     ]
    }
   ],
   "source": [
    "! pwd"
   ]
  },
  {
   "cell_type": "code",
   "execution_count": 2,
   "metadata": {
    "slideshow": {
     "slide_type": "fragment"
    }
   },
   "outputs": [
    {
     "name": "stdout",
     "output_type": "stream",
     "text": [
      "Chinook_Mysql.sql\r\n"
     ]
    }
   ],
   "source": [
    "! ls db/"
   ]
  },
  {
   "cell_type": "markdown",
   "metadata": {
    "slideshow": {
     "slide_type": "slide"
    }
   },
   "source": [
    "## MySQL using Docker\n",
    "\n",
    "We are going to use a Docker image to set up our MySQL Server. The set-up has already been done in `docker-compose.yml`.\n",
    "\n",
    "Take a minute now to look at the `docker-compose.yml` file and see if you understand what's happening. \n"
   ]
  },
  {
   "cell_type": "code",
   "execution_count": 3,
   "metadata": {
    "slideshow": {
     "slide_type": "slide"
    }
   },
   "outputs": [
    {
     "name": "stdout",
     "output_type": "stream",
     "text": [
      "mysql:\r\n",
      "  image: mysql:5.7\r\n",
      "  container_name: mysql-container\r\n",
      "  ports:\r\n",
      "    - 3306:3306\r\n",
      "  volumes:\r\n",
      "    - ./db/Chinook_Mysql.sql:/docker-entrypoint-initdb.d/dump.sql\r\n",
      "  environment:\r\n",
      "    MYSQL_ROOT_PASSWORD: secret\r\n",
      "    MYSQL_DATABASE: Chinook\r\n",
      "    MYSQL_USER: user\r\n",
      "    MYSQL_PASSWORD: password\r\n"
     ]
    }
   ],
   "source": [
    "! cat docker-compose.yml"
   ]
  },
  {
   "cell_type": "markdown",
   "metadata": {
    "slideshow": {
     "slide_type": "slide"
    }
   },
   "source": [
    "## Starting your MySQL Server \n",
    "\n",
    "To start your mysql server, open a Terminal, and navigate to the folder with this notebook. \n",
    "\n",
    "And then run \n",
    "\n",
    "```\n",
    "docker-compose up -d\n",
    "```\n",
    "\n",
    "`-d` will run your container in the background"
   ]
  },
  {
   "cell_type": "markdown",
   "metadata": {
    "slideshow": {
     "slide_type": "slide"
    }
   },
   "source": [
    "## Checking your MySQL Server is running\n",
    "\n",
    "To see if your MySQL Server is running, first list the running containers.\n",
    "\n",
    "```\n",
    "docker ps\n",
    "```\n",
    "\n",
    "You should see a `mysql-container` in the output. And now check the logs of this container.\n",
    "\n",
    "```\n",
    "docker logs -f mysql-container\n",
    "```"
   ]
  },
  {
   "cell_type": "markdown",
   "metadata": {
    "slideshow": {
     "slide_type": "slide"
    }
   },
   "source": [
    "Wait until you see something like this:\n",
    "\n",
    "```\n",
    "2020-02-29T13:43:39.502300Z 0 [Note] Event Scheduler: Loaded 0 events\n",
    "2020-02-29T13:43:39.502631Z 0 [Note] mysqld: ready for connections.\n",
    "Version: '5.7.29'  socket: '/var/run/mysqld/mysqld.sock'  port: 3306  MySQL Community Server (GPL)\n",
    "```\n",
    "\n",
    "This means you are now ready to execute MySQL Commands\n",
    "\n",
    "Exit out of the logs by pressing `Ctrl` + `C`"
   ]
  },
  {
   "cell_type": "markdown",
   "metadata": {
    "slideshow": {
     "slide_type": "slide"
    }
   },
   "source": [
    "## Initializing a MySQL Shell\n",
    "\n",
    "To initialize a MySQL Shell, use this command:\n",
    "\n",
    "```\n",
    "docker exec -it mysql-container mysql -u user -p\n",
    "```\n",
    "\n",
    "Type the password for user from `docker-compose.yml` (default: `password`) \n",
    "\n",
    "You are now logged in as `user`. "
   ]
  },
  {
   "cell_type": "markdown",
   "metadata": {
    "slideshow": {
     "slide_type": "slide"
    }
   },
   "source": [
    "# Exercise Time"
   ]
  },
  {
   "cell_type": "markdown",
   "metadata": {
    "slideshow": {
     "slide_type": "fragment"
    }
   },
   "source": [
    "## Exercise 1\n",
    "\n",
    "Get all songs (`Track`) by **Queen** (`Artist`)\n",
    "\n",
    "Hint: `Artist` is not the same as `Composer`"
   ]
  },
  {
   "cell_type": "markdown",
   "metadata": {
    "slideshow": {
     "slide_type": "fragment"
    }
   },
   "source": [
    "## Exercise 2\n",
    "\n",
    "Get the top 5 playlists (`Playlist`) with the most number of songs (`Track`)"
   ]
  },
  {
   "cell_type": "markdown",
   "metadata": {
    "slideshow": {
     "slide_type": "fragment"
    }
   },
   "source": [
    "## Exercise 3\n",
    "\n",
    "Get all artists (`Artist`) that haven't released any albums (`Album`)"
   ]
  },
  {
   "cell_type": "markdown",
   "metadata": {
    "slideshow": {
     "slide_type": "slide"
    }
   },
   "source": [
    "## Extra Exercise\n",
    "\n",
    "Get all customer information of customers (`Customer`) that were invoiced (`Invoice`) in the year 2011"
   ]
  },
  {
   "cell_type": "markdown",
   "metadata": {
    "slideshow": {
     "slide_type": "slide"
    }
   },
   "source": [
    "# Shut Down\n",
    "\n",
    "Exit out of your MySQL session by pressing `Ctrl` + `D`\n",
    "\n",
    "```\n",
    "docker-compose down\n",
    "```\n",
    "\n",
    "```\n",
    "docker ps\n",
    "```"
   ]
  },
  {
   "cell_type": "code",
   "execution_count": null,
   "metadata": {
    "slideshow": {
     "slide_type": "skip"
    }
   },
   "outputs": [],
   "source": []
  }
 ],
 "metadata": {
  "celltoolbar": "Slideshow",
  "kernelspec": {
   "display_name": "Python 3",
   "language": "python",
   "name": "python3"
  },
  "language_info": {
   "codemirror_mode": {
    "name": "ipython",
    "version": 3
   },
   "file_extension": ".py",
   "mimetype": "text/x-python",
   "name": "python",
   "nbconvert_exporter": "python",
   "pygments_lexer": "ipython3",
   "version": "3.7.0"
  }
 },
 "nbformat": 4,
 "nbformat_minor": 4
}
