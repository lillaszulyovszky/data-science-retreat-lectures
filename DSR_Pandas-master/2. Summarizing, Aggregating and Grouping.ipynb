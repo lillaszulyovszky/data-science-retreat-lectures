{
 "cells": [
  {
   "cell_type": "code",
   "execution_count": 190,
   "metadata": {},
   "outputs": [],
   "source": [
    "import pandas as pd\n",
    "import numpy as np"
   ]
  },
  {
   "cell_type": "markdown",
   "metadata": {},
   "source": [
    "# Summarizing, Aggregating & Grouping\n",
    "Knowing how to use pandas aggregation & grouping functions lets us reduce the dimensionality of our data and visualize it in different ways (most often over the rows - aka `axis=0`).  \n",
    "\n",
    "For completeness, `axis=1` refers to the columns."
   ]
  },
  {
   "cell_type": "code",
   "execution_count": 191,
   "metadata": {},
   "outputs": [],
   "source": [
    "wine = pd.read_csv('data/wine_reviews/winemag-data_first150k.csv', index_col=0)"
   ]
  },
  {
   "cell_type": "markdown",
   "metadata": {},
   "source": [
    "## Initial quick analysis using pandas\n",
    "Pandas has multiple built-in functions that make it easy to quickly see what's in your dataframe. \n",
    "You can build them with the selecting tools you used before."
   ]
  },
  {
   "cell_type": "markdown",
   "metadata": {},
   "source": [
    "Here, we will select a column, and then see how pandas lets us quickly analyse it.\n",
    "\n",
    "To quickly see which columns our wine dataset has, we can use the .columns attribute."
   ]
  },
  {
   "cell_type": "code",
   "execution_count": null,
   "metadata": {},
   "outputs": [],
   "source": []
  },
  {
   "cell_type": "markdown",
   "metadata": {},
   "source": [
    "Let's select price."
   ]
  },
  {
   "cell_type": "code",
   "execution_count": null,
   "metadata": {},
   "outputs": [],
   "source": []
  },
  {
   "cell_type": "markdown",
   "metadata": {},
   "source": [
    "We can quickly see some metrics of the price, using some built-in aggregating functions in pandas."
   ]
  },
  {
   "cell_type": "code",
   "execution_count": 192,
   "metadata": {},
   "outputs": [
    {
     "data": {
      "text/plain": [
       "33.13148249353299"
      ]
     },
     "execution_count": 192,
     "metadata": {},
     "output_type": "execute_result"
    }
   ],
   "source": [
    "wine.loc[:, \"price\"].mean()"
   ]
  },
  {
   "cell_type": "markdown",
   "metadata": {},
   "source": [
    "And some more advanced metrics...\n",
    "\n",
    "We can see how many times each country appears in the datast (called a value count)"
   ]
  },
  {
   "cell_type": "code",
   "execution_count": 193,
   "metadata": {
    "scrolled": true
   },
   "outputs": [
    {
     "data": {
      "text/plain": [
       "US        62397\n",
       "Italy     23478\n",
       "France    21098\n",
       "Spain      8268\n",
       "Chile      5816\n",
       "Name: country, dtype: int64"
      ]
     },
     "execution_count": 193,
     "metadata": {},
     "output_type": "execute_result"
    }
   ],
   "source": [
    "wine.loc[:, \"country\"].value_counts().head()"
   ]
  },
  {
   "cell_type": "markdown",
   "metadata": {},
   "source": [
    "What if we want to see this list in the opposite order?"
   ]
  },
  {
   "cell_type": "code",
   "execution_count": 194,
   "metadata": {
    "scrolled": true
   },
   "outputs": [
    {
     "data": {
      "text/plain": [
       "US-France                     1\n",
       "Tunisia                       2\n",
       "Albania                       2\n",
       "Montenegro                    2\n",
       "Japan                         2\n",
       "Egypt                         3\n",
       "Slovakia                      3\n",
       "China                         3\n",
       "Bosnia and Herzegovina        4\n",
       "Switzerland                   4\n",
       "South Korea                   4\n",
       "Ukraine                       5\n",
       "Czech Republic                6\n",
       "India                         8\n",
       "Lithuania                     8\n",
       "Luxembourg                    9\n",
       "England                       9\n",
       "Morocco                      12\n",
       "Serbia                       14\n",
       "Macedonia                    16\n",
       "Brazil                       25\n",
       "Cyprus                       31\n",
       "Lebanon                      37\n",
       "Georgia                      43\n",
       "Turkey                       52\n",
       "Mexico                       63\n",
       "Moldova                      71\n",
       "Bulgaria                     77\n",
       "Croatia                      89\n",
       "Uruguay                      92\n",
       "Slovenia                     94\n",
       "Romania                     139\n",
       "Canada                      196\n",
       "Hungary                     231\n",
       "Israel                      630\n",
       "Greece                      884\n",
       "South Africa               2258\n",
       "Germany                    2452\n",
       "Austria                    3057\n",
       "New Zealand                3320\n",
       "Australia                  4957\n",
       "Portugal                   5322\n",
       "Argentina                  5631\n",
       "Chile                      5816\n",
       "Spain                      8268\n",
       "France                    21098\n",
       "Italy                     23478\n",
       "US                        62397\n",
       "Name: country, dtype: int64"
      ]
     },
     "execution_count": 194,
     "metadata": {},
     "output_type": "execute_result"
    }
   ],
   "source": [
    "wine.loc[:, \"country\"].value_counts().sort_values(ascending=True)"
   ]
  },
  {
   "cell_type": "markdown",
   "metadata": {},
   "source": [
    "This list is too long. What if we only want to see the top 10 countries?\n",
    "We can string together the other selectors we learned before!\n",
    "\n",
    "Can you think of another way to get the top 10 rows?"
   ]
  },
  {
   "cell_type": "code",
   "execution_count": null,
   "metadata": {},
   "outputs": [],
   "source": []
  },
  {
   "cell_type": "code",
   "execution_count": null,
   "metadata": {},
   "outputs": [],
   "source": []
  },
  {
   "cell_type": "markdown",
   "metadata": {},
   "source": [
    "What's the difference between `.value_counts()` and `.count()`?"
   ]
  },
  {
   "cell_type": "code",
   "execution_count": null,
   "metadata": {},
   "outputs": [],
   "source": []
  },
  {
   "cell_type": "markdown",
   "metadata": {},
   "source": [
    "What if we just want to know how many countries are on the list?"
   ]
  },
  {
   "cell_type": "code",
   "execution_count": 195,
   "metadata": {},
   "outputs": [
    {
     "data": {
      "text/plain": [
       "48"
      ]
     },
     "execution_count": 195,
     "metadata": {},
     "output_type": "execute_result"
    }
   ],
   "source": [
    "# Number of non-null unique values\n",
    "wine.loc[:, \"country\"].nunique()"
   ]
  },
  {
   "cell_type": "code",
   "execution_count": 196,
   "metadata": {},
   "outputs": [
    {
     "data": {
      "text/plain": [
       "49"
      ]
     },
     "execution_count": 196,
     "metadata": {},
     "output_type": "execute_result"
    }
   ],
   "source": [
    "# counting nans as well\n",
    "len(set(wine.loc[:, \"country\"]))"
   ]
  },
  {
   "cell_type": "code",
   "execution_count": null,
   "metadata": {},
   "outputs": [],
   "source": []
  },
  {
   "cell_type": "code",
   "execution_count": null,
   "metadata": {},
   "outputs": [],
   "source": []
  },
  {
   "cell_type": "markdown",
   "metadata": {},
   "source": [
    "And if we want a list of them? \n",
    "(This isn't a pandas thing, but is still super useful:)"
   ]
  },
  {
   "cell_type": "code",
   "execution_count": 197,
   "metadata": {},
   "outputs": [],
   "source": [
    "# Gives all unique values\n"
   ]
  },
  {
   "cell_type": "markdown",
   "metadata": {},
   "source": [
    "You can look [here](https://www.shanelynn.ie/summarising-aggregation-and-grouping-data-in-python-pandas/) for a list of all the built-in pandas stats."
   ]
  },
  {
   "cell_type": "markdown",
   "metadata": {},
   "source": [
    "Remember, for quick calculation of summary statistics we can use `df.describe()`. This quickly calculates some of these stats for the numeric columns in the df."
   ]
  },
  {
   "cell_type": "code",
   "execution_count": null,
   "metadata": {},
   "outputs": [],
   "source": []
  },
  {
   "cell_type": "markdown",
   "metadata": {},
   "source": [
    "**Question**: Why are only 2 of the columns included?"
   ]
  },
  {
   "cell_type": "code",
   "execution_count": null,
   "metadata": {},
   "outputs": [],
   "source": []
  },
  {
   "cell_type": "markdown",
   "metadata": {},
   "source": [
    "### Conditional Selections \n",
    "We can use conditional selections to narrow our analysis even further.\n",
    "\n",
    "DON'T FORGET - to make things easier, we can save selections we plan to use often as their own variables."
   ]
  },
  {
   "cell_type": "code",
   "execution_count": 198,
   "metadata": {},
   "outputs": [],
   "source": [
    "# query a dataset which only contains US wines\n",
    "# using a boolean mask\n",
    "mask_us = wine.loc[:, \"country\"] == \"US\"\n",
    "us_wines = wine.loc[mask_us, :]"
   ]
  },
  {
   "cell_type": "code",
   "execution_count": 199,
   "metadata": {},
   "outputs": [
    {
     "data": {
      "text/html": [
       "<div>\n",
       "<style scoped>\n",
       "    .dataframe tbody tr th:only-of-type {\n",
       "        vertical-align: middle;\n",
       "    }\n",
       "\n",
       "    .dataframe tbody tr th {\n",
       "        vertical-align: top;\n",
       "    }\n",
       "\n",
       "    .dataframe thead th {\n",
       "        text-align: right;\n",
       "    }\n",
       "</style>\n",
       "<table border=\"1\" class=\"dataframe\">\n",
       "  <thead>\n",
       "    <tr style=\"text-align: right;\">\n",
       "      <th></th>\n",
       "      <th>country</th>\n",
       "      <th>description</th>\n",
       "      <th>designation</th>\n",
       "      <th>points</th>\n",
       "      <th>price</th>\n",
       "      <th>province</th>\n",
       "      <th>region_1</th>\n",
       "      <th>region_2</th>\n",
       "      <th>variety</th>\n",
       "      <th>winery</th>\n",
       "    </tr>\n",
       "  </thead>\n",
       "  <tbody>\n",
       "    <tr>\n",
       "      <th>4</th>\n",
       "      <td>France</td>\n",
       "      <td>This is the top wine from La Bégude, named aft...</td>\n",
       "      <td>La Brûlade</td>\n",
       "      <td>95</td>\n",
       "      <td>66.0</td>\n",
       "      <td>Provence</td>\n",
       "      <td>Bandol</td>\n",
       "      <td>NaN</td>\n",
       "      <td>Provence red blend</td>\n",
       "      <td>Domaine de la Bégude</td>\n",
       "    </tr>\n",
       "    <tr>\n",
       "      <th>13</th>\n",
       "      <td>France</td>\n",
       "      <td>This wine is in peak condition. The tannins an...</td>\n",
       "      <td>Château Montus Prestige</td>\n",
       "      <td>95</td>\n",
       "      <td>90.0</td>\n",
       "      <td>Southwest France</td>\n",
       "      <td>Madiran</td>\n",
       "      <td>NaN</td>\n",
       "      <td>Tannat</td>\n",
       "      <td>Vignobles Brumont</td>\n",
       "    </tr>\n",
       "    <tr>\n",
       "      <th>18</th>\n",
       "      <td>France</td>\n",
       "      <td>Coming from a seven-acre vineyard named after ...</td>\n",
       "      <td>Le Pigeonnier</td>\n",
       "      <td>95</td>\n",
       "      <td>290.0</td>\n",
       "      <td>Southwest France</td>\n",
       "      <td>Cahors</td>\n",
       "      <td>NaN</td>\n",
       "      <td>Malbec</td>\n",
       "      <td>Château Lagrézette</td>\n",
       "    </tr>\n",
       "    <tr>\n",
       "      <th>33</th>\n",
       "      <td>France</td>\n",
       "      <td>Pale in color, this is nutty in character, wit...</td>\n",
       "      <td>Nonpareil Trésor Rosé Brut</td>\n",
       "      <td>90</td>\n",
       "      <td>22.0</td>\n",
       "      <td>France Other</td>\n",
       "      <td>Vin Mousseux</td>\n",
       "      <td>NaN</td>\n",
       "      <td>Sparkling Blend</td>\n",
       "      <td>Bouvet-Ladubay</td>\n",
       "    </tr>\n",
       "    <tr>\n",
       "      <th>36</th>\n",
       "      <td>France</td>\n",
       "      <td>Gingery spice notes accent fresh pear and melo...</td>\n",
       "      <td>NaN</td>\n",
       "      <td>90</td>\n",
       "      <td>60.0</td>\n",
       "      <td>Rhône Valley</td>\n",
       "      <td>Châteauneuf-du-Pape</td>\n",
       "      <td>NaN</td>\n",
       "      <td>Rhône-style White Blend</td>\n",
       "      <td>Clos de L'Oratoire des Papes</td>\n",
       "    </tr>\n",
       "    <tr>\n",
       "      <th>...</th>\n",
       "      <td>...</td>\n",
       "      <td>...</td>\n",
       "      <td>...</td>\n",
       "      <td>...</td>\n",
       "      <td>...</td>\n",
       "      <td>...</td>\n",
       "      <td>...</td>\n",
       "      <td>...</td>\n",
       "      <td>...</td>\n",
       "      <td>...</td>\n",
       "    </tr>\n",
       "    <tr>\n",
       "      <th>150921</th>\n",
       "      <td>France</td>\n",
       "      <td>Shows some older notes: a bouquet of toasted w...</td>\n",
       "      <td>Blanc de Blancs Brut Mosaïque</td>\n",
       "      <td>91</td>\n",
       "      <td>38.0</td>\n",
       "      <td>Champagne</td>\n",
       "      <td>Champagne</td>\n",
       "      <td>NaN</td>\n",
       "      <td>Champagne Blend</td>\n",
       "      <td>Jacquart</td>\n",
       "    </tr>\n",
       "    <tr>\n",
       "      <th>150923</th>\n",
       "      <td>France</td>\n",
       "      <td>Rich and toasty, with tiny bubbles. The bouque...</td>\n",
       "      <td>Demi-Sec</td>\n",
       "      <td>91</td>\n",
       "      <td>30.0</td>\n",
       "      <td>Champagne</td>\n",
       "      <td>Champagne</td>\n",
       "      <td>NaN</td>\n",
       "      <td>Champagne Blend</td>\n",
       "      <td>Jacquart</td>\n",
       "    </tr>\n",
       "    <tr>\n",
       "      <th>150924</th>\n",
       "      <td>France</td>\n",
       "      <td>Really fine for a low-acid vintage, there's an...</td>\n",
       "      <td>Diamant Bleu</td>\n",
       "      <td>91</td>\n",
       "      <td>70.0</td>\n",
       "      <td>Champagne</td>\n",
       "      <td>Champagne</td>\n",
       "      <td>NaN</td>\n",
       "      <td>Champagne Blend</td>\n",
       "      <td>Heidsieck &amp; Co Monopole</td>\n",
       "    </tr>\n",
       "    <tr>\n",
       "      <th>150926</th>\n",
       "      <td>France</td>\n",
       "      <td>Offers an intriguing nose with ginger, lime an...</td>\n",
       "      <td>Cuvée Prestige</td>\n",
       "      <td>91</td>\n",
       "      <td>27.0</td>\n",
       "      <td>Champagne</td>\n",
       "      <td>Champagne</td>\n",
       "      <td>NaN</td>\n",
       "      <td>Champagne Blend</td>\n",
       "      <td>H.Germain</td>\n",
       "    </tr>\n",
       "    <tr>\n",
       "      <th>150928</th>\n",
       "      <td>France</td>\n",
       "      <td>A perfect salmon shade, with scents of peaches...</td>\n",
       "      <td>Grand Brut Rosé</td>\n",
       "      <td>90</td>\n",
       "      <td>52.0</td>\n",
       "      <td>Champagne</td>\n",
       "      <td>Champagne</td>\n",
       "      <td>NaN</td>\n",
       "      <td>Champagne Blend</td>\n",
       "      <td>Gosset</td>\n",
       "    </tr>\n",
       "  </tbody>\n",
       "</table>\n",
       "<p>21098 rows × 10 columns</p>\n",
       "</div>"
      ],
      "text/plain": [
       "       country                                        description  \\\n",
       "4       France  This is the top wine from La Bégude, named aft...   \n",
       "13      France  This wine is in peak condition. The tannins an...   \n",
       "18      France  Coming from a seven-acre vineyard named after ...   \n",
       "33      France  Pale in color, this is nutty in character, wit...   \n",
       "36      France  Gingery spice notes accent fresh pear and melo...   \n",
       "...        ...                                                ...   \n",
       "150921  France  Shows some older notes: a bouquet of toasted w...   \n",
       "150923  France  Rich and toasty, with tiny bubbles. The bouque...   \n",
       "150924  France  Really fine for a low-acid vintage, there's an...   \n",
       "150926  France  Offers an intriguing nose with ginger, lime an...   \n",
       "150928  France  A perfect salmon shade, with scents of peaches...   \n",
       "\n",
       "                          designation  points  price          province  \\\n",
       "4                          La Brûlade      95   66.0          Provence   \n",
       "13            Château Montus Prestige      95   90.0  Southwest France   \n",
       "18                      Le Pigeonnier      95  290.0  Southwest France   \n",
       "33         Nonpareil Trésor Rosé Brut      90   22.0      France Other   \n",
       "36                                NaN      90   60.0      Rhône Valley   \n",
       "...                               ...     ...    ...               ...   \n",
       "150921  Blanc de Blancs Brut Mosaïque      91   38.0         Champagne   \n",
       "150923                       Demi-Sec      91   30.0         Champagne   \n",
       "150924                   Diamant Bleu      91   70.0         Champagne   \n",
       "150926                 Cuvée Prestige      91   27.0         Champagne   \n",
       "150928                Grand Brut Rosé      90   52.0         Champagne   \n",
       "\n",
       "                   region_1 region_2                  variety  \\\n",
       "4                    Bandol      NaN       Provence red blend   \n",
       "13                  Madiran      NaN                   Tannat   \n",
       "18                   Cahors      NaN                   Malbec   \n",
       "33             Vin Mousseux      NaN          Sparkling Blend   \n",
       "36      Châteauneuf-du-Pape      NaN  Rhône-style White Blend   \n",
       "...                     ...      ...                      ...   \n",
       "150921            Champagne      NaN          Champagne Blend   \n",
       "150923            Champagne      NaN          Champagne Blend   \n",
       "150924            Champagne      NaN          Champagne Blend   \n",
       "150926            Champagne      NaN          Champagne Blend   \n",
       "150928            Champagne      NaN          Champagne Blend   \n",
       "\n",
       "                              winery  \n",
       "4               Domaine de la Bégude  \n",
       "13                 Vignobles Brumont  \n",
       "18                Château Lagrézette  \n",
       "33                    Bouvet-Ladubay  \n",
       "36      Clos de L'Oratoire des Papes  \n",
       "...                              ...  \n",
       "150921                      Jacquart  \n",
       "150923                      Jacquart  \n",
       "150924       Heidsieck & Co Monopole  \n",
       "150926                     H.Germain  \n",
       "150928                        Gosset  \n",
       "\n",
       "[21098 rows x 10 columns]"
      ]
     },
     "execution_count": 199,
     "metadata": {},
     "output_type": "execute_result"
    }
   ],
   "source": [
    "# query a dataset which only contains French wines\n",
    "french_wines = wine.query(\"country=='France'\")\n",
    "french_wines"
   ]
  },
  {
   "cell_type": "markdown",
   "metadata": {},
   "source": [
    "Let's compare the difference in average price between US wines, French wines, and all the wines in our complete dataset."
   ]
  },
  {
   "cell_type": "code",
   "execution_count": 200,
   "metadata": {},
   "outputs": [
    {
     "data": {
      "text/plain": [
       "33.6538"
      ]
     },
     "execution_count": 200,
     "metadata": {},
     "output_type": "execute_result"
    }
   ],
   "source": [
    "# calculating average wine prices for us and french wines\n",
    "french_avg = french_wines.loc[:, 'price'].mean()\n",
    "round(french_avg, 4)\n",
    "us_avg = us_wines.loc[:, 'price'].mean()\n",
    "round(us_avg, 4)\n"
   ]
  },
  {
   "cell_type": "code",
   "execution_count": 201,
   "metadata": {},
   "outputs": [
    {
     "data": {
      "text/plain": [
       "float"
      ]
     },
     "execution_count": 201,
     "metadata": {},
     "output_type": "execute_result"
    }
   ],
   "source": [
    "type(price_avg)"
   ]
  },
  {
   "cell_type": "code",
   "execution_count": 202,
   "metadata": {},
   "outputs": [
    {
     "data": {
      "text/plain": [
       "'1.1.3'"
      ]
     },
     "execution_count": 202,
     "metadata": {},
     "output_type": "execute_result"
    }
   ],
   "source": [
    "pd.__version__"
   ]
  },
  {
   "cell_type": "code",
   "execution_count": 203,
   "metadata": {},
   "outputs": [
    {
     "name": "stdout",
     "output_type": "stream",
     "text": [
      "The avg price diff between US and French wines is 12\n"
     ]
    }
   ],
   "source": [
    "# printing prices using fstrings\n",
    "print(f\"The avg price diff between US and French wines is \"\n",
    "     f\"{round(french_avg - us_avg)}\")"
   ]
  },
  {
   "cell_type": "markdown",
   "metadata": {},
   "source": [
    "We can then use these to calculate more targeted metrics."
   ]
  },
  {
   "cell_type": "code",
   "execution_count": null,
   "metadata": {},
   "outputs": [],
   "source": []
  },
  {
   "cell_type": "markdown",
   "metadata": {},
   "source": [
    "#### More advanced conditionals: Using masks\n",
    "What if we want to filter on more than one criteria? \n",
    "\n",
    "When you want to filter on >1 criteria, it can be easier to use a mask.\n",
    "\n",
    "How many wines from North America do we have on our list?"
   ]
  },
  {
   "cell_type": "code",
   "execution_count": 204,
   "metadata": {},
   "outputs": [
    {
     "data": {
      "text/plain": [
       "array(['Albania', 'Argentina', 'Australia', 'Austria',\n",
       "       'Bosnia and Herzegovina', 'Brazil', 'Bulgaria', 'Canada', 'Chile',\n",
       "       'China', 'Croatia', 'Cyprus', 'Czech Republic', 'Egypt', 'England',\n",
       "       'France', 'Georgia', 'Germany', 'Greece', 'Hungary', 'India',\n",
       "       'Israel', 'Italy', 'Japan', 'Lebanon', 'Lithuania', 'Luxembourg',\n",
       "       'Macedonia', 'Mexico', 'Moldova', 'Montenegro', 'Morocco',\n",
       "       'New Zealand', 'Portugal', 'Romania', 'Serbia', 'Slovakia',\n",
       "       'Slovenia', 'South Africa', 'South Korea', 'Spain', 'Switzerland',\n",
       "       'Tunisia', 'Turkey', 'US', 'US-France', 'Ukraine', 'Uruguay', nan],\n",
       "      dtype=object)"
      ]
     },
     "execution_count": 204,
     "metadata": {},
     "output_type": "execute_result"
    }
   ],
   "source": [
    "wine.loc[:, \"country\"].sort_values().unique()\n",
    "# or\n",
    "# US, canada, mexico\n",
    "# boolean, query"
   ]
  },
  {
   "cell_type": "code",
   "execution_count": 205,
   "metadata": {},
   "outputs": [
    {
     "data": {
      "text/html": [
       "<div>\n",
       "<style scoped>\n",
       "    .dataframe tbody tr th:only-of-type {\n",
       "        vertical-align: middle;\n",
       "    }\n",
       "\n",
       "    .dataframe tbody tr th {\n",
       "        vertical-align: top;\n",
       "    }\n",
       "\n",
       "    .dataframe thead th {\n",
       "        text-align: right;\n",
       "    }\n",
       "</style>\n",
       "<table border=\"1\" class=\"dataframe\">\n",
       "  <thead>\n",
       "    <tr style=\"text-align: right;\">\n",
       "      <th></th>\n",
       "      <th>country</th>\n",
       "      <th>description</th>\n",
       "      <th>designation</th>\n",
       "      <th>points</th>\n",
       "      <th>price</th>\n",
       "      <th>province</th>\n",
       "      <th>region_1</th>\n",
       "      <th>region_2</th>\n",
       "      <th>variety</th>\n",
       "      <th>winery</th>\n",
       "    </tr>\n",
       "  </thead>\n",
       "  <tbody>\n",
       "    <tr>\n",
       "      <th>0</th>\n",
       "      <td>US</td>\n",
       "      <td>This tremendous 100% varietal wine hails from ...</td>\n",
       "      <td>Martha's Vineyard</td>\n",
       "      <td>96</td>\n",
       "      <td>235.0</td>\n",
       "      <td>California</td>\n",
       "      <td>Napa Valley</td>\n",
       "      <td>Napa</td>\n",
       "      <td>Cabernet Sauvignon</td>\n",
       "      <td>Heitz</td>\n",
       "    </tr>\n",
       "    <tr>\n",
       "      <th>2</th>\n",
       "      <td>US</td>\n",
       "      <td>Mac Watson honors the memory of a wine once ma...</td>\n",
       "      <td>Special Selected Late Harvest</td>\n",
       "      <td>96</td>\n",
       "      <td>90.0</td>\n",
       "      <td>California</td>\n",
       "      <td>Knights Valley</td>\n",
       "      <td>Sonoma</td>\n",
       "      <td>Sauvignon Blanc</td>\n",
       "      <td>Macauley</td>\n",
       "    </tr>\n",
       "    <tr>\n",
       "      <th>3</th>\n",
       "      <td>US</td>\n",
       "      <td>This spent 20 months in 30% new French oak, an...</td>\n",
       "      <td>Reserve</td>\n",
       "      <td>96</td>\n",
       "      <td>65.0</td>\n",
       "      <td>Oregon</td>\n",
       "      <td>Willamette Valley</td>\n",
       "      <td>Willamette Valley</td>\n",
       "      <td>Pinot Noir</td>\n",
       "      <td>Ponzi</td>\n",
       "    </tr>\n",
       "    <tr>\n",
       "      <th>8</th>\n",
       "      <td>US</td>\n",
       "      <td>This re-named vineyard was formerly bottled as...</td>\n",
       "      <td>Silice</td>\n",
       "      <td>95</td>\n",
       "      <td>65.0</td>\n",
       "      <td>Oregon</td>\n",
       "      <td>Chehalem Mountains</td>\n",
       "      <td>Willamette Valley</td>\n",
       "      <td>Pinot Noir</td>\n",
       "      <td>Bergström</td>\n",
       "    </tr>\n",
       "    <tr>\n",
       "      <th>9</th>\n",
       "      <td>US</td>\n",
       "      <td>The producer sources from two blocks of the vi...</td>\n",
       "      <td>Gap's Crown Vineyard</td>\n",
       "      <td>95</td>\n",
       "      <td>60.0</td>\n",
       "      <td>California</td>\n",
       "      <td>Sonoma Coast</td>\n",
       "      <td>Sonoma</td>\n",
       "      <td>Pinot Noir</td>\n",
       "      <td>Blue Farm</td>\n",
       "    </tr>\n",
       "    <tr>\n",
       "      <th>...</th>\n",
       "      <td>...</td>\n",
       "      <td>...</td>\n",
       "      <td>...</td>\n",
       "      <td>...</td>\n",
       "      <td>...</td>\n",
       "      <td>...</td>\n",
       "      <td>...</td>\n",
       "      <td>...</td>\n",
       "      <td>...</td>\n",
       "      <td>...</td>\n",
       "    </tr>\n",
       "    <tr>\n",
       "      <th>150892</th>\n",
       "      <td>US</td>\n",
       "      <td>A light, earthy wine, with violet, berry and t...</td>\n",
       "      <td>Coastal</td>\n",
       "      <td>82</td>\n",
       "      <td>10.0</td>\n",
       "      <td>California</td>\n",
       "      <td>California</td>\n",
       "      <td>California Other</td>\n",
       "      <td>Merlot</td>\n",
       "      <td>Callaway</td>\n",
       "    </tr>\n",
       "    <tr>\n",
       "      <th>150896</th>\n",
       "      <td>US</td>\n",
       "      <td>Some raspberry fruit in the aroma, but things ...</td>\n",
       "      <td>NaN</td>\n",
       "      <td>82</td>\n",
       "      <td>10.0</td>\n",
       "      <td>California</td>\n",
       "      <td>California</td>\n",
       "      <td>California Other</td>\n",
       "      <td>Pinot Noir</td>\n",
       "      <td>Camelot</td>\n",
       "    </tr>\n",
       "    <tr>\n",
       "      <th>150914</th>\n",
       "      <td>US</td>\n",
       "      <td>Old-gold in color, and thick and syrupy. The a...</td>\n",
       "      <td>Late Harvest Cluster Select</td>\n",
       "      <td>94</td>\n",
       "      <td>25.0</td>\n",
       "      <td>California</td>\n",
       "      <td>Anderson Valley</td>\n",
       "      <td>Mendocino/Lake Counties</td>\n",
       "      <td>White Riesling</td>\n",
       "      <td>Navarro</td>\n",
       "    </tr>\n",
       "    <tr>\n",
       "      <th>150915</th>\n",
       "      <td>US</td>\n",
       "      <td>Decades ago, Beringer’s then-winemaker Myron N...</td>\n",
       "      <td>Nightingale</td>\n",
       "      <td>93</td>\n",
       "      <td>30.0</td>\n",
       "      <td>California</td>\n",
       "      <td>North Coast</td>\n",
       "      <td>North Coast</td>\n",
       "      <td>White Blend</td>\n",
       "      <td>Beringer</td>\n",
       "    </tr>\n",
       "    <tr>\n",
       "      <th>150916</th>\n",
       "      <td>US</td>\n",
       "      <td>An impressive wine that presents a full bouque...</td>\n",
       "      <td>J. Schram</td>\n",
       "      <td>93</td>\n",
       "      <td>65.0</td>\n",
       "      <td>California</td>\n",
       "      <td>Napa Valley</td>\n",
       "      <td>Napa</td>\n",
       "      <td>Champagne Blend</td>\n",
       "      <td>Schramsberg</td>\n",
       "    </tr>\n",
       "  </tbody>\n",
       "</table>\n",
       "<p>62656 rows × 10 columns</p>\n",
       "</div>"
      ],
      "text/plain": [
       "       country                                        description  \\\n",
       "0           US  This tremendous 100% varietal wine hails from ...   \n",
       "2           US  Mac Watson honors the memory of a wine once ma...   \n",
       "3           US  This spent 20 months in 30% new French oak, an...   \n",
       "8           US  This re-named vineyard was formerly bottled as...   \n",
       "9           US  The producer sources from two blocks of the vi...   \n",
       "...        ...                                                ...   \n",
       "150892      US  A light, earthy wine, with violet, berry and t...   \n",
       "150896      US  Some raspberry fruit in the aroma, but things ...   \n",
       "150914      US  Old-gold in color, and thick and syrupy. The a...   \n",
       "150915      US  Decades ago, Beringer’s then-winemaker Myron N...   \n",
       "150916      US  An impressive wine that presents a full bouque...   \n",
       "\n",
       "                          designation  points  price    province  \\\n",
       "0                   Martha's Vineyard      96  235.0  California   \n",
       "2       Special Selected Late Harvest      96   90.0  California   \n",
       "3                             Reserve      96   65.0      Oregon   \n",
       "8                              Silice      95   65.0      Oregon   \n",
       "9                Gap's Crown Vineyard      95   60.0  California   \n",
       "...                               ...     ...    ...         ...   \n",
       "150892                        Coastal      82   10.0  California   \n",
       "150896                            NaN      82   10.0  California   \n",
       "150914    Late Harvest Cluster Select      94   25.0  California   \n",
       "150915                    Nightingale      93   30.0  California   \n",
       "150916                      J. Schram      93   65.0  California   \n",
       "\n",
       "                  region_1                 region_2             variety  \\\n",
       "0              Napa Valley                     Napa  Cabernet Sauvignon   \n",
       "2           Knights Valley                   Sonoma     Sauvignon Blanc   \n",
       "3        Willamette Valley        Willamette Valley          Pinot Noir   \n",
       "8       Chehalem Mountains        Willamette Valley          Pinot Noir   \n",
       "9             Sonoma Coast                   Sonoma          Pinot Noir   \n",
       "...                    ...                      ...                 ...   \n",
       "150892          California         California Other              Merlot   \n",
       "150896          California         California Other          Pinot Noir   \n",
       "150914     Anderson Valley  Mendocino/Lake Counties      White Riesling   \n",
       "150915         North Coast              North Coast         White Blend   \n",
       "150916         Napa Valley                     Napa     Champagne Blend   \n",
       "\n",
       "             winery  \n",
       "0             Heitz  \n",
       "2          Macauley  \n",
       "3             Ponzi  \n",
       "8         Bergström  \n",
       "9         Blue Farm  \n",
       "...             ...  \n",
       "150892     Callaway  \n",
       "150896      Camelot  \n",
       "150914      Navarro  \n",
       "150915     Beringer  \n",
       "150916  Schramsberg  \n",
       "\n",
       "[62656 rows x 10 columns]"
      ]
     },
     "execution_count": 205,
     "metadata": {},
     "output_type": "execute_result"
    }
   ],
   "source": [
    "# mask version\n",
    "north_us_mask = wine[\\\n",
    "    (wine['country'] == 'US') |\\\n",
    "    (wine['country'] == 'Mexico') |\\\n",
    "    (wine['country'] == 'Canada')]\n",
    "north_us_mask"
   ]
  },
  {
   "cell_type": "code",
   "execution_count": 206,
   "metadata": {},
   "outputs": [
    {
     "data": {
      "text/html": [
       "<div>\n",
       "<style scoped>\n",
       "    .dataframe tbody tr th:only-of-type {\n",
       "        vertical-align: middle;\n",
       "    }\n",
       "\n",
       "    .dataframe tbody tr th {\n",
       "        vertical-align: top;\n",
       "    }\n",
       "\n",
       "    .dataframe thead th {\n",
       "        text-align: right;\n",
       "    }\n",
       "</style>\n",
       "<table border=\"1\" class=\"dataframe\">\n",
       "  <thead>\n",
       "    <tr style=\"text-align: right;\">\n",
       "      <th></th>\n",
       "      <th>country</th>\n",
       "      <th>description</th>\n",
       "      <th>designation</th>\n",
       "      <th>points</th>\n",
       "      <th>price</th>\n",
       "      <th>province</th>\n",
       "      <th>region_1</th>\n",
       "      <th>region_2</th>\n",
       "      <th>variety</th>\n",
       "      <th>winery</th>\n",
       "    </tr>\n",
       "  </thead>\n",
       "  <tbody>\n",
       "    <tr>\n",
       "      <th>0</th>\n",
       "      <td>US</td>\n",
       "      <td>This tremendous 100% varietal wine hails from ...</td>\n",
       "      <td>Martha's Vineyard</td>\n",
       "      <td>96</td>\n",
       "      <td>235.0</td>\n",
       "      <td>California</td>\n",
       "      <td>Napa Valley</td>\n",
       "      <td>Napa</td>\n",
       "      <td>Cabernet Sauvignon</td>\n",
       "      <td>Heitz</td>\n",
       "    </tr>\n",
       "    <tr>\n",
       "      <th>2</th>\n",
       "      <td>US</td>\n",
       "      <td>Mac Watson honors the memory of a wine once ma...</td>\n",
       "      <td>Special Selected Late Harvest</td>\n",
       "      <td>96</td>\n",
       "      <td>90.0</td>\n",
       "      <td>California</td>\n",
       "      <td>Knights Valley</td>\n",
       "      <td>Sonoma</td>\n",
       "      <td>Sauvignon Blanc</td>\n",
       "      <td>Macauley</td>\n",
       "    </tr>\n",
       "    <tr>\n",
       "      <th>3</th>\n",
       "      <td>US</td>\n",
       "      <td>This spent 20 months in 30% new French oak, an...</td>\n",
       "      <td>Reserve</td>\n",
       "      <td>96</td>\n",
       "      <td>65.0</td>\n",
       "      <td>Oregon</td>\n",
       "      <td>Willamette Valley</td>\n",
       "      <td>Willamette Valley</td>\n",
       "      <td>Pinot Noir</td>\n",
       "      <td>Ponzi</td>\n",
       "    </tr>\n",
       "    <tr>\n",
       "      <th>8</th>\n",
       "      <td>US</td>\n",
       "      <td>This re-named vineyard was formerly bottled as...</td>\n",
       "      <td>Silice</td>\n",
       "      <td>95</td>\n",
       "      <td>65.0</td>\n",
       "      <td>Oregon</td>\n",
       "      <td>Chehalem Mountains</td>\n",
       "      <td>Willamette Valley</td>\n",
       "      <td>Pinot Noir</td>\n",
       "      <td>Bergström</td>\n",
       "    </tr>\n",
       "    <tr>\n",
       "      <th>9</th>\n",
       "      <td>US</td>\n",
       "      <td>The producer sources from two blocks of the vi...</td>\n",
       "      <td>Gap's Crown Vineyard</td>\n",
       "      <td>95</td>\n",
       "      <td>60.0</td>\n",
       "      <td>California</td>\n",
       "      <td>Sonoma Coast</td>\n",
       "      <td>Sonoma</td>\n",
       "      <td>Pinot Noir</td>\n",
       "      <td>Blue Farm</td>\n",
       "    </tr>\n",
       "    <tr>\n",
       "      <th>...</th>\n",
       "      <td>...</td>\n",
       "      <td>...</td>\n",
       "      <td>...</td>\n",
       "      <td>...</td>\n",
       "      <td>...</td>\n",
       "      <td>...</td>\n",
       "      <td>...</td>\n",
       "      <td>...</td>\n",
       "      <td>...</td>\n",
       "      <td>...</td>\n",
       "    </tr>\n",
       "    <tr>\n",
       "      <th>150892</th>\n",
       "      <td>US</td>\n",
       "      <td>A light, earthy wine, with violet, berry and t...</td>\n",
       "      <td>Coastal</td>\n",
       "      <td>82</td>\n",
       "      <td>10.0</td>\n",
       "      <td>California</td>\n",
       "      <td>California</td>\n",
       "      <td>California Other</td>\n",
       "      <td>Merlot</td>\n",
       "      <td>Callaway</td>\n",
       "    </tr>\n",
       "    <tr>\n",
       "      <th>150896</th>\n",
       "      <td>US</td>\n",
       "      <td>Some raspberry fruit in the aroma, but things ...</td>\n",
       "      <td>NaN</td>\n",
       "      <td>82</td>\n",
       "      <td>10.0</td>\n",
       "      <td>California</td>\n",
       "      <td>California</td>\n",
       "      <td>California Other</td>\n",
       "      <td>Pinot Noir</td>\n",
       "      <td>Camelot</td>\n",
       "    </tr>\n",
       "    <tr>\n",
       "      <th>150914</th>\n",
       "      <td>US</td>\n",
       "      <td>Old-gold in color, and thick and syrupy. The a...</td>\n",
       "      <td>Late Harvest Cluster Select</td>\n",
       "      <td>94</td>\n",
       "      <td>25.0</td>\n",
       "      <td>California</td>\n",
       "      <td>Anderson Valley</td>\n",
       "      <td>Mendocino/Lake Counties</td>\n",
       "      <td>White Riesling</td>\n",
       "      <td>Navarro</td>\n",
       "    </tr>\n",
       "    <tr>\n",
       "      <th>150915</th>\n",
       "      <td>US</td>\n",
       "      <td>Decades ago, Beringer’s then-winemaker Myron N...</td>\n",
       "      <td>Nightingale</td>\n",
       "      <td>93</td>\n",
       "      <td>30.0</td>\n",
       "      <td>California</td>\n",
       "      <td>North Coast</td>\n",
       "      <td>North Coast</td>\n",
       "      <td>White Blend</td>\n",
       "      <td>Beringer</td>\n",
       "    </tr>\n",
       "    <tr>\n",
       "      <th>150916</th>\n",
       "      <td>US</td>\n",
       "      <td>An impressive wine that presents a full bouque...</td>\n",
       "      <td>J. Schram</td>\n",
       "      <td>93</td>\n",
       "      <td>65.0</td>\n",
       "      <td>California</td>\n",
       "      <td>Napa Valley</td>\n",
       "      <td>Napa</td>\n",
       "      <td>Champagne Blend</td>\n",
       "      <td>Schramsberg</td>\n",
       "    </tr>\n",
       "  </tbody>\n",
       "</table>\n",
       "<p>62656 rows × 10 columns</p>\n",
       "</div>"
      ],
      "text/plain": [
       "       country                                        description  \\\n",
       "0           US  This tremendous 100% varietal wine hails from ...   \n",
       "2           US  Mac Watson honors the memory of a wine once ma...   \n",
       "3           US  This spent 20 months in 30% new French oak, an...   \n",
       "8           US  This re-named vineyard was formerly bottled as...   \n",
       "9           US  The producer sources from two blocks of the vi...   \n",
       "...        ...                                                ...   \n",
       "150892      US  A light, earthy wine, with violet, berry and t...   \n",
       "150896      US  Some raspberry fruit in the aroma, but things ...   \n",
       "150914      US  Old-gold in color, and thick and syrupy. The a...   \n",
       "150915      US  Decades ago, Beringer’s then-winemaker Myron N...   \n",
       "150916      US  An impressive wine that presents a full bouque...   \n",
       "\n",
       "                          designation  points  price    province  \\\n",
       "0                   Martha's Vineyard      96  235.0  California   \n",
       "2       Special Selected Late Harvest      96   90.0  California   \n",
       "3                             Reserve      96   65.0      Oregon   \n",
       "8                              Silice      95   65.0      Oregon   \n",
       "9                Gap's Crown Vineyard      95   60.0  California   \n",
       "...                               ...     ...    ...         ...   \n",
       "150892                        Coastal      82   10.0  California   \n",
       "150896                            NaN      82   10.0  California   \n",
       "150914    Late Harvest Cluster Select      94   25.0  California   \n",
       "150915                    Nightingale      93   30.0  California   \n",
       "150916                      J. Schram      93   65.0  California   \n",
       "\n",
       "                  region_1                 region_2             variety  \\\n",
       "0              Napa Valley                     Napa  Cabernet Sauvignon   \n",
       "2           Knights Valley                   Sonoma     Sauvignon Blanc   \n",
       "3        Willamette Valley        Willamette Valley          Pinot Noir   \n",
       "8       Chehalem Mountains        Willamette Valley          Pinot Noir   \n",
       "9             Sonoma Coast                   Sonoma          Pinot Noir   \n",
       "...                    ...                      ...                 ...   \n",
       "150892          California         California Other              Merlot   \n",
       "150896          California         California Other          Pinot Noir   \n",
       "150914     Anderson Valley  Mendocino/Lake Counties      White Riesling   \n",
       "150915         North Coast              North Coast         White Blend   \n",
       "150916         Napa Valley                     Napa     Champagne Blend   \n",
       "\n",
       "             winery  \n",
       "0             Heitz  \n",
       "2          Macauley  \n",
       "3             Ponzi  \n",
       "8         Bergström  \n",
       "9         Blue Farm  \n",
       "...             ...  \n",
       "150892     Callaway  \n",
       "150896      Camelot  \n",
       "150914      Navarro  \n",
       "150915     Beringer  \n",
       "150916  Schramsberg  \n",
       "\n",
       "[62656 rows x 10 columns]"
      ]
     },
     "execution_count": 206,
     "metadata": {},
     "output_type": "execute_result"
    }
   ],
   "source": [
    "# Query version\n",
    "country_list = [\"US\", \"Mexico\", \"Canada\"]\n",
    "wine.query(\"country in @country_list\")"
   ]
  },
  {
   "cell_type": "code",
   "execution_count": null,
   "metadata": {},
   "outputs": [],
   "source": []
  },
  {
   "cell_type": "markdown",
   "metadata": {},
   "source": [
    "How many wines do we have total in the in North America?"
   ]
  },
  {
   "cell_type": "code",
   "execution_count": 207,
   "metadata": {},
   "outputs": [
    {
     "data": {
      "text/plain": [
       "(62656, 10)"
      ]
     },
     "execution_count": 207,
     "metadata": {},
     "output_type": "execute_result"
    }
   ],
   "source": [
    "# taking one of the columns that had no null values to get \"real\" count\n",
    "north_us_mask.shape"
   ]
  },
  {
   "cell_type": "markdown",
   "metadata": {},
   "source": [
    "**Question**: How many of the wines belong to each country?\n",
    "\n"
   ]
  },
  {
   "cell_type": "code",
   "execution_count": 208,
   "metadata": {},
   "outputs": [
    {
     "data": {
      "text/plain": [
       "US        62397\n",
       "Canada      196\n",
       "Mexico       63\n",
       "Name: country, dtype: int64"
      ]
     },
     "execution_count": 208,
     "metadata": {},
     "output_type": "execute_result"
    }
   ],
   "source": [
    "north_us_mask.loc[:, 'country'].value_counts()\n"
   ]
  },
  {
   "cell_type": "markdown",
   "metadata": {},
   "source": [
    "**Question**: From which US state do most of our wines come?"
   ]
  },
  {
   "cell_type": "code",
   "execution_count": 209,
   "metadata": {},
   "outputs": [
    {
     "data": {
      "text/plain": [
       "province\n",
       "California           44508\n",
       "Washington            9750\n",
       "Oregon                4589\n",
       "New York              2428\n",
       "Virginia               515\n",
       "Idaho                  136\n",
       "New Mexico              95\n",
       "Missouri                60\n",
       "Pennsylvania            50\n",
       "Texas                   41\n",
       "Arizona                 39\n",
       "Ohio                    34\n",
       "Colorado                30\n",
       "America                 27\n",
       "Michigan                25\n",
       "New Jersey              24\n",
       "North Carolina          20\n",
       "Massachusetts           10\n",
       "Kentucky                 4\n",
       "Iowa                     4\n",
       "Washington-Oregon        3\n",
       "Vermont                  2\n",
       "Connecticut              2\n",
       "Nevada                   1\n",
       "dtype: int64"
      ]
     },
     "execution_count": 209,
     "metadata": {},
     "output_type": "execute_result"
    }
   ],
   "source": [
    "north_us_mask\\\n",
    "    .query(\"country=='US'\")\\\n",
    "    .value_counts(subset=\"province\")\\\n",
    "    .sort_values(ascending=False)"
   ]
  },
  {
   "cell_type": "markdown",
   "metadata": {},
   "source": [
    "## Groupby\n",
    "One of the most flexible ways to aggregate in pandas is with .groupby() .\n",
    "We will look at how this works for categorical datasets like this one, and also for datetime datasets, as dealing with datetimes in pandas can be tricky."
   ]
  },
  {
   "cell_type": "code",
   "execution_count": 210,
   "metadata": {},
   "outputs": [],
   "source": [
    "import matplotlib.pyplot as plt\n",
    "%matplotlib inline"
   ]
  },
  {
   "cell_type": "markdown",
   "metadata": {},
   "source": [
    "### How Groupby Works:\n",
    "You can group your data in many different ways, and also aggregate it by any of the aggregators we saw before: like mean, mode, sum, etc.\n",
    "\n",
    "**The column that you put in the parentheses of the groupby function call will become your new index in the dataframe that is returned by groupby!!**\n",
    "\n",
    "For example, in `wine.groupby('country')`, `country` will bee the new index. Let's see how this looks in practice:"
   ]
  },
  {
   "cell_type": "code",
   "execution_count": 211,
   "metadata": {
    "scrolled": true
   },
   "outputs": [
    {
     "data": {
      "text/html": [
       "<div>\n",
       "<style scoped>\n",
       "    .dataframe tbody tr th:only-of-type {\n",
       "        vertical-align: middle;\n",
       "    }\n",
       "\n",
       "    .dataframe tbody tr th {\n",
       "        vertical-align: top;\n",
       "    }\n",
       "\n",
       "    .dataframe thead th {\n",
       "        text-align: right;\n",
       "    }\n",
       "</style>\n",
       "<table border=\"1\" class=\"dataframe\">\n",
       "  <thead>\n",
       "    <tr style=\"text-align: right;\">\n",
       "      <th></th>\n",
       "      <th>points</th>\n",
       "      <th>price</th>\n",
       "    </tr>\n",
       "    <tr>\n",
       "      <th>country</th>\n",
       "      <th></th>\n",
       "      <th></th>\n",
       "    </tr>\n",
       "  </thead>\n",
       "  <tbody>\n",
       "    <tr>\n",
       "      <th>Albania</th>\n",
       "      <td>88</td>\n",
       "      <td>20.000000</td>\n",
       "    </tr>\n",
       "    <tr>\n",
       "      <th>Argentina</th>\n",
       "      <td>97</td>\n",
       "      <td>20.794881</td>\n",
       "    </tr>\n",
       "    <tr>\n",
       "      <th>Australia</th>\n",
       "      <td>100</td>\n",
       "      <td>31.258480</td>\n",
       "    </tr>\n",
       "    <tr>\n",
       "      <th>Austria</th>\n",
       "      <td>98</td>\n",
       "      <td>31.192106</td>\n",
       "    </tr>\n",
       "    <tr>\n",
       "      <th>Bosnia and Herzegovina</th>\n",
       "      <td>88</td>\n",
       "      <td>12.750000</td>\n",
       "    </tr>\n",
       "    <tr>\n",
       "      <th>Brazil</th>\n",
       "      <td>88</td>\n",
       "      <td>19.920000</td>\n",
       "    </tr>\n",
       "    <tr>\n",
       "      <th>Bulgaria</th>\n",
       "      <td>90</td>\n",
       "      <td>11.545455</td>\n",
       "    </tr>\n",
       "    <tr>\n",
       "      <th>Canada</th>\n",
       "      <td>93</td>\n",
       "      <td>34.628866</td>\n",
       "    </tr>\n",
       "    <tr>\n",
       "      <th>Chile</th>\n",
       "      <td>95</td>\n",
       "      <td>19.344780</td>\n",
       "    </tr>\n",
       "    <tr>\n",
       "      <th>China</th>\n",
       "      <td>82</td>\n",
       "      <td>20.333333</td>\n",
       "    </tr>\n",
       "    <tr>\n",
       "      <th>Croatia</th>\n",
       "      <td>91</td>\n",
       "      <td>23.108434</td>\n",
       "    </tr>\n",
       "    <tr>\n",
       "      <th>Cyprus</th>\n",
       "      <td>89</td>\n",
       "      <td>15.483871</td>\n",
       "    </tr>\n",
       "    <tr>\n",
       "      <th>Czech Republic</th>\n",
       "      <td>87</td>\n",
       "      <td>18.000000</td>\n",
       "    </tr>\n",
       "    <tr>\n",
       "      <th>Egypt</th>\n",
       "      <td>84</td>\n",
       "      <td>NaN</td>\n",
       "    </tr>\n",
       "    <tr>\n",
       "      <th>England</th>\n",
       "      <td>94</td>\n",
       "      <td>47.500000</td>\n",
       "    </tr>\n",
       "    <tr>\n",
       "      <th>France</th>\n",
       "      <td>100</td>\n",
       "      <td>45.619885</td>\n",
       "    </tr>\n",
       "    <tr>\n",
       "      <th>Georgia</th>\n",
       "      <td>92</td>\n",
       "      <td>18.581395</td>\n",
       "    </tr>\n",
       "    <tr>\n",
       "      <th>Germany</th>\n",
       "      <td>97</td>\n",
       "      <td>39.011078</td>\n",
       "    </tr>\n",
       "    <tr>\n",
       "      <th>Greece</th>\n",
       "      <td>92</td>\n",
       "      <td>21.747706</td>\n",
       "    </tr>\n",
       "    <tr>\n",
       "      <th>Hungary</th>\n",
       "      <td>96</td>\n",
       "      <td>44.204348</td>\n",
       "    </tr>\n",
       "    <tr>\n",
       "      <th>India</th>\n",
       "      <td>91</td>\n",
       "      <td>13.875000</td>\n",
       "    </tr>\n",
       "    <tr>\n",
       "      <th>Israel</th>\n",
       "      <td>93</td>\n",
       "      <td>31.304918</td>\n",
       "    </tr>\n",
       "    <tr>\n",
       "      <th>Italy</th>\n",
       "      <td>100</td>\n",
       "      <td>37.547913</td>\n",
       "    </tr>\n",
       "    <tr>\n",
       "      <th>Japan</th>\n",
       "      <td>85</td>\n",
       "      <td>24.000000</td>\n",
       "    </tr>\n",
       "    <tr>\n",
       "      <th>Lebanon</th>\n",
       "      <td>91</td>\n",
       "      <td>25.432432</td>\n",
       "    </tr>\n",
       "    <tr>\n",
       "      <th>Lithuania</th>\n",
       "      <td>85</td>\n",
       "      <td>10.000000</td>\n",
       "    </tr>\n",
       "    <tr>\n",
       "      <th>Luxembourg</th>\n",
       "      <td>88</td>\n",
       "      <td>40.666667</td>\n",
       "    </tr>\n",
       "    <tr>\n",
       "      <th>Macedonia</th>\n",
       "      <td>89</td>\n",
       "      <td>15.312500</td>\n",
       "    </tr>\n",
       "    <tr>\n",
       "      <th>Mexico</th>\n",
       "      <td>92</td>\n",
       "      <td>29.095238</td>\n",
       "    </tr>\n",
       "    <tr>\n",
       "      <th>Moldova</th>\n",
       "      <td>90</td>\n",
       "      <td>15.366197</td>\n",
       "    </tr>\n",
       "    <tr>\n",
       "      <th>Montenegro</th>\n",
       "      <td>82</td>\n",
       "      <td>10.000000</td>\n",
       "    </tr>\n",
       "    <tr>\n",
       "      <th>Morocco</th>\n",
       "      <td>93</td>\n",
       "      <td>18.833333</td>\n",
       "    </tr>\n",
       "    <tr>\n",
       "      <th>New Zealand</th>\n",
       "      <td>94</td>\n",
       "      <td>24.173290</td>\n",
       "    </tr>\n",
       "    <tr>\n",
       "      <th>Portugal</th>\n",
       "      <td>99</td>\n",
       "      <td>26.332615</td>\n",
       "    </tr>\n",
       "    <tr>\n",
       "      <th>Romania</th>\n",
       "      <td>92</td>\n",
       "      <td>16.395683</td>\n",
       "    </tr>\n",
       "    <tr>\n",
       "      <th>Serbia</th>\n",
       "      <td>89</td>\n",
       "      <td>24.285714</td>\n",
       "    </tr>\n",
       "    <tr>\n",
       "      <th>Slovakia</th>\n",
       "      <td>87</td>\n",
       "      <td>15.333333</td>\n",
       "    </tr>\n",
       "    <tr>\n",
       "      <th>Slovenia</th>\n",
       "      <td>92</td>\n",
       "      <td>28.061728</td>\n",
       "    </tr>\n",
       "    <tr>\n",
       "      <th>South Africa</th>\n",
       "      <td>95</td>\n",
       "      <td>21.130532</td>\n",
       "    </tr>\n",
       "    <tr>\n",
       "      <th>South Korea</th>\n",
       "      <td>82</td>\n",
       "      <td>13.500000</td>\n",
       "    </tr>\n",
       "    <tr>\n",
       "      <th>Spain</th>\n",
       "      <td>98</td>\n",
       "      <td>27.048529</td>\n",
       "    </tr>\n",
       "    <tr>\n",
       "      <th>Switzerland</th>\n",
       "      <td>90</td>\n",
       "      <td>26.500000</td>\n",
       "    </tr>\n",
       "    <tr>\n",
       "      <th>Tunisia</th>\n",
       "      <td>87</td>\n",
       "      <td>NaN</td>\n",
       "    </tr>\n",
       "    <tr>\n",
       "      <th>Turkey</th>\n",
       "      <td>92</td>\n",
       "      <td>25.800000</td>\n",
       "    </tr>\n",
       "    <tr>\n",
       "      <th>US</th>\n",
       "      <td>100</td>\n",
       "      <td>33.653808</td>\n",
       "    </tr>\n",
       "    <tr>\n",
       "      <th>US-France</th>\n",
       "      <td>88</td>\n",
       "      <td>50.000000</td>\n",
       "    </tr>\n",
       "    <tr>\n",
       "      <th>Ukraine</th>\n",
       "      <td>86</td>\n",
       "      <td>13.000000</td>\n",
       "    </tr>\n",
       "    <tr>\n",
       "      <th>Uruguay</th>\n",
       "      <td>90</td>\n",
       "      <td>25.847059</td>\n",
       "    </tr>\n",
       "  </tbody>\n",
       "</table>\n",
       "</div>"
      ],
      "text/plain": [
       "                        points      price\n",
       "country                                  \n",
       "Albania                     88  20.000000\n",
       "Argentina                   97  20.794881\n",
       "Australia                  100  31.258480\n",
       "Austria                     98  31.192106\n",
       "Bosnia and Herzegovina      88  12.750000\n",
       "Brazil                      88  19.920000\n",
       "Bulgaria                    90  11.545455\n",
       "Canada                      93  34.628866\n",
       "Chile                       95  19.344780\n",
       "China                       82  20.333333\n",
       "Croatia                     91  23.108434\n",
       "Cyprus                      89  15.483871\n",
       "Czech Republic              87  18.000000\n",
       "Egypt                       84        NaN\n",
       "England                     94  47.500000\n",
       "France                     100  45.619885\n",
       "Georgia                     92  18.581395\n",
       "Germany                     97  39.011078\n",
       "Greece                      92  21.747706\n",
       "Hungary                     96  44.204348\n",
       "India                       91  13.875000\n",
       "Israel                      93  31.304918\n",
       "Italy                      100  37.547913\n",
       "Japan                       85  24.000000\n",
       "Lebanon                     91  25.432432\n",
       "Lithuania                   85  10.000000\n",
       "Luxembourg                  88  40.666667\n",
       "Macedonia                   89  15.312500\n",
       "Mexico                      92  29.095238\n",
       "Moldova                     90  15.366197\n",
       "Montenegro                  82  10.000000\n",
       "Morocco                     93  18.833333\n",
       "New Zealand                 94  24.173290\n",
       "Portugal                    99  26.332615\n",
       "Romania                     92  16.395683\n",
       "Serbia                      89  24.285714\n",
       "Slovakia                    87  15.333333\n",
       "Slovenia                    92  28.061728\n",
       "South Africa                95  21.130532\n",
       "South Korea                 82  13.500000\n",
       "Spain                       98  27.048529\n",
       "Switzerland                 90  26.500000\n",
       "Tunisia                     87        NaN\n",
       "Turkey                      92  25.800000\n",
       "US                         100  33.653808\n",
       "US-France                   88  50.000000\n",
       "Ukraine                     86  13.000000\n",
       "Uruguay                     90  25.847059"
      ]
     },
     "execution_count": 211,
     "metadata": {},
     "output_type": "execute_result"
    }
   ],
   "source": [
    "country = wine.groupby([\"country\"]).agg({\"points\":np.max,\"price\":np.mean})\n",
    "country"
   ]
  },
  {
   "cell_type": "markdown",
   "metadata": {},
   "source": [
    "So, British wine is the highest average ranked?? This is surprising. Maybe we need to look at our data in a different way."
   ]
  },
  {
   "cell_type": "markdown",
   "metadata": {},
   "source": [
    "The beauty of `df.groupby()` is that it lets you aggregate different columns in different ways.\n",
    "\n",
    "Say we want to know the average price of wine in each country, but the _highest_ score:"
   ]
  },
  {
   "cell_type": "code",
   "execution_count": null,
   "metadata": {
    "scrolled": true
   },
   "outputs": [],
   "source": []
  },
  {
   "cell_type": "markdown",
   "metadata": {},
   "source": [
    "**Tip:** Sometimes, fo make your code cleaner it's best to move the aggregations out and store them in their own variable that you can update saparately."
   ]
  },
  {
   "cell_type": "code",
   "execution_count": null,
   "metadata": {},
   "outputs": [],
   "source": []
  },
  {
   "cell_type": "markdown",
   "metadata": {},
   "source": [
    "You can also use a list in your aggs to aggergate one column in different ways.\n",
    "\n",
    "This will give a **multi-index**. Multi-indexes can be difficult to sort on. But, there are a few different ways we can deal with this."
   ]
  },
  {
   "cell_type": "code",
   "execution_count": 212,
   "metadata": {
    "scrolled": true
   },
   "outputs": [
    {
     "data": {
      "text/plain": [
       "['price_amin', 'price_amax', 'price_mean', 'price_std']"
      ]
     },
     "execution_count": 212,
     "metadata": {},
     "output_type": "execute_result"
    }
   ],
   "source": [
    "aggs = {\n",
    "    \"price\": [np.min, np.max, np.mean, np.std]\n",
    "}\n",
    "price_table = wine.groupby(\"country\").agg(aggs)\n",
    "\n",
    "# getting rid of double column index\n",
    "old_column_names = list(price_table.columns)\n",
    "\n",
    "new_column_names = [\"_\".join(x) for x in old_column_names]\n",
    "new_column_names\n",
    "# price_table.columns = price_table.columns.droplevel(level=0)\n",
    "# print(price_table)"
   ]
  },
  {
   "cell_type": "code",
   "execution_count": 213,
   "metadata": {},
   "outputs": [
    {
     "data": {
      "text/plain": [
       "'Daniel is surprised'"
      ]
     },
     "execution_count": 213,
     "metadata": {},
     "output_type": "execute_result"
    }
   ],
   "source": [
    "list_test = [\"Daniel\", \"is\", \"surprised\"]\n",
    "\" \".join(list_test)"
   ]
  },
  {
   "cell_type": "code",
   "execution_count": null,
   "metadata": {},
   "outputs": [],
   "source": []
  },
  {
   "cell_type": "markdown",
   "metadata": {},
   "source": [
    "One way is by dropping the top level ('price'):"
   ]
  },
  {
   "cell_type": "code",
   "execution_count": null,
   "metadata": {
    "scrolled": true
   },
   "outputs": [],
   "source": []
  },
  {
   "cell_type": "markdown",
   "metadata": {},
   "source": [
    "Another way is by using `np.ravel()` . This preserves the \"price\" indicator somewhere in each of the column names."
   ]
  },
  {
   "cell_type": "code",
   "execution_count": 214,
   "metadata": {},
   "outputs": [],
   "source": [
    "# resetting the price table, so that it again has a multi-index\n"
   ]
  },
  {
   "cell_type": "code",
   "execution_count": 215,
   "metadata": {},
   "outputs": [],
   "source": [
    "# seeing how the column names are multi-index\n"
   ]
  },
  {
   "cell_type": "code",
   "execution_count": 216,
   "metadata": {},
   "outputs": [],
   "source": [
    "# Using ravel, and a string join, we can create better names for the columns:\n"
   ]
  },
  {
   "cell_type": "markdown",
   "metadata": {},
   "source": [
    "**Question**: Create a quick plot of the number of wines made in each country, from highest to lowest."
   ]
  },
  {
   "cell_type": "code",
   "execution_count": 217,
   "metadata": {},
   "outputs": [
    {
     "data": {
      "image/png": "[encoded data removed]",
      "text/plain": [
       "<Figure size 720x216 with 1 Axes>"
      ]
     },
     "metadata": {
      "needs_background": "light"
     },
     "output_type": "display_data"
    }
   ],
   "source": [
    "list_wines = wine[\"country\"].iloc[:300].value_counts().sort_values(ascending=False)\n",
    "list_wines.plot.bar(figsize = (10, 3))\n",
    "plt.show()"
   ]
  },
  {
   "cell_type": "markdown",
   "metadata": {},
   "source": [
    "## Selecting the max and min values with Index Max and Min\n",
    "In addition to `.max()` and `.min()`, which returns the maximum or minimum values, we can use `.idxmax()` and `.idxmin()` to return the *index* pertaining to the maximum and minimum values. \n",
    "\n",
    "For example, let's use `.idxmax()` to find the country with the highest standard deviation in its prices."
   ]
  },
  {
   "cell_type": "code",
   "execution_count": 218,
   "metadata": {},
   "outputs": [
    {
     "data": {
      "text/plain": [
       "'France'"
      ]
     },
     "execution_count": 218,
     "metadata": {},
     "output_type": "execute_result"
    }
   ],
   "source": [
    "wine.groupby([\"country\"])[\"price\"].std().idxmax()"
   ]
  },
  {
   "cell_type": "code",
   "execution_count": null,
   "metadata": {},
   "outputs": [],
   "source": []
  },
  {
   "cell_type": "markdown",
   "metadata": {},
   "source": [
    "# Dealing with datetime in Pandas\n",
    "Pandas built off the datetime package in Python to offer a datetime index, and plenty of ways to work with this.\n",
    "However, it is still far from intuitive. \n",
    "That doesn't mean it's not useful, and for anyone doing a timeseries project, you'll need to deal with dates and times in pandas often.\n",
    "\n",
    "Let's load a sample dataset of datetime energy data and get started!"
   ]
  },
  {
   "cell_type": "code",
   "execution_count": 219,
   "metadata": {},
   "outputs": [],
   "source": [
    "energy = pd.read_csv('data/energy/PJM_Load_hourly.csv', parse_dates=True, index_col=0)\n",
    "date_energy = energy.reset_index()"
   ]
  },
  {
   "cell_type": "code",
   "execution_count": 220,
   "metadata": {},
   "outputs": [
    {
     "data": {
      "text/plain": [
       "0        31\n",
       "1        31\n",
       "2        31\n",
       "3        31\n",
       "4        31\n",
       "         ..\n",
       "32891     1\n",
       "32892     1\n",
       "32893     1\n",
       "32894     1\n",
       "32895     2\n",
       "Name: Datetime, Length: 32896, dtype: int64"
      ]
     },
     "execution_count": 220,
     "metadata": {},
     "output_type": "execute_result"
    }
   ],
   "source": [
    "date_energy.loc[:, \"Datetime\"].dt.day"
   ]
  },
  {
   "cell_type": "markdown",
   "metadata": {},
   "source": [
    "Note that this data has a DateTimeIndex. \n",
    "setting `parse_dates=True` when we read the CSV lets pandas infer this datetimeindex."
   ]
  },
  {
   "cell_type": "code",
   "execution_count": null,
   "metadata": {},
   "outputs": [],
   "source": []
  },
  {
   "cell_type": "markdown",
   "metadata": {},
   "source": [
    "We can select data points within a specific time range, using the DateTimeIndex and .loc.\n",
    "Here, we select the first one day of data."
   ]
  },
  {
   "cell_type": "code",
   "execution_count": null,
   "metadata": {},
   "outputs": [],
   "source": []
  },
  {
   "cell_type": "code",
   "execution_count": 221,
   "metadata": {},
   "outputs": [],
   "source": [
    "# One record for each hour of this day.\n"
   ]
  },
  {
   "cell_type": "markdown",
   "metadata": {},
   "source": [
    "## Selecting with boolean indexing on pandas datetimeindex\n",
    "We can use .dot notation with parts of the date to select on specific parts of the datetime, like days or months.\n",
    "\n",
    "This is because pandas datetime indexes are datetime objects under the hood.\n",
    "\n",
    "Let's look more closely at datetime objects in python."
   ]
  },
  {
   "cell_type": "markdown",
   "metadata": {},
   "source": [
    "Python datetime functionality example:"
   ]
  },
  {
   "cell_type": "code",
   "execution_count": 222,
   "metadata": {},
   "outputs": [],
   "source": [
    "from datetime import datetime"
   ]
  },
  {
   "cell_type": "markdown",
   "metadata": {},
   "source": [
    "We will start with a string of a date, and save this string in a variable called `s`."
   ]
  },
  {
   "cell_type": "code",
   "execution_count": null,
   "metadata": {},
   "outputs": [],
   "source": []
  },
  {
   "cell_type": "markdown",
   "metadata": {},
   "source": [
    "Using a datetime function called `datetime.strptime()`, we can \"extract\" the date elements from this string.\n",
    "\n",
    "We do this by giving formatting indicators as to where in the string the various datetime elements are located. The format indicator `%d` denotes an integer day, `%B` denotes a long-form month written in English, and `%Y` denotes a 4-digit year.\n",
    "\n",
    "You can find more datetime format indicators in python [here](https://mkaz.blog/code/python-dates/) (under \"Datetime Format Table\").\n",
    "\n",
    "\n",
    "Using the `.strptime()` function returns a **datetime object**, with the parts of the datetime contained in order from lowest time-granularity to highest (year --> seconds)"
   ]
  },
  {
   "cell_type": "code",
   "execution_count": null,
   "metadata": {},
   "outputs": [],
   "source": []
  },
  {
   "cell_type": "markdown",
   "metadata": {},
   "source": [
    "As mentioned before, we can access particular parts of this datetime object using dot notation (as they are stored as attributes of the object)"
   ]
  },
  {
   "cell_type": "code",
   "execution_count": null,
   "metadata": {},
   "outputs": [],
   "source": []
  },
  {
   "cell_type": "markdown",
   "metadata": {},
   "source": [
    "We can then use a second function from datetime, called `strftime()`, to convert this datetime object back to a string. Here, we have to specify the new string format we would like the new date string to have."
   ]
  },
  {
   "cell_type": "code",
   "execution_count": null,
   "metadata": {},
   "outputs": [],
   "source": []
  },
  {
   "cell_type": "markdown",
   "metadata": {},
   "source": [
    "Now that we know about the various parts of a datetime object, we can use them to filter conditionally on the datetime object."
   ]
  },
  {
   "cell_type": "code",
   "execution_count": 223,
   "metadata": {
    "scrolled": true
   },
   "outputs": [],
   "source": [
    "# making a new DF that only includes the month of septmeber from each year.\n"
   ]
  },
  {
   "cell_type": "markdown",
   "metadata": {},
   "source": [
    "We can also call just a date, and get all the hours/time periods in that day:"
   ]
  },
  {
   "cell_type": "code",
   "execution_count": null,
   "metadata": {
    "scrolled": true
   },
   "outputs": [],
   "source": []
  },
  {
   "cell_type": "markdown",
   "metadata": {},
   "source": [
    "Same with for a year and month:"
   ]
  },
  {
   "cell_type": "code",
   "execution_count": null,
   "metadata": {},
   "outputs": [],
   "source": []
  },
  {
   "cell_type": "code",
   "execution_count": 224,
   "metadata": {},
   "outputs": [],
   "source": [
    "# We see that it includes one record for each our of each day of the month of January, which has 31 days\n"
   ]
  },
  {
   "cell_type": "code",
   "execution_count": 225,
   "metadata": {},
   "outputs": [],
   "source": [
    "# or better, with an assert statement:\n",
    "\n",
    "\n",
    "# assert passes silently, meaning it is True\n"
   ]
  },
  {
   "cell_type": "markdown",
   "metadata": {},
   "source": [
    "## Resampling\n",
    "We can also combine the data in different ways, and over different time periods.\n",
    "This means that just because our data is in hourly time periods, we dont have to keep it that way. "
   ]
  },
  {
   "cell_type": "code",
   "execution_count": 226,
   "metadata": {
    "scrolled": true
   },
   "outputs": [],
   "source": [
    "# We can get the average load over a day:\n"
   ]
  },
  {
   "cell_type": "code",
   "execution_count": 227,
   "metadata": {},
   "outputs": [],
   "source": [
    "# We can also get the total MWh used in a day:\n",
    "\n",
    "# have to change unit from MW to MWh since summing changes measure from power to energy \n",
    "# more info on that here: https://energyeducation.ca/encyclopedia/Energy_vs_power\n"
   ]
  },
  {
   "cell_type": "markdown",
   "metadata": {},
   "source": [
    "## Groupby with DateTimeIndex\n",
    "Using groupby with a pandas DateTimeIndex can be extremely useful and powerful.\n",
    "Let's look at how this can work."
   ]
  },
  {
   "cell_type": "code",
   "execution_count": null,
   "metadata": {},
   "outputs": [],
   "source": []
  },
  {
   "cell_type": "code",
   "execution_count": null,
   "metadata": {},
   "outputs": [],
   "source": []
  },
  {
   "cell_type": "markdown",
   "metadata": {},
   "source": [
    "The index level names are not particularly helpful here. We can change them."
   ]
  },
  {
   "cell_type": "code",
   "execution_count": 228,
   "metadata": {},
   "outputs": [],
   "source": [
    "# the long, ugly way\n"
   ]
  },
  {
   "cell_type": "code",
   "execution_count": 229,
   "metadata": {},
   "outputs": [],
   "source": [
    "# resetting the df to get multi-index again\n",
    "\n",
    "\n",
    "# the short, clean way. Both do the same thing.\n"
   ]
  },
  {
   "cell_type": "code",
   "execution_count": null,
   "metadata": {
    "scrolled": true
   },
   "outputs": [],
   "source": []
  },
  {
   "cell_type": "markdown",
   "metadata": {},
   "source": [
    "## Selecting on Multi-Index: Using reset_index()\n",
    "Selecting via a multi-index is difficult. It is much easier to work with these as \"normal\" pandas DataFrame columns.\n",
    "\n",
    "To transform multi-indexes in to columns, we use `reset_index()`. Reset index pushes anything in the index into columns, and makes a new index with is simply an ascending count, starting at 0. "
   ]
  },
  {
   "cell_type": "code",
   "execution_count": null,
   "metadata": {},
   "outputs": [],
   "source": []
  },
  {
   "cell_type": "markdown",
   "metadata": {},
   "source": [
    "Here, we can select all rows that were in week 50 in any year."
   ]
  },
  {
   "cell_type": "code",
   "execution_count": null,
   "metadata": {},
   "outputs": [],
   "source": []
  },
  {
   "cell_type": "markdown",
   "metadata": {},
   "source": [
    "## Exercise:\n",
    "\n",
    "- Find the day of the week that averages the highest consumption\n",
    "\n",
    "- Find the time of day that averages the lowest consumption.\n",
    "    - Has this changed over the years?\n",
    "    \n",
    "\n",
    "- Is average consumption rising, falling, or staying the same over the years?\n",
    "- What is the %age difference in consumption on average between April and June?"
   ]
  },
  {
   "cell_type": "code",
   "execution_count": 288,
   "metadata": {},
   "outputs": [
    {
     "data": {
      "text/html": [
       "<div>\n",
       "<style scoped>\n",
       "    .dataframe tbody tr th:only-of-type {\n",
       "        vertical-align: middle;\n",
       "    }\n",
       "\n",
       "    .dataframe tbody tr th {\n",
       "        vertical-align: top;\n",
       "    }\n",
       "\n",
       "    .dataframe thead th {\n",
       "        text-align: right;\n",
       "    }\n",
       "</style>\n",
       "<table border=\"1\" class=\"dataframe\">\n",
       "  <thead>\n",
       "    <tr style=\"text-align: right;\">\n",
       "      <th></th>\n",
       "      <th>Datetime</th>\n",
       "      <th>PJM_Load_MW</th>\n",
       "      <th>hour</th>\n",
       "      <th>year</th>\n",
       "      <th>day_name</th>\n",
       "      <th>month</th>\n",
       "    </tr>\n",
       "  </thead>\n",
       "  <tbody>\n",
       "    <tr>\n",
       "      <th>0</th>\n",
       "      <td>1998-12-31 01:00:00</td>\n",
       "      <td>29309.0</td>\n",
       "      <td>01</td>\n",
       "      <td>1998</td>\n",
       "      <td>Thursday</td>\n",
       "      <td>December</td>\n",
       "    </tr>\n",
       "    <tr>\n",
       "      <th>1</th>\n",
       "      <td>1998-12-31 02:00:00</td>\n",
       "      <td>28236.0</td>\n",
       "      <td>02</td>\n",
       "      <td>1998</td>\n",
       "      <td>Thursday</td>\n",
       "      <td>December</td>\n",
       "    </tr>\n",
       "    <tr>\n",
       "      <th>2</th>\n",
       "      <td>1998-12-31 03:00:00</td>\n",
       "      <td>27692.0</td>\n",
       "      <td>03</td>\n",
       "      <td>1998</td>\n",
       "      <td>Thursday</td>\n",
       "      <td>December</td>\n",
       "    </tr>\n",
       "    <tr>\n",
       "      <th>3</th>\n",
       "      <td>1998-12-31 04:00:00</td>\n",
       "      <td>27596.0</td>\n",
       "      <td>04</td>\n",
       "      <td>1998</td>\n",
       "      <td>Thursday</td>\n",
       "      <td>December</td>\n",
       "    </tr>\n",
       "    <tr>\n",
       "      <th>4</th>\n",
       "      <td>1998-12-31 05:00:00</td>\n",
       "      <td>27888.0</td>\n",
       "      <td>05</td>\n",
       "      <td>1998</td>\n",
       "      <td>Thursday</td>\n",
       "      <td>December</td>\n",
       "    </tr>\n",
       "    <tr>\n",
       "      <th>...</th>\n",
       "      <td>...</td>\n",
       "      <td>...</td>\n",
       "      <td>...</td>\n",
       "      <td>...</td>\n",
       "      <td>...</td>\n",
       "      <td>...</td>\n",
       "    </tr>\n",
       "    <tr>\n",
       "      <th>32891</th>\n",
       "      <td>2001-01-01 20:00:00</td>\n",
       "      <td>35209.0</td>\n",
       "      <td>20</td>\n",
       "      <td>2001</td>\n",
       "      <td>Monday</td>\n",
       "      <td>January</td>\n",
       "    </tr>\n",
       "    <tr>\n",
       "      <th>32892</th>\n",
       "      <td>2001-01-01 21:00:00</td>\n",
       "      <td>34791.0</td>\n",
       "      <td>21</td>\n",
       "      <td>2001</td>\n",
       "      <td>Monday</td>\n",
       "      <td>January</td>\n",
       "    </tr>\n",
       "    <tr>\n",
       "      <th>32893</th>\n",
       "      <td>2001-01-01 22:00:00</td>\n",
       "      <td>33669.0</td>\n",
       "      <td>22</td>\n",
       "      <td>2001</td>\n",
       "      <td>Monday</td>\n",
       "      <td>January</td>\n",
       "    </tr>\n",
       "    <tr>\n",
       "      <th>32894</th>\n",
       "      <td>2001-01-01 23:00:00</td>\n",
       "      <td>31809.0</td>\n",
       "      <td>23</td>\n",
       "      <td>2001</td>\n",
       "      <td>Monday</td>\n",
       "      <td>January</td>\n",
       "    </tr>\n",
       "    <tr>\n",
       "      <th>32895</th>\n",
       "      <td>2001-01-02 00:00:00</td>\n",
       "      <td>29506.0</td>\n",
       "      <td>00</td>\n",
       "      <td>2001</td>\n",
       "      <td>Tuesday</td>\n",
       "      <td>January</td>\n",
       "    </tr>\n",
       "  </tbody>\n",
       "</table>\n",
       "<p>32896 rows × 6 columns</p>\n",
       "</div>"
      ],
      "text/plain": [
       "                 Datetime  PJM_Load_MW hour  year  day_name     month\n",
       "0     1998-12-31 01:00:00      29309.0   01  1998  Thursday  December\n",
       "1     1998-12-31 02:00:00      28236.0   02  1998  Thursday  December\n",
       "2     1998-12-31 03:00:00      27692.0   03  1998  Thursday  December\n",
       "3     1998-12-31 04:00:00      27596.0   04  1998  Thursday  December\n",
       "4     1998-12-31 05:00:00      27888.0   05  1998  Thursday  December\n",
       "...                   ...          ...  ...   ...       ...       ...\n",
       "32891 2001-01-01 20:00:00      35209.0   20  2001    Monday   January\n",
       "32892 2001-01-01 21:00:00      34791.0   21  2001    Monday   January\n",
       "32893 2001-01-01 22:00:00      33669.0   22  2001    Monday   January\n",
       "32894 2001-01-01 23:00:00      31809.0   23  2001    Monday   January\n",
       "32895 2001-01-02 00:00:00      29506.0   00  2001   Tuesday   January\n",
       "\n",
       "[32896 rows x 6 columns]"
      ]
     },
     "execution_count": 288,
     "metadata": {},
     "output_type": "execute_result"
    }
   ],
   "source": [
    "date_energy[\"hour\"] = date_energy[\"Datetime\"].dt.strftime('%H')\n",
    "date_energy[\"year\"] = pd.DatetimeIndex(date_energy[\"Datetime\"]).year\n",
    "date_energy['day_name'] = date_energy[\"Datetime\"].dt.day_name()\n",
    "date_energy['month'] = pd.DatetimeIndex(date_energy['Datetime']).month\n",
    "date_energy['month'] = pd.to_datetime(date_energy['month'], format='%m').dt.month_name()\n",
    "date_energy"
   ]
  },
  {
   "cell_type": "markdown",
   "metadata": {},
   "source": [
    "- Find the day of the week that averages the highest consumption"
   ]
  },
  {
   "cell_type": "code",
   "execution_count": 256,
   "metadata": {},
   "outputs": [
    {
     "data": {
      "text/plain": [
       "'Tuesday'"
      ]
     },
     "execution_count": 256,
     "metadata": {},
     "output_type": "execute_result"
    }
   ],
   "source": [
    "energy_day = date_energy.groupby(\"day_name\").PJM_Load_MW.mean().idxmax()\n",
    "energy_day"
   ]
  },
  {
   "cell_type": "markdown",
   "metadata": {},
   "source": [
    "- Find the time of day that averages the lowest consumption.\n",
    "    - Has this changed over the years?"
   ]
  },
  {
   "cell_type": "code",
   "execution_count": 257,
   "metadata": {},
   "outputs": [
    {
     "data": {
      "text/plain": [
       "'04'"
      ]
     },
     "execution_count": 257,
     "metadata": {},
     "output_type": "execute_result"
    }
   ],
   "source": [
    "energy_hour = date_energy.groupby(\"hour\").PJM_Load_MW.mean().idxmin()\n",
    "energy_hour"
   ]
  },
  {
   "cell_type": "code",
   "execution_count": 300,
   "metadata": {},
   "outputs": [
    {
     "data": {
      "text/plain": [
       "year\n",
       "1998    04\n",
       "1999    04\n",
       "2000    04\n",
       "2001    04\n",
       "2002    00\n",
       "Name: PJM_Load_MW, dtype: object"
      ]
     },
     "execution_count": 300,
     "metadata": {},
     "output_type": "execute_result"
    }
   ],
   "source": [
    "mean_date_values = date_energy\\\n",
    "    .groupby([\"hour\", \"year\"])[\"PJM_Load_MW\"]\\\n",
    "    .mean()\n",
    "mean_date_values = mean_date_values.reset_index()\n",
    "\n",
    "mean_date_values\\\n",
    "    .set_index(\"hour\")\\\n",
    "    .groupby(\"year\")[\"PJM_Load_MW\"]\\\n",
    "    .idxmin()"
   ]
  },
  {
   "cell_type": "code",
   "execution_count": null,
   "metadata": {},
   "outputs": [],
   "source": []
  },
  {
   "cell_type": "code",
   "execution_count": 262,
   "metadata": {},
   "outputs": [
    {
     "data": {
      "image/png": "[encoded data removed]",
      "text/plain": [
       "<Figure size 432x288 with 1 Axes>"
      ]
     },
     "metadata": {
      "needs_background": "light"
     },
     "output_type": "display_data"
    }
   ],
   "source": [
    "energy_year = date_energy.groupby(\"hour\").PJM_Load_MW.mean().plot()\n"
   ]
  },
  {
   "cell_type": "markdown",
   "metadata": {},
   "source": [
    "- Is average consumption rising, falling, or staying the same over the years?"
   ]
  },
  {
   "cell_type": "code",
   "execution_count": 261,
   "metadata": {
    "scrolled": false
   },
   "outputs": [
    {
     "data": {
      "text/plain": [
       "<AxesSubplot:xlabel='year'>"
      ]
     },
     "execution_count": 261,
     "metadata": {},
     "output_type": "execute_result"
    },
    {
     "data": {
      "image/png": "[encoded data removed]",
      "text/plain": [
       "<Figure size 432x288 with 1 Axes>"
      ]
     },
     "metadata": {
      "needs_background": "light"
     },
     "output_type": "display_data"
    }
   ],
   "source": [
    "energy_year = date_energy.groupby(\"year\").PJM_Load_MW.mean().plot()\n",
    "energy_year"
   ]
  },
  {
   "cell_type": "markdown",
   "metadata": {},
   "source": [
    "- What is the %age difference in consumption on average between April and June?"
   ]
  },
  {
   "cell_type": "code",
   "execution_count": 306,
   "metadata": {},
   "outputs": [
    {
     "data": {
      "text/plain": [
       "0.21444749638155547"
      ]
     },
     "execution_count": 306,
     "metadata": {},
     "output_type": "execute_result"
    }
   ],
   "source": [
    "months_grouped = date_energy.groupby([\"month\"])[\"PJM_Load_MW\"].mean()\n",
    "\n",
    "months_grouped[\"June\"] / months_grouped[\"April\"] -1"
   ]
  },
  {
   "cell_type": "code",
   "execution_count": null,
   "metadata": {},
   "outputs": [],
   "source": []
  },
  {
   "cell_type": "code",
   "execution_count": null,
   "metadata": {},
   "outputs": [],
   "source": []
  },
  {
   "cell_type": "code",
   "execution_count": null,
   "metadata": {},
   "outputs": [],
   "source": []
  }
 ],
 "metadata": {
  "kernelspec": {
   "display_name": "Python 3",
   "language": "python",
   "name": "python3"
  },
  "language_info": {
   "codemirror_mode": {
    "name": "ipython",
    "version": 3
   },
   "file_extension": ".py",
   "mimetype": "text/x-python",
   "name": "python",
   "nbconvert_exporter": "python",
   "pygments_lexer": "ipython3",
   "version": "3.8.5"
  }
 },
 "nbformat": 4,
 "nbformat_minor": 4
}
