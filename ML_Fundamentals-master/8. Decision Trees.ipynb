{
 "cells": [
  {
   "cell_type": "code",
   "execution_count": 1,
   "metadata": {},
   "outputs": [
    {
     "data": {
      "text/html": [
       "<style>\n",
       "\n",
       "div.cell { /* Tunes the space between cells */\n",
       "margin-top:1em;\n",
       "margin-bottom:1em;\n",
       "}\n",
       "\n",
       "div.text_cell_render h1 { /* Main titles bigger, centered */\n",
       "font-size: 2.2em;\n",
       "line-height:1.4em;\n",
       "text-align:center;\n",
       "}\n",
       "\n",
       "div.text_cell_render h2 { /*  Parts names nearer from text */\n",
       "margin-bottom: -0.4em;\n",
       "}\n",
       "\n",
       "\n",
       "div.text_cell_render { /* Customize text cells */\n",
       "font-family: 'Arial';\n",
       "font-size:1.5em;\n",
       "line-height:1.4em;\n",
       "padding-left:3em;\n",
       "padding-right:3em;\n",
       "}\n",
       "\n",
       ".MathJax {\n",
       "    font-size: 70%;\n",
       "}\n",
       "</style>\n"
      ],
      "text/plain": [
       "<IPython.core.display.HTML object>"
      ]
     },
     "execution_count": 1,
     "metadata": {},
     "output_type": "execute_result"
    }
   ],
   "source": [
    "from IPython.display import HTML\n",
    "css_file = './custom.css'\n",
    "HTML(open(css_file, \"r\").read())"
   ]
  },
  {
   "cell_type": "markdown",
   "metadata": {},
   "source": [
    "# Decision Trees\n",
    "\n",
    "© 2018 Daniel Voigt Godoy"
   ]
  },
  {
   "cell_type": "code",
   "execution_count": 2,
   "metadata": {},
   "outputs": [],
   "source": [
    "from intuitiveml.supervised.classification.DecisionTree import *\n",
    "from intuitiveml.utils import gen_button"
   ]
  },
  {
   "cell_type": "markdown",
   "metadata": {},
   "source": [
    "## 1. Definition\n",
    "\n",
    "From the Scikit-Learn [website](https://scikit-learn.org/stable/modules/tree.html):\n",
    "    \n",
    "    Decision Trees (DTs) are a non-parametric supervised learning method used for classification and regression. The goal is to create a model that predicts the value of a target variable by learning simple decision rules inferred from the data features.\n",
    "\n",
    "A bit more informally: A decision tree is a model that ***splits*** the ***feature space*** in such a way that ***samples similar to each other*** end up together. In other words, it tries to ***minimize the heterogeneity*** of samples that fall under a same set of rules (splits).\n",
    "\n",
    "We saw already that both ***entropy*** and ***gini impurity*** are ***zero*** whenever ***all samples belong to the same class***. So, we can use either one of those to make the best split of our data!\n",
    "\n",
    "### How to choose the splitting threshold?\n",
    "\n",
    "We can try splitting it in two at different thresholds, computing the ***entropy*** (or ***gini impurity***) for both subsets and averaging the results, weighted by the number of samples in each subset.\n",
    "\n",
    "Then we pick the threshold that yielded the least entropy.\n",
    "\n",
    "$$\n",
    "Entropy_{after} = \\frac{N_{left}}{N}Entropy_{left} + \\frac{N_{right}}{N}Entropy_{right}\n",
    "$$\n",
    "\n",
    "Easy, right?\n",
    "\n",
    "This is the basic idea behind the ***Classification And Regression Tree (CART)*** algorithm."
   ]
  },
  {
   "cell_type": "markdown",
   "metadata": {},
   "source": [
    "## 2. Experiment\n",
    "\n",
    "Time to try it yourself!\n",
    "\n",
    "You have 10 data points of two colors: red and green! These are your ***labels***.\n",
    "\n",
    "Each point is has a single numerical coordinate. This is your ***feature***.\n",
    "\n",
    "You want to start training your decision tree, so you need to choose ***where*** to make the first split.\n",
    "\n",
    "The slider control below allows you to change the splitting threshold (the star). Changing the threshold modifies the resulting distributions of both ***left*** and ***right*** subsets and the corresponding ***entropies***. The ***entropy after*** the split is shown at the title.\n",
    "\n",
    "Use the slider to play with different configurations and answer the ***questions*** below."
   ]
  },
  {
   "cell_type": "markdown",
   "metadata": {},
   "source": [
    "### 2.1 First Split"
   ]
  },
  {
   "cell_type": "code",
   "execution_count": 3,
   "metadata": {},
   "outputs": [],
   "source": [
    "x, y = data()\n",
    "mydt = plotDecision(x=x, y=y, idx_mid=0)"
   ]
  },
  {
   "cell_type": "code",
   "execution_count": 4,
   "metadata": {},
   "outputs": [
    {
     "name": "stderr",
     "output_type": "stream",
     "text": [
      "/opt/anaconda3/envs/fund/lib/python3.6/site-packages/plotly/tools.py:465: DeprecationWarning:\n",
      "\n",
      "plotly.tools.make_subplots is deprecated, please use plotly.subplots.make_subplots instead\n",
      "\n"
     ]
    },
    {
     "data": {
      "application/vnd.jupyter.widget-view+json": {
       "model_id": "174b6a4268bd4e2f9bb05aa200d7a821",
       "version_major": 2,
       "version_minor": 0
      },
      "text/plain": [
       "VBox(children=(FigureWidget({\n",
       "    'data': [{'marker': {'color': 'black'},\n",
       "              'mode': 'lines',\n",
       "     …"
      ]
     },
     "metadata": {},
     "output_type": "display_data"
    }
   ],
   "source": [
    "vb0 = VBox(build_figure(mydt), layout={'align_items': 'center'})\n",
    "vb0"
   ]
  },
  {
   "cell_type": "markdown",
   "metadata": {},
   "source": [
    "#### Questions:\n",
    "\n",
    "1. The splitting thresholds are located at the midpoints. What would happen if they were located differently?\n",
    "2. What is the threshold that minimizes entropy?\n",
    "3. What if we multiply all values by a factor of 10? 100? What does it change?"
   ]
  },
  {
   "cell_type": "markdown",
   "metadata": {},
   "source": [
    "#### First Split Result\n",
    "\n",
    "If you minimized the entropy correctly, this is what your split should looks like:"
   ]
  },
  {
   "cell_type": "code",
   "execution_count": 5,
   "metadata": {},
   "outputs": [
    {
     "data": {
      "application/vnd.jupyter.widget-view+json": {
       "model_id": "8434409e7f7b49098dfdff26c17ae7cc",
       "version_major": 2,
       "version_minor": 0
      },
      "text/plain": [
       "Button(description='Show Tree 1', style=ButtonStyle())"
      ]
     },
     "metadata": {},
     "output_type": "display_data"
    },
    {
     "data": {
      "image/svg+xml": [
       "<?xml version=\"1.0\" encoding=\"UTF-8\" standalone=\"no\"?>\n",
       "<!DOCTYPE svg PUBLIC \"-//W3C//DTD SVG 1.1//EN\"\n",
       " \"http://www.w3.org/Graphics/SVG/1.1/DTD/svg11.dtd\">\n",
       "<!-- Generated by graphviz version 2.49.1 (0)\n",
       " -->\n",
       "<!-- Title: Tree Pages: 1 -->\n",
       "<svg width=\"242pt\" height=\"195pt\"\n",
       " viewBox=\"0.00 0.00 242.00 195.00\" xmlns=\"http://www.w3.org/2000/svg\" xmlns:xlink=\"http://www.w3.org/1999/xlink\">\n",
       "<g id=\"graph0\" class=\"graph\" transform=\"scale(1 1) rotate(0) translate(4 191)\">\n",
       "<title>Tree</title>\n",
       "<polygon fill=\"white\" stroke=\"transparent\" points=\"-4,4 -4,-191 238,-191 238,4 -4,4\"/>\n",
       "<!-- 0 -->\n",
       "<g id=\"node1\" class=\"node\">\n",
       "<title>0</title>\n",
       "<path fill=\"#8ec7f0\" stroke=\"black\" d=\"M164.5,-187C164.5,-187 74.5,-187 74.5,-187 68.5,-187 62.5,-181 62.5,-175 62.5,-175 62.5,-116 62.5,-116 62.5,-110 68.5,-104 74.5,-104 74.5,-104 164.5,-104 164.5,-104 170.5,-104 176.5,-110 176.5,-116 176.5,-116 176.5,-175 176.5,-175 176.5,-181 170.5,-187 164.5,-187\"/>\n",
       "<text text-anchor=\"start\" x=\"97\" y=\"-171.8\" font-family=\"Helvetica,sans-Serif\" font-size=\"14.00\">X ≤ 0.3</text>\n",
       "<text text-anchor=\"start\" x=\"70.5\" y=\"-156.8\" font-family=\"Helvetica,sans-Serif\" font-size=\"14.00\">entropy = 0.881</text>\n",
       "<text text-anchor=\"start\" x=\"77.5\" y=\"-141.8\" font-family=\"Helvetica,sans-Serif\" font-size=\"14.00\">samples = 10</text>\n",
       "<text text-anchor=\"start\" x=\"79\" y=\"-126.8\" font-family=\"Helvetica,sans-Serif\" font-size=\"14.00\">value = [3, 7]</text>\n",
       "<text text-anchor=\"start\" x=\"76\" y=\"-111.8\" font-family=\"Helvetica,sans-Serif\" font-size=\"14.00\">class = Green</text>\n",
       "</g>\n",
       "<!-- 1 -->\n",
       "<g id=\"node2\" class=\"node\">\n",
       "<title>1</title>\n",
       "<path fill=\"#eeab7b\" stroke=\"black\" d=\"M101,-68C101,-68 12,-68 12,-68 6,-68 0,-62 0,-56 0,-56 0,-12 0,-12 0,-6 6,0 12,0 12,0 101,0 101,0 107,0 113,-6 113,-12 113,-12 113,-56 113,-56 113,-62 107,-68 101,-68\"/>\n",
       "<text text-anchor=\"start\" x=\"8\" y=\"-52.8\" font-family=\"Helvetica,sans-Serif\" font-size=\"14.00\">entropy = 0.811</text>\n",
       "<text text-anchor=\"start\" x=\"18.5\" y=\"-37.8\" font-family=\"Helvetica,sans-Serif\" font-size=\"14.00\">samples = 4</text>\n",
       "<text text-anchor=\"start\" x=\"16\" y=\"-22.8\" font-family=\"Helvetica,sans-Serif\" font-size=\"14.00\">value = [3, 1]</text>\n",
       "<text text-anchor=\"start\" x=\"19.5\" y=\"-7.8\" font-family=\"Helvetica,sans-Serif\" font-size=\"14.00\">class = Red</text>\n",
       "</g>\n",
       "<!-- 0&#45;&gt;1 -->\n",
       "<g id=\"edge1\" class=\"edge\">\n",
       "<title>0&#45;&gt;1</title>\n",
       "<path fill=\"none\" stroke=\"black\" d=\"M96.04,-103.73C91.06,-95.06 85.78,-85.9 80.77,-77.18\"/>\n",
       "<polygon fill=\"black\" stroke=\"black\" points=\"83.68,-75.22 75.66,-68.3 77.61,-78.71 83.68,-75.22\"/>\n",
       "<text text-anchor=\"middle\" x=\"69.15\" y=\"-88.74\" font-family=\"Helvetica,sans-Serif\" font-size=\"14.00\">True</text>\n",
       "</g>\n",
       "<!-- 2 -->\n",
       "<g id=\"node3\" class=\"node\">\n",
       "<title>2</title>\n",
       "<path fill=\"#399de5\" stroke=\"black\" d=\"M222,-68C222,-68 143,-68 143,-68 137,-68 131,-62 131,-56 131,-56 131,-12 131,-12 131,-6 137,0 143,0 143,0 222,0 222,0 228,0 234,-6 234,-12 234,-12 234,-56 234,-56 234,-62 228,-68 222,-68\"/>\n",
       "<text text-anchor=\"start\" x=\"141\" y=\"-52.8\" font-family=\"Helvetica,sans-Serif\" font-size=\"14.00\">entropy = 0.0</text>\n",
       "<text text-anchor=\"start\" x=\"144.5\" y=\"-37.8\" font-family=\"Helvetica,sans-Serif\" font-size=\"14.00\">samples = 6</text>\n",
       "<text text-anchor=\"start\" x=\"142\" y=\"-22.8\" font-family=\"Helvetica,sans-Serif\" font-size=\"14.00\">value = [0, 6]</text>\n",
       "<text text-anchor=\"start\" x=\"139\" y=\"-7.8\" font-family=\"Helvetica,sans-Serif\" font-size=\"14.00\">class = Green</text>\n",
       "</g>\n",
       "<!-- 0&#45;&gt;2 -->\n",
       "<g id=\"edge2\" class=\"edge\">\n",
       "<title>0&#45;&gt;2</title>\n",
       "<path fill=\"none\" stroke=\"black\" d=\"M142.96,-103.73C147.94,-95.06 153.22,-85.9 158.23,-77.18\"/>\n",
       "<polygon fill=\"black\" stroke=\"black\" points=\"161.39,-78.71 163.34,-68.3 155.32,-75.22 161.39,-78.71\"/>\n",
       "<text text-anchor=\"middle\" x=\"169.85\" y=\"-88.74\" font-family=\"Helvetica,sans-Serif\" font-size=\"14.00\">False</text>\n",
       "</g>\n",
       "</g>\n",
       "</svg>\n"
      ],
      "text/plain": [
       "<graphviz.files.Source at 0x7ff1ec790a90>"
      ]
     },
     "metadata": {},
     "output_type": "display_data"
    }
   ],
   "source": [
    "gen_button('Tree 1', mydt.plot_tree(1))"
   ]
  },
  {
   "cell_type": "markdown",
   "metadata": {},
   "source": [
    "### So, you grew your first tree!\n",
    "\n",
    "### Understanding a Decision Tree\n",
    "\n",
    "There are a few important characteristics of your tree to take notice:\n",
    "\n",
    "1. Performing ***one*** split means your Decision Tree has a ***depth*** of ***one***.\n",
    "2. Each resulting node at this point is a ***leaf***, as they don't have any other nodes under them. \n",
    "3. Each ***leaf node*** will have a given number of samples (N_left and N_right). These are the ***samples per leaf***.\n",
    "4. The difference between ***entropy before and after*** is your ***information gain***.\n",
    "\n",
    "#### Depth, Samples per Leaf and Information Gain are some of the criteria used to decide when to STOP growing a tree!\n",
    "\n",
    "### Understanding its Nodes\n",
    "\n",
    "Each node has two additional pieces of information (besides number of samples and entropy):\n",
    "- value\n",
    "- class\n",
    "\n",
    "***Value*** is a list containing the number of samples belonging to each class. For instance, take the node on left side of the first split. Its value reads [3, 1], meaning it has 3 red samples and 1 green sample. \n",
    "\n",
    "***IMPORTANT***: This information allows you to compute the ***probability*** of a sample being ***green*** (for that node), which is 1 / 4 in the example.\n",
    "\n",
    "***Class*** is the class to which the majority of samples in that node belong. For the same node, its class is ***red***, as it has 3 red samples and only 1 green sample."
   ]
  },
  {
   "cell_type": "markdown",
   "metadata": {},
   "source": [
    "### 2.2 Second Split"
   ]
  },
  {
   "cell_type": "markdown",
   "metadata": {},
   "source": [
    "Once you're happy with your choice of threshold on the first split, you can work your way through the ***second split***.\n",
    "\n",
    "If any of the resulting subsets in the first split has ***zero entropy***, your tree already ***succeeded in isolating a group of homogeneous samples***, so ***no more splitting*** on that branch is needed."
   ]
  },
  {
   "cell_type": "code",
   "execution_count": 6,
   "metadata": {},
   "outputs": [],
   "source": [
    "left1 = right1 = None\n",
    "def prefunc1():\n",
    "    global left1, right1\n",
    "    left1, right1 = mydt.left_split, mydt.right_split\n",
    "    fl1 = build_figure(left1, width=450)\n",
    "    fr1 = build_figure(right1, width=450)\n",
    "\n",
    "    vb1 = HBox((VBox(fl1, layout={'align_items': 'center'}),\n",
    "                VBox(fr1, layout={'align_items': 'center'})))\n",
    "    return vb1"
   ]
  },
  {
   "cell_type": "code",
   "execution_count": 7,
   "metadata": {},
   "outputs": [
    {
     "data": {
      "application/vnd.jupyter.widget-view+json": {
       "model_id": "e8161e864033437daa17e4f2955fb43d",
       "version_major": 2,
       "version_minor": 0
      },
      "text/plain": [
       "Button(description='Show Second Split', style=ButtonStyle())"
      ]
     },
     "metadata": {},
     "output_type": "display_data"
    },
    {
     "name": "stderr",
     "output_type": "stream",
     "text": [
      "/opt/anaconda3/envs/fund/lib/python3.6/site-packages/plotly/tools.py:465: DeprecationWarning:\n",
      "\n",
      "plotly.tools.make_subplots is deprecated, please use plotly.subplots.make_subplots instead\n",
      "\n"
     ]
    },
    {
     "data": {
      "application/vnd.jupyter.widget-view+json": {
       "model_id": "82edb8b4c2074a6594c3c4795ec4efda",
       "version_major": 2,
       "version_minor": 0
      },
      "text/plain": [
       "HBox(children=(VBox(children=(FigureWidget({\n",
       "    'data': [{'marker': {'color': 'black'},\n",
       "              'mode':…"
      ]
     },
     "metadata": {},
     "output_type": "display_data"
    }
   ],
   "source": [
    "gen_button('Second Split', prefunc1)"
   ]
  },
  {
   "cell_type": "markdown",
   "metadata": {},
   "source": [
    "#### Questions:\n",
    "\n",
    "1. What is the threshold that minimizes entropy?\n",
    "2. Go back to the ***First Split*** and split it at ***-0.30*** threshold. Then click ***Hide*** and ***Show*** the second split to refresh it. Which threshold(s) minimize entropy? Is this better or worse?"
   ]
  },
  {
   "cell_type": "markdown",
   "metadata": {},
   "source": [
    "#### Second Split Result\n",
    "\n",
    "If you minimized the entropy at every depth correctly, this is what your splits should look like:"
   ]
  },
  {
   "cell_type": "code",
   "execution_count": 8,
   "metadata": {},
   "outputs": [
    {
     "data": {
      "application/vnd.jupyter.widget-view+json": {
       "model_id": "4da33307e9cb4d89893ed6d2c087b7e3",
       "version_major": 2,
       "version_minor": 0
      },
      "text/plain": [
       "Button(description='Show Tree 2', style=ButtonStyle())"
      ]
     },
     "metadata": {},
     "output_type": "display_data"
    },
    {
     "data": {
      "image/svg+xml": [
       "<?xml version=\"1.0\" encoding=\"UTF-8\" standalone=\"no\"?>\n",
       "<!DOCTYPE svg PUBLIC \"-//W3C//DTD SVG 1.1//EN\"\n",
       " \"http://www.w3.org/Graphics/SVG/1.1/DTD/svg11.dtd\">\n",
       "<!-- Generated by graphviz version 2.49.1 (0)\n",
       " -->\n",
       "<!-- Title: Tree Pages: 1 -->\n",
       "<svg width=\"293pt\" height=\"314pt\"\n",
       " viewBox=\"0.00 0.00 293.00 314.00\" xmlns=\"http://www.w3.org/2000/svg\" xmlns:xlink=\"http://www.w3.org/1999/xlink\">\n",
       "<g id=\"graph0\" class=\"graph\" transform=\"scale(1 1) rotate(0) translate(4 310)\">\n",
       "<title>Tree</title>\n",
       "<polygon fill=\"white\" stroke=\"transparent\" points=\"-4,4 -4,-310 289,-310 289,4 -4,4\"/>\n",
       "<!-- 0 -->\n",
       "<g id=\"node1\" class=\"node\">\n",
       "<title>0</title>\n",
       "<path fill=\"#8ec7f0\" stroke=\"black\" d=\"M215.5,-306C215.5,-306 125.5,-306 125.5,-306 119.5,-306 113.5,-300 113.5,-294 113.5,-294 113.5,-235 113.5,-235 113.5,-229 119.5,-223 125.5,-223 125.5,-223 215.5,-223 215.5,-223 221.5,-223 227.5,-229 227.5,-235 227.5,-235 227.5,-294 227.5,-294 227.5,-300 221.5,-306 215.5,-306\"/>\n",
       "<text text-anchor=\"start\" x=\"148\" y=\"-290.8\" font-family=\"Helvetica,sans-Serif\" font-size=\"14.00\">X ≤ 0.3</text>\n",
       "<text text-anchor=\"start\" x=\"121.5\" y=\"-275.8\" font-family=\"Helvetica,sans-Serif\" font-size=\"14.00\">entropy = 0.881</text>\n",
       "<text text-anchor=\"start\" x=\"128.5\" y=\"-260.8\" font-family=\"Helvetica,sans-Serif\" font-size=\"14.00\">samples = 10</text>\n",
       "<text text-anchor=\"start\" x=\"130\" y=\"-245.8\" font-family=\"Helvetica,sans-Serif\" font-size=\"14.00\">value = [3, 7]</text>\n",
       "<text text-anchor=\"start\" x=\"127\" y=\"-230.8\" font-family=\"Helvetica,sans-Serif\" font-size=\"14.00\">class = Green</text>\n",
       "</g>\n",
       "<!-- 1 -->\n",
       "<g id=\"node2\" class=\"node\">\n",
       "<title>1</title>\n",
       "<path fill=\"#eeab7b\" stroke=\"black\" d=\"M152,-187C152,-187 63,-187 63,-187 57,-187 51,-181 51,-175 51,-175 51,-116 51,-116 51,-110 57,-104 63,-104 63,-104 152,-104 152,-104 158,-104 164,-110 164,-116 164,-116 164,-175 164,-175 164,-181 158,-187 152,-187\"/>\n",
       "<text text-anchor=\"start\" x=\"83\" y=\"-171.8\" font-family=\"Helvetica,sans-Serif\" font-size=\"14.00\">X ≤ &#45;1.1</text>\n",
       "<text text-anchor=\"start\" x=\"59\" y=\"-156.8\" font-family=\"Helvetica,sans-Serif\" font-size=\"14.00\">entropy = 0.811</text>\n",
       "<text text-anchor=\"start\" x=\"69.5\" y=\"-141.8\" font-family=\"Helvetica,sans-Serif\" font-size=\"14.00\">samples = 4</text>\n",
       "<text text-anchor=\"start\" x=\"67\" y=\"-126.8\" font-family=\"Helvetica,sans-Serif\" font-size=\"14.00\">value = [3, 1]</text>\n",
       "<text text-anchor=\"start\" x=\"70.5\" y=\"-111.8\" font-family=\"Helvetica,sans-Serif\" font-size=\"14.00\">class = Red</text>\n",
       "</g>\n",
       "<!-- 0&#45;&gt;1 -->\n",
       "<g id=\"edge1\" class=\"edge\">\n",
       "<title>0&#45;&gt;1</title>\n",
       "<path fill=\"none\" stroke=\"black\" d=\"M148.64,-222.91C143.95,-214.2 138.94,-204.9 134.1,-195.89\"/>\n",
       "<polygon fill=\"black\" stroke=\"black\" points=\"137.14,-194.17 129.32,-187.02 130.98,-197.48 137.14,-194.17\"/>\n",
       "<text text-anchor=\"middle\" x=\"122.14\" y=\"-207.27\" font-family=\"Helvetica,sans-Serif\" font-size=\"14.00\">True</text>\n",
       "</g>\n",
       "<!-- 4 -->\n",
       "<g id=\"node5\" class=\"node\">\n",
       "<title>4</title>\n",
       "<path fill=\"#399de5\" stroke=\"black\" d=\"M273,-179.5C273,-179.5 194,-179.5 194,-179.5 188,-179.5 182,-173.5 182,-167.5 182,-167.5 182,-123.5 182,-123.5 182,-117.5 188,-111.5 194,-111.5 194,-111.5 273,-111.5 273,-111.5 279,-111.5 285,-117.5 285,-123.5 285,-123.5 285,-167.5 285,-167.5 285,-173.5 279,-179.5 273,-179.5\"/>\n",
       "<text text-anchor=\"start\" x=\"192\" y=\"-164.3\" font-family=\"Helvetica,sans-Serif\" font-size=\"14.00\">entropy = 0.0</text>\n",
       "<text text-anchor=\"start\" x=\"195.5\" y=\"-149.3\" font-family=\"Helvetica,sans-Serif\" font-size=\"14.00\">samples = 6</text>\n",
       "<text text-anchor=\"start\" x=\"193\" y=\"-134.3\" font-family=\"Helvetica,sans-Serif\" font-size=\"14.00\">value = [0, 6]</text>\n",
       "<text text-anchor=\"start\" x=\"190\" y=\"-119.3\" font-family=\"Helvetica,sans-Serif\" font-size=\"14.00\">class = Green</text>\n",
       "</g>\n",
       "<!-- 0&#45;&gt;4 -->\n",
       "<g id=\"edge4\" class=\"edge\">\n",
       "<title>0&#45;&gt;4</title>\n",
       "<path fill=\"none\" stroke=\"black\" d=\"M192.36,-222.91C198.3,-211.87 204.75,-199.9 210.74,-188.77\"/>\n",
       "<polygon fill=\"black\" stroke=\"black\" points=\"213.98,-190.13 215.64,-179.67 207.82,-186.81 213.98,-190.13\"/>\n",
       "<text text-anchor=\"middle\" x=\"222.82\" y=\"-199.91\" font-family=\"Helvetica,sans-Serif\" font-size=\"14.00\">False</text>\n",
       "</g>\n",
       "<!-- 2 -->\n",
       "<g id=\"node3\" class=\"node\">\n",
       "<title>2</title>\n",
       "<path fill=\"#e58139\" stroke=\"black\" d=\"M87,-68C87,-68 12,-68 12,-68 6,-68 0,-62 0,-56 0,-56 0,-12 0,-12 0,-6 6,0 12,0 12,0 87,0 87,0 93,0 99,-6 99,-12 99,-12 99,-56 99,-56 99,-62 93,-68 87,-68\"/>\n",
       "<text text-anchor=\"start\" x=\"8\" y=\"-52.8\" font-family=\"Helvetica,sans-Serif\" font-size=\"14.00\">entropy = 0.0</text>\n",
       "<text text-anchor=\"start\" x=\"11.5\" y=\"-37.8\" font-family=\"Helvetica,sans-Serif\" font-size=\"14.00\">samples = 2</text>\n",
       "<text text-anchor=\"start\" x=\"9\" y=\"-22.8\" font-family=\"Helvetica,sans-Serif\" font-size=\"14.00\">value = [2, 0]</text>\n",
       "<text text-anchor=\"start\" x=\"12.5\" y=\"-7.8\" font-family=\"Helvetica,sans-Serif\" font-size=\"14.00\">class = Red</text>\n",
       "</g>\n",
       "<!-- 1&#45;&gt;2 -->\n",
       "<g id=\"edge2\" class=\"edge\">\n",
       "<title>1&#45;&gt;2</title>\n",
       "<path fill=\"none\" stroke=\"black\" d=\"M85.9,-103.73C81.31,-95.06 76.46,-85.9 71.84,-77.18\"/>\n",
       "<polygon fill=\"black\" stroke=\"black\" points=\"74.91,-75.5 67.14,-68.3 68.73,-78.77 74.91,-75.5\"/>\n",
       "</g>\n",
       "<!-- 3 -->\n",
       "<g id=\"node4\" class=\"node\">\n",
       "<title>3</title>\n",
       "<path fill=\"#ffffff\" stroke=\"black\" d=\"M204,-68C204,-68 129,-68 129,-68 123,-68 117,-62 117,-56 117,-56 117,-12 117,-12 117,-6 123,0 129,0 129,0 204,0 204,0 210,0 216,-6 216,-12 216,-12 216,-56 216,-56 216,-62 210,-68 204,-68\"/>\n",
       "<text text-anchor=\"start\" x=\"125\" y=\"-52.8\" font-family=\"Helvetica,sans-Serif\" font-size=\"14.00\">entropy = 1.0</text>\n",
       "<text text-anchor=\"start\" x=\"128.5\" y=\"-37.8\" font-family=\"Helvetica,sans-Serif\" font-size=\"14.00\">samples = 2</text>\n",
       "<text text-anchor=\"start\" x=\"126\" y=\"-22.8\" font-family=\"Helvetica,sans-Serif\" font-size=\"14.00\">value = [1, 1]</text>\n",
       "<text text-anchor=\"start\" x=\"129.5\" y=\"-7.8\" font-family=\"Helvetica,sans-Serif\" font-size=\"14.00\">class = Red</text>\n",
       "</g>\n",
       "<!-- 1&#45;&gt;3 -->\n",
       "<g id=\"edge3\" class=\"edge\">\n",
       "<title>1&#45;&gt;3</title>\n",
       "<path fill=\"none\" stroke=\"black\" d=\"M129.47,-103.73C134.14,-95.06 139.08,-85.9 143.77,-77.18\"/>\n",
       "<polygon fill=\"black\" stroke=\"black\" points=\"146.9,-78.76 148.56,-68.3 140.73,-75.44 146.9,-78.76\"/>\n",
       "</g>\n",
       "</g>\n",
       "</svg>\n"
      ],
      "text/plain": [
       "<graphviz.files.Source at 0x7ff1ebb53940>"
      ]
     },
     "metadata": {},
     "output_type": "display_data"
    }
   ],
   "source": [
    "gen_button('Tree 2', mydt.plot_tree(2))"
   ]
  },
  {
   "cell_type": "markdown",
   "metadata": {},
   "source": [
    "### 2.3 Third Split\n",
    "\n",
    "Before proceeding, go back to the ***first split*** and choose the threshold that minimizes its entropy. Then ***refresh*** (by clicking Hide/Show) the ***second split*** and choose its threshold as well.\n",
    "\n",
    "Once you're done with it, you can work your way through the ***third split***.\n",
    "\n",
    "NOTE: the ***third split*** operates on the ***leftmost branch of the tree*** only! If you chose the correct thresholds, its right branch from the top should have green samples only (check ***Tree 2***)."
   ]
  },
  {
   "cell_type": "code",
   "execution_count": 9,
   "metadata": {},
   "outputs": [],
   "source": [
    "left2 = right2 = None\n",
    "def prefunc2():\n",
    "    global left2, right2\n",
    "    left2, right2 = left1.left_split, left1.right_split\n",
    "    fl1l2 = build_figure(left2, width=450)\n",
    "    fl1r2 = build_figure(right2, width=450)\n",
    "\n",
    "    vb2 = HBox((VBox(fl1l2, layout={'align_items': 'center'}),\n",
    "                VBox(fl1r2, layout={'align_items': 'center'})))\n",
    "\n",
    "    return vb2"
   ]
  },
  {
   "cell_type": "code",
   "execution_count": 10,
   "metadata": {},
   "outputs": [
    {
     "data": {
      "application/vnd.jupyter.widget-view+json": {
       "model_id": "446c965c483749899c16fb0f37c4ed72",
       "version_major": 2,
       "version_minor": 0
      },
      "text/plain": [
       "Button(description='Show Third Split', style=ButtonStyle())"
      ]
     },
     "metadata": {},
     "output_type": "display_data"
    },
    {
     "name": "stderr",
     "output_type": "stream",
     "text": [
      "/opt/anaconda3/envs/fund/lib/python3.6/site-packages/plotly/tools.py:465: DeprecationWarning:\n",
      "\n",
      "plotly.tools.make_subplots is deprecated, please use plotly.subplots.make_subplots instead\n",
      "\n"
     ]
    },
    {
     "data": {
      "application/vnd.jupyter.widget-view+json": {
       "model_id": "27c3527da2e04265b915275e392f893a",
       "version_major": 2,
       "version_minor": 0
      },
      "text/plain": [
       "HBox(children=(VBox(children=(FigureWidget({\n",
       "    'data': [],\n",
       "    'layout': {'autosize': False,\n",
       "               …"
      ]
     },
     "metadata": {},
     "output_type": "display_data"
    }
   ],
   "source": [
    "gen_button('Third Split', prefunc2)"
   ]
  },
  {
   "cell_type": "markdown",
   "metadata": {},
   "source": [
    "#### Questions:\n",
    "\n",
    "1. What is the threshold that minimizes entropy?\n",
    "2. Can you grow your tree further? If yes, what's the next step? If no, why not?"
   ]
  },
  {
   "cell_type": "markdown",
   "metadata": {},
   "source": [
    "#### Third Split Result\n",
    "\n",
    "If you minimized the entropy at every depth correctly, this is what your splits should look like:"
   ]
  },
  {
   "cell_type": "code",
   "execution_count": 11,
   "metadata": {},
   "outputs": [
    {
     "data": {
      "application/vnd.jupyter.widget-view+json": {
       "model_id": "e488f98a572c4677ac390d2d9c8afece",
       "version_major": 2,
       "version_minor": 0
      },
      "text/plain": [
       "Button(description='Show Tree 3', style=ButtonStyle())"
      ]
     },
     "metadata": {},
     "output_type": "display_data"
    },
    {
     "data": {
      "image/svg+xml": [
       "<?xml version=\"1.0\" encoding=\"UTF-8\" standalone=\"no\"?>\n",
       "<!DOCTYPE svg PUBLIC \"-//W3C//DTD SVG 1.1//EN\"\n",
       " \"http://www.w3.org/Graphics/SVG/1.1/DTD/svg11.dtd\">\n",
       "<!-- Generated by graphviz version 2.49.1 (0)\n",
       " -->\n",
       "<!-- Title: Tree Pages: 1 -->\n",
       "<svg width=\"293pt\" height=\"433pt\"\n",
       " viewBox=\"0.00 0.00 293.00 433.00\" xmlns=\"http://www.w3.org/2000/svg\" xmlns:xlink=\"http://www.w3.org/1999/xlink\">\n",
       "<g id=\"graph0\" class=\"graph\" transform=\"scale(1 1) rotate(0) translate(4 429)\">\n",
       "<title>Tree</title>\n",
       "<polygon fill=\"white\" stroke=\"transparent\" points=\"-4,4 -4,-429 289,-429 289,4 -4,4\"/>\n",
       "<!-- 0 -->\n",
       "<g id=\"node1\" class=\"node\">\n",
       "<title>0</title>\n",
       "<path fill=\"#8ec7f0\" stroke=\"black\" d=\"M215.5,-425C215.5,-425 125.5,-425 125.5,-425 119.5,-425 113.5,-419 113.5,-413 113.5,-413 113.5,-354 113.5,-354 113.5,-348 119.5,-342 125.5,-342 125.5,-342 215.5,-342 215.5,-342 221.5,-342 227.5,-348 227.5,-354 227.5,-354 227.5,-413 227.5,-413 227.5,-419 221.5,-425 215.5,-425\"/>\n",
       "<text text-anchor=\"start\" x=\"148\" y=\"-409.8\" font-family=\"Helvetica,sans-Serif\" font-size=\"14.00\">X ≤ 0.3</text>\n",
       "<text text-anchor=\"start\" x=\"121.5\" y=\"-394.8\" font-family=\"Helvetica,sans-Serif\" font-size=\"14.00\">entropy = 0.881</text>\n",
       "<text text-anchor=\"start\" x=\"128.5\" y=\"-379.8\" font-family=\"Helvetica,sans-Serif\" font-size=\"14.00\">samples = 10</text>\n",
       "<text text-anchor=\"start\" x=\"130\" y=\"-364.8\" font-family=\"Helvetica,sans-Serif\" font-size=\"14.00\">value = [3, 7]</text>\n",
       "<text text-anchor=\"start\" x=\"127\" y=\"-349.8\" font-family=\"Helvetica,sans-Serif\" font-size=\"14.00\">class = Green</text>\n",
       "</g>\n",
       "<!-- 1 -->\n",
       "<g id=\"node2\" class=\"node\">\n",
       "<title>1</title>\n",
       "<path fill=\"#eeab7b\" stroke=\"black\" d=\"M152,-306C152,-306 63,-306 63,-306 57,-306 51,-300 51,-294 51,-294 51,-235 51,-235 51,-229 57,-223 63,-223 63,-223 152,-223 152,-223 158,-223 164,-229 164,-235 164,-235 164,-294 164,-294 164,-300 158,-306 152,-306\"/>\n",
       "<text text-anchor=\"start\" x=\"83\" y=\"-290.8\" font-family=\"Helvetica,sans-Serif\" font-size=\"14.00\">X ≤ &#45;1.1</text>\n",
       "<text text-anchor=\"start\" x=\"59\" y=\"-275.8\" font-family=\"Helvetica,sans-Serif\" font-size=\"14.00\">entropy = 0.811</text>\n",
       "<text text-anchor=\"start\" x=\"69.5\" y=\"-260.8\" font-family=\"Helvetica,sans-Serif\" font-size=\"14.00\">samples = 4</text>\n",
       "<text text-anchor=\"start\" x=\"67\" y=\"-245.8\" font-family=\"Helvetica,sans-Serif\" font-size=\"14.00\">value = [3, 1]</text>\n",
       "<text text-anchor=\"start\" x=\"70.5\" y=\"-230.8\" font-family=\"Helvetica,sans-Serif\" font-size=\"14.00\">class = Red</text>\n",
       "</g>\n",
       "<!-- 0&#45;&gt;1 -->\n",
       "<g id=\"edge1\" class=\"edge\">\n",
       "<title>0&#45;&gt;1</title>\n",
       "<path fill=\"none\" stroke=\"black\" d=\"M148.64,-341.91C143.95,-333.2 138.94,-323.9 134.1,-314.89\"/>\n",
       "<polygon fill=\"black\" stroke=\"black\" points=\"137.14,-313.17 129.32,-306.02 130.98,-316.48 137.14,-313.17\"/>\n",
       "<text text-anchor=\"middle\" x=\"122.14\" y=\"-326.27\" font-family=\"Helvetica,sans-Serif\" font-size=\"14.00\">True</text>\n",
       "</g>\n",
       "<!-- 6 -->\n",
       "<g id=\"node7\" class=\"node\">\n",
       "<title>6</title>\n",
       "<path fill=\"#399de5\" stroke=\"black\" d=\"M273,-298.5C273,-298.5 194,-298.5 194,-298.5 188,-298.5 182,-292.5 182,-286.5 182,-286.5 182,-242.5 182,-242.5 182,-236.5 188,-230.5 194,-230.5 194,-230.5 273,-230.5 273,-230.5 279,-230.5 285,-236.5 285,-242.5 285,-242.5 285,-286.5 285,-286.5 285,-292.5 279,-298.5 273,-298.5\"/>\n",
       "<text text-anchor=\"start\" x=\"192\" y=\"-283.3\" font-family=\"Helvetica,sans-Serif\" font-size=\"14.00\">entropy = 0.0</text>\n",
       "<text text-anchor=\"start\" x=\"195.5\" y=\"-268.3\" font-family=\"Helvetica,sans-Serif\" font-size=\"14.00\">samples = 6</text>\n",
       "<text text-anchor=\"start\" x=\"193\" y=\"-253.3\" font-family=\"Helvetica,sans-Serif\" font-size=\"14.00\">value = [0, 6]</text>\n",
       "<text text-anchor=\"start\" x=\"190\" y=\"-238.3\" font-family=\"Helvetica,sans-Serif\" font-size=\"14.00\">class = Green</text>\n",
       "</g>\n",
       "<!-- 0&#45;&gt;6 -->\n",
       "<g id=\"edge6\" class=\"edge\">\n",
       "<title>0&#45;&gt;6</title>\n",
       "<path fill=\"none\" stroke=\"black\" d=\"M192.36,-341.91C198.3,-330.87 204.75,-318.9 210.74,-307.77\"/>\n",
       "<polygon fill=\"black\" stroke=\"black\" points=\"213.98,-309.13 215.64,-298.67 207.82,-305.81 213.98,-309.13\"/>\n",
       "<text text-anchor=\"middle\" x=\"222.82\" y=\"-318.91\" font-family=\"Helvetica,sans-Serif\" font-size=\"14.00\">False</text>\n",
       "</g>\n",
       "<!-- 2 -->\n",
       "<g id=\"node3\" class=\"node\">\n",
       "<title>2</title>\n",
       "<path fill=\"#e58139\" stroke=\"black\" d=\"M87,-179.5C87,-179.5 12,-179.5 12,-179.5 6,-179.5 0,-173.5 0,-167.5 0,-167.5 0,-123.5 0,-123.5 0,-117.5 6,-111.5 12,-111.5 12,-111.5 87,-111.5 87,-111.5 93,-111.5 99,-117.5 99,-123.5 99,-123.5 99,-167.5 99,-167.5 99,-173.5 93,-179.5 87,-179.5\"/>\n",
       "<text text-anchor=\"start\" x=\"8\" y=\"-164.3\" font-family=\"Helvetica,sans-Serif\" font-size=\"14.00\">entropy = 0.0</text>\n",
       "<text text-anchor=\"start\" x=\"11.5\" y=\"-149.3\" font-family=\"Helvetica,sans-Serif\" font-size=\"14.00\">samples = 2</text>\n",
       "<text text-anchor=\"start\" x=\"9\" y=\"-134.3\" font-family=\"Helvetica,sans-Serif\" font-size=\"14.00\">value = [2, 0]</text>\n",
       "<text text-anchor=\"start\" x=\"12.5\" y=\"-119.3\" font-family=\"Helvetica,sans-Serif\" font-size=\"14.00\">class = Red</text>\n",
       "</g>\n",
       "<!-- 1&#45;&gt;2 -->\n",
       "<g id=\"edge2\" class=\"edge\">\n",
       "<title>1&#45;&gt;2</title>\n",
       "<path fill=\"none\" stroke=\"black\" d=\"M87.38,-222.91C81.91,-211.87 75.97,-199.9 70.46,-188.77\"/>\n",
       "<polygon fill=\"black\" stroke=\"black\" points=\"73.52,-187.07 65.94,-179.67 67.25,-190.18 73.52,-187.07\"/>\n",
       "</g>\n",
       "<!-- 3 -->\n",
       "<g id=\"node4\" class=\"node\">\n",
       "<title>3</title>\n",
       "<path fill=\"#ffffff\" stroke=\"black\" d=\"M204,-187C204,-187 129,-187 129,-187 123,-187 117,-181 117,-175 117,-175 117,-116 117,-116 117,-110 123,-104 129,-104 129,-104 204,-104 204,-104 210,-104 216,-110 216,-116 216,-116 216,-175 216,-175 216,-181 210,-187 204,-187\"/>\n",
       "<text text-anchor=\"start\" x=\"142\" y=\"-171.8\" font-family=\"Helvetica,sans-Serif\" font-size=\"14.00\">X ≤ &#45;0.3</text>\n",
       "<text text-anchor=\"start\" x=\"125\" y=\"-156.8\" font-family=\"Helvetica,sans-Serif\" font-size=\"14.00\">entropy = 1.0</text>\n",
       "<text text-anchor=\"start\" x=\"128.5\" y=\"-141.8\" font-family=\"Helvetica,sans-Serif\" font-size=\"14.00\">samples = 2</text>\n",
       "<text text-anchor=\"start\" x=\"126\" y=\"-126.8\" font-family=\"Helvetica,sans-Serif\" font-size=\"14.00\">value = [1, 1]</text>\n",
       "<text text-anchor=\"start\" x=\"129.5\" y=\"-111.8\" font-family=\"Helvetica,sans-Serif\" font-size=\"14.00\">class = Red</text>\n",
       "</g>\n",
       "<!-- 1&#45;&gt;3 -->\n",
       "<g id=\"edge3\" class=\"edge\">\n",
       "<title>1&#45;&gt;3</title>\n",
       "<path fill=\"none\" stroke=\"black\" d=\"M127.97,-222.91C132.32,-214.29 136.95,-205.09 141.45,-196.17\"/>\n",
       "<polygon fill=\"black\" stroke=\"black\" points=\"144.69,-197.53 146.07,-187.02 138.44,-194.37 144.69,-197.53\"/>\n",
       "</g>\n",
       "<!-- 4 -->\n",
       "<g id=\"node5\" class=\"node\">\n",
       "<title>4</title>\n",
       "<path fill=\"#399de5\" stroke=\"black\" d=\"M146,-68C146,-68 67,-68 67,-68 61,-68 55,-62 55,-56 55,-56 55,-12 55,-12 55,-6 61,0 67,0 67,0 146,0 146,0 152,0 158,-6 158,-12 158,-12 158,-56 158,-56 158,-62 152,-68 146,-68\"/>\n",
       "<text text-anchor=\"start\" x=\"65\" y=\"-52.8\" font-family=\"Helvetica,sans-Serif\" font-size=\"14.00\">entropy = 0.0</text>\n",
       "<text text-anchor=\"start\" x=\"68.5\" y=\"-37.8\" font-family=\"Helvetica,sans-Serif\" font-size=\"14.00\">samples = 1</text>\n",
       "<text text-anchor=\"start\" x=\"66\" y=\"-22.8\" font-family=\"Helvetica,sans-Serif\" font-size=\"14.00\">value = [0, 1]</text>\n",
       "<text text-anchor=\"start\" x=\"63\" y=\"-7.8\" font-family=\"Helvetica,sans-Serif\" font-size=\"14.00\">class = Green</text>\n",
       "</g>\n",
       "<!-- 3&#45;&gt;4 -->\n",
       "<g id=\"edge4\" class=\"edge\">\n",
       "<title>3&#45;&gt;4</title>\n",
       "<path fill=\"none\" stroke=\"black\" d=\"M144.16,-103.73C139.41,-95.06 134.39,-85.9 129.61,-77.18\"/>\n",
       "<polygon fill=\"black\" stroke=\"black\" points=\"132.62,-75.39 124.75,-68.3 126.48,-78.75 132.62,-75.39\"/>\n",
       "</g>\n",
       "<!-- 5 -->\n",
       "<g id=\"node6\" class=\"node\">\n",
       "<title>5</title>\n",
       "<path fill=\"#e58139\" stroke=\"black\" d=\"M263,-68C263,-68 188,-68 188,-68 182,-68 176,-62 176,-56 176,-56 176,-12 176,-12 176,-6 182,0 188,0 188,0 263,0 263,0 269,0 275,-6 275,-12 275,-12 275,-56 275,-56 275,-62 269,-68 263,-68\"/>\n",
       "<text text-anchor=\"start\" x=\"184\" y=\"-52.8\" font-family=\"Helvetica,sans-Serif\" font-size=\"14.00\">entropy = 0.0</text>\n",
       "<text text-anchor=\"start\" x=\"187.5\" y=\"-37.8\" font-family=\"Helvetica,sans-Serif\" font-size=\"14.00\">samples = 1</text>\n",
       "<text text-anchor=\"start\" x=\"185\" y=\"-22.8\" font-family=\"Helvetica,sans-Serif\" font-size=\"14.00\">value = [1, 0]</text>\n",
       "<text text-anchor=\"start\" x=\"188.5\" y=\"-7.8\" font-family=\"Helvetica,sans-Serif\" font-size=\"14.00\">class = Red</text>\n",
       "</g>\n",
       "<!-- 3&#45;&gt;5 -->\n",
       "<g id=\"edge5\" class=\"edge\">\n",
       "<title>3&#45;&gt;5</title>\n",
       "<path fill=\"none\" stroke=\"black\" d=\"M188.47,-103.73C193.14,-95.06 198.08,-85.9 202.77,-77.18\"/>\n",
       "<polygon fill=\"black\" stroke=\"black\" points=\"205.9,-78.76 207.56,-68.3 199.73,-75.44 205.9,-78.76\"/>\n",
       "</g>\n",
       "</g>\n",
       "</svg>\n"
      ],
      "text/plain": [
       "<graphviz.files.Source at 0x7ff1e92e1240>"
      ]
     },
     "metadata": {},
     "output_type": "display_data"
    }
   ],
   "source": [
    "gen_button('Tree 3', mydt.plot_tree(3))"
   ]
  },
  {
   "cell_type": "markdown",
   "metadata": {},
   "source": [
    "#### More Questions:\n",
    "\n",
    "3. What is the depth of ***Tree 3***?\n",
    "4. How many ***leaf nodes*** does it have?\n",
    "5. What do all those ***leaf*** nodes have in common?"
   ]
  },
  {
   "cell_type": "markdown",
   "metadata": {},
   "source": [
    "## 3. Prediction"
   ]
  },
  {
   "cell_type": "markdown",
   "metadata": {},
   "source": [
    "Once you have built your Decision Tree, you can take any numerical coordinate (your ***feature***), ***follow the splits*** and arrive at a corresponding ***leaf node***.\n",
    "\n",
    "At the leaf node, you can check its ***class*** to get the predicted class straight away. Moreover, you can use its ***values*** to compute the probability associated with the predicted class (if you don't remember how to do it, revisit the ***Understanding its Nodes*** section above)."
   ]
  },
  {
   "cell_type": "markdown",
   "metadata": {},
   "source": [
    "#### Questions:\n",
    "\n",
    "1. What are the ***probabilities*** associated with the predicted class for each one of the ***4 leaf nodes*** on ***Tree 3***?\n",
    "2. What about the ***3 leaf nodes*** on ***Tree 2***?\n",
    "\n",
    "Once you answered those questions, click on the button below."
   ]
  },
  {
   "cell_type": "code",
   "execution_count": 12,
   "metadata": {},
   "outputs": [
    {
     "name": "stderr",
     "output_type": "stream",
     "text": [
      "/opt/anaconda3/envs/fund/lib/python3.6/site-packages/plotly/tools.py:465: DeprecationWarning:\n",
      "\n",
      "plotly.tools.make_subplots is deprecated, please use plotly.subplots.make_subplots instead\n",
      "\n"
     ]
    },
    {
     "data": {
      "application/vnd.jupyter.widget-view+json": {
       "model_id": "8324d058d8c4477fb702ec1c14c78a41",
       "version_major": 2,
       "version_minor": 0
      },
      "text/plain": [
       "Button(description='Show Probabilities', style=ButtonStyle())"
      ]
     },
     "metadata": {},
     "output_type": "display_data"
    },
    {
     "data": {
      "application/vnd.jupyter.widget-view+json": {
       "model_id": "a40a7ce2e8d945cf8aa1ce5b3c8f736d",
       "version_major": 2,
       "version_minor": 0
      },
      "text/plain": [
       "VBox(children=(FigureWidget({\n",
       "    'data': [{'marker': {'color': 'black'},\n",
       "              'mode': 'lines',\n",
       "     …"
      ]
     },
     "metadata": {},
     "output_type": "display_data"
    }
   ],
   "source": [
    "gen_button('Probabilities', VBox(build_figure_prob(mydt), layout={'align_items': 'center'}))"
   ]
  },
  {
   "cell_type": "markdown",
   "metadata": {},
   "source": [
    "#### More Questions:\n",
    "\n",
    "3. What happens if you choose a ***shallow*** tree (low depth)? What's the impact on predictions?\n",
    "4. What about a ***deep*** tree (high depth)?\n",
    "5. What about an average depth?\n",
    "6. Which one do you think will yield better predictions for unseen data? Why?"
   ]
  },
  {
   "cell_type": "markdown",
   "metadata": {},
   "source": [
    "## 4. Scikit-Learn\n",
    "\n",
    "[Decision Trees](https://scikit-learn.org/stable/modules/tree.html)\n",
    "\n",
    "Please check Aurelién Geron's \"Hand-On Machine Learning with Scikit-Learn and Tensorflow\" notebook on Decision Trees [here](http://nbviewer.jupyter.org/github/ageron/handson-ml/blob/master/06_decision_trees.ipynb)\n",
    "\n",
    "See Scikit-Learn website for [tips on practical use](https://scikit-learn.org/stable/modules/tree.html#tips-on-practical-use)."
   ]
  },
  {
   "cell_type": "markdown",
   "metadata": {},
   "source": [
    "## 5. More Resources\n",
    "\n",
    "[InfoGraphic](https://github.com/Avik-Jain/100-Days-Of-ML-Code/blob/master/Info-graphs/Day%2023.jpg)\n",
    "\n",
    "[A visual introduction to machine learning](http://www.r2d3.us/visual-intro-to-machine-learning-part-1/)\n",
    "\n",
    "[Interactive Visualization of Decision Trees with Jupyter Widgets](https://towardsdatascience.com/interactive-visualization-of-decision-trees-with-jupyter-widgets-ca15dd312084)"
   ]
  },
  {
   "cell_type": "markdown",
   "metadata": {},
   "source": [
    "#### This material is copyright Daniel Voigt Godoy and made available under the Creative Commons Attribution (CC-BY) license ([link](https://creativecommons.org/licenses/by/4.0/)). \n",
    "\n",
    "#### Code is also made available under the MIT License ([link](https://opensource.org/licenses/MIT))."
   ]
  },
  {
   "cell_type": "code",
   "execution_count": 13,
   "metadata": {},
   "outputs": [
    {
     "data": {
      "text/html": [
       "<script>\n",
       "  function code_toggle() {\n",
       "    if (code_shown){\n",
       "      $('div.input').hide('500');\n",
       "      $('#toggleButton').val('Show Code')\n",
       "    } else {\n",
       "      $('div.input').show('500');\n",
       "      $('#toggleButton').val('Hide Code')\n",
       "    }\n",
       "    code_shown = !code_shown\n",
       "  }\n",
       "\n",
       "  $( document ).ready(function(){\n",
       "    code_shown=false;\n",
       "    $('div.input').hide()\n",
       "  });\n",
       "</script>\n",
       "<form action=\"javascript:code_toggle()\"><input type=\"submit\" id=\"toggleButton\" value=\"Show Code\"></form>"
      ],
      "text/plain": [
       "<IPython.core.display.HTML object>"
      ]
     },
     "execution_count": 13,
     "metadata": {},
     "output_type": "execute_result"
    }
   ],
   "source": [
    "from IPython.display import HTML\n",
    "HTML('''<script>\n",
    "  function code_toggle() {\n",
    "    if (code_shown){\n",
    "      $('div.input').hide('500');\n",
    "      $('#toggleButton').val('Show Code')\n",
    "    } else {\n",
    "      $('div.input').show('500');\n",
    "      $('#toggleButton').val('Hide Code')\n",
    "    }\n",
    "    code_shown = !code_shown\n",
    "  }\n",
    "\n",
    "  $( document ).ready(function(){\n",
    "    code_shown=false;\n",
    "    $('div.input').hide()\n",
    "  });\n",
    "</script>\n",
    "<form action=\"javascript:code_toggle()\"><input type=\"submit\" id=\"toggleButton\" value=\"Show Code\"></form>''')"
   ]
  },
  {
   "cell_type": "code",
   "execution_count": null,
   "metadata": {},
   "outputs": [],
   "source": []
  }
 ],
 "metadata": {
  "kernelspec": {
   "display_name": "Python 3",
   "language": "python",
   "name": "python3"
  },
  "language_info": {
   "codemirror_mode": {
    "name": "ipython",
    "version": 3
   },
   "file_extension": ".py",
   "mimetype": "text/x-python",
   "name": "python",
   "nbconvert_exporter": "python",
   "pygments_lexer": "ipython3",
   "version": "3.6.13"
  }
 },
 "nbformat": 4,
 "nbformat_minor": 2
}
