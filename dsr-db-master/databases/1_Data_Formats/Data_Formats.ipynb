{
 "cells": [
  {
   "cell_type": "code",
   "execution_count": 1,
   "metadata": {
    "slideshow": {
     "slide_type": "skip"
    }
   },
   "outputs": [
    {
     "name": "stderr",
     "output_type": "stream",
     "text": [
      "INFO - Test Logging Output\n"
     ]
    }
   ],
   "source": [
    "import sys\n",
    "import logging\n",
    "# Create logger\n",
    "logger = logging.getLogger()\n",
    "logger.setLevel(logging.INFO)\n",
    "\n",
    "# Create STDERR handler\n",
    "handler = logging.StreamHandler(sys.stderr)\n",
    "\n",
    "# Create formatter and add it to the handler\n",
    "formatter = logging.Formatter('%(levelname)s - %(message)s')\n",
    "handler.setFormatter(formatter)\n",
    "\n",
    "# Set STDERR handler as the only handler \n",
    "logger.handlers = [handler]\n",
    "\n",
    "logger.info(\"Test Logging Output\")"
   ]
  },
  {
   "cell_type": "code",
   "execution_count": 2,
   "metadata": {
    "slideshow": {
     "slide_type": "skip"
    }
   },
   "outputs": [
    {
     "data": {
      "text/plain": [
       "'/Users/jacopo/.scientific_jupyter/bin/python3'"
      ]
     },
     "execution_count": 2,
     "metadata": {},
     "output_type": "execute_result"
    }
   ],
   "source": [
    "sys.executable"
   ]
  },
  {
   "cell_type": "markdown",
   "metadata": {
    "slideshow": {
     "slide_type": "slide"
    }
   },
   "source": [
    "# Data Formats"
   ]
  },
  {
   "cell_type": "markdown",
   "metadata": {
    "slideshow": {
     "slide_type": "fragment"
    }
   },
   "source": [
    "When you want to store data, one of the most important considerations is which format to use. \n",
    "\n",
    "You can choose between several popular formats, such as: JSON, CSV, Avro, Parquet, and others."
   ]
  },
  {
   "cell_type": "markdown",
   "metadata": {
    "slideshow": {
     "slide_type": "slide"
    }
   },
   "source": [
    "As an example, let's take the data of some regular employees, and try to store it in all 4 of the above-mentioned data formats. "
   ]
  },
  {
   "cell_type": "code",
   "execution_count": 3,
   "metadata": {
    "slideshow": {
     "slide_type": "fragment"
    }
   },
   "outputs": [],
   "source": [
    "employees = [\n",
    "    {\n",
    "        'name': \"Bruce Wayne\",\n",
    "        'company': \"Wayne Enterprises\",\n",
    "        'role': \"Chairman\",\n",
    "        'quote': \"I am the Night\",\n",
    "    },\n",
    "    {\n",
    "        'name': \"Clark Kent\",\n",
    "        'company': \"Daily Planet\",\n",
    "        'role': \"Reporter\",\n",
    "    },\n",
    "    {\n",
    "        'name': \"Steve Rogers\",\n",
    "        'company': \"United States Army\",\n",
    "        'role': \"Captain\",\n",
    "        'quote': \"Avengers! Assemble.\",\n",
    "    },\n",
    "]"
   ]
  },
  {
   "cell_type": "markdown",
   "metadata": {
    "slideshow": {
     "slide_type": "slide"
    }
   },
   "source": [
    "## JSON (JavaScript Object Notation)\n",
    "\n",
    "> JSON (JavaScript Object Notation) is a lightweight data-interchange format. It is easy for humans to read and write. It is easy for machines to parse and generate."
   ]
  },
  {
   "cell_type": "code",
   "execution_count": 4,
   "metadata": {
    "slideshow": {
     "slide_type": "slide"
    }
   },
   "outputs": [
    {
     "name": "stdout",
     "output_type": "stream",
     "text": [
      "\n",
      "{\"company\": \"Wayne Enterprises\", \"name\": \"Bruce Wayne\", \"quote\": \"I am the Night\", \"role\": \"Chairman\"}\n",
      "\n",
      "{\"company\": \"Daily Planet\", \"name\": \"Clark Kent\", \"role\": \"Reporter\"}\n",
      "\n",
      "{\"company\": \"United States Army\", \"name\": \"Steve Rogers\", \"quote\": \"Avengers! Assemble.\", \"role\": \"Captain\"}\n"
     ]
    }
   ],
   "source": [
    "import json\n",
    "\n",
    "for emp in employees:\n",
    "    print(\"\\n\" + json.dumps(emp, sort_keys=True))"
   ]
  },
  {
   "cell_type": "markdown",
   "metadata": {
    "slideshow": {
     "slide_type": "slide"
    }
   },
   "source": [
    "## CSV\n",
    "\n",
    "> A comma-separated values (CSV) file is a delimited text file that uses a comma to separate values. Each line of the file is a data record. Each record consists of one or more fields, separated by commas. The use of the comma as a field separator is the source of the name for this file format. A CSV file typically stores tabular data (numbers and text) in plain text, in which case each line will have the same number of fields."
   ]
  },
  {
   "cell_type": "code",
   "execution_count": 5,
   "metadata": {
    "slideshow": {
     "slide_type": "slide"
    }
   },
   "outputs": [
    {
     "name": "stdout",
     "output_type": "stream",
     "text": [
      "name,company,role,quote\n",
      "Bruce Wayne,Wayne Enterprises,Chairman,I am the Night\n",
      "Clark Kent,Daily Planet,Reporter,\n",
      "Steve Rogers,United States Army,Captain,Avengers! Assemble.\n",
      "\n"
     ]
    }
   ],
   "source": [
    "import csv\n",
    "keys = employees[0].keys()\n",
    "# Write to a CSV File\n",
    "with open('/tmp/employees.csv', 'w') as output_file:\n",
    "    dict_writer = csv.DictWriter(output_file, keys)\n",
    "    dict_writer.writeheader()\n",
    "    dict_writer.writerows(employees)\n",
    "# Read from CSV file\n",
    "with open('/tmp/employees.csv', 'r') as output_file:\n",
    "    print(output_file.read())"
   ]
  },
  {
   "cell_type": "markdown",
   "metadata": {
    "slideshow": {
     "slide_type": "slide"
    }
   },
   "source": [
    "### CSV\n",
    "\n",
    "Pros:\n",
    "+ Compact\n",
    "\n",
    "Cons:\n",
    "- File means nothing without headers\n",
    "- No Types are enforced\n",
    "- Data may have commas, or line breaks in it - making it harder to read\n",
    "\n",
    "### JSON\n",
    "\n",
    "Pros:\n",
    "+ No headers needed, each record is self-sufficient\n",
    "\n",
    "Cons:\n",
    "- Bulky\n",
    "- No Types are enforced"
   ]
  },
  {
   "cell_type": "markdown",
   "metadata": {
    "slideshow": {
     "slide_type": "slide"
    }
   },
   "source": [
    "# Enter: Data Types and Schemas"
   ]
  },
  {
   "cell_type": "code",
   "execution_count": 6,
   "metadata": {
    "slideshow": {
     "slide_type": "fragment"
    }
   },
   "outputs": [],
   "source": [
    "integers = [-1, 7, 1134, -456]\n",
    "decimals = [3.14, 1.618, 10.0]\n",
    "varchars = [\"Hello World\", \"DSR\"]\n",
    "booleans = [True, False]\n",
    "dates = [\"2014-08-14\", \"1995-03-10\"]\n",
    "datetimes = [\"23-08-14 12:34:56\", \"1995-03-10 00:34:11\"]"
   ]
  },
  {
   "cell_type": "markdown",
   "metadata": {
    "slideshow": {
     "slide_type": "slide"
    }
   },
   "source": [
    "## Pros and Cons of using Binary data formats\n",
    "\n",
    "Pros:\n",
    "\n",
    "- More compact than text formats, takes less space on disk\n",
    "- Schema acts as documentation\n",
    "- Enables type checking when reading or writing data\n",
    "\n",
    "Cons: \n",
    "\n",
    "- Not human readable, making them harder to work with\n",
    "- Might need additional libraries"
   ]
  },
  {
   "cell_type": "markdown",
   "metadata": {
    "slideshow": {
     "slide_type": "slide"
    }
   },
   "source": [
    "## Apache Avro\n",
    "\n",
    "> Avro is a row-oriented remote procedure call and data serialization framework developed within Apache's Hadoop project. It uses JSON for defining data types and protocols, and serializes data in a compact binary format."
   ]
  },
  {
   "cell_type": "code",
   "execution_count": 7,
   "metadata": {
    "slideshow": {
     "slide_type": "slide"
    }
   },
   "outputs": [],
   "source": [
    "from fastavro import writer, reader, parse_schema\n",
    "\n",
    "avro_schema = {\n",
    "    'doc': 'A weather reading.',\n",
    "    'name': 'Weather',\n",
    "    'namespace': 'test',\n",
    "    'type': 'record',\n",
    "    'fields': [\n",
    "        {'name': 'station', 'type': 'string'},\n",
    "        {'name': 'time', 'type': 'long'},\n",
    "        {'name': 'temp', 'type': 'int'},\n",
    "    ],\n",
    "}\n",
    "parsed_schema = parse_schema(avro_schema)"
   ]
  },
  {
   "cell_type": "code",
   "execution_count": 8,
   "metadata": {
    "slideshow": {
     "slide_type": "slide"
    }
   },
   "outputs": [
    {
     "name": "stdout",
     "output_type": "stream",
     "text": [
      "{'station': '011990-99999', 'time': 1433269388, 'temp': 0}\n",
      "{'station': '011990-99999', 'time': 1433270389, 'temp': 22}\n",
      "{'station': '011990-99999', 'time': 1433273379, 'temp': -11}\n",
      "{'station': '012650-99999', 'time': 1433275478, 'temp': 111}\n"
     ]
    }
   ],
   "source": [
    "# 'records' can be an iterable (including generator)\n",
    "records = [\n",
    "    {u'station': u'011990-99999', u'temp': 0, u'time': 1433269388},\n",
    "    {u'station': u'011990-99999', u'temp': 22, u'time': 1433270389},\n",
    "    {u'station': u'011990-99999', u'temp': -11, u'time': 1433273379},\n",
    "    {u'station': u'012650-99999', u'temp': 111, u'time': 1433275478},\n",
    "]\n",
    "\n",
    "# Writing\n",
    "with open('/tmp/weather.avro', 'wb') as out:\n",
    "    writer(out, parsed_schema, records)\n",
    "\n",
    "# Reading\n",
    "with open('/tmp/weather.avro', 'rb') as fo:\n",
    "    for record in reader(fo):\n",
    "        print(record)"
   ]
  },
  {
   "cell_type": "markdown",
   "metadata": {
    "slideshow": {
     "slide_type": "slide"
    }
   },
   "source": [
    "### What about type checks? \n",
    "\n",
    "Let's emulate what happens when you try to use an incorrect type "
   ]
  },
  {
   "cell_type": "code",
   "execution_count": 9,
   "metadata": {
    "slideshow": {
     "slide_type": "slide"
    }
   },
   "outputs": [
    {
     "name": "stderr",
     "output_type": "stream",
     "text": [
      "ERROR - an integer is required on field time\n",
      "Traceback (most recent call last):\n",
      "  File \"fastavro/_write.pyx\", line 353, in fastavro._write.write_data\n",
      "  File \"fastavro/_write.pyx\", line 70, in fastavro._write.write_long\n",
      "TypeError: an integer is required\n",
      "\n",
      "During handling of the above exception, another exception occurred:\n",
      "\n",
      "Traceback (most recent call last):\n",
      "  File \"<ipython-input-9-52ead7c5d03e>\", line 12, in <module>\n",
      "    writer(out, parsed_schema, records)\n",
      "  File \"fastavro/_write.pyx\", line 686, in fastavro._write.writer\n",
      "  File \"fastavro/_write.pyx\", line 639, in fastavro._write.Writer.write\n",
      "  File \"fastavro/_write.pyx\", line 389, in fastavro._write.write_data\n",
      "  File \"fastavro/_write.pyx\", line 379, in fastavro._write.write_data\n",
      "  File \"fastavro/_write.pyx\", line 323, in fastavro._write.write_record\n",
      "  File \"fastavro/_write.pyx\", line 388, in fastavro._write.write_data\n",
      "  File \"fastavro/_write.pyx\", line 353, in fastavro._write.write_data\n",
      "  File \"fastavro/_write.pyx\", line 70, in fastavro._write.write_long\n",
      "TypeError: an integer is required on field time\n"
     ]
    }
   ],
   "source": [
    "# 'records' can be an iterable (including generator)\n",
    "records = [\n",
    "    {u'station': u'011990-99999', u'temp': 0, u'time': 1433269388},\n",
    "    {u'station': u'011990-99999', u'temp': 22, u'time': 'waldo'},\n",
    "    {u'station': u'011990-99999', u'temp': -11, u'time': 1433273379},\n",
    "    {u'station': u'012650-99999', u'temp': 111, u'time': 1433275478},\n",
    "]\n",
    "\n",
    "# Writing\n",
    "try:\n",
    "    with open('/tmp/weather.avro', 'wb') as out:\n",
    "        writer(out, parsed_schema, records)\n",
    "except Exception as e:\n",
    "    logger.exception(e)"
   ]
  },
  {
   "cell_type": "markdown",
   "metadata": {
    "slideshow": {
     "slide_type": "slide"
    }
   },
   "source": [
    "## Apache Parquet\n",
    "\n",
    "> Apache Parquet is a free and open-source column-oriented data storage format of the Apache Hadoop ecosystem.\n",
    "\n",
    "> It provides efficient data compression and encoding schemes with enhanced performance to handle complex data in bulk."
   ]
  },
  {
   "cell_type": "markdown",
   "metadata": {
    "slideshow": {
     "slide_type": "slide"
    }
   },
   "source": [
    "What does **column-oriented data storage** mean? \n",
    "\n",
    "![Parquet Columnar Storage](images/parquet_columnar_format.png)"
   ]
  },
  {
   "cell_type": "code",
   "execution_count": 10,
   "metadata": {
    "slideshow": {
     "slide_type": "slide"
    }
   },
   "outputs": [],
   "source": [
    "import pandas as pd\n",
    "\n",
    "MULTIPLIER = 10_000\n",
    "records = [\n",
    "    {u'station': u'011990-99999', u'temp': 0, u'time': 1433269388},\n",
    "    {u'station': u'011990-99999', u'temp': 22, u'time': 1433270389},\n",
    "    {u'station': u'011990-99999', u'temp': -11, u'time': 1433273379},\n",
    "    {u'station': u'012650-99999', u'temp': 111, u'time': 1433275478},\n",
    "] * MULTIPLIER\n",
    "\n",
    "pd_df = pd.DataFrame(records)"
   ]
  },
  {
   "cell_type": "markdown",
   "metadata": {},
   "source": [
    "You need either pyarrow or fastparquet. I prefer pyarrow as fastparquet has some issue with latest (11.0) LLVM version. Also I prefer the idea of Arrow as it's more flexible"
   ]
  },
  {
   "cell_type": "code",
   "execution_count": 19,
   "metadata": {
    "slideshow": {
     "slide_type": "fragment"
    }
   },
   "outputs": [
    {
     "name": "stderr",
     "output_type": "stream",
     "text": [
      "INFO - Wrote a parquet file containing 40000 records at /tmp/outfile.parquet\n"
     ]
    }
   ],
   "source": [
    "# Write to parquet\n",
    "\n",
    "# from fastparquet import write\n",
    "file_path = '/tmp/outfile.parquet'\n",
    "# write(file_path, pd_df)\n",
    "pd_df.to_parquet(file_path)\n",
    "logger.info(f\"Wrote a parquet file containing {len(pd_df.index)} records at {file_path}\")"
   ]
  },
  {
   "cell_type": "markdown",
   "metadata": {
    "slideshow": {
     "slide_type": "slide"
    }
   },
   "source": [
    "# Data Formats - Exercise 1\n",
    "\n",
    "Prove that reading a single column from a parquet file is faster than reading all the columns from the file."
   ]
  },
  {
   "cell_type": "code",
   "execution_count": null,
   "metadata": {
    "slideshow": {
     "slide_type": "skip"
    }
   },
   "outputs": [],
   "source": []
  }
 ],
 "metadata": {
  "celltoolbar": "Slideshow",
  "kernelspec": {
   "display_name": "Python 3",
   "language": "python",
   "name": "python3"
  },
  "language_info": {
   "codemirror_mode": {
    "name": "ipython",
    "version": 3
   },
   "file_extension": ".py",
   "mimetype": "text/x-python",
   "name": "python",
   "nbconvert_exporter": "python",
   "pygments_lexer": "ipython3",
   "version": "3.9.1"
  }
 },
 "nbformat": 4,
 "nbformat_minor": 4
}
