{
 "cells": [
  {
   "cell_type": "markdown",
   "metadata": {},
   "source": [
    "# Exercise Solutions - Create your Own In-Memory Key-Value Store\n",
    "\n",
    "## Exercise 1\n",
    "\n",
    "Let's use a sample file from https://openweathermap.org/bulk.\n",
    "\n",
    "I have put a the file in `data/weather_3000.json`\n",
    "\n",
    "From this data, put in the KV store the data as following:\n",
    "\n",
    "- Key: string value from `city.findname`\n",
    "- Value: the entire `main` object\n"
   ]
  },
  {
   "cell_type": "code",
   "execution_count": 1,
   "metadata": {},
   "outputs": [],
   "source": [
    "# Copied from original notebook\n",
    "\n",
    "class InMemKV():\n",
    "    def __init__(self, wa_log=None):\n",
    "        self.wa_log = wa_log\n",
    "        self.kv = self.build_kv_from_log()\n",
    "    \n",
    "    def build_kv_from_log(self):\n",
    "        # TODO: Implement\n",
    "        return {}\n",
    "    \n",
    "    def put(self, key, value):\n",
    "        # TODO: write to log\n",
    "        self.kv[key] = value\n",
    "    \n",
    "    def get(self, key):\n",
    "        if key in self.kv:\n",
    "            return self.kv[key]\n",
    "        return None"
   ]
  },
  {
   "cell_type": "code",
   "execution_count": 2,
   "metadata": {},
   "outputs": [],
   "source": [
    "in_mem_kv = InMemKV()"
   ]
  },
  {
   "cell_type": "code",
   "execution_count": 3,
   "metadata": {},
   "outputs": [
    {
     "name": "stdout",
     "output_type": "stream",
     "text": [
      "KATHMANDU: {'temp': 291.15, 'pressure': 1017, 'humidity': 45, 'temp_min': 291.15, 'temp_max': 291.15}\n",
      "MERIDA: {'temp': 283.584, 'temp_min': 283.584, 'temp_max': 283.584, 'pressure': 815.99, 'sea_level': 1024.28, 'grnd_level': 815.99, 'humidity': 100}\n",
      "LHASA: {'temp': 274.484, 'temp_min': 274.484, 'temp_max': 274.484, 'pressure': 603.53, 'sea_level': 1014.44, 'grnd_level': 603.53, 'humidity': 20}\n",
      "İSTANBUL: {'temp': 277.63, 'pressure': 1020, 'humidity': 86, 'temp_min': 277.15, 'temp_max': 278.15}\n",
      "MAO: {'temp': 294.84, 'pressure': 1016, 'humidity': 100, 'temp_min': 294.15, 'temp_max': 295.15}\n"
     ]
    }
   ],
   "source": [
    "import json\n",
    "\n",
    "def get_city_and_main(json_str: str) -> dict:\n",
    "    \"\"\"\n",
    "    Function to get the city and the weather information as a tuple\n",
    "    \"\"\"\n",
    "    json_dict = json.loads(json_str)\n",
    "    return json_dict['city']['findname'], json_dict['main']\n",
    "\n",
    "DATAFILE = \"../data/weather_3000.json\"\n",
    "PRINT_LIMIT = 5\n",
    "row_count = 0\n",
    "with open(DATAFILE, 'r') as f:\n",
    "    for json_str in f:\n",
    "        if row_count >= PRINT_LIMIT:\n",
    "            break\n",
    "        city, main = get_city_and_main(json_str)\n",
    "        print(f\"{city}: {main}\")\n",
    "        row_count +=1"
   ]
  },
  {
   "cell_type": "code",
   "execution_count": 4,
   "metadata": {},
   "outputs": [
    {
     "name": "stdout",
     "output_type": "stream",
     "text": [
      "Added 3000 rows to in_mem_kv\n"
     ]
    }
   ],
   "source": [
    "def write_weather_to_kv(in_mem_kv: InMemKV, data_file: str) -> None:\n",
    "    \"\"\"\n",
    "    Function to write weather info to an KV store\n",
    "    \"\"\"\n",
    "    row_count = 0\n",
    "    with open(data_file, 'r') as f:\n",
    "        for json_str in f:\n",
    "            city, main = get_city_and_main(json_str)\n",
    "            in_mem_kv.put(city, main)\n",
    "            row_count+=1\n",
    "\n",
    "    print(f\"Added {row_count} rows to in_mem_kv\")\n",
    "\n",
    "write_weather_to_kv(in_mem_kv, DATAFILE)"
   ]
  },
  {
   "cell_type": "code",
   "execution_count": 5,
   "metadata": {},
   "outputs": [
    {
     "name": "stdout",
     "output_type": "stream",
     "text": [
      "{'temp': 291.15, 'pressure': 1017, 'humidity': 45, 'temp_min': 291.15, 'temp_max': 291.15}\n",
      "{'temp': 294.84, 'pressure': 1016, 'humidity': 100, 'temp_min': 294.15, 'temp_max': 295.15}\n",
      "{'temp': 299.15, 'pressure': 1015, 'humidity': 24, 'temp_min': 299.15, 'temp_max': 299.15}\n"
     ]
    }
   ],
   "source": [
    "print(in_mem_kv.get(\"KATHMANDU\"))\n",
    "print(in_mem_kv.get(\"MAO\"))\n",
    "print(in_mem_kv.get(\"DELHI\"))"
   ]
  },
  {
   "cell_type": "code",
   "execution_count": null,
   "metadata": {},
   "outputs": [],
   "source": []
  }
 ],
 "metadata": {
  "kernelspec": {
   "display_name": "Python 3",
   "language": "python",
   "name": "python3"
  },
  "language_info": {
   "codemirror_mode": {
    "name": "ipython",
    "version": 3
   },
   "file_extension": ".py",
   "mimetype": "text/x-python",
   "name": "python",
   "nbconvert_exporter": "python",
   "pygments_lexer": "ipython3",
   "version": "3.7.0"
  }
 },
 "nbformat": 4,
 "nbformat_minor": 4
}
