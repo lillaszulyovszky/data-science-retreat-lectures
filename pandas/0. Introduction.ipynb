{
 "cells": [
  {
   "cell_type": "markdown",
   "metadata": {},
   "source": [
    "# About Me:\n",
    "## DSR Alum (Batch 12), Data Scientist : [50 Hertz](https://www.50hertz.com) \n",
    "### Previously: Manager - Analytics & Customer Performance & Data Scientist at Tempus Energy\n",
    "Time series problems (price prediction for energy), analysis, visualizations & reporting.\n",
    "\n",
    "### MSc Sustainable Development, BA Economics\n",
    "Previously: Senior Energy Analyst, Veolia North America.\n",
    "#### Contact: \n",
    "rachelkberryman@gmail.com. [LinkedIn](https://www.linkedin.com/in/rachelberryman/)"
   ]
  },
  {
   "cell_type": "markdown",
   "metadata": {},
   "source": [
    "# About You:\n",
    "- Name\n",
    "- Background (work & academic)\n",
    "- Potential project ideas\n",
    "- Plans after DSR"
   ]
  }
 ],
 "metadata": {
  "kernelspec": {
   "display_name": "Python 3",
   "language": "python",
   "name": "python3"
  },
  "language_info": {
   "codemirror_mode": {
    "name": "ipython",
    "version": 3
   },
   "file_extension": ".py",
   "mimetype": "text/x-python",
   "name": "python",
   "nbconvert_exporter": "python",
   "pygments_lexer": "ipython3",
   "version": "3.7.4"
  }
 },
 "nbformat": 4,
 "nbformat_minor": 2
}
