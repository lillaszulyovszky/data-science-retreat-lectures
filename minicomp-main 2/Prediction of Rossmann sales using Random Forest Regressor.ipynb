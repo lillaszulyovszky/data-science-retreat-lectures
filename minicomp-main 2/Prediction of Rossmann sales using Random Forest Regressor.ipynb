{
 "cells": [
  {
   "cell_type": "markdown",
   "id": "50606e04",
   "metadata": {},
   "source": [
    "# Import libraries"
   ]
  },
  {
   "cell_type": "code",
   "execution_count": 1,
   "id": "76273743",
   "metadata": {
    "scrolled": true
   },
   "outputs": [],
   "source": [
    "# general\n",
    "import pandas as pd\n",
    "import numpy as np\n",
    "from pandas_profiling import ProfileReport\n",
    "# sklearn\n",
    "from sklearn.model_selection import train_test_split\n",
    "from sklearn.pipeline import Pipeline\n",
    "from sklearn.ensemble import RandomForestRegressor\n",
    "# encoders\n",
    "from category_encoders.target_encoder import TargetEncoder\n",
    "from category_encoders.ordinal import OrdinalEncoder\n",
    "from category_encoders.one_hot import OneHotEncoder\n",
    "# custom classes\n",
    "from preprocessing import Merger, Imputer, Cleaner\n",
    "# plotting\n",
    "import matplotlib.pyplot as plt\n",
    "%matplotlib inline"
   ]
  },
  {
   "cell_type": "markdown",
   "id": "097dc5ca",
   "metadata": {},
   "source": [
    "# Load data"
   ]
  },
  {
   "cell_type": "code",
   "execution_count": 2,
   "id": "8ffc0062",
   "metadata": {
    "scrolled": true
   },
   "outputs": [
    {
     "name": "stderr",
     "output_type": "stream",
     "text": [
      "/Users/corstiaen/opt/anaconda3/envs/minicompenv/lib/python3.8/site-packages/IPython/core/interactiveshell.py:3444: DtypeWarning: Columns (7) have mixed types.Specify dtype option on import or set low_memory=False.\n",
      "  exec(code_obj, self.user_global_ns, self.user_ns)\n"
     ]
    }
   ],
   "source": [
    "store_data = pd.read_csv(\"./data/store.csv\")\n",
    "sales_data = pd.read_csv(\"./data/train.csv\")\n",
    "holdout_data = pd.read_csv(\"./data/holdout.csv\")"
   ]
  },
  {
   "cell_type": "markdown",
   "id": "2b54bb91",
   "metadata": {},
   "source": [
    "We will use the holdout data as our test set."
   ]
  },
  {
   "cell_type": "markdown",
   "id": "1c1efe20",
   "metadata": {},
   "source": [
    "# Preprocessing of data"
   ]
  },
  {
   "cell_type": "markdown",
   "id": "02712bec",
   "metadata": {},
   "source": [
    "## Merging tables"
   ]
  },
  {
   "cell_type": "markdown",
   "id": "b62433ef",
   "metadata": {},
   "source": [
    "Our store information is separate from our sales information. In our Merger object we perform multiple operations:\n",
    "* Drop sales data where sales is NaN or 0.\n",
    "* Drop the customers column because of its direct relation to sales and its unknown value when predicting the future.\n",
    "* Combine sales and store data into a single table by joining on the store ID.\n",
    "* All stores without and ID, i.e., the NaNs, are given the label 0. This label was not in use as a store ID."
   ]
  },
  {
   "cell_type": "code",
   "execution_count": 3,
   "id": "5672dbd5",
   "metadata": {},
   "outputs": [
    {
     "name": "stderr",
     "output_type": "stream",
     "text": [
      "/Users/corstiaen/opt/anaconda3/envs/minicompenv/lib/python3.8/site-packages/pandas/core/frame.py:4906: SettingWithCopyWarning: \n",
      "A value is trying to be set on a copy of a slice from a DataFrame\n",
      "\n",
      "See the caveats in the documentation: https://pandas.pydata.org/pandas-docs/stable/user_guide/indexing.html#returning-a-view-versus-a-copy\n",
      "  return super().drop(\n"
     ]
    }
   ],
   "source": [
    "mrg = Merger()\n",
    "mrg.merge(sales_data, store_data)\n",
    "merged_data = mrg.merged_data"
   ]
  },
  {
   "cell_type": "code",
   "execution_count": 4,
   "id": "e0a704bf",
   "metadata": {},
   "outputs": [],
   "source": [
    "mrg = Merger()\n",
    "mrg.merge(holdout_data, store_data)\n",
    "merged_holdout_data = mrg.merged_data"
   ]
  },
  {
   "cell_type": "code",
   "execution_count": 5,
   "id": "416039f0",
   "metadata": {
    "scrolled": true
   },
   "outputs": [
    {
     "name": "stdout",
     "output_type": "stream",
     "text": [
      "We have 512956 samples to work with.\n"
     ]
    },
    {
     "data": {
      "text/html": [
       "<div>\n",
       "<style scoped>\n",
       "    .dataframe tbody tr th:only-of-type {\n",
       "        vertical-align: middle;\n",
       "    }\n",
       "\n",
       "    .dataframe tbody tr th {\n",
       "        vertical-align: top;\n",
       "    }\n",
       "\n",
       "    .dataframe thead th {\n",
       "        text-align: right;\n",
       "    }\n",
       "</style>\n",
       "<table border=\"1\" class=\"dataframe\">\n",
       "  <thead>\n",
       "    <tr style=\"text-align: right;\">\n",
       "      <th></th>\n",
       "      <th>Date</th>\n",
       "      <th>Store</th>\n",
       "      <th>DayOfWeek</th>\n",
       "      <th>Sales</th>\n",
       "      <th>Open</th>\n",
       "      <th>Promo</th>\n",
       "      <th>StateHoliday</th>\n",
       "      <th>SchoolHoliday</th>\n",
       "      <th>StoreType</th>\n",
       "      <th>Assortment</th>\n",
       "      <th>CompetitionDistance</th>\n",
       "      <th>CompetitionOpenSinceMonth</th>\n",
       "      <th>CompetitionOpenSinceYear</th>\n",
       "      <th>Promo2</th>\n",
       "      <th>Promo2SinceWeek</th>\n",
       "      <th>Promo2SinceYear</th>\n",
       "      <th>PromoInterval</th>\n",
       "    </tr>\n",
       "  </thead>\n",
       "  <tbody>\n",
       "    <tr>\n",
       "      <th>58030</th>\n",
       "      <td>2013-03-05</td>\n",
       "      <td>587</td>\n",
       "      <td>2.0</td>\n",
       "      <td>7944.0</td>\n",
       "      <td>1.0</td>\n",
       "      <td>1.0</td>\n",
       "      <td>0</td>\n",
       "      <td>0.0</td>\n",
       "      <td>d</td>\n",
       "      <td>c</td>\n",
       "      <td>330.0</td>\n",
       "      <td>9.0</td>\n",
       "      <td>2006.0</td>\n",
       "      <td>1.0</td>\n",
       "      <td>14.0</td>\n",
       "      <td>2011.0</td>\n",
       "      <td>Jan,Apr,Jul,Oct</td>\n",
       "    </tr>\n",
       "    <tr>\n",
       "      <th>21651</th>\n",
       "      <td>2013-01-25</td>\n",
       "      <td>342</td>\n",
       "      <td>5.0</td>\n",
       "      <td>11137.0</td>\n",
       "      <td>1.0</td>\n",
       "      <td>1.0</td>\n",
       "      <td>0</td>\n",
       "      <td>0.0</td>\n",
       "      <td>d</td>\n",
       "      <td>c</td>\n",
       "      <td>15770.0</td>\n",
       "      <td>NaN</td>\n",
       "      <td>NaN</td>\n",
       "      <td>1.0</td>\n",
       "      <td>40.0</td>\n",
       "      <td>2014.0</td>\n",
       "      <td>Jan,Apr,Jul,Oct</td>\n",
       "    </tr>\n",
       "    <tr>\n",
       "      <th>401469</th>\n",
       "      <td>2014-03-22</td>\n",
       "      <td>259</td>\n",
       "      <td>6.0</td>\n",
       "      <td>8350.0</td>\n",
       "      <td>1.0</td>\n",
       "      <td>0.0</td>\n",
       "      <td>0.0</td>\n",
       "      <td>0.0</td>\n",
       "      <td>b</td>\n",
       "      <td>b</td>\n",
       "      <td>210.0</td>\n",
       "      <td>NaN</td>\n",
       "      <td>NaN</td>\n",
       "      <td>0.0</td>\n",
       "      <td>NaN</td>\n",
       "      <td>NaN</td>\n",
       "      <td>NaN</td>\n",
       "    </tr>\n",
       "    <tr>\n",
       "      <th>334768</th>\n",
       "      <td>2014-01-09</td>\n",
       "      <td>999</td>\n",
       "      <td>4.0</td>\n",
       "      <td>11171.0</td>\n",
       "      <td>1.0</td>\n",
       "      <td>1.0</td>\n",
       "      <td>0</td>\n",
       "      <td>0.0</td>\n",
       "      <td>d</td>\n",
       "      <td>c</td>\n",
       "      <td>15140.0</td>\n",
       "      <td>2.0</td>\n",
       "      <td>2002.0</td>\n",
       "      <td>1.0</td>\n",
       "      <td>37.0</td>\n",
       "      <td>2009.0</td>\n",
       "      <td>Jan,Apr,Jul,Oct</td>\n",
       "    </tr>\n",
       "    <tr>\n",
       "      <th>238378</th>\n",
       "      <td>2013-09-23</td>\n",
       "      <td>359</td>\n",
       "      <td>1.0</td>\n",
       "      <td>7726.0</td>\n",
       "      <td>1.0</td>\n",
       "      <td>1.0</td>\n",
       "      <td>0</td>\n",
       "      <td>0.0</td>\n",
       "      <td>d</td>\n",
       "      <td>c</td>\n",
       "      <td>4370.0</td>\n",
       "      <td>NaN</td>\n",
       "      <td>NaN</td>\n",
       "      <td>0.0</td>\n",
       "      <td>NaN</td>\n",
       "      <td>NaN</td>\n",
       "      <td>NaN</td>\n",
       "    </tr>\n",
       "  </tbody>\n",
       "</table>\n",
       "</div>"
      ],
      "text/plain": [
       "              Date  Store  DayOfWeek    Sales  Open  Promo StateHoliday  \\\n",
       "58030   2013-03-05    587        2.0   7944.0   1.0    1.0            0   \n",
       "21651   2013-01-25    342        5.0  11137.0   1.0    1.0            0   \n",
       "401469  2014-03-22    259        6.0   8350.0   1.0    0.0          0.0   \n",
       "334768  2014-01-09    999        4.0  11171.0   1.0    1.0            0   \n",
       "238378  2013-09-23    359        1.0   7726.0   1.0    1.0            0   \n",
       "\n",
       "        SchoolHoliday StoreType Assortment  CompetitionDistance  \\\n",
       "58030             0.0         d          c                330.0   \n",
       "21651             0.0         d          c              15770.0   \n",
       "401469            0.0         b          b                210.0   \n",
       "334768            0.0         d          c              15140.0   \n",
       "238378            0.0         d          c               4370.0   \n",
       "\n",
       "        CompetitionOpenSinceMonth  CompetitionOpenSinceYear  Promo2  \\\n",
       "58030                         9.0                    2006.0     1.0   \n",
       "21651                         NaN                       NaN     1.0   \n",
       "401469                        NaN                       NaN     0.0   \n",
       "334768                        2.0                    2002.0     1.0   \n",
       "238378                        NaN                       NaN     0.0   \n",
       "\n",
       "        Promo2SinceWeek  Promo2SinceYear    PromoInterval  \n",
       "58030              14.0           2011.0  Jan,Apr,Jul,Oct  \n",
       "21651              40.0           2014.0  Jan,Apr,Jul,Oct  \n",
       "401469              NaN              NaN              NaN  \n",
       "334768             37.0           2009.0  Jan,Apr,Jul,Oct  \n",
       "238378              NaN              NaN              NaN  "
      ]
     },
     "execution_count": 5,
     "metadata": {},
     "output_type": "execute_result"
    }
   ],
   "source": [
    "print(f\"We have {len(merged_data)} samples to work with.\")\n",
    "merged_data.sample(5)"
   ]
  },
  {
   "cell_type": "code",
   "execution_count": 6,
   "id": "1aae8949",
   "metadata": {},
   "outputs": [
    {
     "name": "stdout",
     "output_type": "stream",
     "text": [
      "We have 315540 samples in out test set.\n"
     ]
    }
   ],
   "source": [
    "print(f\"We have {len(merged_holdout_data)} samples in out test set.\")"
   ]
  },
  {
   "cell_type": "code",
   "execution_count": 7,
   "id": "c45d804b",
   "metadata": {
    "scrolled": true
   },
   "outputs": [
    {
     "name": "stdout",
     "output_type": "stream",
     "text": [
      "There are 30 duplicated values in our dataset.\n",
      "This is a low number compared to the 512956 samples in our dataset.\n",
      "These duplicates are not necessarily 'true' because the store ID is not known.\n",
      "Therefore these duplicates may actually be two shops having the exact same sales on a single day.\n",
      "Because of this uncertainty we are keeping the duplicates in our dataset.\n"
     ]
    }
   ],
   "source": [
    "duped_mask = merged_data.duplicated()\n",
    "duplicated_data = merged_data.loc[duped_mask, :]\n",
    "\n",
    "print(f\"There are {len(duplicated_data)} duplicated values in our dataset.\")\n",
    "print(f\"This is a low number compared to the {len(merged_data)} samples in our dataset.\")\n",
    "print(\"These duplicates are not necessarily 'true' because the store ID is not known.\")\n",
    "print(\"Therefore these duplicates may actually be two shops having the exact same sales on a single day.\")\n",
    "print(\"Because of this uncertainty we are keeping the duplicates in our dataset.\")"
   ]
  },
  {
   "cell_type": "markdown",
   "id": "2ee344df",
   "metadata": {},
   "source": [
    "## Splitting data"
   ]
  },
  {
   "cell_type": "markdown",
   "id": "1c169e7d",
   "metadata": {},
   "source": [
    "Because we are using the holdout data as our test data, we have no need to split or data further. We are dealing with time-series data and our test data follows our train chronologically."
   ]
  },
  {
   "cell_type": "code",
   "execution_count": 8,
   "id": "55b2e353",
   "metadata": {},
   "outputs": [
    {
     "name": "stdout",
     "output_type": "stream",
     "text": [
      "The last day in our train data is 2014-07-31\n"
     ]
    }
   ],
   "source": [
    "print(f\"The last day in our train data is {merged_data['Date'].max()}\")"
   ]
  },
  {
   "cell_type": "code",
   "execution_count": 9,
   "id": "1d670b58",
   "metadata": {},
   "outputs": [
    {
     "name": "stdout",
     "output_type": "stream",
     "text": [
      "The first day in our test data is 2014-08-01\n"
     ]
    }
   ],
   "source": [
    "print(f\"The first day in our test data is {merged_holdout_data['Date'].min()}\")"
   ]
  },
  {
   "cell_type": "markdown",
   "id": "eda9aa4b",
   "metadata": {},
   "source": [
    "We do need to split our feature and target data."
   ]
  },
  {
   "cell_type": "code",
   "execution_count": 10,
   "id": "0650ad75",
   "metadata": {},
   "outputs": [],
   "source": [
    "X_train = merged_data.loc[:, ~merged_data.columns.isin([\"Sales\"])]\n",
    "y_train = merged_data.loc[:, \"Sales\"]\n",
    "\n",
    "X_test = merged_holdout_data.loc[:, ~merged_holdout_data.columns.isin([\"Sales\"])]\n",
    "y_test = merged_holdout_data.loc[:, \"Sales\"]"
   ]
  },
  {
   "cell_type": "markdown",
   "id": "6c553c4c",
   "metadata": {},
   "source": [
    "Splitting results."
   ]
  },
  {
   "cell_type": "code",
   "execution_count": 11,
   "id": "1fa88da8",
   "metadata": {
    "scrolled": true
   },
   "outputs": [
    {
     "name": "stdout",
     "output_type": "stream",
     "text": [
      "Our train set has 512956 samples\n",
      "Our test set has 315540 samples\n"
     ]
    }
   ],
   "source": [
    "print(f\"Our train set has {len(X_train)} samples\")\n",
    "print(f\"Our test set has {len(X_test)} samples\")"
   ]
  },
  {
   "cell_type": "markdown",
   "id": "cf21e03e",
   "metadata": {},
   "source": [
    "## Data profiling"
   ]
  },
  {
   "cell_type": "markdown",
   "id": "86db13fe",
   "metadata": {},
   "source": [
    "The cell below is commented out for faster running of this notebook. The resulting profile report can be found by following the link below:\n",
    "\n",
    "**[Rossmann profile report](files/rossmann_profile_report.html)**"
   ]
  },
  {
   "cell_type": "code",
   "execution_count": 12,
   "id": "87d8ff25",
   "metadata": {},
   "outputs": [],
   "source": [
    "# profile = ProfileReport(X_train)\n",
    "# profile.to_file(output_file=\"rossmann_profile_report.html\")"
   ]
  },
  {
   "cell_type": "markdown",
   "id": "b1d7c9ca",
   "metadata": {},
   "source": [
    "## Feature engineering"
   ]
  },
  {
   "cell_type": "markdown",
   "id": "3b0cd147",
   "metadata": {},
   "source": [
    "For each feature we applied the following changes:\n",
    "\n",
    "**Date**\n",
    "* Split feature into four features: year, month, day of week. A week-feature would have high correlation with a month-feature and is therefore not desired.\n",
    "* Encode month, week, and day of week with sine+cosine for circularity\n",
    "* Drop the original feature\n",
    "\n",
    "**DayOfWeek**\n",
    "* Drop feature, will be replaced with values derived from Date\n",
    "\n",
    "**Store**\n",
    "* Applying target encoding\n",
    "* Considered frequency encoding, but target encoding seemed good enough.\n",
    "\n",
    "**Open**\n",
    "* Two values available: 1 (True) and NaN. Therefore using zero imputation.\n",
    "* If feature turns out to be unimportant (likely with ~3% NaNs), drop feature after first tests\n",
    "\n",
    "**Promo**\n",
    "* Mode imputing ~3% of NaNs\n",
    "\n",
    "**StateHoliday**\n",
    "* Four categories\n",
    "* Category 0.0 needs to be changed to \"0\"\n",
    "* Mode imputing ~3% of NaNs\n",
    "* Apply ordinal encoding because number of stores open is in goes in descending order: 0>a>b>c. This likely reflects overall store opening in the nation.\n",
    "\n",
    "**SchoolHoliday**\n",
    "* Mode imputing ~3% of NaNs\n",
    "\n",
    "**StoreType**\n",
    "* Mode imputing ~3%\n",
    "* Ordinal encoding because 4 models, a-d, may very well relate to store size, e.g., large shopping mall store vs. small train station store.\n",
    "\n",
    "**Assortment**\n",
    "* Mode imputing ~3%\n",
    "* Apply ordinal encoding because assortment is an ordinate: a = basic, b = extra, c = extended    \n",
    "    \n",
    "**CompetitionDistance**\n",
    "* Applying median imputation to ~3% missing values\n",
    "\n",
    "**CompetitionOpenSinceMonth** and **CompetitionOpenSinceYear**\n",
    "* Merge and create new feature, giving temporal distance in days from sales date, and drop the original features\n",
    "* Set negative days, i.e., days before competition opened, to 0\n",
    "* First imputation: set NaNs to -1\n",
    "\n",
    "**Promo2**\n",
    "* Mode imputing ~3%\n",
    "* All 1s (True) also have other information on Promo2\n",
    "* When there is a NaN there is no information on a possible promotion. Though a promotion is not likely and 0 imputation could be good, we still choose mode imputation due to a lack of information.\n",
    "\n",
    "**Promo2SinceWeek** and **Promo2SinceYear**\n",
    "* Merge and create new feature, giving temporal distance in days from sales date, and drop the original features\n",
    "* Set negative days, i.e., days before Promo2 started, to 0\n",
    "* First imputation: set NaNs to -1\n",
    "\n",
    "**PromoInterval**\n",
    "* Mode imputed\n",
    "* Apply one-hot encoding"
   ]
  },
  {
   "cell_type": "markdown",
   "id": "893b7db4",
   "metadata": {},
   "source": [
    "## Impute missing values"
   ]
  },
  {
   "cell_type": "markdown",
   "id": "37b47d76",
   "metadata": {},
   "source": [
    "Following the considerations and strategies above, we first impute missing values."
   ]
  },
  {
   "cell_type": "code",
   "execution_count": 13,
   "id": "d3fefde3",
   "metadata": {},
   "outputs": [],
   "source": [
    "imp = Imputer()\n",
    "imp.define_imputers()\n",
    "imp.fit(X_train)\n",
    "X_train_transf = imp.transform_reconstruct(X_train)\n",
    "X_test_transf = imp.transform_reconstruct(X_test)"
   ]
  },
  {
   "cell_type": "markdown",
   "id": "3f0c0e23",
   "metadata": {},
   "source": [
    "## Clean data"
   ]
  },
  {
   "cell_type": "markdown",
   "id": "1145478b",
   "metadata": {},
   "source": [
    "With most values imputed, we follow the above considerations and strategies for further cleaning"
   ]
  },
  {
   "cell_type": "code",
   "execution_count": 14,
   "id": "d44c2c4c",
   "metadata": {},
   "outputs": [],
   "source": [
    "clnr = Cleaner()\n",
    "clnr.clean(X_train_transf)\n",
    "X_train_clean = clnr.data\n",
    "X_train_clean_dates = clnr.dates\n",
    "\n",
    "clnr = Cleaner()\n",
    "clnr.clean(X_test_transf)\n",
    "X_test_clean = clnr.data\n",
    "X_test_clean_dates = clnr.dates"
   ]
  },
  {
   "cell_type": "markdown",
   "id": "86b88a0a",
   "metadata": {},
   "source": [
    "## Cleaned data"
   ]
  },
  {
   "cell_type": "markdown",
   "id": "cfc76104",
   "metadata": {},
   "source": [
    "After the above steps, our data looks as follows."
   ]
  },
  {
   "cell_type": "code",
   "execution_count": 15,
   "id": "c3092719",
   "metadata": {
    "scrolled": true
   },
   "outputs": [
    {
     "data": {
      "text/html": [
       "<div>\n",
       "<style scoped>\n",
       "    .dataframe tbody tr th:only-of-type {\n",
       "        vertical-align: middle;\n",
       "    }\n",
       "\n",
       "    .dataframe tbody tr th {\n",
       "        vertical-align: top;\n",
       "    }\n",
       "\n",
       "    .dataframe thead th {\n",
       "        text-align: right;\n",
       "    }\n",
       "</style>\n",
       "<table border=\"1\" class=\"dataframe\">\n",
       "  <thead>\n",
       "    <tr style=\"text-align: right;\">\n",
       "      <th></th>\n",
       "      <th>Store</th>\n",
       "      <th>Open</th>\n",
       "      <th>Promo</th>\n",
       "      <th>StateHoliday</th>\n",
       "      <th>SchoolHoliday</th>\n",
       "      <th>StoreType</th>\n",
       "      <th>Assortment</th>\n",
       "      <th>CompetitionDistance</th>\n",
       "      <th>Promo2</th>\n",
       "      <th>PromoInterval</th>\n",
       "      <th>Year</th>\n",
       "      <th>Month_sin</th>\n",
       "      <th>Month_cos</th>\n",
       "      <th>Weekday_sin</th>\n",
       "      <th>Weekday_cos</th>\n",
       "      <th>SalesCompetitionLag</th>\n",
       "      <th>Promo2Lag</th>\n",
       "    </tr>\n",
       "  </thead>\n",
       "  <tbody>\n",
       "    <tr>\n",
       "      <th>38987</th>\n",
       "      <td>0</td>\n",
       "      <td>1.0</td>\n",
       "      <td>0.0</td>\n",
       "      <td>0</td>\n",
       "      <td>0.0</td>\n",
       "      <td>a</td>\n",
       "      <td>a</td>\n",
       "      <td>2320.0</td>\n",
       "      <td>1.0</td>\n",
       "      <td>Jan,Apr,Jul,Oct</td>\n",
       "      <td>2013</td>\n",
       "      <td>8.660254e-01</td>\n",
       "      <td>0.500000</td>\n",
       "      <td>0.034422</td>\n",
       "      <td>0.999407</td>\n",
       "      <td>-1.0</td>\n",
       "      <td>-1.0</td>\n",
       "    </tr>\n",
       "    <tr>\n",
       "      <th>190898</th>\n",
       "      <td>332</td>\n",
       "      <td>1.0</td>\n",
       "      <td>1.0</td>\n",
       "      <td>0</td>\n",
       "      <td>1.0</td>\n",
       "      <td>a</td>\n",
       "      <td>a</td>\n",
       "      <td>1840.0</td>\n",
       "      <td>0.0</td>\n",
       "      <td>Jan,Apr,Jul,Oct</td>\n",
       "      <td>2013</td>\n",
       "      <td>-8.660254e-01</td>\n",
       "      <td>-0.500000</td>\n",
       "      <td>0.068802</td>\n",
       "      <td>0.997630</td>\n",
       "      <td>2711.0</td>\n",
       "      <td>-1.0</td>\n",
       "    </tr>\n",
       "    <tr>\n",
       "      <th>417988</th>\n",
       "      <td>1076</td>\n",
       "      <td>1.0</td>\n",
       "      <td>0.0</td>\n",
       "      <td>0</td>\n",
       "      <td>0.0</td>\n",
       "      <td>a</td>\n",
       "      <td>c</td>\n",
       "      <td>90.0</td>\n",
       "      <td>1.0</td>\n",
       "      <td>Jan,Apr,Jul,Oct</td>\n",
       "      <td>2014</td>\n",
       "      <td>8.660254e-01</td>\n",
       "      <td>-0.500000</td>\n",
       "      <td>0.034422</td>\n",
       "      <td>0.999407</td>\n",
       "      <td>-1.0</td>\n",
       "      <td>458.0</td>\n",
       "    </tr>\n",
       "    <tr>\n",
       "      <th>483906</th>\n",
       "      <td>690</td>\n",
       "      <td>1.0</td>\n",
       "      <td>0.0</td>\n",
       "      <td>0</td>\n",
       "      <td>0.0</td>\n",
       "      <td>a</td>\n",
       "      <td>a</td>\n",
       "      <td>100.0</td>\n",
       "      <td>0.0</td>\n",
       "      <td>Jan,Apr,Jul,Oct</td>\n",
       "      <td>2014</td>\n",
       "      <td>1.224647e-16</td>\n",
       "      <td>-1.000000</td>\n",
       "      <td>0.034422</td>\n",
       "      <td>0.999407</td>\n",
       "      <td>-1.0</td>\n",
       "      <td>-1.0</td>\n",
       "    </tr>\n",
       "    <tr>\n",
       "      <th>23679</th>\n",
       "      <td>755</td>\n",
       "      <td>1.0</td>\n",
       "      <td>0.0</td>\n",
       "      <td>0</td>\n",
       "      <td>0.0</td>\n",
       "      <td>d</td>\n",
       "      <td>c</td>\n",
       "      <td>13130.0</td>\n",
       "      <td>0.0</td>\n",
       "      <td>Jan,Apr,Jul,Oct</td>\n",
       "      <td>2013</td>\n",
       "      <td>5.000000e-01</td>\n",
       "      <td>0.866025</td>\n",
       "      <td>0.085965</td>\n",
       "      <td>0.996298</td>\n",
       "      <td>3344.0</td>\n",
       "      <td>-1.0</td>\n",
       "    </tr>\n",
       "    <tr>\n",
       "      <th>96832</th>\n",
       "      <td>1016</td>\n",
       "      <td>1.0</td>\n",
       "      <td>0.0</td>\n",
       "      <td>0</td>\n",
       "      <td>0.0</td>\n",
       "      <td>c</td>\n",
       "      <td>c</td>\n",
       "      <td>550.0</td>\n",
       "      <td>1.0</td>\n",
       "      <td>Mar,Jun,Sept,Dec</td>\n",
       "      <td>2013</td>\n",
       "      <td>8.660254e-01</td>\n",
       "      <td>-0.500000</td>\n",
       "      <td>0.051620</td>\n",
       "      <td>0.998667</td>\n",
       "      <td>-1.0</td>\n",
       "      <td>963.0</td>\n",
       "    </tr>\n",
       "    <tr>\n",
       "      <th>125967</th>\n",
       "      <td>944</td>\n",
       "      <td>1.0</td>\n",
       "      <td>0.0</td>\n",
       "      <td>0</td>\n",
       "      <td>0.0</td>\n",
       "      <td>c</td>\n",
       "      <td>a</td>\n",
       "      <td>1670.0</td>\n",
       "      <td>0.0</td>\n",
       "      <td>Jan,Apr,Jul,Oct</td>\n",
       "      <td>2013</td>\n",
       "      <td>5.000000e-01</td>\n",
       "      <td>-0.866025</td>\n",
       "      <td>0.051620</td>\n",
       "      <td>0.998667</td>\n",
       "      <td>0.0</td>\n",
       "      <td>-1.0</td>\n",
       "    </tr>\n",
       "  </tbody>\n",
       "</table>\n",
       "</div>"
      ],
      "text/plain": [
       "        Store  Open  Promo StateHoliday  SchoolHoliday StoreType Assortment  \\\n",
       "38987       0   1.0    0.0            0            0.0         a          a   \n",
       "190898    332   1.0    1.0            0            1.0         a          a   \n",
       "417988   1076   1.0    0.0            0            0.0         a          c   \n",
       "483906    690   1.0    0.0            0            0.0         a          a   \n",
       "23679     755   1.0    0.0            0            0.0         d          c   \n",
       "96832    1016   1.0    0.0            0            0.0         c          c   \n",
       "125967    944   1.0    0.0            0            0.0         c          a   \n",
       "\n",
       "        CompetitionDistance  Promo2     PromoInterval  Year     Month_sin  \\\n",
       "38987                2320.0     1.0   Jan,Apr,Jul,Oct  2013  8.660254e-01   \n",
       "190898               1840.0     0.0   Jan,Apr,Jul,Oct  2013 -8.660254e-01   \n",
       "417988                 90.0     1.0   Jan,Apr,Jul,Oct  2014  8.660254e-01   \n",
       "483906                100.0     0.0   Jan,Apr,Jul,Oct  2014  1.224647e-16   \n",
       "23679               13130.0     0.0   Jan,Apr,Jul,Oct  2013  5.000000e-01   \n",
       "96832                 550.0     1.0  Mar,Jun,Sept,Dec  2013  8.660254e-01   \n",
       "125967               1670.0     0.0   Jan,Apr,Jul,Oct  2013  5.000000e-01   \n",
       "\n",
       "        Month_cos  Weekday_sin  Weekday_cos  SalesCompetitionLag  Promo2Lag  \n",
       "38987    0.500000     0.034422     0.999407                 -1.0       -1.0  \n",
       "190898  -0.500000     0.068802     0.997630               2711.0       -1.0  \n",
       "417988  -0.500000     0.034422     0.999407                 -1.0      458.0  \n",
       "483906  -1.000000     0.034422     0.999407                 -1.0       -1.0  \n",
       "23679    0.866025     0.085965     0.996298               3344.0       -1.0  \n",
       "96832   -0.500000     0.051620     0.998667                 -1.0      963.0  \n",
       "125967  -0.866025     0.051620     0.998667                  0.0       -1.0  "
      ]
     },
     "execution_count": 15,
     "metadata": {},
     "output_type": "execute_result"
    }
   ],
   "source": [
    "X_train_clean.sample(7)"
   ]
  },
  {
   "cell_type": "markdown",
   "id": "f47f2306",
   "metadata": {},
   "source": [
    "## Correlation of features before modeling"
   ]
  },
  {
   "cell_type": "code",
   "execution_count": 16,
   "id": "af667a88",
   "metadata": {},
   "outputs": [
    {
     "data": {
      "image/png": "[encoded data removed]",
      "text/plain": [
       "<Figure size 1368x1080 with 2 Axes>"
      ]
     },
     "metadata": {
      "needs_background": "light"
     },
     "output_type": "display_data"
    }
   ],
   "source": [
    "f = plt.figure(figsize=(19, 15))\n",
    "\n",
    "plt.matshow(X_train_clean.corr(), fignum=f.number)\n",
    "\n",
    "plt.xticks(\n",
    "    range(X_train_clean.select_dtypes(['number']).shape[1]),\n",
    "    X_train_clean.select_dtypes(['number']).columns,\n",
    "    fontsize=14,\n",
    "    rotation=45)\n",
    "plt.yticks(\n",
    "    range(X_train_clean.select_dtypes(['number']).shape[1]),\n",
    "    X_train_clean.select_dtypes(['number']).columns,\n",
    "    fontsize=14)\n",
    "\n",
    "cb = plt.colorbar()\n",
    "cb.ax.tick_params(labelsize=14)\n",
    "\n",
    "plt.title('Correlation Matrix', fontsize=16);"
   ]
  },
  {
   "cell_type": "markdown",
   "id": "7cf3fe6d",
   "metadata": {},
   "source": [
    "# Modeling"
   ]
  },
  {
   "cell_type": "markdown",
   "id": "3a0abea2",
   "metadata": {},
   "source": [
    "## Performance metric"
   ]
  },
  {
   "cell_type": "markdown",
   "id": "62fa08d0",
   "metadata": {},
   "source": [
    "The function below calculates our model performance."
   ]
  },
  {
   "cell_type": "code",
   "execution_count": 41,
   "id": "0dbfa3f7",
   "metadata": {},
   "outputs": [],
   "source": [
    "def metric(preds, actuals):\n",
    "    preds = preds.reshape(-1)\n",
    "    actuals = actuals.values.reshape(-1)\n",
    "    assert preds.shape == actuals.shape\n",
    "    return 100 * np.linalg.norm((actuals - preds) / actuals) / np.sqrt(preds.shape[0])"
   ]
  },
  {
   "cell_type": "markdown",
   "id": "f77376e0",
   "metadata": {},
   "source": [
    "## Baseline performance\n",
    "Baseline performance is based on the average sales per store."
   ]
  },
  {
   "cell_type": "code",
   "execution_count": 43,
   "id": "ea7c5fec",
   "metadata": {},
   "outputs": [
    {
     "name": "stdout",
     "output_type": "stream",
     "text": [
      "Our baseline RMSPE is 43.83318407645237.\n"
     ]
    }
   ],
   "source": [
    "mean_df = merged_holdout_data.groupby('Store')['Sales'].mean()\n",
    "avg_sales = mean_df.reset_index()\n",
    "avg_sales_by_store = X_test_clean.merge(avg_sales, how='left', on='Store')\n",
    "base_score = metric(avg_sales_by_store[['Sales']].values, y_test)\n",
    "print(f\"Our baseline RMSPE is {base_score}.\")"
   ]
  },
  {
   "cell_type": "markdown",
   "id": "60e771ff",
   "metadata": {},
   "source": [
    "## Begin pipeline"
   ]
  },
  {
   "cell_type": "markdown",
   "id": "a49982f4",
   "metadata": {},
   "source": [
    "We start with building a base-pipeline on which we can build our models. This base pipeline takes care of data encoding."
   ]
  },
  {
   "cell_type": "code",
   "execution_count": 19,
   "id": "adb50e85",
   "metadata": {},
   "outputs": [],
   "source": [
    "def create_pipeline():\n",
    "    pipe = Pipeline([\n",
    "        (\"target_encoder\", TargetEncoder(cols=\"Store\")),\n",
    "        (\"ordinal_encoder\", OrdinalEncoder(cols=[\"StateHoliday\", \"StoreType\", \"Assortment\"])),\n",
    "        (\"one_hot_encoder\", OneHotEncoder(cols=[\"PromoInterval\"])),\n",
    "    ], verbose=True)\n",
    "    return pipe"
   ]
  },
  {
   "cell_type": "markdown",
   "id": "2b0dbec5",
   "metadata": {},
   "source": [
    "## Random forest"
   ]
  },
  {
   "cell_type": "markdown",
   "id": "b0691e25",
   "metadata": {},
   "source": [
    "In a large parameter space of n_estimators, max_depth, and min_samples_split we found the following train and test scores for a subset of our training data."
   ]
  },
  {
   "attachments": {
    "params-2.png": {
     "image/png": "[encoded data removed]"
    }
   },
   "cell_type": "markdown",
   "id": "3bea66f0",
   "metadata": {},
   "source": [
    "![params-2.png](attachment:params-2.png)"
   ]
  },
  {
   "cell_type": "markdown",
   "id": "c38541ff",
   "metadata": {},
   "source": [
    "On the full dataset, we find the following hyperparameter space."
   ]
  },
  {
   "attachments": {
    "params_50.png": {
     "image/png": "[encoded data removed]"
    }
   },
   "cell_type": "markdown",
   "id": "e654fe4f",
   "metadata": {},
   "source": [
    "![params_50.png](attachment:params_50.png)"
   ]
  },
  {
   "cell_type": "markdown",
   "id": "67c99379",
   "metadata": {},
   "source": [
    "To speed up running of this notebook we removed the full parameter space exploration. We focus on the following hyperparameters:\n",
    "\n",
    "    n_estimators = [256, 512]\n",
    "    max_depth = [16, 32]\n",
    "    min_samples_split = [50, 100, 200]\n",
    "    \n",
    "We recommen not running the cell below, and skip to the section \"Best model.\""
   ]
  },
  {
   "cell_type": "code",
   "execution_count": null,
   "id": "a1454ace",
   "metadata": {
    "scrolled": true
   },
   "outputs": [],
   "source": [
    "n_estimators = [256, 512]\n",
    "max_depth = [16, 32]\n",
    "min_samples_split = [32, 50, 100]\n",
    "\n",
    "params = pd.DataFrame()\n",
    "best_test_score = np.inf\n",
    "for ne in n_estimators:\n",
    "    for md in max_depth:\n",
    "        for mss in min_samples_split:\n",
    "            rfr = RandomForestRegressor(\n",
    "                n_estimators=ne,\n",
    "                max_depth=md,\n",
    "                min_samples_split=mss,\n",
    "                n_jobs=-1,\n",
    "                verbose=1,\n",
    "            )\n",
    "\n",
    "            pipe = create_pipeline()\n",
    "\n",
    "            pipe.steps.append(['rfr', rfr])\n",
    "            pipe.fit(X_train_clean, y_train)\n",
    "\n",
    "            y_pred_train = pipe.predict(X_train_clean)\n",
    "            y_pred_test = pipe.predict(X_test_clean)\n",
    "            train_score = metric(y_pred_train, y_train)\n",
    "            test_score = metric(y_pred_test, y_test)\n",
    "\n",
    "            params = params.append(pd.Series({\n",
    "                \"n_estimators\": ne,\n",
    "                \"max_depth\": md,\n",
    "                \"min_samples_split\": mss,\n",
    "                \"train_score\": train_score,\n",
    "                \"test_score\": test_score,\n",
    "            }), ignore_index=True)\n",
    "            \n",
    "            if test_score < best_test_score:\n",
    "                best_model = pipe\n"
   ]
  },
  {
   "cell_type": "markdown",
   "id": "558b89e0",
   "metadata": {},
   "source": [
    "Train and test scores:"
   ]
  },
  {
   "cell_type": "code",
   "execution_count": null,
   "id": "16669b9a",
   "metadata": {
    "scrolled": true
   },
   "outputs": [],
   "source": [
    "params"
   ]
  },
  {
   "cell_type": "markdown",
   "id": "db5e2c47",
   "metadata": {},
   "source": [
    "## Best model"
   ]
  },
  {
   "cell_type": "markdown",
   "id": "87f7c553",
   "metadata": {},
   "source": [
    "Given these parameters, the best random forest regressor has model parameters:"
   ]
  },
  {
   "cell_type": "code",
   "execution_count": 22,
   "id": "d1b79a7b",
   "metadata": {},
   "outputs": [],
   "source": [
    "n_estimators = 256\n",
    "max_depth = 32\n",
    "min_samples_split = 50"
   ]
  },
  {
   "cell_type": "markdown",
   "id": "8fc4c0f4",
   "metadata": {},
   "source": [
    "We now train the best model using both the train and test data."
   ]
  },
  {
   "cell_type": "code",
   "execution_count": 25,
   "id": "ff02c9c7",
   "metadata": {},
   "outputs": [],
   "source": [
    "X_all_clean = pd.concat([X_train_clean, X_test_clean], axis=0)\n",
    "y_all = pd.concat([y_train, y_test], axis=0)"
   ]
  },
  {
   "cell_type": "code",
   "execution_count": 29,
   "id": "a2319b2c",
   "metadata": {},
   "outputs": [
    {
     "name": "stdout",
     "output_type": "stream",
     "text": [
      "[Pipeline] .... (step 1 of 4) Processing target_encoder, total=   1.1s\n",
      "[Pipeline] ... (step 2 of 4) Processing ordinal_encoder, total=   0.5s\n",
      "[Pipeline] ... (step 3 of 4) Processing one_hot_encoder, total=   1.0s\n"
     ]
    },
    {
     "name": "stderr",
     "output_type": "stream",
     "text": [
      "[Parallel(n_jobs=-1)]: Using backend ThreadingBackend with 8 concurrent workers.\n",
      "[Parallel(n_jobs=-1)]: Done  34 tasks      | elapsed:  1.0min\n",
      "[Parallel(n_jobs=-1)]: Done 184 tasks      | elapsed:  4.1min\n"
     ]
    },
    {
     "name": "stdout",
     "output_type": "stream",
     "text": [
      "[Pipeline] ............... (step 4 of 4) Processing rfr, total= 5.7min\n"
     ]
    },
    {
     "name": "stderr",
     "output_type": "stream",
     "text": [
      "[Parallel(n_jobs=-1)]: Done 256 out of 256 | elapsed:  5.7min finished\n"
     ]
    },
    {
     "data": {
      "text/plain": [
       "Pipeline(steps=[('target_encoder', TargetEncoder(cols=['Store'])),\n",
       "                ('ordinal_encoder',\n",
       "                 OrdinalEncoder(cols=['StateHoliday', 'StoreType',\n",
       "                                      'Assortment'],\n",
       "                                mapping=[{'col': 'StateHoliday',\n",
       "                                          'data_type': CategoricalDtype(categories=['0', 'a', 'b', 'c'], ordered=False),\n",
       "                                          'mapping': a      1\n",
       "0      2\n",
       "b      3\n",
       "c      4\n",
       "NaN   -2\n",
       "dtype: int64},\n",
       "                                         {'col': 'StoreType',\n",
       "                                          'data_type': CategoricalDtype(categories=['a',...rdered=False),\n",
       "                                          'mapping': b      1\n",
       "a      2\n",
       "d      3\n",
       "c      4\n",
       "NaN   -2\n",
       "dtype: int64},\n",
       "                                         {'col': 'Assortment',\n",
       "                                          'data_type': CategoricalDtype(categories=['a', 'b', 'c'], ordered=False),\n",
       "                                          'mapping': b      1\n",
       "a      2\n",
       "c      3\n",
       "NaN   -2\n",
       "dtype: int64}])),\n",
       "                ('one_hot_encoder', OneHotEncoder(cols=['PromoInterval'])),\n",
       "                ['rfr',\n",
       "                 RandomForestRegressor(max_depth=32, min_samples_split=50,\n",
       "                                       n_estimators=256, n_jobs=-1,\n",
       "                                       verbose=1)]],\n",
       "         verbose=True)"
      ]
     },
     "execution_count": 29,
     "metadata": {},
     "output_type": "execute_result"
    }
   ],
   "source": [
    "rfr = RandomForestRegressor(\n",
    "    n_estimators=n_estimators,\n",
    "    max_depth=max_depth,\n",
    "    min_samples_split=min_samples_split,\n",
    "    n_jobs=-1,\n",
    "    verbose=1,\n",
    ")\n",
    "\n",
    "best_model = create_pipeline()\n",
    "\n",
    "best_model.steps.append(['rfr', rfr])\n",
    "best_model.fit(X_all_clean, y_all)"
   ]
  },
  {
   "cell_type": "markdown",
   "id": "59637ed5",
   "metadata": {},
   "source": [
    "For this model, we can see the feature importances as follows."
   ]
  },
  {
   "cell_type": "code",
   "execution_count": 30,
   "id": "6c7a064e",
   "metadata": {},
   "outputs": [
    {
     "name": "stdout",
     "output_type": "stream",
     "text": [
      "               features    values\n",
      "0                 Store  0.676193\n",
      "2                 Promo  0.154687\n",
      "14            Month_cos  0.031952\n",
      "15          Weekday_sin  0.030134\n",
      "16          Weekday_cos  0.029336\n",
      "7   CompetitionDistance  0.018160\n",
      "17  SalesCompetitionLag  0.015086\n",
      "18            Promo2Lag  0.008770\n",
      "5             StoreType  0.008077\n",
      "4         SchoolHoliday  0.006582\n",
      "13            Month_sin  0.006397\n",
      "12                 Year  0.006036\n",
      "6            Assortment  0.003388\n",
      "3          StateHoliday  0.001434\n",
      "8                Promo2  0.000942\n",
      "10      PromoInterval_2  0.000887\n",
      "11      PromoInterval_3  0.000768\n",
      "9       PromoInterval_1  0.000763\n",
      "1                  Open  0.000409\n"
     ]
    },
    {
     "data": {
      "image/png": "[encoded data removed]",
      "text/plain": [
       "<Figure size 432x288 with 1 Axes>"
      ]
     },
     "metadata": {
      "needs_background": "light"
     },
     "output_type": "display_data"
    }
   ],
   "source": [
    "importances = pd.DataFrame({\n",
    "    \"features\": best_model.steps[3][1].feature_names_in_,\n",
    "    \"values\": best_model.steps[3][1].feature_importances_,\n",
    "})\n",
    "\n",
    "print(importances.sort_values(by=\"values\", ascending=False))\n",
    "\n",
    "importances.set_index(\"features\").sort_values(by=\"values\", ascending=False).plot.barh()\n",
    "plt.show()"
   ]
  },
  {
   "cell_type": "markdown",
   "id": "c7fa976d",
   "metadata": {},
   "source": [
    "# Evaluation"
   ]
  },
  {
   "cell_type": "code",
   "execution_count": 34,
   "id": "0bd2cb47",
   "metadata": {},
   "outputs": [],
   "source": [
    "eval_filename = \"\""
   ]
  },
  {
   "cell_type": "code",
   "execution_count": null,
   "id": "11692cc1",
   "metadata": {
    "scrolled": true
   },
   "outputs": [],
   "source": [
    "# Load\n",
    "unseen_data = pd.read_csv(eval_filename)\n",
    "    \n",
    "# Merge\n",
    "mrg = Merger()\n",
    "mrg.merge(unseen_data, store_data)\n",
    "merged_unseen_data = mrg.merged_data\n",
    "\n",
    "# Split\n",
    "X_eval = merged_unseen_data.loc[:, ~merged_unseen_data.columns.isin([\"Sales\"])]\n",
    "y_eval = merged_unseen_data.loc[:, \"Sales\"]\n",
    "\n",
    "# Impute\n",
    "imp.define_imputers()\n",
    "imp.fit(X_train)\n",
    "X_eval_transf = imp.transform_reconstruct(X_eval)\n",
    "\n",
    "# Clean\n",
    "clnr = Cleaner()\n",
    "clnr.clean(X_eval_transf)\n",
    "X_eval_clean = clnr.data\n",
    "X_eval_clean_dates = clnr.dates\n",
    "\n",
    "# Scoring\n",
    "y_pred_eval = best_model.predict(X_eval_clean)\n",
    "eval_score = metric(y_pred_eval, y_eval)"
   ]
  },
  {
   "cell_type": "code",
   "execution_count": null,
   "id": "c0de1453",
   "metadata": {},
   "outputs": [],
   "source": [
    "print(f\"Our model scores an RMSPE of {eval_score}.\")"
   ]
  },
  {
   "cell_type": "code",
   "execution_count": null,
   "id": "816d6b37",
   "metadata": {},
   "outputs": [],
   "source": []
  },
  {
   "cell_type": "code",
   "execution_count": null,
   "id": "e5d38cc9",
   "metadata": {},
   "outputs": [],
   "source": []
  },
  {
   "cell_type": "code",
   "execution_count": null,
   "id": "0ded6f60",
   "metadata": {},
   "outputs": [],
   "source": []
  },
  {
   "cell_type": "code",
   "execution_count": null,
   "id": "0f8d7a4f",
   "metadata": {},
   "outputs": [],
   "source": []
  },
  {
   "cell_type": "code",
   "execution_count": null,
   "id": "97a4f862",
   "metadata": {},
   "outputs": [],
   "source": []
  }
 ],
 "metadata": {
  "kernelspec": {
   "display_name": "Python 3 (ipykernel)",
   "language": "python",
   "name": "python3"
  },
  "language_info": {
   "codemirror_mode": {
    "name": "ipython",
    "version": 3
   },
   "file_extension": ".py",
   "mimetype": "text/x-python",
   "name": "python",
   "nbconvert_exporter": "python",
   "pygments_lexer": "ipython3",
   "version": "3.8.12"
  }
 },
 "nbformat": 4,
 "nbformat_minor": 5
}
