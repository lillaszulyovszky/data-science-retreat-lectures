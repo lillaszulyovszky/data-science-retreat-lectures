{
 "cells": [
  {
   "cell_type": "markdown",
   "metadata": {},
   "source": [
    "# Solving an equation numerically"
   ]
  },
  {
   "cell_type": "markdown",
   "metadata": {},
   "source": [
    "Lets say we want to solve the following equation\n",
    "\n",
    "$x^2 - \\sin(x) - 0.35 x ^3$  = 0\n",
    "\n",
    "* First plot it and inspect the roots visually\n",
    "\n",
    "Now let's try to find the root of the above equation using *fixed point iteration* method.\n",
    "\n",
    "* Recast the equation in the form of $x = f(x)$\n",
    "* To start the iteration, guess a value of $x$ (we call it $x_0$ as it is the zero-th iteration)\n",
    "* Calculate the estimate of $x$ for the next iteration by the value of $f$ at the current $x$. In other words: $x_{n+1} = f(x_n)~$.\n",
    "\n",
    "Iterate the above recursive formula as long as you like(!) and print values of $x_n$s.\n",
    "\n",
    "* Are the values of $x_n$ converging to the roots of the original equation?\n",
    "* When is it a good point to stop the iterations?"
   ]
  }
 ],
 "metadata": {
  "kernelspec": {
   "display_name": "Python 3",
   "language": "python",
   "name": "python3"
  },
  "language_info": {
   "codemirror_mode": {
    "name": "ipython",
    "version": 3
   },
   "file_extension": ".py",
   "mimetype": "text/x-python",
   "name": "python",
   "nbconvert_exporter": "python",
   "pygments_lexer": "ipython3",
   "version": "3.6.10"
  }
 },
 "nbformat": 4,
 "nbformat_minor": 4
}
