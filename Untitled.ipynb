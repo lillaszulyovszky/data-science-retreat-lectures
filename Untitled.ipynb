{
 "cells": [
  {
   "cell_type": "code",
   "execution_count": 1,
   "id": "36002b82",
   "metadata": {},
   "outputs": [],
   "source": [
    "import pandas as pd\n",
    "df = pd.read_csv('Zoom_Recordings.csv')"
   ]
  },
  {
   "cell_type": "code",
   "execution_count": 3,
   "id": "7f684375",
   "metadata": {},
   "outputs": [],
   "source": [
    "links = df['Links']"
   ]
  },
  {
   "cell_type": "code",
   "execution_count": 5,
   "id": "73475bbe",
   "metadata": {},
   "outputs": [
    {
     "name": "stderr",
     "output_type": "stream",
     "text": [
      "/var/folders/4v/cg5vs6j958l03gj1_w2prrhc0000gn/T/ipykernel_76162/534303131.py:1: FutureWarning: The signature of `Series.to_csv` was aligned to that of `DataFrame.to_csv`, and argument 'header' will change its default value from False to True: please pass an explicit value to suppress this warning.\n",
      "  links.to_csv('Zoom_links.csv')\n"
     ]
    }
   ],
   "source": [
    "links.to_csv('Zoom_links.csv')"
   ]
  },
  {
   "cell_type": "code",
   "execution_count": 33,
   "id": "e0f70617",
   "metadata": {},
   "outputs": [
    {
     "ename": "SyntaxError",
     "evalue": "unexpected EOF while parsing (3504540903.py, line 52)",
     "output_type": "error",
     "traceback": [
      "\u001b[0;36m  File \u001b[0;32m\"/var/folders/4v/cg5vs6j958l03gj1_w2prrhc0000gn/T/ipykernel_76162/3504540903.py\"\u001b[0;36m, line \u001b[0;32m52\u001b[0m\n\u001b[0;31m    print(\"[\"+str(row_index)+\"] Image saved: \" + image_filename)\u001b[0m\n\u001b[0m                                                                ^\u001b[0m\n\u001b[0;31mSyntaxError\u001b[0m\u001b[0;31m:\u001b[0m unexpected EOF while parsing\n"
     ]
    }
   ],
   "source": [
    "import csv, sys\n",
    "import requests\n",
    "import urllib.request\n",
    "import os\n",
    "\n",
    "import os\n",
    "import sys\n",
    "import urllib\n",
    "import csv\n",
    "\n",
    "# try:\n",
    "#     filename = sys.argv[1]\n",
    "#     url_name = sys.argv[2]\n",
    "# except:\n",
    "#     print(\"\\nERROR: Please specify filename and url column name to download\\n\")\n",
    "#     print(\"Usage:\")\n",
    "#     print(\" $ picodash_export_url_download.py data.csv image_url\\n\")\n",
    "#     print(\"- First param should be the csv file path\")\n",
    "#     print(\"- Second param should be the column name that has image urls to download\\n\")\n",
    "#     sys.exit(0)\n",
    "\n",
    "# open csv file to read\n",
    "with open(Zoom_links, 'r') as csvfile:\n",
    "    csv_reader = csv.reader(csvfile)# iterate on all rows in csv\n",
    "    for row_index,row in enumerate(csv_reader):\n",
    "        if row_index == 0:\n",
    "            IMAGE_URL_COL_NUM = None\n",
    "            for col_index,col in enumerate(row):\n",
    "                if col == url_name:\n",
    "                    IMAGE_URL_COL_NUM = col_index\n",
    "                    if IMAGE_URL_COL_NUM is None:\n",
    "                        print(\"\\nERROR: url column name '\"+url_name+\"' not found, available options:\")\n",
    "                        for col_index,col in enumerate(row):\n",
    "                            print(\" \" + col)\n",
    "                            print(\"\\nUsage:\")\n",
    "                            print(\" $ picodash_export_url_download.py data.csv image_url\\n\")\n",
    "                            sys.exit(0)\n",
    "                            continue# check if we have an image URL and download in rows > 1\n",
    "                            image_urls = row[IMAGE_URL_COL_NUM]\n",
    "                            image_urls = image_urls.split('\\n')\n",
    "                            #print image_urls\n",
    "                            for image_url in image_urls:\n",
    "                                if image_url != '' and image_url != \"\\n\":\n",
    "                                    date = row[3].split(' ')[0]\n",
    "                                    image_filename = date + '_' + url_name + '_' +image_url.split('/')[-1].split('?')[0]\n",
    "                                    #image_filename = row[0] + \"-\" + row[1] + \".jpg\"\n",
    "                                    directory = filename.split('.csv')[0] + \"-\" + url_name\n",
    "                                    if not os.path.exists(directory):\n",
    "                                        os.makedirs(directory)\n",
    "                                    try:\n",
    "                                        urllib.urlretrieve(image_url, directory+'/'+image_filename)\n",
    "                                        print(\"[\"+str(row_index)+\"] Image saved: \" + image_filename)"
   ]
  },
  {
   "cell_type": "code",
   "execution_count": null,
   "id": "3f72e22c",
   "metadata": {},
   "outputs": [],
   "source": []
  },
  {
   "cell_type": "code",
   "execution_count": null,
   "id": "e0e67ef7",
   "metadata": {},
   "outputs": [],
   "source": []
  }
 ],
 "metadata": {
  "kernelspec": {
   "display_name": "Python 3 (ipykernel)",
   "language": "python",
   "name": "python3"
  },
  "language_info": {
   "codemirror_mode": {
    "name": "ipython",
    "version": 3
   },
   "file_extension": ".py",
   "mimetype": "text/x-python",
   "name": "python",
   "nbconvert_exporter": "python",
   "pygments_lexer": "ipython3",
   "version": "3.8.11"
  }
 },
 "nbformat": 4,
 "nbformat_minor": 5
}
